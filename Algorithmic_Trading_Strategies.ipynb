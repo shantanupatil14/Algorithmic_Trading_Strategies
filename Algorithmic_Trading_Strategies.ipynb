{
 "cells": [
  {
   "cell_type": "markdown",
   "id": "e60af058",
   "metadata": {},
   "source": [
    "# 📈 Algorithmic Trading: Implementing and Analyzing 5 Powerful Strategies in Python"
   ]
  },
  {
   "cell_type": "markdown",
   "id": "ec1971ee",
   "metadata": {},
   "source": [
    "This notebook demonstrates algorithmic trading implementation and performance analysis of five trading strategies:\n",
    "\n",
    "1. **Monthly Portfolio Rebalancing**\n",
    "2. **Momentum Investing**\n",
    "3. **Resistance Breakout**\n",
    "4. **Renko & On Balance Volume (OBV)**\n",
    "5. **Renko & Moving Average Convergence Divergence (MACD)**\n",
    "\n",
    "Each section includes strategy explanation, Python implementation, visualization, and performance evaluation using KPIs like CAGR, Sharpe Ratio, and Max Drawdown.\n"
   ]
  },
  {
   "cell_type": "code",
   "execution_count": 2,
   "id": "66c5d9a1",
   "metadata": {},
   "outputs": [],
   "source": [
    "# Importing Required Libraries\n",
    "import numpy as np\n",
    "import pandas as pd\n",
    "import matplotlib.pyplot as plt\n",
    "import yfinance as yf\n",
    "from scipy import stats\n",
    "import statsmodels.api as sm \n",
    "import datetime as dt\n",
    "from itertools import islice\n",
    "from alpha_vantage.timeseries import TimeSeries\n",
    "import time\n",
    "import requests\n",
    "import copy\n",
    "from bs4 import BeautifulSoup\n",
    "from selenium import webdriver\n",
    "from selenium.webdriver.common.by import By\n",
    "from selenium.webdriver.support.ui import WebDriverWait\n",
    "from selenium.webdriver.support import expected_conditions as EC\n",
    "from stocktrends import Renko\n",
    "import plotly.graph_objs as go\n",
    "from plotly.subplots import make_subplots\n",
    "import plotly.express as px\n",
    "import nbconvert"
   ]
  },
  {
   "cell_type": "markdown",
   "id": "e7d09ae8",
   "metadata": {},
   "source": [
    "## 🔄 Monthly Portfolio Rebalancing\n",
    "\n",
    "**Strategy Overview:**\n",
    "Monthly portfolio rebalancing involves periodically adjusting the portfolio to maintain desired asset allocation, buying underweighted assets and selling overweighted assets.\n",
    "\n",
    "**Methodology:**\n",
    "- Calculate monthly returns for stocks.\n",
    "- Rank stocks based on performance.\n",
    "- Rotate out underperforming stocks, reinvesting into better performers.\n",
    "\n",
    "**Performance Metrics:**\n",
    "- **CAGR (Cumulative Annual Growth Rate)**: Measures annual return.\n",
    "- **Sharpe Ratio**: Indicates return relative to risk.\n",
    "- **Max Drawdown**: Indicates the maximum observed loss from peak to trough.\n"
   ]
  },
  {
   "cell_type": "code",
   "execution_count": 2,
   "id": "807ef9e2",
   "metadata": {},
   "outputs": [],
   "source": [
    "#We will use '12' instead of '250' here since we are working with monthly returns\n",
    "def CAGR(DF):\n",
    "    \"function to calculate the Cumulative Annual Growth Rate of a trading strategy\"\n",
    "    df = DF.copy()\n",
    "    df[\"cum_return\"] = (1 + df[\"mon_ret\"]).cumprod()\n",
    "    n = len(df)/12\n",
    "    CAGR = (df[\"cum_return\"].tolist()[-1])**(1/n) - 1\n",
    "    return CAGR\n",
    "\n",
    "def volatility(DF):\n",
    "    \"function to calculate annualized volatility of a trading strategy\"\n",
    "    df = DF.copy()\n",
    "    vol = df[\"mon_ret\"].std() * np.sqrt(12)\n",
    "    return vol\n",
    "\n",
    "def sharpe(DF,rf):\n",
    "    \"function to calculate sharpe ratio ; rf is the risk free rate\"\n",
    "    df = DF.copy()\n",
    "    sr = (CAGR(df) - rf)/volatility(df)\n",
    "    return sr\n",
    "    \n",
    "\n",
    "def max_dd(DF):\n",
    "    \"function to calculate max drawdown\"\n",
    "    df = DF.copy()\n",
    "    df[\"cum_return\"] = (1 + df[\"mon_ret\"]).cumprod()\n",
    "    df[\"cum_roll_max\"] = df[\"cum_return\"].cummax()\n",
    "    df[\"drawdown\"] = df[\"cum_roll_max\"] - df[\"cum_return\"]\n",
    "    df[\"drawdown_pct\"] = df[\"drawdown\"]/df[\"cum_roll_max\"]\n",
    "    max_dd = df[\"drawdown_pct\"].max()\n",
    "    return max_dd"
   ]
  },
  {
   "cell_type": "code",
   "execution_count": 3,
   "id": "02b4531a",
   "metadata": {},
   "outputs": [
    {
     "name": "stdout",
     "output_type": "stream",
     "text": [
      "YF.download() has changed argument auto_adjust default to True\n"
     ]
    },
    {
     "name": "stderr",
     "output_type": "stream",
     "text": [
      "[*********************100%***********************]  1 of 1 completed\n",
      "[*********************100%***********************]  1 of 1 completed\n",
      "[*********************100%***********************]  1 of 1 completed\n"
     ]
    }
   ],
   "source": [
    "# get ohlcv data (Open, High, Low, Close and Volume) for any ticker by period.\n",
    "data = yf.download(\"MSFT\", period='1mo', interval=\"5m\")\n",
    "\n",
    "# get ohlcv data (Open, High, Low, Close and Volume) for any ticker by start date and end date\n",
    "data = yf.download(\"MSFT\", start=\"2017-01-01\", end = \"2025-01-01\")\n",
    "\n",
    "# get intraday data (every 5 mins) for any ticker by period.\n",
    "data = yf.download(\"MSFT\", period='1mo', interval=\"5m\")"
   ]
  },
  {
   "cell_type": "code",
   "execution_count": 4,
   "id": "0a37ec05",
   "metadata": {
    "scrolled": true
   },
   "outputs": [
    {
     "name": "stderr",
     "output_type": "stream",
     "text": [
      "[*********************100%***********************]  1 of 1 completed\n",
      "[*********************100%***********************]  1 of 1 completed\n",
      "[*********************100%***********************]  1 of 1 completed\n"
     ]
    }
   ],
   "source": [
    "# Download historical data for required stocks\n",
    "tickers = [\"AMZN\",\"GOOG\",\"MSFT\"]\n",
    "ohlcv_data = {}\n",
    "\n",
    "# looping over tickers and storing OHLCV dataframe in dictionary\n",
    "for ticker in tickers:\n",
    "    temp = yf.download(ticker,period='1mo',interval='5m', auto_adjust = False)\n",
    "    temp.dropna(how=\"any\",inplace=True)\n",
    "    ohlcv_data[ticker] = temp"
   ]
  },
  {
   "cell_type": "code",
   "execution_count": 5,
   "id": "ad5ff4a8",
   "metadata": {},
   "outputs": [
    {
     "name": "stderr",
     "output_type": "stream",
     "text": [
      "[*********************100%***********************]  1 of 1 completed\n",
      "[*********************100%***********************]  1 of 1 completed\n",
      "[*********************100%***********************]  1 of 1 completed\n",
      "[*********************100%***********************]  1 of 1 completed\n",
      "[*********************100%***********************]  1 of 1 completed\n",
      "[*********************100%***********************]  1 of 1 completed\n",
      "[*********************100%***********************]  1 of 1 completed\n",
      "[*********************100%***********************]  1 of 1 completed\n",
      "[*********************100%***********************]  1 of 1 completed\n",
      "[*********************100%***********************]  1 of 1 completed\n",
      "[*********************100%***********************]  1 of 1 completed\n",
      "[*********************100%***********************]  1 of 1 completed\n",
      "[*********************100%***********************]  1 of 1 completed\n",
      "[*********************100%***********************]  1 of 1 completed\n",
      "[*********************100%***********************]  1 of 1 completed\n",
      "[*********************100%***********************]  1 of 1 completed\n",
      "[*********************100%***********************]  1 of 1 completed\n",
      "[*********************100%***********************]  1 of 1 completed\n",
      "[*********************100%***********************]  1 of 1 completed\n",
      "[*********************100%***********************]  1 of 1 completed\n",
      "[*********************100%***********************]  1 of 1 completed\n",
      "[*********************100%***********************]  1 of 1 completed\n",
      "[*********************100%***********************]  1 of 1 completed\n",
      "[*********************100%***********************]  1 of 1 completed\n",
      "[*********************100%***********************]  1 of 1 completed\n",
      "[*********************100%***********************]  1 of 1 completed\n",
      "[*********************100%***********************]  1 of 1 completed\n",
      "[*********************100%***********************]  1 of 1 completed\n",
      "[*********************100%***********************]  1 of 1 completed\n",
      "[*********************100%***********************]  1 of 1 completed\n"
     ]
    }
   ],
   "source": [
    "# Download historical data (monthly) for DJI constituent stocks\n",
    "\n",
    "tickers = [\"AMZN\",\"VTI\",\"VWO\",\"VEA\",\"BND\",\"AAPL\",\"IVV\", \"SPY\",\"VNO\",\"TSLA\",\"MSFT\",\n",
    "           \"GOOGL\",\"CRM\",\"KO\",\"VUG\",\"VOO\",\"JNJ\",\"NVDA\",\"BA\",\"INTC\",\"LEG\",\n",
    "           \"MMM\",\"IBM\",\"CVX\",\"PG\",\"AVGO\", \"GLD\", \"HDV\", \"VYM\", \"SPYD\"]\n",
    "\n",
    "ohlc_mon = {} # directory with ohlc value for each stock            \n",
    "start = dt.datetime.today()-dt.timedelta(3650)\n",
    "end = dt.datetime.today()\n",
    "\n",
    "# looping over tickers and creating a dataframe with close prices\n",
    "for ticker in tickers:\n",
    "    ohlc_mon[ticker] = yf.download(ticker,start,end,interval='1mo', auto_adjust = False)\n",
    "    ohlc_mon[ticker].dropna(inplace=True,how=\"all\")\n",
    " \n",
    "tickers = ohlc_mon.keys() # redefine tickers variable after removing any tickers with corrupted data"
   ]
  },
  {
   "cell_type": "code",
   "execution_count": 6,
   "id": "68a91757",
   "metadata": {},
   "outputs": [
    {
     "name": "stdout",
     "output_type": "stream",
     "text": [
      "calculating monthly return for  AMZN\n",
      "calculating monthly return for  VTI\n",
      "calculating monthly return for  VWO\n",
      "calculating monthly return for  VEA\n",
      "calculating monthly return for  BND\n",
      "calculating monthly return for  AAPL\n",
      "calculating monthly return for  IVV\n",
      "calculating monthly return for  SPY\n",
      "calculating monthly return for  VNO\n",
      "calculating monthly return for  TSLA\n",
      "calculating monthly return for  MSFT\n",
      "calculating monthly return for  GOOGL\n",
      "calculating monthly return for  CRM\n",
      "calculating monthly return for  KO\n",
      "calculating monthly return for  VUG\n",
      "calculating monthly return for  VOO\n",
      "calculating monthly return for  JNJ\n",
      "calculating monthly return for  NVDA\n",
      "calculating monthly return for  BA\n",
      "calculating monthly return for  INTC\n",
      "calculating monthly return for  LEG\n",
      "calculating monthly return for  MMM\n",
      "calculating monthly return for  IBM\n",
      "calculating monthly return for  CVX\n",
      "calculating monthly return for  PG\n",
      "calculating monthly return for  AVGO\n",
      "calculating monthly return for  GLD\n",
      "calculating monthly return for  HDV\n",
      "calculating monthly return for  VYM\n",
      "calculating monthly return for  SPYD\n",
      "                AMZN       VTI       VWO       VEA       BND      AAPL  \\\n",
      "Date                                                                     \n",
      "2015-11-01  0.062151  0.006008 -0.022962 -0.007623 -0.003998 -0.010042   \n",
      "2015-12-01  0.016682 -0.026780 -0.039071 -0.027285 -0.004585 -0.106419   \n",
      "2016-01-01 -0.131515 -0.051867 -0.052861 -0.049506  0.016984 -0.075242   \n",
      "2016-02-01 -0.058739 -0.000102 -0.003244 -0.030845  0.006362 -0.006677   \n",
      "2016-03-01  0.074423  0.066111  0.125285  0.067222  0.008957  0.133327   \n",
      "2016-04-01  0.111094  0.011292  0.011847  0.027627  0.003946 -0.139921   \n",
      "2016-05-01  0.095817  0.017344 -0.032351 -0.002997  0.000041  0.065287   \n",
      "2016-06-01 -0.009920 -0.001677  0.042307 -0.033880  0.020133 -0.036831   \n",
      "2016-07-01  0.060353  0.044348  0.058366  0.055893  0.006086  0.090063   \n",
      "2016-08-01  0.013640  0.002064  0.007830  0.004073 -0.003142  0.018136   \n",
      "\n",
      "                 IVV       SPY       VNO      TSLA  ...       LEG       MMM  \\\n",
      "Date                                                ...                       \n",
      "2015-11-01  0.003922  0.003655 -0.037692  0.112743  ...  0.034866 -0.004007   \n",
      "2015-12-01 -0.023824 -0.023097  0.039636  0.042343  ... -0.098283 -0.031615   \n",
      "2016-01-01 -0.043710 -0.044132 -0.115046 -0.203367  ... -0.004832  0.002390   \n",
      "2016-02-01 -0.000565 -0.000826 -0.016945  0.003818  ...  0.075885  0.038874   \n",
      "2016-03-01  0.062413  0.061789  0.093446  0.197155  ...  0.083744  0.069892   \n",
      "2016-04-01  0.003920  0.009119  0.013767  0.047830  ...  0.025502  0.004501   \n",
      "2016-05-01  0.016919  0.017011 -0.002194 -0.072811  ...  0.019680  0.005616   \n",
      "2016-06-01 -0.002228 -0.001715  0.055136 -0.049053  ...  0.016912  0.047327   \n",
      "2016-07-01  0.042339  0.041861  0.072713  0.106039  ...  0.035585  0.018501   \n",
      "2016-08-01  0.001283  0.001198 -0.038082 -0.097023  ... -0.001712  0.004934   \n",
      "\n",
      "                 IBM       CVX        PG      AVGO       GLD       HDV  \\\n",
      "Date                                                                     \n",
      "2015-11-01 -0.004712  0.004842 -0.011356  0.059450 -0.067521 -0.011300   \n",
      "2015-12-01 -0.003651 -0.002861  0.061064  0.112687 -0.004513 -0.012908   \n",
      "2016-01-01 -0.093228 -0.038795  0.028711 -0.075977  0.054110  0.010717   \n",
      "2016-02-01  0.050004 -0.035041 -0.008571  0.001944  0.109303  0.009661   \n",
      "2016-03-01  0.167648  0.157839  0.025159  0.153244 -0.008429  0.051348   \n",
      "2016-04-01 -0.036382  0.071069 -0.026606 -0.053511  0.051088  0.019558   \n",
      "2016-05-01  0.053447 -0.011549  0.019768  0.059074 -0.061383  0.015980   \n",
      "2016-06-01 -0.003221  0.048893  0.044793  0.006737  0.089695  0.025465   \n",
      "2016-07-01  0.058242 -0.022417  0.010866  0.045631  0.019847  0.015801   \n",
      "2016-08-01 -0.010833 -0.018540  0.028089  0.089147 -0.032563 -0.010755   \n",
      "\n",
      "                 VYM      SPYD  \n",
      "Date                            \n",
      "2015-11-01  0.002208 -0.013276  \n",
      "2015-12-01 -0.019392 -0.015943  \n",
      "2016-01-01 -0.019265  0.000052  \n",
      "2016-02-01  0.005087  0.030835  \n",
      "2016-03-01  0.058896  0.079310  \n",
      "2016-04-01  0.014338  0.022658  \n",
      "2016-05-01  0.013949  0.000521  \n",
      "2016-06-01  0.013474  0.026953  \n",
      "2016-07-01  0.031912  0.042813  \n",
      "2016-08-01 -0.003008 -0.004044  \n",
      "\n",
      "[10 rows x 30 columns]\n"
     ]
    }
   ],
   "source": [
    "# calculating monthly return for each stock and consolidating return info by stock in a separate dataframe\n",
    "ohlc_dict = copy.deepcopy(ohlc_mon)\n",
    "return_df = pd.DataFrame()\n",
    "for ticker in tickers:\n",
    "    print(\"calculating monthly return for \",ticker)\n",
    "    ohlc_dict[ticker][\"mon_ret\"] = ohlc_dict[ticker][\"Adj Close\"].pct_change()\n",
    "    return_df[ticker] = ohlc_dict[ticker][\"mon_ret\"]\n",
    "return_df.dropna(inplace=True)\n",
    "\n",
    "print(return_df.head(10))"
   ]
  },
  {
   "cell_type": "code",
   "execution_count": 7,
   "id": "7891a544",
   "metadata": {},
   "outputs": [],
   "source": [
    "# function to calculate portfolio return iteratively\n",
    "def pflio(DF,m,x):\n",
    "    \"\"\"Returns cumulative portfolio return\n",
    "    DF = dataframe with monthly return info for all stocks\n",
    "    m = number of stock in the portfolio (6 for our strategy)\n",
    "    x = number of underperforming stocks to be removed from portfolio monthly (3 for our strategy)\"\"\"\n",
    "    df = DF.copy()\n",
    "    portfolio = []\n",
    "    monthly_ret = [0]\n",
    "    for i in range(len(df)):\n",
    "        if len(portfolio) > 0:\n",
    "            #Append the monthly returns of each row to the df\n",
    "            monthly_ret.append(df[portfolio].iloc[i,:].mean())\n",
    "            #Identify bad stocks by sorting the values of returns in ascending order, picking top x (3), \n",
    "            # and then assigning index to the stock tickers and getting them as a list since the values are in column format\n",
    "            bad_stocks = df[portfolio].iloc[i,:].sort_values(ascending=True)[:x].index.values.tolist()\n",
    "            #removing one list from another - removing the bad stocks\n",
    "            #looking at portfolio, I want my values in portfolio to be all of the portfolio such that they are not in bad stocks\n",
    "            portfolio = [t for t in portfolio if t not in bad_stocks]\n",
    "        fill = m - len(portfolio)\n",
    "        new_picks = df[[t for t in tickers if t not in portfolio]].iloc[i,:].sort_values(ascending=False)[:fill].index.values.tolist()\n",
    "        portfolio = portfolio + new_picks\n",
    "        print(portfolio)\n",
    "    monthly_ret_df = pd.DataFrame(np.array(monthly_ret),columns=[\"mon_ret\"])\n",
    "    return monthly_ret_df"
   ]
  },
  {
   "cell_type": "code",
   "execution_count": 8,
   "id": "b3a61d76",
   "metadata": {},
   "outputs": [
    {
     "name": "stdout",
     "output_type": "stream",
     "text": [
      "['NVDA', 'TSLA', 'AMZN', 'AVGO', 'LEG', 'GOOGL']\n",
      "['NVDA', 'TSLA', 'AVGO', 'PG', 'VNO', 'MSFT']\n",
      "['AVGO', 'PG', 'MSFT', 'GLD', 'BND', 'JNJ']\n",
      "['GLD', 'BND', 'JNJ', 'LEG', 'NVDA', 'IBM']\n",
      "['LEG', 'NVDA', 'IBM', 'TSLA', 'CVX', 'AVGO']\n",
      "['LEG', 'TSLA', 'CVX', 'AMZN', 'BA', 'GLD']\n",
      "['LEG', 'CVX', 'AMZN', 'NVDA', 'CRM', 'AAPL']\n",
      "['LEG', 'CVX', 'NVDA', 'GLD', 'JNJ', 'VNO']\n",
      "['LEG', 'NVDA', 'VNO', 'GOOGL', 'MSFT', 'TSLA']\n",
      "['LEG', 'NVDA', 'MSFT', 'AVGO', 'INTC', 'PG']\n",
      "['NVDA', 'INTC', 'PG', 'AMZN', 'AAPL', 'CVX']\n",
      "['NVDA', 'AAPL', 'CVX', 'BA', 'CRM', 'MSFT']\n",
      "['NVDA', 'CVX', 'BA', 'IBM', 'VNO', 'SPYD']\n",
      "['NVDA', 'CVX', 'VNO', 'TSLA', 'AAPL', 'INTC']\n",
      "['NVDA', 'TSLA', 'AAPL', 'CRM', 'AVGO', 'AMZN']\n",
      "['AAPL', 'CRM', 'AVGO', 'BA', 'JNJ', 'MMM']\n",
      "['AAPL', 'AVGO', 'MMM', 'TSLA', 'NVDA', 'AMZN']\n",
      "['MMM', 'TSLA', 'AMZN', 'GOOGL', 'LEG', 'BA']\n",
      "['TSLA', 'AMZN', 'GOOGL', 'NVDA', 'AVGO', 'AAPL']\n",
      "['TSLA', 'AMZN', 'NVDA', 'BA', 'JNJ', 'VNO']\n",
      "['NVDA', 'BA', 'VNO', 'AVGO', 'VWO', 'MSFT']\n",
      "['NVDA', 'VWO', 'MSFT', 'AAPL', 'TSLA', 'CRM']\n",
      "['NVDA', 'VWO', 'MSFT', 'CVX', 'INTC', 'BA']\n",
      "['NVDA', 'MSFT', 'INTC', 'AMZN', 'AAPL', 'MMM']\n",
      "['AMZN', 'AAPL', 'MMM', 'BA', 'AVGO', 'PG']\n",
      "['AMZN', 'BA', 'PG', 'CVX', 'INTC', 'VWO']\n",
      "['AMZN', 'BA', 'VWO', 'NVDA', 'TSLA', 'GOOGL']\n",
      "['AMZN', 'BA', 'NVDA', 'AAPL', 'INTC', 'CRM']\n",
      "['NVDA', 'INTC', 'CRM', 'CVX', 'LEG', 'VNO']\n",
      "['CRM', 'CVX', 'VNO', 'TSLA', 'AMZN', 'MSFT']\n",
      "['CRM', 'AMZN', 'MSFT', 'AAPL', 'NVDA', 'AVGO']\n",
      "['CRM', 'AMZN', 'MSFT', 'TSLA', 'LEG', 'VNO']\n",
      "['CRM', 'AMZN', 'MSFT', 'JNJ', 'GOOGL', 'MMM']\n",
      "['CRM', 'AMZN', 'MSFT', 'AAPL', 'NVDA', 'VNO']\n",
      "['CRM', 'MSFT', 'NVDA', 'AVGO', 'BA', 'IBM']\n",
      "['MSFT', 'AVGO', 'BA', 'TSLA', 'PG', 'KO']\n",
      "['AVGO', 'PG', 'KO', 'MMM', 'IBM', 'LEG']\n",
      "['AVGO', 'PG', 'KO', 'GLD', 'BND', 'VWO']\n",
      "['AVGO', 'PG', 'VWO', 'BA', 'IBM', 'LEG']\n",
      "['PG', 'BA', 'LEG', 'INTC', 'CRM', 'NVDA']\n",
      "['PG', 'INTC', 'NVDA', 'AAPL', 'AVGO', 'AMZN']\n",
      "['AAPL', 'AVGO', 'AMZN', 'MSFT', 'KO', 'VUG']\n",
      "['MSFT', 'KO', 'VUG', 'BND', 'GLD', 'PG']\n",
      "['MSFT', 'GLD', 'PG', 'NVDA', 'TSLA', 'AVGO']\n",
      "['PG', 'NVDA', 'TSLA', 'GOOGL', 'AAPL', 'IBM']\n",
      "['PG', 'NVDA', 'AAPL', 'GLD', 'BA', 'KO']\n",
      "['NVDA', 'AAPL', 'BA', 'LEG', 'INTC', 'IBM']\n",
      "['NVDA', 'AAPL', 'LEG', 'TSLA', 'INTC', 'AVGO']\n",
      "['NVDA', 'AAPL', 'AVGO', 'BA', 'MSFT', 'TSLA']\n",
      "['NVDA', 'AAPL', 'TSLA', 'JNJ', 'VWO', 'MMM']\n",
      "['AAPL', 'TSLA', 'JNJ', 'CRM', 'AMZN', 'MSFT']\n",
      "['TSLA', 'AMZN', 'MSFT', 'NVDA', 'BND', 'GLD']\n",
      "['AMZN', 'BND', 'GLD', 'JNJ', 'INTC', 'NVDA']\n",
      "['AMZN', 'JNJ', 'NVDA', 'TSLA', 'LEG', 'CVX']\n",
      "['NVDA', 'TSLA', 'CVX', 'AAPL', 'CRM', 'AVGO']\n",
      "['TSLA', 'AAPL', 'AVGO', 'BA', 'LEG', 'AMZN']\n",
      "['TSLA', 'AAPL', 'LEG', 'AMZN', 'NVDA', 'GLD']\n",
      "['TSLA', 'AAPL', 'NVDA', 'CRM', 'VUG', 'MSFT']\n",
      "['NVDA', 'VUG', 'MSFT', 'AVGO', 'INTC', 'PG']\n",
      "['VUG', 'AVGO', 'PG', 'GOOGL', 'VWO', 'LEG']\n",
      "['VUG', 'AVGO', 'VWO', 'TSLA', 'BA', 'VNO']\n",
      "['AVGO', 'VWO', 'TSLA', 'AAPL', 'JNJ', 'KO']\n",
      "['AVGO', 'VWO', 'TSLA', 'INTC', 'VNO', 'MSFT']\n",
      "['AVGO', 'INTC', 'VNO', 'CVX', 'GOOGL', 'SPYD']\n",
      "['INTC', 'VNO', 'CVX', 'BA', 'IBM', 'MMM']\n",
      "['VNO', 'IBM', 'MMM', 'GOOGL', 'NVDA', 'AMZN']\n",
      "['VNO', 'MMM', 'NVDA', 'LEG', 'GLD', 'BA']\n",
      "['VNO', 'MMM', 'NVDA', 'AAPL', 'MSFT', 'TSLA']\n",
      "['AAPL', 'MSFT', 'TSLA', 'GOOGL', 'KO', 'PG']\n",
      "['MSFT', 'TSLA', 'GOOGL', 'NVDA', 'CRM', 'AMZN']\n",
      "['TSLA', 'CRM', 'AMZN', 'CVX', 'VNO', 'BA']\n",
      "['TSLA', 'CRM', 'CVX', 'NVDA', 'MSFT', 'GOOGL']\n",
      "['TSLA', 'NVDA', 'MSFT', 'AAPL', 'AVGO', 'AMZN']\n",
      "['MSFT', 'AAPL', 'AVGO', 'IBM', 'KO', 'PG']\n",
      "['AAPL', 'IBM', 'KO', 'CVX', 'HDV', 'SPYD']\n",
      "['KO', 'CVX', 'HDV', 'VNO', 'GLD', 'AMZN']\n",
      "['CVX', 'VNO', 'AMZN', 'TSLA', 'NVDA', 'JNJ']\n",
      "['CVX', 'VNO', 'JNJ', 'PG', 'KO', 'LEG']\n",
      "['CVX', 'JNJ', 'LEG', 'IBM', 'HDV', 'AVGO']\n",
      "['JNJ', 'IBM', 'HDV', 'BA', 'CRM', 'KO']\n",
      "['HDV', 'BA', 'CRM', 'TSLA', 'AMZN', 'NVDA']\n",
      "['HDV', 'BA', 'AMZN', 'PG', 'VWO', 'IBM']\n",
      "['HDV', 'PG', 'IBM', 'JNJ', 'GLD', 'TSLA']\n",
      "['HDV', 'PG', 'IBM', 'CVX', 'BA', 'MMM']\n",
      "['PG', 'IBM', 'BA', 'NVDA', 'AVGO', 'VWO']\n",
      "['PG', 'BA', 'AVGO', 'GLD', 'KO', 'JNJ']\n",
      "['BA', 'AVGO', 'GLD', 'TSLA', 'NVDA', 'CRM']\n",
      "['AVGO', 'TSLA', 'NVDA', 'AAPL', 'MSFT', 'VUG']\n",
      "['NVDA', 'AAPL', 'MSFT', 'INTC', 'CRM', 'GOOGL']\n",
      "['AAPL', 'MSFT', 'GOOGL', 'JNJ', 'PG', 'KO']\n",
      "['AAPL', 'MSFT', 'GOOGL', 'NVDA', 'AVGO', 'TSLA']\n",
      "['AAPL', 'NVDA', 'TSLA', 'VNO', 'MMM', 'AMZN']\n",
      "['NVDA', 'VNO', 'MMM', 'BA', 'GOOGL', 'IBM']\n",
      "['NVDA', 'VNO', 'GOOGL', 'AMZN', 'AVGO', 'IBM']\n",
      "['VNO', 'GOOGL', 'IBM', 'CVX', 'INTC', 'BND']\n",
      "['IBM', 'INTC', 'BND', 'GLD', 'MSFT', 'AMZN']\n",
      "['INTC', 'MSFT', 'AMZN', 'CRM', 'BA', 'VNO']\n",
      "['INTC', 'BA', 'VNO', 'AVGO', 'LEG', 'MMM']\n",
      "['VNO', 'AVGO', 'LEG', 'NVDA', 'IBM', 'PG']\n",
      "['AVGO', 'NVDA', 'PG', 'AMZN', 'CRM', 'TSLA']\n",
      "['NVDA', 'PG', 'AMZN', 'MMM', 'VNO', 'GOOGL']\n",
      "['PG', 'MMM', 'GOOGL', 'TSLA', 'GLD', 'CVX']\n",
      "['MMM', 'GOOGL', 'GLD', 'NVDA', 'AAPL', 'MSFT']\n",
      "['NVDA', 'AAPL', 'MSFT', 'AVGO', 'TSLA', 'CRM']\n",
      "['AAPL', 'TSLA', 'CRM', 'MMM', 'LEG', 'VNO']\n",
      "['AAPL', 'MMM', 'VNO', 'KO', 'PG', 'IBM']\n",
      "['MMM', 'VNO', 'IBM', 'TSLA', 'CRM', 'LEG']\n",
      "['VNO', 'TSLA', 'CRM', 'NVDA', 'GLD', 'GOOGL']\n",
      "['TSLA', 'CRM', 'NVDA', 'INTC', 'AMZN', 'IBM']\n",
      "['TSLA', 'CRM', 'AMZN', 'AVGO', 'BA', 'GOOGL']\n",
      "['CRM', 'AMZN', 'GOOGL', 'MMM', 'IBM', 'LEG']\n",
      "['AMZN', 'MMM', 'IBM', 'INTC', 'KO', 'JNJ']\n",
      "['IBM', 'KO', 'JNJ', 'GLD', 'CVX', 'VWO']\n",
      "['IBM', 'KO', 'GLD', 'AVGO', 'VEA', 'PG']\n",
      "0.19162008956819854\n",
      "['NVDA', 'TSLA', 'AMZN', 'AVGO', 'LEG', 'GOOGL']\n",
      "['NVDA', 'TSLA', 'AVGO', 'PG', 'VNO', 'MSFT']\n",
      "['AVGO', 'PG', 'MSFT', 'GLD', 'BND', 'JNJ']\n",
      "['GLD', 'BND', 'JNJ', 'LEG', 'NVDA', 'IBM']\n",
      "['LEG', 'NVDA', 'IBM', 'TSLA', 'CVX', 'AVGO']\n",
      "['LEG', 'TSLA', 'CVX', 'AMZN', 'BA', 'GLD']\n",
      "['LEG', 'CVX', 'AMZN', 'NVDA', 'CRM', 'AAPL']\n",
      "['LEG', 'CVX', 'NVDA', 'GLD', 'JNJ', 'VNO']\n",
      "['LEG', 'NVDA', 'VNO', 'GOOGL', 'MSFT', 'TSLA']\n",
      "['LEG', 'NVDA', 'MSFT', 'AVGO', 'INTC', 'PG']\n",
      "['NVDA', 'INTC', 'PG', 'AMZN', 'AAPL', 'CVX']\n",
      "['NVDA', 'AAPL', 'CVX', 'BA', 'CRM', 'MSFT']\n",
      "['NVDA', 'CVX', 'BA', 'IBM', 'VNO', 'SPYD']\n",
      "['NVDA', 'CVX', 'VNO', 'TSLA', 'AAPL', 'INTC']\n",
      "['NVDA', 'TSLA', 'AAPL', 'CRM', 'AVGO', 'AMZN']\n",
      "['AAPL', 'CRM', 'AVGO', 'BA', 'JNJ', 'MMM']\n",
      "['AAPL', 'AVGO', 'MMM', 'TSLA', 'NVDA', 'AMZN']\n",
      "['MMM', 'TSLA', 'AMZN', 'GOOGL', 'LEG', 'BA']\n",
      "['TSLA', 'AMZN', 'GOOGL', 'NVDA', 'AVGO', 'AAPL']\n",
      "['TSLA', 'AMZN', 'NVDA', 'BA', 'JNJ', 'VNO']\n",
      "['NVDA', 'BA', 'VNO', 'AVGO', 'VWO', 'MSFT']\n",
      "['NVDA', 'VWO', 'MSFT', 'AAPL', 'TSLA', 'CRM']\n",
      "['NVDA', 'VWO', 'MSFT', 'CVX', 'INTC', 'BA']\n",
      "['NVDA', 'MSFT', 'INTC', 'AMZN', 'AAPL', 'MMM']\n",
      "['AMZN', 'AAPL', 'MMM', 'BA', 'AVGO', 'PG']\n",
      "['AMZN', 'BA', 'PG', 'CVX', 'INTC', 'VWO']\n",
      "['AMZN', 'BA', 'VWO', 'NVDA', 'TSLA', 'GOOGL']\n",
      "['AMZN', 'BA', 'NVDA', 'AAPL', 'INTC', 'CRM']\n",
      "['NVDA', 'INTC', 'CRM', 'CVX', 'LEG', 'VNO']\n",
      "['CRM', 'CVX', 'VNO', 'TSLA', 'AMZN', 'MSFT']\n",
      "['CRM', 'AMZN', 'MSFT', 'AAPL', 'NVDA', 'AVGO']\n",
      "['CRM', 'AMZN', 'MSFT', 'TSLA', 'LEG', 'VNO']\n",
      "['CRM', 'AMZN', 'MSFT', 'JNJ', 'GOOGL', 'MMM']\n",
      "['CRM', 'AMZN', 'MSFT', 'AAPL', 'NVDA', 'VNO']\n",
      "['CRM', 'MSFT', 'NVDA', 'AVGO', 'BA', 'IBM']\n",
      "['MSFT', 'AVGO', 'BA', 'TSLA', 'PG', 'KO']\n",
      "['AVGO', 'PG', 'KO', 'MMM', 'IBM', 'LEG']\n",
      "['AVGO', 'PG', 'KO', 'GLD', 'BND', 'VWO']\n",
      "['AVGO', 'PG', 'VWO', 'BA', 'IBM', 'LEG']\n",
      "['PG', 'BA', 'LEG', 'INTC', 'CRM', 'NVDA']\n",
      "['PG', 'INTC', 'NVDA', 'AAPL', 'AVGO', 'AMZN']\n",
      "['AAPL', 'AVGO', 'AMZN', 'MSFT', 'KO', 'VUG']\n",
      "['MSFT', 'KO', 'VUG', 'BND', 'GLD', 'PG']\n",
      "['MSFT', 'GLD', 'PG', 'NVDA', 'TSLA', 'AVGO']\n",
      "['PG', 'NVDA', 'TSLA', 'GOOGL', 'AAPL', 'IBM']\n",
      "['PG', 'NVDA', 'AAPL', 'GLD', 'BA', 'KO']\n",
      "['NVDA', 'AAPL', 'BA', 'LEG', 'INTC', 'IBM']\n",
      "['NVDA', 'AAPL', 'LEG', 'TSLA', 'INTC', 'AVGO']\n",
      "['NVDA', 'AAPL', 'AVGO', 'BA', 'MSFT', 'TSLA']\n",
      "['NVDA', 'AAPL', 'TSLA', 'JNJ', 'VWO', 'MMM']\n",
      "['AAPL', 'TSLA', 'JNJ', 'CRM', 'AMZN', 'MSFT']\n",
      "['TSLA', 'AMZN', 'MSFT', 'NVDA', 'BND', 'GLD']\n",
      "['AMZN', 'BND', 'GLD', 'JNJ', 'INTC', 'NVDA']\n",
      "['AMZN', 'JNJ', 'NVDA', 'TSLA', 'LEG', 'CVX']\n",
      "['NVDA', 'TSLA', 'CVX', 'AAPL', 'CRM', 'AVGO']\n",
      "['TSLA', 'AAPL', 'AVGO', 'BA', 'LEG', 'AMZN']\n",
      "['TSLA', 'AAPL', 'LEG', 'AMZN', 'NVDA', 'GLD']\n",
      "['TSLA', 'AAPL', 'NVDA', 'CRM', 'VUG', 'MSFT']\n",
      "['NVDA', 'VUG', 'MSFT', 'AVGO', 'INTC', 'PG']\n",
      "['VUG', 'AVGO', 'PG', 'GOOGL', 'VWO', 'LEG']\n",
      "['VUG', 'AVGO', 'VWO', 'TSLA', 'BA', 'VNO']\n",
      "['AVGO', 'VWO', 'TSLA', 'AAPL', 'JNJ', 'KO']\n",
      "['AVGO', 'VWO', 'TSLA', 'INTC', 'VNO', 'MSFT']\n",
      "['AVGO', 'INTC', 'VNO', 'CVX', 'GOOGL', 'SPYD']\n",
      "['INTC', 'VNO', 'CVX', 'BA', 'IBM', 'MMM']\n",
      "['VNO', 'IBM', 'MMM', 'GOOGL', 'NVDA', 'AMZN']\n",
      "['VNO', 'MMM', 'NVDA', 'LEG', 'GLD', 'BA']\n",
      "['VNO', 'MMM', 'NVDA', 'AAPL', 'MSFT', 'TSLA']\n",
      "['AAPL', 'MSFT', 'TSLA', 'GOOGL', 'KO', 'PG']\n",
      "['MSFT', 'TSLA', 'GOOGL', 'NVDA', 'CRM', 'AMZN']\n",
      "['TSLA', 'CRM', 'AMZN', 'CVX', 'VNO', 'BA']\n",
      "['TSLA', 'CRM', 'CVX', 'NVDA', 'MSFT', 'GOOGL']\n",
      "['TSLA', 'NVDA', 'MSFT', 'AAPL', 'AVGO', 'AMZN']\n",
      "['MSFT', 'AAPL', 'AVGO', 'IBM', 'KO', 'PG']\n",
      "['AAPL', 'IBM', 'KO', 'CVX', 'HDV', 'SPYD']\n",
      "['KO', 'CVX', 'HDV', 'VNO', 'GLD', 'AMZN']\n",
      "['CVX', 'VNO', 'AMZN', 'TSLA', 'NVDA', 'JNJ']\n",
      "['CVX', 'VNO', 'JNJ', 'PG', 'KO', 'LEG']\n",
      "['CVX', 'JNJ', 'LEG', 'IBM', 'HDV', 'AVGO']\n",
      "['JNJ', 'IBM', 'HDV', 'BA', 'CRM', 'KO']\n",
      "['HDV', 'BA', 'CRM', 'TSLA', 'AMZN', 'NVDA']\n",
      "['HDV', 'BA', 'AMZN', 'PG', 'VWO', 'IBM']\n",
      "['HDV', 'PG', 'IBM', 'JNJ', 'GLD', 'TSLA']\n",
      "['HDV', 'PG', 'IBM', 'CVX', 'BA', 'MMM']\n",
      "['PG', 'IBM', 'BA', 'NVDA', 'AVGO', 'VWO']\n",
      "['PG', 'BA', 'AVGO', 'GLD', 'KO', 'JNJ']\n",
      "['BA', 'AVGO', 'GLD', 'TSLA', 'NVDA', 'CRM']\n",
      "['AVGO', 'TSLA', 'NVDA', 'AAPL', 'MSFT', 'VUG']\n",
      "['NVDA', 'AAPL', 'MSFT', 'INTC', 'CRM', 'GOOGL']\n",
      "['AAPL', 'MSFT', 'GOOGL', 'JNJ', 'PG', 'KO']\n",
      "['AAPL', 'MSFT', 'GOOGL', 'NVDA', 'AVGO', 'TSLA']\n",
      "['AAPL', 'NVDA', 'TSLA', 'VNO', 'MMM', 'AMZN']\n",
      "['NVDA', 'VNO', 'MMM', 'BA', 'GOOGL', 'IBM']\n",
      "['NVDA', 'VNO', 'GOOGL', 'AMZN', 'AVGO', 'IBM']\n",
      "['VNO', 'GOOGL', 'IBM', 'CVX', 'INTC', 'BND']\n",
      "['IBM', 'INTC', 'BND', 'GLD', 'MSFT', 'AMZN']\n",
      "['INTC', 'MSFT', 'AMZN', 'CRM', 'BA', 'VNO']\n",
      "['INTC', 'BA', 'VNO', 'AVGO', 'LEG', 'MMM']\n",
      "['VNO', 'AVGO', 'LEG', 'NVDA', 'IBM', 'PG']\n",
      "['AVGO', 'NVDA', 'PG', 'AMZN', 'CRM', 'TSLA']\n",
      "['NVDA', 'PG', 'AMZN', 'MMM', 'VNO', 'GOOGL']\n",
      "['PG', 'MMM', 'GOOGL', 'TSLA', 'GLD', 'CVX']\n",
      "['MMM', 'GOOGL', 'GLD', 'NVDA', 'AAPL', 'MSFT']\n",
      "['NVDA', 'AAPL', 'MSFT', 'AVGO', 'TSLA', 'CRM']\n",
      "['AAPL', 'TSLA', 'CRM', 'MMM', 'LEG', 'VNO']\n",
      "['AAPL', 'MMM', 'VNO', 'KO', 'PG', 'IBM']\n",
      "['MMM', 'VNO', 'IBM', 'TSLA', 'CRM', 'LEG']\n",
      "['VNO', 'TSLA', 'CRM', 'NVDA', 'GLD', 'GOOGL']\n",
      "['TSLA', 'CRM', 'NVDA', 'INTC', 'AMZN', 'IBM']\n",
      "['TSLA', 'CRM', 'AMZN', 'AVGO', 'BA', 'GOOGL']\n",
      "['CRM', 'AMZN', 'GOOGL', 'MMM', 'IBM', 'LEG']\n",
      "['AMZN', 'MMM', 'IBM', 'INTC', 'KO', 'JNJ']\n",
      "['IBM', 'KO', 'JNJ', 'GLD', 'CVX', 'VWO']\n",
      "['IBM', 'KO', 'GLD', 'AVGO', 'VEA', 'PG']\n",
      "0.7362310084443842\n",
      "['NVDA', 'TSLA', 'AMZN', 'AVGO', 'LEG', 'GOOGL']\n",
      "['NVDA', 'TSLA', 'AVGO', 'PG', 'VNO', 'MSFT']\n",
      "['AVGO', 'PG', 'MSFT', 'GLD', 'BND', 'JNJ']\n",
      "['GLD', 'BND', 'JNJ', 'LEG', 'NVDA', 'IBM']\n",
      "['LEG', 'NVDA', 'IBM', 'TSLA', 'CVX', 'AVGO']\n",
      "['LEG', 'TSLA', 'CVX', 'AMZN', 'BA', 'GLD']\n",
      "['LEG', 'CVX', 'AMZN', 'NVDA', 'CRM', 'AAPL']\n",
      "['LEG', 'CVX', 'NVDA', 'GLD', 'JNJ', 'VNO']\n",
      "['LEG', 'NVDA', 'VNO', 'GOOGL', 'MSFT', 'TSLA']\n",
      "['LEG', 'NVDA', 'MSFT', 'AVGO', 'INTC', 'PG']\n",
      "['NVDA', 'INTC', 'PG', 'AMZN', 'AAPL', 'CVX']\n",
      "['NVDA', 'AAPL', 'CVX', 'BA', 'CRM', 'MSFT']\n",
      "['NVDA', 'CVX', 'BA', 'IBM', 'VNO', 'SPYD']\n",
      "['NVDA', 'CVX', 'VNO', 'TSLA', 'AAPL', 'INTC']\n",
      "['NVDA', 'TSLA', 'AAPL', 'CRM', 'AVGO', 'AMZN']\n",
      "['AAPL', 'CRM', 'AVGO', 'BA', 'JNJ', 'MMM']\n",
      "['AAPL', 'AVGO', 'MMM', 'TSLA', 'NVDA', 'AMZN']\n",
      "['MMM', 'TSLA', 'AMZN', 'GOOGL', 'LEG', 'BA']\n",
      "['TSLA', 'AMZN', 'GOOGL', 'NVDA', 'AVGO', 'AAPL']\n",
      "['TSLA', 'AMZN', 'NVDA', 'BA', 'JNJ', 'VNO']\n",
      "['NVDA', 'BA', 'VNO', 'AVGO', 'VWO', 'MSFT']\n",
      "['NVDA', 'VWO', 'MSFT', 'AAPL', 'TSLA', 'CRM']\n"
     ]
    },
    {
     "name": "stdout",
     "output_type": "stream",
     "text": [
      "['NVDA', 'VWO', 'MSFT', 'CVX', 'INTC', 'BA']\n",
      "['NVDA', 'MSFT', 'INTC', 'AMZN', 'AAPL', 'MMM']\n",
      "['AMZN', 'AAPL', 'MMM', 'BA', 'AVGO', 'PG']\n",
      "['AMZN', 'BA', 'PG', 'CVX', 'INTC', 'VWO']\n",
      "['AMZN', 'BA', 'VWO', 'NVDA', 'TSLA', 'GOOGL']\n",
      "['AMZN', 'BA', 'NVDA', 'AAPL', 'INTC', 'CRM']\n",
      "['NVDA', 'INTC', 'CRM', 'CVX', 'LEG', 'VNO']\n",
      "['CRM', 'CVX', 'VNO', 'TSLA', 'AMZN', 'MSFT']\n",
      "['CRM', 'AMZN', 'MSFT', 'AAPL', 'NVDA', 'AVGO']\n",
      "['CRM', 'AMZN', 'MSFT', 'TSLA', 'LEG', 'VNO']\n",
      "['CRM', 'AMZN', 'MSFT', 'JNJ', 'GOOGL', 'MMM']\n",
      "['CRM', 'AMZN', 'MSFT', 'AAPL', 'NVDA', 'VNO']\n",
      "['CRM', 'MSFT', 'NVDA', 'AVGO', 'BA', 'IBM']\n",
      "['MSFT', 'AVGO', 'BA', 'TSLA', 'PG', 'KO']\n",
      "['AVGO', 'PG', 'KO', 'MMM', 'IBM', 'LEG']\n",
      "['AVGO', 'PG', 'KO', 'GLD', 'BND', 'VWO']\n",
      "['AVGO', 'PG', 'VWO', 'BA', 'IBM', 'LEG']\n",
      "['PG', 'BA', 'LEG', 'INTC', 'CRM', 'NVDA']\n",
      "['PG', 'INTC', 'NVDA', 'AAPL', 'AVGO', 'AMZN']\n",
      "['AAPL', 'AVGO', 'AMZN', 'MSFT', 'KO', 'VUG']\n",
      "['MSFT', 'KO', 'VUG', 'BND', 'GLD', 'PG']\n",
      "['MSFT', 'GLD', 'PG', 'NVDA', 'TSLA', 'AVGO']\n",
      "['PG', 'NVDA', 'TSLA', 'GOOGL', 'AAPL', 'IBM']\n",
      "['PG', 'NVDA', 'AAPL', 'GLD', 'BA', 'KO']\n",
      "['NVDA', 'AAPL', 'BA', 'LEG', 'INTC', 'IBM']\n",
      "['NVDA', 'AAPL', 'LEG', 'TSLA', 'INTC', 'AVGO']\n",
      "['NVDA', 'AAPL', 'AVGO', 'BA', 'MSFT', 'TSLA']\n",
      "['NVDA', 'AAPL', 'TSLA', 'JNJ', 'VWO', 'MMM']\n",
      "['AAPL', 'TSLA', 'JNJ', 'CRM', 'AMZN', 'MSFT']\n",
      "['TSLA', 'AMZN', 'MSFT', 'NVDA', 'BND', 'GLD']\n",
      "['AMZN', 'BND', 'GLD', 'JNJ', 'INTC', 'NVDA']\n",
      "['AMZN', 'JNJ', 'NVDA', 'TSLA', 'LEG', 'CVX']\n",
      "['NVDA', 'TSLA', 'CVX', 'AAPL', 'CRM', 'AVGO']\n",
      "['TSLA', 'AAPL', 'AVGO', 'BA', 'LEG', 'AMZN']\n",
      "['TSLA', 'AAPL', 'LEG', 'AMZN', 'NVDA', 'GLD']\n",
      "['TSLA', 'AAPL', 'NVDA', 'CRM', 'VUG', 'MSFT']\n",
      "['NVDA', 'VUG', 'MSFT', 'AVGO', 'INTC', 'PG']\n",
      "['VUG', 'AVGO', 'PG', 'GOOGL', 'VWO', 'LEG']\n",
      "['VUG', 'AVGO', 'VWO', 'TSLA', 'BA', 'VNO']\n",
      "['AVGO', 'VWO', 'TSLA', 'AAPL', 'JNJ', 'KO']\n",
      "['AVGO', 'VWO', 'TSLA', 'INTC', 'VNO', 'MSFT']\n",
      "['AVGO', 'INTC', 'VNO', 'CVX', 'GOOGL', 'SPYD']\n",
      "['INTC', 'VNO', 'CVX', 'BA', 'IBM', 'MMM']\n",
      "['VNO', 'IBM', 'MMM', 'GOOGL', 'NVDA', 'AMZN']\n",
      "['VNO', 'MMM', 'NVDA', 'LEG', 'GLD', 'BA']\n",
      "['VNO', 'MMM', 'NVDA', 'AAPL', 'MSFT', 'TSLA']\n",
      "['AAPL', 'MSFT', 'TSLA', 'GOOGL', 'KO', 'PG']\n",
      "['MSFT', 'TSLA', 'GOOGL', 'NVDA', 'CRM', 'AMZN']\n",
      "['TSLA', 'CRM', 'AMZN', 'CVX', 'VNO', 'BA']\n",
      "['TSLA', 'CRM', 'CVX', 'NVDA', 'MSFT', 'GOOGL']\n",
      "['TSLA', 'NVDA', 'MSFT', 'AAPL', 'AVGO', 'AMZN']\n",
      "['MSFT', 'AAPL', 'AVGO', 'IBM', 'KO', 'PG']\n",
      "['AAPL', 'IBM', 'KO', 'CVX', 'HDV', 'SPYD']\n",
      "['KO', 'CVX', 'HDV', 'VNO', 'GLD', 'AMZN']\n",
      "['CVX', 'VNO', 'AMZN', 'TSLA', 'NVDA', 'JNJ']\n",
      "['CVX', 'VNO', 'JNJ', 'PG', 'KO', 'LEG']\n",
      "['CVX', 'JNJ', 'LEG', 'IBM', 'HDV', 'AVGO']\n",
      "['JNJ', 'IBM', 'HDV', 'BA', 'CRM', 'KO']\n",
      "['HDV', 'BA', 'CRM', 'TSLA', 'AMZN', 'NVDA']\n",
      "['HDV', 'BA', 'AMZN', 'PG', 'VWO', 'IBM']\n",
      "['HDV', 'PG', 'IBM', 'JNJ', 'GLD', 'TSLA']\n",
      "['HDV', 'PG', 'IBM', 'CVX', 'BA', 'MMM']\n",
      "['PG', 'IBM', 'BA', 'NVDA', 'AVGO', 'VWO']\n",
      "['PG', 'BA', 'AVGO', 'GLD', 'KO', 'JNJ']\n",
      "['BA', 'AVGO', 'GLD', 'TSLA', 'NVDA', 'CRM']\n",
      "['AVGO', 'TSLA', 'NVDA', 'AAPL', 'MSFT', 'VUG']\n",
      "['NVDA', 'AAPL', 'MSFT', 'INTC', 'CRM', 'GOOGL']\n",
      "['AAPL', 'MSFT', 'GOOGL', 'JNJ', 'PG', 'KO']\n",
      "['AAPL', 'MSFT', 'GOOGL', 'NVDA', 'AVGO', 'TSLA']\n",
      "['AAPL', 'NVDA', 'TSLA', 'VNO', 'MMM', 'AMZN']\n",
      "['NVDA', 'VNO', 'MMM', 'BA', 'GOOGL', 'IBM']\n",
      "['NVDA', 'VNO', 'GOOGL', 'AMZN', 'AVGO', 'IBM']\n",
      "['VNO', 'GOOGL', 'IBM', 'CVX', 'INTC', 'BND']\n",
      "['IBM', 'INTC', 'BND', 'GLD', 'MSFT', 'AMZN']\n",
      "['INTC', 'MSFT', 'AMZN', 'CRM', 'BA', 'VNO']\n",
      "['INTC', 'BA', 'VNO', 'AVGO', 'LEG', 'MMM']\n",
      "['VNO', 'AVGO', 'LEG', 'NVDA', 'IBM', 'PG']\n",
      "['AVGO', 'NVDA', 'PG', 'AMZN', 'CRM', 'TSLA']\n",
      "['NVDA', 'PG', 'AMZN', 'MMM', 'VNO', 'GOOGL']\n",
      "['PG', 'MMM', 'GOOGL', 'TSLA', 'GLD', 'CVX']\n",
      "['MMM', 'GOOGL', 'GLD', 'NVDA', 'AAPL', 'MSFT']\n",
      "['NVDA', 'AAPL', 'MSFT', 'AVGO', 'TSLA', 'CRM']\n",
      "['AAPL', 'TSLA', 'CRM', 'MMM', 'LEG', 'VNO']\n",
      "['AAPL', 'MMM', 'VNO', 'KO', 'PG', 'IBM']\n",
      "['MMM', 'VNO', 'IBM', 'TSLA', 'CRM', 'LEG']\n",
      "['VNO', 'TSLA', 'CRM', 'NVDA', 'GLD', 'GOOGL']\n",
      "['TSLA', 'CRM', 'NVDA', 'INTC', 'AMZN', 'IBM']\n",
      "['TSLA', 'CRM', 'AMZN', 'AVGO', 'BA', 'GOOGL']\n",
      "['CRM', 'AMZN', 'GOOGL', 'MMM', 'IBM', 'LEG']\n",
      "['AMZN', 'MMM', 'IBM', 'INTC', 'KO', 'JNJ']\n",
      "['IBM', 'KO', 'JNJ', 'GLD', 'CVX', 'VWO']\n",
      "['IBM', 'KO', 'GLD', 'AVGO', 'VEA', 'PG']\n",
      "0.33983309075306034\n"
     ]
    }
   ],
   "source": [
    "#calculating overall strategy's KPIs\n",
    "print(CAGR(pflio(return_df,6,3)))\n",
    "print(sharpe(pflio(return_df,6,3),0.045))\n",
    "print(max_dd(pflio(return_df,6,3)) )"
   ]
  },
  {
   "cell_type": "code",
   "execution_count": 9,
   "id": "437a8fa3",
   "metadata": {},
   "outputs": [
    {
     "name": "stderr",
     "output_type": "stream",
     "text": [
      "\r",
      "[*********************100%***********************]  1 of 1 completed"
     ]
    },
    {
     "name": "stdout",
     "output_type": "stream",
     "text": [
      "0.08071591408241496\n",
      "0.22840274202991068\n",
      "0.23201266165063417\n"
     ]
    },
    {
     "name": "stderr",
     "output_type": "stream",
     "text": [
      "\n"
     ]
    }
   ],
   "source": [
    "#calculating KPIs for Index buy and hold strategy over the same period\n",
    "DJI = yf.download(\"^DJI\",dt.date.today()-dt.timedelta(3650),dt.date.today(),interval='1mo', auto_adjust = False)\n",
    "DJI[\"mon_ret\"] = DJI[\"Adj Close\"].pct_change().fillna(0)\n",
    "print(CAGR(DJI))\n",
    "print(sharpe(DJI,0.045))\n",
    "print(max_dd(DJI))"
   ]
  },
  {
   "cell_type": "code",
   "execution_count": 10,
   "id": "5d541297",
   "metadata": {},
   "outputs": [
    {
     "name": "stderr",
     "output_type": "stream",
     "text": [
      "\r",
      "[*********************100%***********************]  1 of 1 completed"
     ]
    },
    {
     "name": "stdout",
     "output_type": "stream",
     "text": [
      "0.11474743200977011\n",
      "0.44061988228133087\n",
      "0.23972200612730435\n"
     ]
    },
    {
     "name": "stderr",
     "output_type": "stream",
     "text": [
      "\n"
     ]
    }
   ],
   "source": [
    "#calculating KPIs for Index buy and hold strategy over the same period\n",
    "SP_500 = yf.download(\"SPY\",dt.date.today()-dt.timedelta(3650),dt.date.today(),interval='1mo', auto_adjust = False)\n",
    "SP_500[\"mon_ret\"] = SP_500[\"Adj Close\"].pct_change().fillna(0)\n",
    "print(CAGR(SP_500))\n",
    "print(sharpe(SP_500,0.045))\n",
    "print(max_dd(SP_500))"
   ]
  },
  {
   "cell_type": "code",
   "execution_count": 11,
   "id": "8fbddc21",
   "metadata": {},
   "outputs": [
    {
     "name": "stdout",
     "output_type": "stream",
     "text": [
      "['NVDA', 'TSLA', 'AMZN', 'AVGO', 'LEG', 'GOOGL']\n",
      "['NVDA', 'TSLA', 'AVGO', 'PG', 'VNO', 'MSFT']\n",
      "['AVGO', 'PG', 'MSFT', 'GLD', 'BND', 'JNJ']\n",
      "['GLD', 'BND', 'JNJ', 'LEG', 'NVDA', 'IBM']\n",
      "['LEG', 'NVDA', 'IBM', 'TSLA', 'CVX', 'AVGO']\n",
      "['LEG', 'TSLA', 'CVX', 'AMZN', 'BA', 'GLD']\n",
      "['LEG', 'CVX', 'AMZN', 'NVDA', 'CRM', 'AAPL']\n",
      "['LEG', 'CVX', 'NVDA', 'GLD', 'JNJ', 'VNO']\n",
      "['LEG', 'NVDA', 'VNO', 'GOOGL', 'MSFT', 'TSLA']\n",
      "['LEG', 'NVDA', 'MSFT', 'AVGO', 'INTC', 'PG']\n",
      "['NVDA', 'INTC', 'PG', 'AMZN', 'AAPL', 'CVX']\n",
      "['NVDA', 'AAPL', 'CVX', 'BA', 'CRM', 'MSFT']\n",
      "['NVDA', 'CVX', 'BA', 'IBM', 'VNO', 'SPYD']\n",
      "['NVDA', 'CVX', 'VNO', 'TSLA', 'AAPL', 'INTC']\n",
      "['NVDA', 'TSLA', 'AAPL', 'CRM', 'AVGO', 'AMZN']\n",
      "['AAPL', 'CRM', 'AVGO', 'BA', 'JNJ', 'MMM']\n",
      "['AAPL', 'AVGO', 'MMM', 'TSLA', 'NVDA', 'AMZN']\n",
      "['MMM', 'TSLA', 'AMZN', 'GOOGL', 'LEG', 'BA']\n",
      "['TSLA', 'AMZN', 'GOOGL', 'NVDA', 'AVGO', 'AAPL']\n",
      "['TSLA', 'AMZN', 'NVDA', 'BA', 'JNJ', 'VNO']\n",
      "['NVDA', 'BA', 'VNO', 'AVGO', 'VWO', 'MSFT']\n",
      "['NVDA', 'VWO', 'MSFT', 'AAPL', 'TSLA', 'CRM']\n",
      "['NVDA', 'VWO', 'MSFT', 'CVX', 'INTC', 'BA']\n",
      "['NVDA', 'MSFT', 'INTC', 'AMZN', 'AAPL', 'MMM']\n",
      "['AMZN', 'AAPL', 'MMM', 'BA', 'AVGO', 'PG']\n",
      "['AMZN', 'BA', 'PG', 'CVX', 'INTC', 'VWO']\n",
      "['AMZN', 'BA', 'VWO', 'NVDA', 'TSLA', 'GOOGL']\n",
      "['AMZN', 'BA', 'NVDA', 'AAPL', 'INTC', 'CRM']\n",
      "['NVDA', 'INTC', 'CRM', 'CVX', 'LEG', 'VNO']\n",
      "['CRM', 'CVX', 'VNO', 'TSLA', 'AMZN', 'MSFT']\n",
      "['CRM', 'AMZN', 'MSFT', 'AAPL', 'NVDA', 'AVGO']\n",
      "['CRM', 'AMZN', 'MSFT', 'TSLA', 'LEG', 'VNO']\n",
      "['CRM', 'AMZN', 'MSFT', 'JNJ', 'GOOGL', 'MMM']\n",
      "['CRM', 'AMZN', 'MSFT', 'AAPL', 'NVDA', 'VNO']\n",
      "['CRM', 'MSFT', 'NVDA', 'AVGO', 'BA', 'IBM']\n",
      "['MSFT', 'AVGO', 'BA', 'TSLA', 'PG', 'KO']\n",
      "['AVGO', 'PG', 'KO', 'MMM', 'IBM', 'LEG']\n",
      "['AVGO', 'PG', 'KO', 'GLD', 'BND', 'VWO']\n",
      "['AVGO', 'PG', 'VWO', 'BA', 'IBM', 'LEG']\n",
      "['PG', 'BA', 'LEG', 'INTC', 'CRM', 'NVDA']\n",
      "['PG', 'INTC', 'NVDA', 'AAPL', 'AVGO', 'AMZN']\n",
      "['AAPL', 'AVGO', 'AMZN', 'MSFT', 'KO', 'VUG']\n",
      "['MSFT', 'KO', 'VUG', 'BND', 'GLD', 'PG']\n",
      "['MSFT', 'GLD', 'PG', 'NVDA', 'TSLA', 'AVGO']\n",
      "['PG', 'NVDA', 'TSLA', 'GOOGL', 'AAPL', 'IBM']\n",
      "['PG', 'NVDA', 'AAPL', 'GLD', 'BA', 'KO']\n",
      "['NVDA', 'AAPL', 'BA', 'LEG', 'INTC', 'IBM']\n",
      "['NVDA', 'AAPL', 'LEG', 'TSLA', 'INTC', 'AVGO']\n",
      "['NVDA', 'AAPL', 'AVGO', 'BA', 'MSFT', 'TSLA']\n",
      "['NVDA', 'AAPL', 'TSLA', 'JNJ', 'VWO', 'MMM']\n",
      "['AAPL', 'TSLA', 'JNJ', 'CRM', 'AMZN', 'MSFT']\n",
      "['TSLA', 'AMZN', 'MSFT', 'NVDA', 'BND', 'GLD']\n",
      "['AMZN', 'BND', 'GLD', 'JNJ', 'INTC', 'NVDA']\n",
      "['AMZN', 'JNJ', 'NVDA', 'TSLA', 'LEG', 'CVX']\n",
      "['NVDA', 'TSLA', 'CVX', 'AAPL', 'CRM', 'AVGO']\n",
      "['TSLA', 'AAPL', 'AVGO', 'BA', 'LEG', 'AMZN']\n",
      "['TSLA', 'AAPL', 'LEG', 'AMZN', 'NVDA', 'GLD']\n",
      "['TSLA', 'AAPL', 'NVDA', 'CRM', 'VUG', 'MSFT']\n",
      "['NVDA', 'VUG', 'MSFT', 'AVGO', 'INTC', 'PG']\n",
      "['VUG', 'AVGO', 'PG', 'GOOGL', 'VWO', 'LEG']\n",
      "['VUG', 'AVGO', 'VWO', 'TSLA', 'BA', 'VNO']\n",
      "['AVGO', 'VWO', 'TSLA', 'AAPL', 'JNJ', 'KO']\n",
      "['AVGO', 'VWO', 'TSLA', 'INTC', 'VNO', 'MSFT']\n",
      "['AVGO', 'INTC', 'VNO', 'CVX', 'GOOGL', 'SPYD']\n",
      "['INTC', 'VNO', 'CVX', 'BA', 'IBM', 'MMM']\n",
      "['VNO', 'IBM', 'MMM', 'GOOGL', 'NVDA', 'AMZN']\n",
      "['VNO', 'MMM', 'NVDA', 'LEG', 'GLD', 'BA']\n",
      "['VNO', 'MMM', 'NVDA', 'AAPL', 'MSFT', 'TSLA']\n",
      "['AAPL', 'MSFT', 'TSLA', 'GOOGL', 'KO', 'PG']\n",
      "['MSFT', 'TSLA', 'GOOGL', 'NVDA', 'CRM', 'AMZN']\n",
      "['TSLA', 'CRM', 'AMZN', 'CVX', 'VNO', 'BA']\n",
      "['TSLA', 'CRM', 'CVX', 'NVDA', 'MSFT', 'GOOGL']\n",
      "['TSLA', 'NVDA', 'MSFT', 'AAPL', 'AVGO', 'AMZN']\n",
      "['MSFT', 'AAPL', 'AVGO', 'IBM', 'KO', 'PG']\n",
      "['AAPL', 'IBM', 'KO', 'CVX', 'HDV', 'SPYD']\n",
      "['KO', 'CVX', 'HDV', 'VNO', 'GLD', 'AMZN']\n",
      "['CVX', 'VNO', 'AMZN', 'TSLA', 'NVDA', 'JNJ']\n",
      "['CVX', 'VNO', 'JNJ', 'PG', 'KO', 'LEG']\n",
      "['CVX', 'JNJ', 'LEG', 'IBM', 'HDV', 'AVGO']\n",
      "['JNJ', 'IBM', 'HDV', 'BA', 'CRM', 'KO']\n",
      "['HDV', 'BA', 'CRM', 'TSLA', 'AMZN', 'NVDA']\n",
      "['HDV', 'BA', 'AMZN', 'PG', 'VWO', 'IBM']\n",
      "['HDV', 'PG', 'IBM', 'JNJ', 'GLD', 'TSLA']\n",
      "['HDV', 'PG', 'IBM', 'CVX', 'BA', 'MMM']\n",
      "['PG', 'IBM', 'BA', 'NVDA', 'AVGO', 'VWO']\n",
      "['PG', 'BA', 'AVGO', 'GLD', 'KO', 'JNJ']\n",
      "['BA', 'AVGO', 'GLD', 'TSLA', 'NVDA', 'CRM']\n",
      "['AVGO', 'TSLA', 'NVDA', 'AAPL', 'MSFT', 'VUG']\n",
      "['NVDA', 'AAPL', 'MSFT', 'INTC', 'CRM', 'GOOGL']\n",
      "['AAPL', 'MSFT', 'GOOGL', 'JNJ', 'PG', 'KO']\n",
      "['AAPL', 'MSFT', 'GOOGL', 'NVDA', 'AVGO', 'TSLA']\n",
      "['AAPL', 'NVDA', 'TSLA', 'VNO', 'MMM', 'AMZN']\n",
      "['NVDA', 'VNO', 'MMM', 'BA', 'GOOGL', 'IBM']\n",
      "['NVDA', 'VNO', 'GOOGL', 'AMZN', 'AVGO', 'IBM']\n",
      "['VNO', 'GOOGL', 'IBM', 'CVX', 'INTC', 'BND']\n",
      "['IBM', 'INTC', 'BND', 'GLD', 'MSFT', 'AMZN']\n",
      "['INTC', 'MSFT', 'AMZN', 'CRM', 'BA', 'VNO']\n",
      "['INTC', 'BA', 'VNO', 'AVGO', 'LEG', 'MMM']\n",
      "['VNO', 'AVGO', 'LEG', 'NVDA', 'IBM', 'PG']\n",
      "['AVGO', 'NVDA', 'PG', 'AMZN', 'CRM', 'TSLA']\n",
      "['NVDA', 'PG', 'AMZN', 'MMM', 'VNO', 'GOOGL']\n",
      "['PG', 'MMM', 'GOOGL', 'TSLA', 'GLD', 'CVX']\n",
      "['MMM', 'GOOGL', 'GLD', 'NVDA', 'AAPL', 'MSFT']\n",
      "['NVDA', 'AAPL', 'MSFT', 'AVGO', 'TSLA', 'CRM']\n",
      "['AAPL', 'TSLA', 'CRM', 'MMM', 'LEG', 'VNO']\n",
      "['AAPL', 'MMM', 'VNO', 'KO', 'PG', 'IBM']\n",
      "['MMM', 'VNO', 'IBM', 'TSLA', 'CRM', 'LEG']\n",
      "['VNO', 'TSLA', 'CRM', 'NVDA', 'GLD', 'GOOGL']\n",
      "['TSLA', 'CRM', 'NVDA', 'INTC', 'AMZN', 'IBM']\n",
      "['TSLA', 'CRM', 'AMZN', 'AVGO', 'BA', 'GOOGL']\n",
      "['CRM', 'AMZN', 'GOOGL', 'MMM', 'IBM', 'LEG']\n",
      "['AMZN', 'MMM', 'IBM', 'INTC', 'KO', 'JNJ']\n",
      "['IBM', 'KO', 'JNJ', 'GLD', 'CVX', 'VWO']\n",
      "['IBM', 'KO', 'GLD', 'AVGO', 'VEA', 'PG']\n"
     ]
    },
    {
     "data": {
      "text/plain": [
       "<matplotlib.legend.Legend at 0x2080169bb50>"
      ]
     },
     "execution_count": 11,
     "metadata": {},
     "output_type": "execute_result"
    },
    {
     "data": {
      "image/png": "[encoded data removed]",
      "text/plain": [
       "<Figure size 432x288 with 1 Axes>"
      ]
     },
     "metadata": {
      "needs_background": "light"
     },
     "output_type": "display_data"
    }
   ],
   "source": [
    "#visualization\n",
    "fig, ax = plt.subplots()\n",
    "plt.plot((1+pflio(return_df,6,3)).cumprod())\n",
    "plt.plot((1+DJI[\"mon_ret\"].reset_index(drop=True)).cumprod())\n",
    "plt.plot((1+SP_500[\"mon_ret\"].reset_index(drop=True)).cumprod())\n",
    "plt.title(\"Index Return vs Strategy Return\")\n",
    "plt.ylabel(\"cumulative return\")\n",
    "plt.xlabel(\"months\")\n",
    "ax.legend([\"Strategy Return\",\"Index Return\", \"S&P500 Return\"])"
   ]
  },
  {
   "cell_type": "markdown",
   "id": "d6330fdc",
   "metadata": {},
   "source": [
    "**📊 Performance Summary**:\n",
    "- CAGR: **19.16%**\n",
    "- Sharpe Ratio: **0.736**\n",
    "- Maximum Drawdown: **33.98%**\n",
    "\n",
    "This strategy significantly outperformed benchmarks such as DJI and S&P 500 during the analysis period.\n",
    "\n",
    "\n",
    "-------------------------------------------------------------------------------------------------------------------------------"
   ]
  },
  {
   "cell_type": "markdown",
   "id": "51493fef",
   "metadata": {},
   "source": [
    "## 🚀 Momentum Investing Strategy\n",
    "\n",
    "**Strategy Overview:**\n",
    "Momentum investing buys securities showing upward price trends and sells those trending downward, capitalizing on continuation of price trends.\n",
    "\n",
    "**Implementation Highlights:**\n",
    "- Calculate momentum based on percentage price change.\n",
    "- Define clear buy and sell signals.\n",
    "\n",
    "**Visual Representation:**\n",
    "Momentum and corresponding buy/sell markers are displayed for easy visualization.\n"
   ]
  },
  {
   "cell_type": "code",
   "execution_count": 6,
   "id": "030c806e",
   "metadata": {},
   "outputs": [
    {
     "name": "stdout",
     "output_type": "stream",
     "text": [
      "                                 Open        High         Low       Close  \\\n",
      "Date                                                                        \n",
      "2024-04-18 00:00:00-04:00  495.671354  497.794328  492.294322  493.242249   \n",
      "2024-04-19 00:00:00-04:00  493.163283  494.170453  487.653392  488.937073   \n",
      "2024-04-22 00:00:00-04:00  491.573496  496.066332  489.203665  493.439758   \n",
      "2024-04-23 00:00:00-04:00  495.473868  499.729700  493.252145  499.295227   \n",
      "2024-04-24 00:00:00-04:00  500.193769  500.993587  496.806883  499.058228   \n",
      "\n",
      "                              Volume  Dividends  Stock Splits  Capital Gains  \n",
      "Date                                                                          \n",
      "2024-04-18 00:00:00-04:00   74548100        0.0           0.0            0.0  \n",
      "2024-04-19 00:00:00-04:00  102129100        0.0           0.0            0.0  \n",
      "2024-04-22 00:00:00-04:00   67961000        0.0           0.0            0.0  \n",
      "2024-04-23 00:00:00-04:00   64633600        0.0           0.0            0.0  \n",
      "2024-04-24 00:00:00-04:00   55928100        0.0           0.0            0.0  \n"
     ]
    }
   ],
   "source": [
    "# Get Apple's stock data from yahoo finance\n",
    "stock = yf.Ticker(\"SPY\")\n",
    "data = stock.history(period=\"1y\")\n",
    "print(data.head())"
   ]
  },
  {
   "cell_type": "markdown",
   "id": "2f1ba788",
   "metadata": {},
   "source": [
    "## Calculation of Momentum"
   ]
  },
  {
   "cell_type": "code",
   "execution_count": 7,
   "id": "c1636261",
   "metadata": {},
   "outputs": [],
   "source": [
    "# Calculation of momentum\n",
    "data['momentum'] = data['Close'].pct_change()"
   ]
  },
  {
   "cell_type": "markdown",
   "id": "6af485fa",
   "metadata": {},
   "source": [
    "## Buying/Selling Markers"
   ]
  },
  {
   "cell_type": "code",
   "execution_count": 8,
   "id": "08e26ac6",
   "metadata": {},
   "outputs": [
    {
     "data": {
      "application/vnd.plotly.v1+json": {
       "config": {
        "plotlyServerURL": "https://plot.ly"
       },
       "data": [
        {
         "name": "Close Price",
         "type": "scatter",
         "x": [
          "2024-04-18T00:00:00-04:00",
          "2024-04-19T00:00:00-04:00",
          "2024-04-22T00:00:00-04:00",
          "2024-04-23T00:00:00-04:00",
          "2024-04-24T00:00:00-04:00",
          "2024-04-25T00:00:00-04:00",
          "2024-04-26T00:00:00-04:00",
          "2024-04-29T00:00:00-04:00",
          "2024-04-30T00:00:00-04:00",
          "2024-05-01T00:00:00-04:00",
          "2024-05-02T00:00:00-04:00",
          "2024-05-03T00:00:00-04:00",
          "2024-05-06T00:00:00-04:00",
          "2024-05-07T00:00:00-04:00",
          "2024-05-08T00:00:00-04:00",
          "2024-05-09T00:00:00-04:00",
          "2024-05-10T00:00:00-04:00",
          "2024-05-13T00:00:00-04:00",
          "2024-05-14T00:00:00-04:00",
          "2024-05-15T00:00:00-04:00",
          "2024-05-16T00:00:00-04:00",
          "2024-05-17T00:00:00-04:00",
          "2024-05-20T00:00:00-04:00",
          "2024-05-21T00:00:00-04:00",
          "2024-05-22T00:00:00-04:00",
          "2024-05-23T00:00:00-04:00",
          "2024-05-24T00:00:00-04:00",
          "2024-05-28T00:00:00-04:00",
          "2024-05-29T00:00:00-04:00",
          "2024-05-30T00:00:00-04:00",
          "2024-05-31T00:00:00-04:00",
          "2024-06-03T00:00:00-04:00",
          "2024-06-04T00:00:00-04:00",
          "2024-06-05T00:00:00-04:00",
          "2024-06-06T00:00:00-04:00",
          "2024-06-07T00:00:00-04:00",
          "2024-06-10T00:00:00-04:00",
          "2024-06-11T00:00:00-04:00",
          "2024-06-12T00:00:00-04:00",
          "2024-06-13T00:00:00-04:00",
          "2024-06-14T00:00:00-04:00",
          "2024-06-17T00:00:00-04:00",
          "2024-06-18T00:00:00-04:00",
          "2024-06-20T00:00:00-04:00",
          "2024-06-21T00:00:00-04:00",
          "2024-06-24T00:00:00-04:00",
          "2024-06-25T00:00:00-04:00",
          "2024-06-26T00:00:00-04:00",
          "2024-06-27T00:00:00-04:00",
          "2024-06-28T00:00:00-04:00",
          "2024-07-01T00:00:00-04:00",
          "2024-07-02T00:00:00-04:00",
          "2024-07-03T00:00:00-04:00",
          "2024-07-05T00:00:00-04:00",
          "2024-07-08T00:00:00-04:00",
          "2024-07-09T00:00:00-04:00",
          "2024-07-10T00:00:00-04:00",
          "2024-07-11T00:00:00-04:00",
          "2024-07-12T00:00:00-04:00",
          "2024-07-15T00:00:00-04:00",
          "2024-07-16T00:00:00-04:00",
          "2024-07-17T00:00:00-04:00",
          "2024-07-18T00:00:00-04:00",
          "2024-07-19T00:00:00-04:00",
          "2024-07-22T00:00:00-04:00",
          "2024-07-23T00:00:00-04:00",
          "2024-07-24T00:00:00-04:00",
          "2024-07-25T00:00:00-04:00",
          "2024-07-26T00:00:00-04:00",
          "2024-07-29T00:00:00-04:00",
          "2024-07-30T00:00:00-04:00",
          "2024-07-31T00:00:00-04:00",
          "2024-08-01T00:00:00-04:00",
          "2024-08-02T00:00:00-04:00",
          "2024-08-05T00:00:00-04:00",
          "2024-08-06T00:00:00-04:00",
          "2024-08-07T00:00:00-04:00",
          "2024-08-08T00:00:00-04:00",
          "2024-08-09T00:00:00-04:00",
          "2024-08-12T00:00:00-04:00",
          "2024-08-13T00:00:00-04:00",
          "2024-08-14T00:00:00-04:00",
          "2024-08-15T00:00:00-04:00",
          "2024-08-16T00:00:00-04:00",
          "2024-08-19T00:00:00-04:00",
          "2024-08-20T00:00:00-04:00",
          "2024-08-21T00:00:00-04:00",
          "2024-08-22T00:00:00-04:00",
          "2024-08-23T00:00:00-04:00",
          "2024-08-26T00:00:00-04:00",
          "2024-08-27T00:00:00-04:00",
          "2024-08-28T00:00:00-04:00",
          "2024-08-29T00:00:00-04:00",
          "2024-08-30T00:00:00-04:00",
          "2024-09-03T00:00:00-04:00",
          "2024-09-04T00:00:00-04:00",
          "2024-09-05T00:00:00-04:00",
          "2024-09-06T00:00:00-04:00",
          "2024-09-09T00:00:00-04:00",
          "2024-09-10T00:00:00-04:00",
          "2024-09-11T00:00:00-04:00",
          "2024-09-12T00:00:00-04:00",
          "2024-09-13T00:00:00-04:00",
          "2024-09-16T00:00:00-04:00",
          "2024-09-17T00:00:00-04:00",
          "2024-09-18T00:00:00-04:00",
          "2024-09-19T00:00:00-04:00",
          "2024-09-20T00:00:00-04:00",
          "2024-09-23T00:00:00-04:00",
          "2024-09-24T00:00:00-04:00",
          "2024-09-25T00:00:00-04:00",
          "2024-09-26T00:00:00-04:00",
          "2024-09-27T00:00:00-04:00",
          "2024-09-30T00:00:00-04:00",
          "2024-10-01T00:00:00-04:00",
          "2024-10-02T00:00:00-04:00",
          "2024-10-03T00:00:00-04:00",
          "2024-10-04T00:00:00-04:00",
          "2024-10-07T00:00:00-04:00",
          "2024-10-08T00:00:00-04:00",
          "2024-10-09T00:00:00-04:00",
          "2024-10-10T00:00:00-04:00",
          "2024-10-11T00:00:00-04:00",
          "2024-10-14T00:00:00-04:00",
          "2024-10-15T00:00:00-04:00",
          "2024-10-16T00:00:00-04:00",
          "2024-10-17T00:00:00-04:00",
          "2024-10-18T00:00:00-04:00",
          "2024-10-21T00:00:00-04:00",
          "2024-10-22T00:00:00-04:00",
          "2024-10-23T00:00:00-04:00",
          "2024-10-24T00:00:00-04:00",
          "2024-10-25T00:00:00-04:00",
          "2024-10-28T00:00:00-04:00",
          "2024-10-29T00:00:00-04:00",
          "2024-10-30T00:00:00-04:00",
          "2024-10-31T00:00:00-04:00",
          "2024-11-01T00:00:00-04:00",
          "2024-11-04T00:00:00-05:00",
          "2024-11-05T00:00:00-05:00",
          "2024-11-06T00:00:00-05:00",
          "2024-11-07T00:00:00-05:00",
          "2024-11-08T00:00:00-05:00",
          "2024-11-11T00:00:00-05:00",
          "2024-11-12T00:00:00-05:00",
          "2024-11-13T00:00:00-05:00",
          "2024-11-14T00:00:00-05:00",
          "2024-11-15T00:00:00-05:00",
          "2024-11-18T00:00:00-05:00",
          "2024-11-19T00:00:00-05:00",
          "2024-11-20T00:00:00-05:00",
          "2024-11-21T00:00:00-05:00",
          "2024-11-22T00:00:00-05:00",
          "2024-11-25T00:00:00-05:00",
          "2024-11-26T00:00:00-05:00",
          "2024-11-27T00:00:00-05:00",
          "2024-11-29T00:00:00-05:00",
          "2024-12-02T00:00:00-05:00",
          "2024-12-03T00:00:00-05:00",
          "2024-12-04T00:00:00-05:00",
          "2024-12-05T00:00:00-05:00",
          "2024-12-06T00:00:00-05:00",
          "2024-12-09T00:00:00-05:00",
          "2024-12-10T00:00:00-05:00",
          "2024-12-11T00:00:00-05:00",
          "2024-12-12T00:00:00-05:00",
          "2024-12-13T00:00:00-05:00",
          "2024-12-16T00:00:00-05:00",
          "2024-12-17T00:00:00-05:00",
          "2024-12-18T00:00:00-05:00",
          "2024-12-19T00:00:00-05:00",
          "2024-12-20T00:00:00-05:00",
          "2024-12-23T00:00:00-05:00",
          "2024-12-24T00:00:00-05:00",
          "2024-12-26T00:00:00-05:00",
          "2024-12-27T00:00:00-05:00",
          "2024-12-30T00:00:00-05:00",
          "2024-12-31T00:00:00-05:00",
          "2025-01-02T00:00:00-05:00",
          "2025-01-03T00:00:00-05:00",
          "2025-01-06T00:00:00-05:00",
          "2025-01-07T00:00:00-05:00",
          "2025-01-08T00:00:00-05:00",
          "2025-01-10T00:00:00-05:00",
          "2025-01-13T00:00:00-05:00",
          "2025-01-14T00:00:00-05:00",
          "2025-01-15T00:00:00-05:00",
          "2025-01-16T00:00:00-05:00",
          "2025-01-17T00:00:00-05:00",
          "2025-01-21T00:00:00-05:00",
          "2025-01-22T00:00:00-05:00",
          "2025-01-23T00:00:00-05:00",
          "2025-01-24T00:00:00-05:00",
          "2025-01-27T00:00:00-05:00",
          "2025-01-28T00:00:00-05:00",
          "2025-01-29T00:00:00-05:00",
          "2025-01-30T00:00:00-05:00",
          "2025-01-31T00:00:00-05:00",
          "2025-02-03T00:00:00-05:00",
          "2025-02-04T00:00:00-05:00",
          "2025-02-05T00:00:00-05:00",
          "2025-02-06T00:00:00-05:00",
          "2025-02-07T00:00:00-05:00",
          "2025-02-10T00:00:00-05:00",
          "2025-02-11T00:00:00-05:00",
          "2025-02-12T00:00:00-05:00",
          "2025-02-13T00:00:00-05:00",
          "2025-02-14T00:00:00-05:00",
          "2025-02-18T00:00:00-05:00",
          "2025-02-19T00:00:00-05:00",
          "2025-02-20T00:00:00-05:00",
          "2025-02-21T00:00:00-05:00",
          "2025-02-24T00:00:00-05:00",
          "2025-02-25T00:00:00-05:00",
          "2025-02-26T00:00:00-05:00",
          "2025-02-27T00:00:00-05:00",
          "2025-02-28T00:00:00-05:00",
          "2025-03-03T00:00:00-05:00",
          "2025-03-04T00:00:00-05:00",
          "2025-03-05T00:00:00-05:00",
          "2025-03-06T00:00:00-05:00",
          "2025-03-07T00:00:00-05:00",
          "2025-03-10T00:00:00-04:00",
          "2025-03-11T00:00:00-04:00",
          "2025-03-12T00:00:00-04:00",
          "2025-03-13T00:00:00-04:00",
          "2025-03-14T00:00:00-04:00",
          "2025-03-17T00:00:00-04:00",
          "2025-03-18T00:00:00-04:00",
          "2025-03-19T00:00:00-04:00",
          "2025-03-20T00:00:00-04:00",
          "2025-03-21T00:00:00-04:00",
          "2025-03-24T00:00:00-04:00",
          "2025-03-25T00:00:00-04:00",
          "2025-03-26T00:00:00-04:00",
          "2025-03-27T00:00:00-04:00",
          "2025-03-28T00:00:00-04:00",
          "2025-03-31T00:00:00-04:00",
          "2025-04-01T00:00:00-04:00",
          "2025-04-02T00:00:00-04:00",
          "2025-04-03T00:00:00-04:00",
          "2025-04-04T00:00:00-04:00",
          "2025-04-07T00:00:00-04:00",
          "2025-04-08T00:00:00-04:00",
          "2025-04-09T00:00:00-04:00",
          "2025-04-10T00:00:00-04:00",
          "2025-04-11T00:00:00-04:00",
          "2025-04-14T00:00:00-04:00",
          "2025-04-15T00:00:00-04:00",
          "2025-04-16T00:00:00-04:00",
          "2025-04-17T00:00:00-04:00"
         ],
         "y": [
          493.24224853515625,
          488.93707275390625,
          493.43975830078125,
          499.29522705078125,
          499.0582275390625,
          497.162353515625,
          501.8724670410156,
          503.6498107910156,
          495.6713562011719,
          494.0618591308594,
          498.6830139160156,
          504.8643493652344,
          510.07794189453125,
          510.6407470703125,
          510.6902160644531,
          513.6327514648438,
          514.2943725585938,
          514.3633422851562,
          516.723388671875,
          523.1219482421875,
          522.0457153320312,
          522.796142578125,
          523.3984985351562,
          524.6820678710938,
          523.1713256835938,
          519.3499755859375,
          522.7862548828125,
          523.1515502929688,
          519.4882202148438,
          516.0421142578125,
          520.7422485351562,
          521.1668090820312,
          521.7494506835938,
          527.9505004882812,
          527.9406127929688,
          527.2987670898438,
          528.9280395507812,
          530.2018432617188,
          534.556396484375,
          535.6327514648438,
          535.9586791992188,
          540.2242431640625,
          541.5968017578125,
          540.1255493164062,
          539.4014892578125,
          537.6480102539062,
          539.7184448242188,
          540.3920288085938,
          541.2439575195312,
          539.1140747070312,
          540.2236328125,
          543.8591918945312,
          546.2862548828125,
          549.4364013671875,
          550.0703735351562,
          550.6053466796875,
          556.0536499023438,
          551.2590942382812,
          554.7361450195312,
          556.26171875,
          559.560546875,
          551.7147827148438,
          547.4749145507812,
          543.83935546875,
          549.4462890625,
          548.58447265625,
          536.1521606445312,
          533.3585815429688,
          539.33203125,
          539.6490478515625,
          536.9149780273438,
          545.6422729492188,
          537.9154663085938,
          527.900390625,
          512.5259399414062,
          517.251220703125,
          513.7939453125,
          525.6715087890625,
          527.989501953125,
          528.266845703125,
          536.95458984375,
          538.6485595703125,
          547.8811645507812,
          549.1094970703125,
          554.3597412109375,
          553.458251953125,
          555.3602905273438,
          551.0015258789062,
          556.8561401367188,
          555.5286865234375,
          556.2914428710938,
          553.06201171875,
          553.1115112304688,
          558.3915405273438,
          546.9004516601562,
          545.781005859375,
          544.4535522460938,
          535.290283203125,
          541.2835083007812,
          543.6412353515625,
          549.2184448242188,
          553.8446655273438,
          556.7373046875,
          557.5594482421875,
          557.7872924804688,
          556.1329956054688,
          565.623046875,
          564.6453247070312,
          566.0562744140625,
          567.6759643554688,
          566.4239501953125,
          568.6696166992188,
          567.8448486328125,
          570.120361328125,
          565.0130004882812,
          565.2514038085938,
          564.218017578125,
          569.3453369140625,
          564.1981201171875,
          569.5340576171875,
          573.4789428710938,
          572.475341796875,
          575.9034423828125,
          580.6133422851562,
          576.1021728515625,
          578.606201171875,
          578.6558227539062,
          580.8816528320312,
          579.927734375,
          579.6196899414062,
          574.323486328125,
          575.5656127929688,
          575.3668823242188,
          577.1455078125,
          578.07958984375,
          576.3306884765625,
          565.0328369140625,
          567.4176025390625,
          566.1953735351562,
          573.041748046875,
          587.2907104492188,
          591.831787109375,
          594.3953857421875,
          594.9617919921875,
          593.1135864257812,
          593.4017333984375,
          589.5860595703125,
          582.0343017578125,
          584.4190673828125,
          586.555419921875,
          586.7542114257812,
          589.904052734375,
          591.7323608398438,
          593.7395629882812,
          596.8397827148438,
          595.0313110351562,
          598.7276611328125,
          599.8008422851562,
          600.0791015625,
          603.8052368164062,
          602.8116455078125,
          603.954345703125,
          600.84423828125,
          598.9761352539062,
          603.6065673828125,
          600.4964599609375,
          600.377197265625,
          602.9407958984375,
          600.4566650390625,
          582.5609741210938,
          582.382080078125,
          589.3770751953125,
          592.9064331054688,
          599.49658203125,
          599.5364990234375,
          593.2254638671875,
          586.455810546875,
          584.322265625,
          582.8865966796875,
          590.1746215820312,
          593.5744018554688,
          586.8646240234375,
          587.7219848632812,
          578.7489624023438,
          579.6463012695312,
          580.4439086914062,
          591.002197265625,
          589.8656005859375,
          595.7877807617188,
          601.2413330078125,
          604.6211547851562,
          607.9212646484375,
          606.1465454101562,
          597.5723876953125,
          602.7069702148438,
          600.0050659179688,
          603.225341796875,
          600.0150146484375,
          595.9771728515625,
          599.9751586914062,
          602.4077758789062,
          604.5015258789062,
          598.9682006835938,
          603.035888671875,
          603.4945678710938,
          601.5504150390625,
          607.9013061523438,
          607.8713989257812,
          609.656005859375,
          611.0916748046875,
          608.5493774414062,
          598.1406860351562,
          595.4188842773438,
          592.457763671875,
          592.7568359375,
          583.2952880859375,
          592.39794921875,
          582.0191650390625,
          575.1298828125,
          581.311279296875,
          570.9923706054688,
          574.1926879882812,
          558.8987426757812,
          554.252685546875,
          557.19384765625,
          549.7661743164062,
          561.1220092773438,
          565.4490356445312,
          559.33740234375,
          565.4290771484375,
          563.7940063476562,
          563.97998046875,
          574.0800170898438,
          575.4600219726562,
          568.5900268554688,
          567.0800170898438,
          555.6599731445312,
          559.3900146484375,
          560.969970703125,
          564.52001953125,
          536.7000122070312,
          505.2799987792969,
          504.3800048828125,
          496.4800109863281,
          548.6199951171875,
          524.5800170898438,
          533.9400024414062,
          539.1199951171875,
          537.6099853515625,
          525.6599731445312,
          526.4099731445312
         ]
        },
        {
         "name": "Momentum",
         "type": "scatter",
         "x": [
          "2024-04-18T00:00:00-04:00",
          "2024-04-19T00:00:00-04:00",
          "2024-04-22T00:00:00-04:00",
          "2024-04-23T00:00:00-04:00",
          "2024-04-24T00:00:00-04:00",
          "2024-04-25T00:00:00-04:00",
          "2024-04-26T00:00:00-04:00",
          "2024-04-29T00:00:00-04:00",
          "2024-04-30T00:00:00-04:00",
          "2024-05-01T00:00:00-04:00",
          "2024-05-02T00:00:00-04:00",
          "2024-05-03T00:00:00-04:00",
          "2024-05-06T00:00:00-04:00",
          "2024-05-07T00:00:00-04:00",
          "2024-05-08T00:00:00-04:00",
          "2024-05-09T00:00:00-04:00",
          "2024-05-10T00:00:00-04:00",
          "2024-05-13T00:00:00-04:00",
          "2024-05-14T00:00:00-04:00",
          "2024-05-15T00:00:00-04:00",
          "2024-05-16T00:00:00-04:00",
          "2024-05-17T00:00:00-04:00",
          "2024-05-20T00:00:00-04:00",
          "2024-05-21T00:00:00-04:00",
          "2024-05-22T00:00:00-04:00",
          "2024-05-23T00:00:00-04:00",
          "2024-05-24T00:00:00-04:00",
          "2024-05-28T00:00:00-04:00",
          "2024-05-29T00:00:00-04:00",
          "2024-05-30T00:00:00-04:00",
          "2024-05-31T00:00:00-04:00",
          "2024-06-03T00:00:00-04:00",
          "2024-06-04T00:00:00-04:00",
          "2024-06-05T00:00:00-04:00",
          "2024-06-06T00:00:00-04:00",
          "2024-06-07T00:00:00-04:00",
          "2024-06-10T00:00:00-04:00",
          "2024-06-11T00:00:00-04:00",
          "2024-06-12T00:00:00-04:00",
          "2024-06-13T00:00:00-04:00",
          "2024-06-14T00:00:00-04:00",
          "2024-06-17T00:00:00-04:00",
          "2024-06-18T00:00:00-04:00",
          "2024-06-20T00:00:00-04:00",
          "2024-06-21T00:00:00-04:00",
          "2024-06-24T00:00:00-04:00",
          "2024-06-25T00:00:00-04:00",
          "2024-06-26T00:00:00-04:00",
          "2024-06-27T00:00:00-04:00",
          "2024-06-28T00:00:00-04:00",
          "2024-07-01T00:00:00-04:00",
          "2024-07-02T00:00:00-04:00",
          "2024-07-03T00:00:00-04:00",
          "2024-07-05T00:00:00-04:00",
          "2024-07-08T00:00:00-04:00",
          "2024-07-09T00:00:00-04:00",
          "2024-07-10T00:00:00-04:00",
          "2024-07-11T00:00:00-04:00",
          "2024-07-12T00:00:00-04:00",
          "2024-07-15T00:00:00-04:00",
          "2024-07-16T00:00:00-04:00",
          "2024-07-17T00:00:00-04:00",
          "2024-07-18T00:00:00-04:00",
          "2024-07-19T00:00:00-04:00",
          "2024-07-22T00:00:00-04:00",
          "2024-07-23T00:00:00-04:00",
          "2024-07-24T00:00:00-04:00",
          "2024-07-25T00:00:00-04:00",
          "2024-07-26T00:00:00-04:00",
          "2024-07-29T00:00:00-04:00",
          "2024-07-30T00:00:00-04:00",
          "2024-07-31T00:00:00-04:00",
          "2024-08-01T00:00:00-04:00",
          "2024-08-02T00:00:00-04:00",
          "2024-08-05T00:00:00-04:00",
          "2024-08-06T00:00:00-04:00",
          "2024-08-07T00:00:00-04:00",
          "2024-08-08T00:00:00-04:00",
          "2024-08-09T00:00:00-04:00",
          "2024-08-12T00:00:00-04:00",
          "2024-08-13T00:00:00-04:00",
          "2024-08-14T00:00:00-04:00",
          "2024-08-15T00:00:00-04:00",
          "2024-08-16T00:00:00-04:00",
          "2024-08-19T00:00:00-04:00",
          "2024-08-20T00:00:00-04:00",
          "2024-08-21T00:00:00-04:00",
          "2024-08-22T00:00:00-04:00",
          "2024-08-23T00:00:00-04:00",
          "2024-08-26T00:00:00-04:00",
          "2024-08-27T00:00:00-04:00",
          "2024-08-28T00:00:00-04:00",
          "2024-08-29T00:00:00-04:00",
          "2024-08-30T00:00:00-04:00",
          "2024-09-03T00:00:00-04:00",
          "2024-09-04T00:00:00-04:00",
          "2024-09-05T00:00:00-04:00",
          "2024-09-06T00:00:00-04:00",
          "2024-09-09T00:00:00-04:00",
          "2024-09-10T00:00:00-04:00",
          "2024-09-11T00:00:00-04:00",
          "2024-09-12T00:00:00-04:00",
          "2024-09-13T00:00:00-04:00",
          "2024-09-16T00:00:00-04:00",
          "2024-09-17T00:00:00-04:00",
          "2024-09-18T00:00:00-04:00",
          "2024-09-19T00:00:00-04:00",
          "2024-09-20T00:00:00-04:00",
          "2024-09-23T00:00:00-04:00",
          "2024-09-24T00:00:00-04:00",
          "2024-09-25T00:00:00-04:00",
          "2024-09-26T00:00:00-04:00",
          "2024-09-27T00:00:00-04:00",
          "2024-09-30T00:00:00-04:00",
          "2024-10-01T00:00:00-04:00",
          "2024-10-02T00:00:00-04:00",
          "2024-10-03T00:00:00-04:00",
          "2024-10-04T00:00:00-04:00",
          "2024-10-07T00:00:00-04:00",
          "2024-10-08T00:00:00-04:00",
          "2024-10-09T00:00:00-04:00",
          "2024-10-10T00:00:00-04:00",
          "2024-10-11T00:00:00-04:00",
          "2024-10-14T00:00:00-04:00",
          "2024-10-15T00:00:00-04:00",
          "2024-10-16T00:00:00-04:00",
          "2024-10-17T00:00:00-04:00",
          "2024-10-18T00:00:00-04:00",
          "2024-10-21T00:00:00-04:00",
          "2024-10-22T00:00:00-04:00",
          "2024-10-23T00:00:00-04:00",
          "2024-10-24T00:00:00-04:00",
          "2024-10-25T00:00:00-04:00",
          "2024-10-28T00:00:00-04:00",
          "2024-10-29T00:00:00-04:00",
          "2024-10-30T00:00:00-04:00",
          "2024-10-31T00:00:00-04:00",
          "2024-11-01T00:00:00-04:00",
          "2024-11-04T00:00:00-05:00",
          "2024-11-05T00:00:00-05:00",
          "2024-11-06T00:00:00-05:00",
          "2024-11-07T00:00:00-05:00",
          "2024-11-08T00:00:00-05:00",
          "2024-11-11T00:00:00-05:00",
          "2024-11-12T00:00:00-05:00",
          "2024-11-13T00:00:00-05:00",
          "2024-11-14T00:00:00-05:00",
          "2024-11-15T00:00:00-05:00",
          "2024-11-18T00:00:00-05:00",
          "2024-11-19T00:00:00-05:00",
          "2024-11-20T00:00:00-05:00",
          "2024-11-21T00:00:00-05:00",
          "2024-11-22T00:00:00-05:00",
          "2024-11-25T00:00:00-05:00",
          "2024-11-26T00:00:00-05:00",
          "2024-11-27T00:00:00-05:00",
          "2024-11-29T00:00:00-05:00",
          "2024-12-02T00:00:00-05:00",
          "2024-12-03T00:00:00-05:00",
          "2024-12-04T00:00:00-05:00",
          "2024-12-05T00:00:00-05:00",
          "2024-12-06T00:00:00-05:00",
          "2024-12-09T00:00:00-05:00",
          "2024-12-10T00:00:00-05:00",
          "2024-12-11T00:00:00-05:00",
          "2024-12-12T00:00:00-05:00",
          "2024-12-13T00:00:00-05:00",
          "2024-12-16T00:00:00-05:00",
          "2024-12-17T00:00:00-05:00",
          "2024-12-18T00:00:00-05:00",
          "2024-12-19T00:00:00-05:00",
          "2024-12-20T00:00:00-05:00",
          "2024-12-23T00:00:00-05:00",
          "2024-12-24T00:00:00-05:00",
          "2024-12-26T00:00:00-05:00",
          "2024-12-27T00:00:00-05:00",
          "2024-12-30T00:00:00-05:00",
          "2024-12-31T00:00:00-05:00",
          "2025-01-02T00:00:00-05:00",
          "2025-01-03T00:00:00-05:00",
          "2025-01-06T00:00:00-05:00",
          "2025-01-07T00:00:00-05:00",
          "2025-01-08T00:00:00-05:00",
          "2025-01-10T00:00:00-05:00",
          "2025-01-13T00:00:00-05:00",
          "2025-01-14T00:00:00-05:00",
          "2025-01-15T00:00:00-05:00",
          "2025-01-16T00:00:00-05:00",
          "2025-01-17T00:00:00-05:00",
          "2025-01-21T00:00:00-05:00",
          "2025-01-22T00:00:00-05:00",
          "2025-01-23T00:00:00-05:00",
          "2025-01-24T00:00:00-05:00",
          "2025-01-27T00:00:00-05:00",
          "2025-01-28T00:00:00-05:00",
          "2025-01-29T00:00:00-05:00",
          "2025-01-30T00:00:00-05:00",
          "2025-01-31T00:00:00-05:00",
          "2025-02-03T00:00:00-05:00",
          "2025-02-04T00:00:00-05:00",
          "2025-02-05T00:00:00-05:00",
          "2025-02-06T00:00:00-05:00",
          "2025-02-07T00:00:00-05:00",
          "2025-02-10T00:00:00-05:00",
          "2025-02-11T00:00:00-05:00",
          "2025-02-12T00:00:00-05:00",
          "2025-02-13T00:00:00-05:00",
          "2025-02-14T00:00:00-05:00",
          "2025-02-18T00:00:00-05:00",
          "2025-02-19T00:00:00-05:00",
          "2025-02-20T00:00:00-05:00",
          "2025-02-21T00:00:00-05:00",
          "2025-02-24T00:00:00-05:00",
          "2025-02-25T00:00:00-05:00",
          "2025-02-26T00:00:00-05:00",
          "2025-02-27T00:00:00-05:00",
          "2025-02-28T00:00:00-05:00",
          "2025-03-03T00:00:00-05:00",
          "2025-03-04T00:00:00-05:00",
          "2025-03-05T00:00:00-05:00",
          "2025-03-06T00:00:00-05:00",
          "2025-03-07T00:00:00-05:00",
          "2025-03-10T00:00:00-04:00",
          "2025-03-11T00:00:00-04:00",
          "2025-03-12T00:00:00-04:00",
          "2025-03-13T00:00:00-04:00",
          "2025-03-14T00:00:00-04:00",
          "2025-03-17T00:00:00-04:00",
          "2025-03-18T00:00:00-04:00",
          "2025-03-19T00:00:00-04:00",
          "2025-03-20T00:00:00-04:00",
          "2025-03-21T00:00:00-04:00",
          "2025-03-24T00:00:00-04:00",
          "2025-03-25T00:00:00-04:00",
          "2025-03-26T00:00:00-04:00",
          "2025-03-27T00:00:00-04:00",
          "2025-03-28T00:00:00-04:00",
          "2025-03-31T00:00:00-04:00",
          "2025-04-01T00:00:00-04:00",
          "2025-04-02T00:00:00-04:00",
          "2025-04-03T00:00:00-04:00",
          "2025-04-04T00:00:00-04:00",
          "2025-04-07T00:00:00-04:00",
          "2025-04-08T00:00:00-04:00",
          "2025-04-09T00:00:00-04:00",
          "2025-04-10T00:00:00-04:00",
          "2025-04-11T00:00:00-04:00",
          "2025-04-14T00:00:00-04:00",
          "2025-04-15T00:00:00-04:00",
          "2025-04-16T00:00:00-04:00",
          "2025-04-17T00:00:00-04:00"
         ],
         "y": [
          null,
          -0.008728319186030009,
          0.009209130985944558,
          0.011866633467404464,
          -0.0004746680898967126,
          -0.003798903452181035,
          0.009473994746552306,
          0.0035414250964573846,
          -0.015841273875022543,
          -0.003247105264761907,
          0.009353393102000673,
          0.012395319825871942,
          0.010326719515552973,
          0.0011033709352159526,
          9.687631553978449e-05,
          0.005761879330813846,
          0.0012881209227080248,
          0.00013410554391124485,
          0.004588286514030759,
          0.012382949389534215,
          -0.0020573270033357183,
          0.0014374741982441375,
          0.0011521813341253129,
          0.0024523748912728127,
          -0.002879347856559855,
          -0.007304204015124771,
          0.006616500353154198,
          0.0006987471586032967,
          -0.00700242611547941,
          -0.006633655630547408,
          0.00910804398998244,
          0.0008152988317526866,
          0.0011179560774192687,
          0.011885110365833507,
          -1.87284514425734e-05,
          -0.0012157536048030826,
          0.0030898469001348072,
          0.0024082741236772787,
          0.008213010343132154,
          0.002013548032625989,
          0.0006084910481736205,
          0.007958755274225515,
          0.0025407201011768965,
          -0.0027165087323838266,
          -0.0013405402864392624,
          -0.0032507863601173304,
          0.003850910876308733,
          0.0012480284689813104,
          0.001576501253757856,
          -0.0039351622921779406,
          0.002058113778742765,
          0.006729729803014894,
          0.0044626679560688665,
          0.005766475828777207,
          0.0011538590570103757,
          0.0009725540044869252,
          0.009895114995724485,
          -0.008622469549304346,
          0.0063074710559731795,
          0.0027500889281606433,
          0.0059303525908864785,
          -0.014021296183179488,
          -0.007684891354912127,
          -0.006640594820703893,
          0.010309907764797899,
          -0.001568518021516696,
          -0.022662529895389527,
          -0.005210422164865003,
          0.011199688003051378,
          0.0005877948706805025,
          -0.005066384968348547,
          0.01625451939139344,
          -0.014160938445735294,
          -0.018618307728389905,
          -0.029123772129418968,
          0.009219593377574054,
          -0.006683938581962812,
          0.023117367545735235,
          0.004409584931476029,
          0.0005252826978074943,
          0.016445749361880813,
          0.0031547727845206985,
          0.017140313134474505,
          0.0022419688775729973,
          0.00956137923062128,
          -0.0016261809630030433,
          0.003436643265334993,
          -0.007848534947103691,
          0.010625404799875504,
          -0.002383835819706248,
          0.0013730278312533706,
          -0.005805286408283039,
          8.950083475256498e-05,
          0.009546048472447888,
          -0.020578909301411263,
          -0.002046891344454127,
          -0.0024322092543163087,
          -0.016830212614402984,
          0.011196214999071863,
          0.004355808027816543,
          0.010258989035387689,
          0.00842327992936509,
          0.0052228347408600495,
          0.0014767172017491337,
          0.0004086456412846218,
          -0.0029658202997837613,
          0.0170643557287935,
          -0.0017285755475674458,
          0.0024988247405808295,
          0.002861358516134782,
          -0.002205508492116204,
          0.003964639036064588,
          -0.0014503466374615748,
          0.004007278926261737,
          -0.008958390519408721,
          0.0004219430705247884,
          -0.0018281887024179655,
          0.009087478910982494,
          -0.009040588309326747,
          0.009457559870797994,
          0.006926513350950181,
          -0.001750022536475826,
          0.0059882065403507045,
          0.00817828051670677,
          -0.007769662019544432,
          0.004346500392314434,
          8.576054306153047e-05,
          0.0038465526321536103,
          -0.0016421907154073878,
          -0.0005311772749163612,
          -0.009137376982166767,
          0.0021627645297690457,
          -0.0003452785648289103,
          0.003091289302395106,
          0.0016184515319028758,
          -0.0030253643233800753,
          -0.019603071272092154,
          0.00422057882162119,
          -0.0021540202461768354,
          0.012091894126530889,
          0.024865487463887392,
          0.007732246703992196,
          0.0043316339011354454,
          0.0009529115864397308,
          -0.0031064273223624372,
          0.00048582089375615034,
          -0.006430169669833119,
          -0.012808575932076294,
          0.00409729395294689,
          0.003655514780908309,
          0.0003389134208882094,
          0.0053682466137563445,
          0.003099331318362708,
          0.0033920777048406237,
          0.005221514481802636,
          -0.0030300789794227567,
          0.006212026206193766,
          0.0017924362310457465,
          0.00046391945080248576,
          0.006209406800210315,
          -0.0016455493394401666,
          0.0018956173189883518,
          -0.005149573711990096,
          -0.003109130300870566,
          0.007730578659771448,
          -0.005152540727580535,
          -0.00019860682495986826,
          0.004269980013378527,
          -0.004120024513639686,
          -0.029803467860256894,
          -0.00030708209254604046,
          0.012011006788273937,
          0.005988285019376871,
          0.011114989748490345,
          6.658418643890052e-05,
          -0.010526523683762057,
          -0.011411602725516334,
          -0.003638031857652546,
          -0.002456981412092718,
          0.012503332455847671,
          0.005760634478527704,
          -0.011304021553249277,
          0.001460917568971487,
          -0.015267460962898771,
          0.0015504803040384818,
          0.00137602434472206,
          0.01819002390432889,
          -0.0019231682808391604,
          0.010039880559060466,
          0.009153514761785386,
          0.0056214062337258675,
          0.005458144884880722,
          -0.002919324164959991,
          -0.01414535441927156,
          0.008592402569559843,
          -0.004482948481435156,
          0.005367081149522335,
          -0.0053219368053647464,
          -0.006729567924630753,
          0.006708286863932544,
          0.004054529845545218,
          0.0034756357468082033,
          -0.009153533876142705,
          0.006791158501634698,
          0.0007606167523941387,
          -0.0032214918501909384,
          0.010557537580401899,
          -4.919750337728512e-05,
          0.002935829744165508,
          0.0023548836253795002,
          -0.004160255274454183,
          -0.017104103285771943,
          -0.004550437416077302,
          -0.004973172137566095,
          0.0005047993020994568,
          -0.015961937978493657,
          0.015605579744493614,
          -0.01751995291910613,
          -0.01183686490134761,
          0.010747827002392407,
          -0.017751089749862614,
          0.005604833877935977,
          -0.02663556264724176,
          -0.008312878119322353,
          0.005306536505949477,
          -0.013330501352603052,
          0.020655754194149223,
          0.007711382365414909,
          -0.010808460030027,
          0.010890876918228543,
          -0.0028917345549811513,
          0.00032986182719207946,
          0.017908502022889516,
          0.0024038545877420603,
          -0.011938266525687413,
          -0.0026557092004866334,
          -0.020138328985595644,
          0.0067128130226792315,
          0.0028244266313557365,
          0.006328411525621025,
          -0.04928081620084812,
          -0.058542971330535654,
          -0.0017811785518102585,
          -0.0156627816725603,
          0.10501930183911301,
          -0.04381899719533322,
          0.017842817199724692,
          0.009701450822369617,
          -0.0028008788011967267,
          -0.02222803246337901,
          0.001426777837987947
         ],
         "yaxis": "y2"
        }
       ],
       "layout": {
        "template": {
         "data": {
          "bar": [
           {
            "error_x": {
             "color": "#2a3f5f"
            },
            "error_y": {
             "color": "#2a3f5f"
            },
            "marker": {
             "line": {
              "color": "#E5ECF6",
              "width": 0.5
             },
             "pattern": {
              "fillmode": "overlay",
              "size": 10,
              "solidity": 0.2
             }
            },
            "type": "bar"
           }
          ],
          "barpolar": [
           {
            "marker": {
             "line": {
              "color": "#E5ECF6",
              "width": 0.5
             },
             "pattern": {
              "fillmode": "overlay",
              "size": 10,
              "solidity": 0.2
             }
            },
            "type": "barpolar"
           }
          ],
          "carpet": [
           {
            "aaxis": {
             "endlinecolor": "#2a3f5f",
             "gridcolor": "white",
             "linecolor": "white",
             "minorgridcolor": "white",
             "startlinecolor": "#2a3f5f"
            },
            "baxis": {
             "endlinecolor": "#2a3f5f",
             "gridcolor": "white",
             "linecolor": "white",
             "minorgridcolor": "white",
             "startlinecolor": "#2a3f5f"
            },
            "type": "carpet"
           }
          ],
          "choropleth": [
           {
            "colorbar": {
             "outlinewidth": 0,
             "ticks": ""
            },
            "type": "choropleth"
           }
          ],
          "contour": [
           {
            "colorbar": {
             "outlinewidth": 0,
             "ticks": ""
            },
            "colorscale": [
             [
              0,
              "#0d0887"
             ],
             [
              0.1111111111111111,
              "#46039f"
             ],
             [
              0.2222222222222222,
              "#7201a8"
             ],
             [
              0.3333333333333333,
              "#9c179e"
             ],
             [
              0.4444444444444444,
              "#bd3786"
             ],
             [
              0.5555555555555556,
              "#d8576b"
             ],
             [
              0.6666666666666666,
              "#ed7953"
             ],
             [
              0.7777777777777778,
              "#fb9f3a"
             ],
             [
              0.8888888888888888,
              "#fdca26"
             ],
             [
              1,
              "#f0f921"
             ]
            ],
            "type": "contour"
           }
          ],
          "contourcarpet": [
           {
            "colorbar": {
             "outlinewidth": 0,
             "ticks": ""
            },
            "type": "contourcarpet"
           }
          ],
          "heatmap": [
           {
            "colorbar": {
             "outlinewidth": 0,
             "ticks": ""
            },
            "colorscale": [
             [
              0,
              "#0d0887"
             ],
             [
              0.1111111111111111,
              "#46039f"
             ],
             [
              0.2222222222222222,
              "#7201a8"
             ],
             [
              0.3333333333333333,
              "#9c179e"
             ],
             [
              0.4444444444444444,
              "#bd3786"
             ],
             [
              0.5555555555555556,
              "#d8576b"
             ],
             [
              0.6666666666666666,
              "#ed7953"
             ],
             [
              0.7777777777777778,
              "#fb9f3a"
             ],
             [
              0.8888888888888888,
              "#fdca26"
             ],
             [
              1,
              "#f0f921"
             ]
            ],
            "type": "heatmap"
           }
          ],
          "heatmapgl": [
           {
            "colorbar": {
             "outlinewidth": 0,
             "ticks": ""
            },
            "colorscale": [
             [
              0,
              "#0d0887"
             ],
             [
              0.1111111111111111,
              "#46039f"
             ],
             [
              0.2222222222222222,
              "#7201a8"
             ],
             [
              0.3333333333333333,
              "#9c179e"
             ],
             [
              0.4444444444444444,
              "#bd3786"
             ],
             [
              0.5555555555555556,
              "#d8576b"
             ],
             [
              0.6666666666666666,
              "#ed7953"
             ],
             [
              0.7777777777777778,
              "#fb9f3a"
             ],
             [
              0.8888888888888888,
              "#fdca26"
             ],
             [
              1,
              "#f0f921"
             ]
            ],
            "type": "heatmapgl"
           }
          ],
          "histogram": [
           {
            "marker": {
             "pattern": {
              "fillmode": "overlay",
              "size": 10,
              "solidity": 0.2
             }
            },
            "type": "histogram"
           }
          ],
          "histogram2d": [
           {
            "colorbar": {
             "outlinewidth": 0,
             "ticks": ""
            },
            "colorscale": [
             [
              0,
              "#0d0887"
             ],
             [
              0.1111111111111111,
              "#46039f"
             ],
             [
              0.2222222222222222,
              "#7201a8"
             ],
             [
              0.3333333333333333,
              "#9c179e"
             ],
             [
              0.4444444444444444,
              "#bd3786"
             ],
             [
              0.5555555555555556,
              "#d8576b"
             ],
             [
              0.6666666666666666,
              "#ed7953"
             ],
             [
              0.7777777777777778,
              "#fb9f3a"
             ],
             [
              0.8888888888888888,
              "#fdca26"
             ],
             [
              1,
              "#f0f921"
             ]
            ],
            "type": "histogram2d"
           }
          ],
          "histogram2dcontour": [
           {
            "colorbar": {
             "outlinewidth": 0,
             "ticks": ""
            },
            "colorscale": [
             [
              0,
              "#0d0887"
             ],
             [
              0.1111111111111111,
              "#46039f"
             ],
             [
              0.2222222222222222,
              "#7201a8"
             ],
             [
              0.3333333333333333,
              "#9c179e"
             ],
             [
              0.4444444444444444,
              "#bd3786"
             ],
             [
              0.5555555555555556,
              "#d8576b"
             ],
             [
              0.6666666666666666,
              "#ed7953"
             ],
             [
              0.7777777777777778,
              "#fb9f3a"
             ],
             [
              0.8888888888888888,
              "#fdca26"
             ],
             [
              1,
              "#f0f921"
             ]
            ],
            "type": "histogram2dcontour"
           }
          ],
          "mesh3d": [
           {
            "colorbar": {
             "outlinewidth": 0,
             "ticks": ""
            },
            "type": "mesh3d"
           }
          ],
          "parcoords": [
           {
            "line": {
             "colorbar": {
              "outlinewidth": 0,
              "ticks": ""
             }
            },
            "type": "parcoords"
           }
          ],
          "pie": [
           {
            "automargin": true,
            "type": "pie"
           }
          ],
          "scatter": [
           {
            "marker": {
             "colorbar": {
              "outlinewidth": 0,
              "ticks": ""
             }
            },
            "type": "scatter"
           }
          ],
          "scatter3d": [
           {
            "line": {
             "colorbar": {
              "outlinewidth": 0,
              "ticks": ""
             }
            },
            "marker": {
             "colorbar": {
              "outlinewidth": 0,
              "ticks": ""
             }
            },
            "type": "scatter3d"
           }
          ],
          "scattercarpet": [
           {
            "marker": {
             "colorbar": {
              "outlinewidth": 0,
              "ticks": ""
             }
            },
            "type": "scattercarpet"
           }
          ],
          "scattergeo": [
           {
            "marker": {
             "colorbar": {
              "outlinewidth": 0,
              "ticks": ""
             }
            },
            "type": "scattergeo"
           }
          ],
          "scattergl": [
           {
            "marker": {
             "colorbar": {
              "outlinewidth": 0,
              "ticks": ""
             }
            },
            "type": "scattergl"
           }
          ],
          "scattermapbox": [
           {
            "marker": {
             "colorbar": {
              "outlinewidth": 0,
              "ticks": ""
             }
            },
            "type": "scattermapbox"
           }
          ],
          "scatterpolar": [
           {
            "marker": {
             "colorbar": {
              "outlinewidth": 0,
              "ticks": ""
             }
            },
            "type": "scatterpolar"
           }
          ],
          "scatterpolargl": [
           {
            "marker": {
             "colorbar": {
              "outlinewidth": 0,
              "ticks": ""
             }
            },
            "type": "scatterpolargl"
           }
          ],
          "scatterternary": [
           {
            "marker": {
             "colorbar": {
              "outlinewidth": 0,
              "ticks": ""
             }
            },
            "type": "scatterternary"
           }
          ],
          "surface": [
           {
            "colorbar": {
             "outlinewidth": 0,
             "ticks": ""
            },
            "colorscale": [
             [
              0,
              "#0d0887"
             ],
             [
              0.1111111111111111,
              "#46039f"
             ],
             [
              0.2222222222222222,
              "#7201a8"
             ],
             [
              0.3333333333333333,
              "#9c179e"
             ],
             [
              0.4444444444444444,
              "#bd3786"
             ],
             [
              0.5555555555555556,
              "#d8576b"
             ],
             [
              0.6666666666666666,
              "#ed7953"
             ],
             [
              0.7777777777777778,
              "#fb9f3a"
             ],
             [
              0.8888888888888888,
              "#fdca26"
             ],
             [
              1,
              "#f0f921"
             ]
            ],
            "type": "surface"
           }
          ],
          "table": [
           {
            "cells": {
             "fill": {
              "color": "#EBF0F8"
             },
             "line": {
              "color": "white"
             }
            },
            "header": {
             "fill": {
              "color": "#C8D4E3"
             },
             "line": {
              "color": "white"
             }
            },
            "type": "table"
           }
          ]
         },
         "layout": {
          "annotationdefaults": {
           "arrowcolor": "#2a3f5f",
           "arrowhead": 0,
           "arrowwidth": 1
          },
          "autotypenumbers": "strict",
          "coloraxis": {
           "colorbar": {
            "outlinewidth": 0,
            "ticks": ""
           }
          },
          "colorscale": {
           "diverging": [
            [
             0,
             "#8e0152"
            ],
            [
             0.1,
             "#c51b7d"
            ],
            [
             0.2,
             "#de77ae"
            ],
            [
             0.3,
             "#f1b6da"
            ],
            [
             0.4,
             "#fde0ef"
            ],
            [
             0.5,
             "#f7f7f7"
            ],
            [
             0.6,
             "#e6f5d0"
            ],
            [
             0.7,
             "#b8e186"
            ],
            [
             0.8,
             "#7fbc41"
            ],
            [
             0.9,
             "#4d9221"
            ],
            [
             1,
             "#276419"
            ]
           ],
           "sequential": [
            [
             0,
             "#0d0887"
            ],
            [
             0.1111111111111111,
             "#46039f"
            ],
            [
             0.2222222222222222,
             "#7201a8"
            ],
            [
             0.3333333333333333,
             "#9c179e"
            ],
            [
             0.4444444444444444,
             "#bd3786"
            ],
            [
             0.5555555555555556,
             "#d8576b"
            ],
            [
             0.6666666666666666,
             "#ed7953"
            ],
            [
             0.7777777777777778,
             "#fb9f3a"
            ],
            [
             0.8888888888888888,
             "#fdca26"
            ],
            [
             1,
             "#f0f921"
            ]
           ],
           "sequentialminus": [
            [
             0,
             "#0d0887"
            ],
            [
             0.1111111111111111,
             "#46039f"
            ],
            [
             0.2222222222222222,
             "#7201a8"
            ],
            [
             0.3333333333333333,
             "#9c179e"
            ],
            [
             0.4444444444444444,
             "#bd3786"
            ],
            [
             0.5555555555555556,
             "#d8576b"
            ],
            [
             0.6666666666666666,
             "#ed7953"
            ],
            [
             0.7777777777777778,
             "#fb9f3a"
            ],
            [
             0.8888888888888888,
             "#fdca26"
            ],
            [
             1,
             "#f0f921"
            ]
           ]
          },
          "colorway": [
           "#636efa",
           "#EF553B",
           "#00cc96",
           "#ab63fa",
           "#FFA15A",
           "#19d3f3",
           "#FF6692",
           "#B6E880",
           "#FF97FF",
           "#FECB52"
          ],
          "font": {
           "color": "#2a3f5f"
          },
          "geo": {
           "bgcolor": "white",
           "lakecolor": "white",
           "landcolor": "#E5ECF6",
           "showlakes": true,
           "showland": true,
           "subunitcolor": "white"
          },
          "hoverlabel": {
           "align": "left"
          },
          "hovermode": "closest",
          "mapbox": {
           "style": "light"
          },
          "paper_bgcolor": "white",
          "plot_bgcolor": "#E5ECF6",
          "polar": {
           "angularaxis": {
            "gridcolor": "white",
            "linecolor": "white",
            "ticks": ""
           },
           "bgcolor": "#E5ECF6",
           "radialaxis": {
            "gridcolor": "white",
            "linecolor": "white",
            "ticks": ""
           }
          },
          "scene": {
           "xaxis": {
            "backgroundcolor": "#E5ECF6",
            "gridcolor": "white",
            "gridwidth": 2,
            "linecolor": "white",
            "showbackground": true,
            "ticks": "",
            "zerolinecolor": "white"
           },
           "yaxis": {
            "backgroundcolor": "#E5ECF6",
            "gridcolor": "white",
            "gridwidth": 2,
            "linecolor": "white",
            "showbackground": true,
            "ticks": "",
            "zerolinecolor": "white"
           },
           "zaxis": {
            "backgroundcolor": "#E5ECF6",
            "gridcolor": "white",
            "gridwidth": 2,
            "linecolor": "white",
            "showbackground": true,
            "ticks": "",
            "zerolinecolor": "white"
           }
          },
          "shapedefaults": {
           "line": {
            "color": "#2a3f5f"
           }
          },
          "ternary": {
           "aaxis": {
            "gridcolor": "white",
            "linecolor": "white",
            "ticks": ""
           },
           "baxis": {
            "gridcolor": "white",
            "linecolor": "white",
            "ticks": ""
           },
           "bgcolor": "#E5ECF6",
           "caxis": {
            "gridcolor": "white",
            "linecolor": "white",
            "ticks": ""
           }
          },
          "title": {
           "x": 0.05
          },
          "xaxis": {
           "automargin": true,
           "gridcolor": "white",
           "linecolor": "white",
           "ticks": "",
           "title": {
            "standoff": 15
           },
           "zerolinecolor": "white",
           "zerolinewidth": 2
          },
          "yaxis": {
           "automargin": true,
           "gridcolor": "white",
           "linecolor": "white",
           "ticks": "",
           "title": {
            "standoff": 15
           },
           "zerolinecolor": "white",
           "zerolinewidth": 2
          }
         }
        },
        "xaxis": {
         "anchor": "y",
         "domain": [
          0,
          1
         ]
        },
        "xaxis2": {
         "anchor": "y2",
         "domain": [
          0,
          1
         ]
        },
        "yaxis": {
         "anchor": "x",
         "domain": [
          0.575,
          1
         ]
        },
        "yaxis2": {
         "anchor": "x2",
         "domain": [
          0,
          0.425
         ]
        }
       }
      },
      "text/html": [
       "<div>                            <div id=\"9227d2c0-574c-4bd5-a0a4-aa2dbea28195\" class=\"plotly-graph-div\" style=\"height:525px; width:100%;\"></div>            <script type=\"text/javascript\">                require([\"plotly\"], function(Plotly) {                    window.PLOTLYENV=window.PLOTLYENV || {};                                    if (document.getElementById(\"9227d2c0-574c-4bd5-a0a4-aa2dbea28195\")) {                    Plotly.newPlot(                        \"9227d2c0-574c-4bd5-a0a4-aa2dbea28195\",                        [{\"name\":\"Close Price\",\"x\":[\"2024-04-18T00:00:00-04:00\",\"2024-04-19T00:00:00-04:00\",\"2024-04-22T00:00:00-04:00\",\"2024-04-23T00:00:00-04:00\",\"2024-04-24T00:00:00-04:00\",\"2024-04-25T00:00:00-04:00\",\"2024-04-26T00:00:00-04:00\",\"2024-04-29T00:00:00-04:00\",\"2024-04-30T00:00:00-04:00\",\"2024-05-01T00:00:00-04:00\",\"2024-05-02T00:00:00-04:00\",\"2024-05-03T00:00:00-04:00\",\"2024-05-06T00:00:00-04:00\",\"2024-05-07T00:00:00-04:00\",\"2024-05-08T00:00:00-04:00\",\"2024-05-09T00:00:00-04:00\",\"2024-05-10T00:00:00-04:00\",\"2024-05-13T00:00:00-04:00\",\"2024-05-14T00:00:00-04:00\",\"2024-05-15T00:00:00-04:00\",\"2024-05-16T00:00:00-04:00\",\"2024-05-17T00:00:00-04:00\",\"2024-05-20T00:00:00-04:00\",\"2024-05-21T00:00:00-04:00\",\"2024-05-22T00:00:00-04:00\",\"2024-05-23T00:00:00-04:00\",\"2024-05-24T00:00:00-04:00\",\"2024-05-28T00:00:00-04:00\",\"2024-05-29T00:00:00-04:00\",\"2024-05-30T00:00:00-04:00\",\"2024-05-31T00:00:00-04:00\",\"2024-06-03T00:00:00-04:00\",\"2024-06-04T00:00:00-04:00\",\"2024-06-05T00:00:00-04:00\",\"2024-06-06T00:00:00-04:00\",\"2024-06-07T00:00:00-04:00\",\"2024-06-10T00:00:00-04:00\",\"2024-06-11T00:00:00-04:00\",\"2024-06-12T00:00:00-04:00\",\"2024-06-13T00:00:00-04:00\",\"2024-06-14T00:00:00-04:00\",\"2024-06-17T00:00:00-04:00\",\"2024-06-18T00:00:00-04:00\",\"2024-06-20T00:00:00-04:00\",\"2024-06-21T00:00:00-04:00\",\"2024-06-24T00:00:00-04:00\",\"2024-06-25T00:00:00-04:00\",\"2024-06-26T00:00:00-04:00\",\"2024-06-27T00:00:00-04:00\",\"2024-06-28T00:00:00-04:00\",\"2024-07-01T00:00:00-04:00\",\"2024-07-02T00:00:00-04:00\",\"2024-07-03T00:00:00-04:00\",\"2024-07-05T00:00:00-04:00\",\"2024-07-08T00:00:00-04:00\",\"2024-07-09T00:00:00-04:00\",\"2024-07-10T00:00:00-04:00\",\"2024-07-11T00:00:00-04:00\",\"2024-07-12T00:00:00-04:00\",\"2024-07-15T00:00:00-04:00\",\"2024-07-16T00:00:00-04:00\",\"2024-07-17T00:00:00-04:00\",\"2024-07-18T00:00:00-04:00\",\"2024-07-19T00:00:00-04:00\",\"2024-07-22T00:00:00-04:00\",\"2024-07-23T00:00:00-04:00\",\"2024-07-24T00:00:00-04:00\",\"2024-07-25T00:00:00-04:00\",\"2024-07-26T00:00:00-04:00\",\"2024-07-29T00:00:00-04:00\",\"2024-07-30T00:00:00-04:00\",\"2024-07-31T00:00:00-04:00\",\"2024-08-01T00:00:00-04:00\",\"2024-08-02T00:00:00-04:00\",\"2024-08-05T00:00:00-04:00\",\"2024-08-06T00:00:00-04:00\",\"2024-08-07T00:00:00-04:00\",\"2024-08-08T00:00:00-04:00\",\"2024-08-09T00:00:00-04:00\",\"2024-08-12T00:00:00-04:00\",\"2024-08-13T00:00:00-04:00\",\"2024-08-14T00:00:00-04:00\",\"2024-08-15T00:00:00-04:00\",\"2024-08-16T00:00:00-04:00\",\"2024-08-19T00:00:00-04:00\",\"2024-08-20T00:00:00-04:00\",\"2024-08-21T00:00:00-04:00\",\"2024-08-22T00:00:00-04:00\",\"2024-08-23T00:00:00-04:00\",\"2024-08-26T00:00:00-04:00\",\"2024-08-27T00:00:00-04:00\",\"2024-08-28T00:00:00-04:00\",\"2024-08-29T00:00:00-04:00\",\"2024-08-30T00:00:00-04:00\",\"2024-09-03T00:00:00-04:00\",\"2024-09-04T00:00:00-04:00\",\"2024-09-05T00:00:00-04:00\",\"2024-09-06T00:00:00-04:00\",\"2024-09-09T00:00:00-04:00\",\"2024-09-10T00:00:00-04:00\",\"2024-09-11T00:00:00-04:00\",\"2024-09-12T00:00:00-04:00\",\"2024-09-13T00:00:00-04:00\",\"2024-09-16T00:00:00-04:00\",\"2024-09-17T00:00:00-04:00\",\"2024-09-18T00:00:00-04:00\",\"2024-09-19T00:00:00-04:00\",\"2024-09-20T00:00:00-04:00\",\"2024-09-23T00:00:00-04:00\",\"2024-09-24T00:00:00-04:00\",\"2024-09-25T00:00:00-04:00\",\"2024-09-26T00:00:00-04:00\",\"2024-09-27T00:00:00-04:00\",\"2024-09-30T00:00:00-04:00\",\"2024-10-01T00:00:00-04:00\",\"2024-10-02T00:00:00-04:00\",\"2024-10-03T00:00:00-04:00\",\"2024-10-04T00:00:00-04:00\",\"2024-10-07T00:00:00-04:00\",\"2024-10-08T00:00:00-04:00\",\"2024-10-09T00:00:00-04:00\",\"2024-10-10T00:00:00-04:00\",\"2024-10-11T00:00:00-04:00\",\"2024-10-14T00:00:00-04:00\",\"2024-10-15T00:00:00-04:00\",\"2024-10-16T00:00:00-04:00\",\"2024-10-17T00:00:00-04:00\",\"2024-10-18T00:00:00-04:00\",\"2024-10-21T00:00:00-04:00\",\"2024-10-22T00:00:00-04:00\",\"2024-10-23T00:00:00-04:00\",\"2024-10-24T00:00:00-04:00\",\"2024-10-25T00:00:00-04:00\",\"2024-10-28T00:00:00-04:00\",\"2024-10-29T00:00:00-04:00\",\"2024-10-30T00:00:00-04:00\",\"2024-10-31T00:00:00-04:00\",\"2024-11-01T00:00:00-04:00\",\"2024-11-04T00:00:00-05:00\",\"2024-11-05T00:00:00-05:00\",\"2024-11-06T00:00:00-05:00\",\"2024-11-07T00:00:00-05:00\",\"2024-11-08T00:00:00-05:00\",\"2024-11-11T00:00:00-05:00\",\"2024-11-12T00:00:00-05:00\",\"2024-11-13T00:00:00-05:00\",\"2024-11-14T00:00:00-05:00\",\"2024-11-15T00:00:00-05:00\",\"2024-11-18T00:00:00-05:00\",\"2024-11-19T00:00:00-05:00\",\"2024-11-20T00:00:00-05:00\",\"2024-11-21T00:00:00-05:00\",\"2024-11-22T00:00:00-05:00\",\"2024-11-25T00:00:00-05:00\",\"2024-11-26T00:00:00-05:00\",\"2024-11-27T00:00:00-05:00\",\"2024-11-29T00:00:00-05:00\",\"2024-12-02T00:00:00-05:00\",\"2024-12-03T00:00:00-05:00\",\"2024-12-04T00:00:00-05:00\",\"2024-12-05T00:00:00-05:00\",\"2024-12-06T00:00:00-05:00\",\"2024-12-09T00:00:00-05:00\",\"2024-12-10T00:00:00-05:00\",\"2024-12-11T00:00:00-05:00\",\"2024-12-12T00:00:00-05:00\",\"2024-12-13T00:00:00-05:00\",\"2024-12-16T00:00:00-05:00\",\"2024-12-17T00:00:00-05:00\",\"2024-12-18T00:00:00-05:00\",\"2024-12-19T00:00:00-05:00\",\"2024-12-20T00:00:00-05:00\",\"2024-12-23T00:00:00-05:00\",\"2024-12-24T00:00:00-05:00\",\"2024-12-26T00:00:00-05:00\",\"2024-12-27T00:00:00-05:00\",\"2024-12-30T00:00:00-05:00\",\"2024-12-31T00:00:00-05:00\",\"2025-01-02T00:00:00-05:00\",\"2025-01-03T00:00:00-05:00\",\"2025-01-06T00:00:00-05:00\",\"2025-01-07T00:00:00-05:00\",\"2025-01-08T00:00:00-05:00\",\"2025-01-10T00:00:00-05:00\",\"2025-01-13T00:00:00-05:00\",\"2025-01-14T00:00:00-05:00\",\"2025-01-15T00:00:00-05:00\",\"2025-01-16T00:00:00-05:00\",\"2025-01-17T00:00:00-05:00\",\"2025-01-21T00:00:00-05:00\",\"2025-01-22T00:00:00-05:00\",\"2025-01-23T00:00:00-05:00\",\"2025-01-24T00:00:00-05:00\",\"2025-01-27T00:00:00-05:00\",\"2025-01-28T00:00:00-05:00\",\"2025-01-29T00:00:00-05:00\",\"2025-01-30T00:00:00-05:00\",\"2025-01-31T00:00:00-05:00\",\"2025-02-03T00:00:00-05:00\",\"2025-02-04T00:00:00-05:00\",\"2025-02-05T00:00:00-05:00\",\"2025-02-06T00:00:00-05:00\",\"2025-02-07T00:00:00-05:00\",\"2025-02-10T00:00:00-05:00\",\"2025-02-11T00:00:00-05:00\",\"2025-02-12T00:00:00-05:00\",\"2025-02-13T00:00:00-05:00\",\"2025-02-14T00:00:00-05:00\",\"2025-02-18T00:00:00-05:00\",\"2025-02-19T00:00:00-05:00\",\"2025-02-20T00:00:00-05:00\",\"2025-02-21T00:00:00-05:00\",\"2025-02-24T00:00:00-05:00\",\"2025-02-25T00:00:00-05:00\",\"2025-02-26T00:00:00-05:00\",\"2025-02-27T00:00:00-05:00\",\"2025-02-28T00:00:00-05:00\",\"2025-03-03T00:00:00-05:00\",\"2025-03-04T00:00:00-05:00\",\"2025-03-05T00:00:00-05:00\",\"2025-03-06T00:00:00-05:00\",\"2025-03-07T00:00:00-05:00\",\"2025-03-10T00:00:00-04:00\",\"2025-03-11T00:00:00-04:00\",\"2025-03-12T00:00:00-04:00\",\"2025-03-13T00:00:00-04:00\",\"2025-03-14T00:00:00-04:00\",\"2025-03-17T00:00:00-04:00\",\"2025-03-18T00:00:00-04:00\",\"2025-03-19T00:00:00-04:00\",\"2025-03-20T00:00:00-04:00\",\"2025-03-21T00:00:00-04:00\",\"2025-03-24T00:00:00-04:00\",\"2025-03-25T00:00:00-04:00\",\"2025-03-26T00:00:00-04:00\",\"2025-03-27T00:00:00-04:00\",\"2025-03-28T00:00:00-04:00\",\"2025-03-31T00:00:00-04:00\",\"2025-04-01T00:00:00-04:00\",\"2025-04-02T00:00:00-04:00\",\"2025-04-03T00:00:00-04:00\",\"2025-04-04T00:00:00-04:00\",\"2025-04-07T00:00:00-04:00\",\"2025-04-08T00:00:00-04:00\",\"2025-04-09T00:00:00-04:00\",\"2025-04-10T00:00:00-04:00\",\"2025-04-11T00:00:00-04:00\",\"2025-04-14T00:00:00-04:00\",\"2025-04-15T00:00:00-04:00\",\"2025-04-16T00:00:00-04:00\",\"2025-04-17T00:00:00-04:00\"],\"y\":[493.24224853515625,488.93707275390625,493.43975830078125,499.29522705078125,499.0582275390625,497.162353515625,501.8724670410156,503.6498107910156,495.6713562011719,494.0618591308594,498.6830139160156,504.8643493652344,510.07794189453125,510.6407470703125,510.6902160644531,513.6327514648438,514.2943725585938,514.3633422851562,516.723388671875,523.1219482421875,522.0457153320312,522.796142578125,523.3984985351562,524.6820678710938,523.1713256835938,519.3499755859375,522.7862548828125,523.1515502929688,519.4882202148438,516.0421142578125,520.7422485351562,521.1668090820312,521.7494506835938,527.9505004882812,527.9406127929688,527.2987670898438,528.9280395507812,530.2018432617188,534.556396484375,535.6327514648438,535.9586791992188,540.2242431640625,541.5968017578125,540.1255493164062,539.4014892578125,537.6480102539062,539.7184448242188,540.3920288085938,541.2439575195312,539.1140747070312,540.2236328125,543.8591918945312,546.2862548828125,549.4364013671875,550.0703735351562,550.6053466796875,556.0536499023438,551.2590942382812,554.7361450195312,556.26171875,559.560546875,551.7147827148438,547.4749145507812,543.83935546875,549.4462890625,548.58447265625,536.1521606445312,533.3585815429688,539.33203125,539.6490478515625,536.9149780273438,545.6422729492188,537.9154663085938,527.900390625,512.5259399414062,517.251220703125,513.7939453125,525.6715087890625,527.989501953125,528.266845703125,536.95458984375,538.6485595703125,547.8811645507812,549.1094970703125,554.3597412109375,553.458251953125,555.3602905273438,551.0015258789062,556.8561401367188,555.5286865234375,556.2914428710938,553.06201171875,553.1115112304688,558.3915405273438,546.9004516601562,545.781005859375,544.4535522460938,535.290283203125,541.2835083007812,543.6412353515625,549.2184448242188,553.8446655273438,556.7373046875,557.5594482421875,557.7872924804688,556.1329956054688,565.623046875,564.6453247070312,566.0562744140625,567.6759643554688,566.4239501953125,568.6696166992188,567.8448486328125,570.120361328125,565.0130004882812,565.2514038085938,564.218017578125,569.3453369140625,564.1981201171875,569.5340576171875,573.4789428710938,572.475341796875,575.9034423828125,580.6133422851562,576.1021728515625,578.606201171875,578.6558227539062,580.8816528320312,579.927734375,579.6196899414062,574.323486328125,575.5656127929688,575.3668823242188,577.1455078125,578.07958984375,576.3306884765625,565.0328369140625,567.4176025390625,566.1953735351562,573.041748046875,587.2907104492188,591.831787109375,594.3953857421875,594.9617919921875,593.1135864257812,593.4017333984375,589.5860595703125,582.0343017578125,584.4190673828125,586.555419921875,586.7542114257812,589.904052734375,591.7323608398438,593.7395629882812,596.8397827148438,595.0313110351562,598.7276611328125,599.8008422851562,600.0791015625,603.8052368164062,602.8116455078125,603.954345703125,600.84423828125,598.9761352539062,603.6065673828125,600.4964599609375,600.377197265625,602.9407958984375,600.4566650390625,582.5609741210938,582.382080078125,589.3770751953125,592.9064331054688,599.49658203125,599.5364990234375,593.2254638671875,586.455810546875,584.322265625,582.8865966796875,590.1746215820312,593.5744018554688,586.8646240234375,587.7219848632812,578.7489624023438,579.6463012695312,580.4439086914062,591.002197265625,589.8656005859375,595.7877807617188,601.2413330078125,604.6211547851562,607.9212646484375,606.1465454101562,597.5723876953125,602.7069702148438,600.0050659179688,603.225341796875,600.0150146484375,595.9771728515625,599.9751586914062,602.4077758789062,604.5015258789062,598.9682006835938,603.035888671875,603.4945678710938,601.5504150390625,607.9013061523438,607.8713989257812,609.656005859375,611.0916748046875,608.5493774414062,598.1406860351562,595.4188842773438,592.457763671875,592.7568359375,583.2952880859375,592.39794921875,582.0191650390625,575.1298828125,581.311279296875,570.9923706054688,574.1926879882812,558.8987426757812,554.252685546875,557.19384765625,549.7661743164062,561.1220092773438,565.4490356445312,559.33740234375,565.4290771484375,563.7940063476562,563.97998046875,574.0800170898438,575.4600219726562,568.5900268554688,567.0800170898438,555.6599731445312,559.3900146484375,560.969970703125,564.52001953125,536.7000122070312,505.2799987792969,504.3800048828125,496.4800109863281,548.6199951171875,524.5800170898438,533.9400024414062,539.1199951171875,537.6099853515625,525.6599731445312,526.4099731445312],\"type\":\"scatter\"},{\"name\":\"Momentum\",\"x\":[\"2024-04-18T00:00:00-04:00\",\"2024-04-19T00:00:00-04:00\",\"2024-04-22T00:00:00-04:00\",\"2024-04-23T00:00:00-04:00\",\"2024-04-24T00:00:00-04:00\",\"2024-04-25T00:00:00-04:00\",\"2024-04-26T00:00:00-04:00\",\"2024-04-29T00:00:00-04:00\",\"2024-04-30T00:00:00-04:00\",\"2024-05-01T00:00:00-04:00\",\"2024-05-02T00:00:00-04:00\",\"2024-05-03T00:00:00-04:00\",\"2024-05-06T00:00:00-04:00\",\"2024-05-07T00:00:00-04:00\",\"2024-05-08T00:00:00-04:00\",\"2024-05-09T00:00:00-04:00\",\"2024-05-10T00:00:00-04:00\",\"2024-05-13T00:00:00-04:00\",\"2024-05-14T00:00:00-04:00\",\"2024-05-15T00:00:00-04:00\",\"2024-05-16T00:00:00-04:00\",\"2024-05-17T00:00:00-04:00\",\"2024-05-20T00:00:00-04:00\",\"2024-05-21T00:00:00-04:00\",\"2024-05-22T00:00:00-04:00\",\"2024-05-23T00:00:00-04:00\",\"2024-05-24T00:00:00-04:00\",\"2024-05-28T00:00:00-04:00\",\"2024-05-29T00:00:00-04:00\",\"2024-05-30T00:00:00-04:00\",\"2024-05-31T00:00:00-04:00\",\"2024-06-03T00:00:00-04:00\",\"2024-06-04T00:00:00-04:00\",\"2024-06-05T00:00:00-04:00\",\"2024-06-06T00:00:00-04:00\",\"2024-06-07T00:00:00-04:00\",\"2024-06-10T00:00:00-04:00\",\"2024-06-11T00:00:00-04:00\",\"2024-06-12T00:00:00-04:00\",\"2024-06-13T00:00:00-04:00\",\"2024-06-14T00:00:00-04:00\",\"2024-06-17T00:00:00-04:00\",\"2024-06-18T00:00:00-04:00\",\"2024-06-20T00:00:00-04:00\",\"2024-06-21T00:00:00-04:00\",\"2024-06-24T00:00:00-04:00\",\"2024-06-25T00:00:00-04:00\",\"2024-06-26T00:00:00-04:00\",\"2024-06-27T00:00:00-04:00\",\"2024-06-28T00:00:00-04:00\",\"2024-07-01T00:00:00-04:00\",\"2024-07-02T00:00:00-04:00\",\"2024-07-03T00:00:00-04:00\",\"2024-07-05T00:00:00-04:00\",\"2024-07-08T00:00:00-04:00\",\"2024-07-09T00:00:00-04:00\",\"2024-07-10T00:00:00-04:00\",\"2024-07-11T00:00:00-04:00\",\"2024-07-12T00:00:00-04:00\",\"2024-07-15T00:00:00-04:00\",\"2024-07-16T00:00:00-04:00\",\"2024-07-17T00:00:00-04:00\",\"2024-07-18T00:00:00-04:00\",\"2024-07-19T00:00:00-04:00\",\"2024-07-22T00:00:00-04:00\",\"2024-07-23T00:00:00-04:00\",\"2024-07-24T00:00:00-04:00\",\"2024-07-25T00:00:00-04:00\",\"2024-07-26T00:00:00-04:00\",\"2024-07-29T00:00:00-04:00\",\"2024-07-30T00:00:00-04:00\",\"2024-07-31T00:00:00-04:00\",\"2024-08-01T00:00:00-04:00\",\"2024-08-02T00:00:00-04:00\",\"2024-08-05T00:00:00-04:00\",\"2024-08-06T00:00:00-04:00\",\"2024-08-07T00:00:00-04:00\",\"2024-08-08T00:00:00-04:00\",\"2024-08-09T00:00:00-04:00\",\"2024-08-12T00:00:00-04:00\",\"2024-08-13T00:00:00-04:00\",\"2024-08-14T00:00:00-04:00\",\"2024-08-15T00:00:00-04:00\",\"2024-08-16T00:00:00-04:00\",\"2024-08-19T00:00:00-04:00\",\"2024-08-20T00:00:00-04:00\",\"2024-08-21T00:00:00-04:00\",\"2024-08-22T00:00:00-04:00\",\"2024-08-23T00:00:00-04:00\",\"2024-08-26T00:00:00-04:00\",\"2024-08-27T00:00:00-04:00\",\"2024-08-28T00:00:00-04:00\",\"2024-08-29T00:00:00-04:00\",\"2024-08-30T00:00:00-04:00\",\"2024-09-03T00:00:00-04:00\",\"2024-09-04T00:00:00-04:00\",\"2024-09-05T00:00:00-04:00\",\"2024-09-06T00:00:00-04:00\",\"2024-09-09T00:00:00-04:00\",\"2024-09-10T00:00:00-04:00\",\"2024-09-11T00:00:00-04:00\",\"2024-09-12T00:00:00-04:00\",\"2024-09-13T00:00:00-04:00\",\"2024-09-16T00:00:00-04:00\",\"2024-09-17T00:00:00-04:00\",\"2024-09-18T00:00:00-04:00\",\"2024-09-19T00:00:00-04:00\",\"2024-09-20T00:00:00-04:00\",\"2024-09-23T00:00:00-04:00\",\"2024-09-24T00:00:00-04:00\",\"2024-09-25T00:00:00-04:00\",\"2024-09-26T00:00:00-04:00\",\"2024-09-27T00:00:00-04:00\",\"2024-09-30T00:00:00-04:00\",\"2024-10-01T00:00:00-04:00\",\"2024-10-02T00:00:00-04:00\",\"2024-10-03T00:00:00-04:00\",\"2024-10-04T00:00:00-04:00\",\"2024-10-07T00:00:00-04:00\",\"2024-10-08T00:00:00-04:00\",\"2024-10-09T00:00:00-04:00\",\"2024-10-10T00:00:00-04:00\",\"2024-10-11T00:00:00-04:00\",\"2024-10-14T00:00:00-04:00\",\"2024-10-15T00:00:00-04:00\",\"2024-10-16T00:00:00-04:00\",\"2024-10-17T00:00:00-04:00\",\"2024-10-18T00:00:00-04:00\",\"2024-10-21T00:00:00-04:00\",\"2024-10-22T00:00:00-04:00\",\"2024-10-23T00:00:00-04:00\",\"2024-10-24T00:00:00-04:00\",\"2024-10-25T00:00:00-04:00\",\"2024-10-28T00:00:00-04:00\",\"2024-10-29T00:00:00-04:00\",\"2024-10-30T00:00:00-04:00\",\"2024-10-31T00:00:00-04:00\",\"2024-11-01T00:00:00-04:00\",\"2024-11-04T00:00:00-05:00\",\"2024-11-05T00:00:00-05:00\",\"2024-11-06T00:00:00-05:00\",\"2024-11-07T00:00:00-05:00\",\"2024-11-08T00:00:00-05:00\",\"2024-11-11T00:00:00-05:00\",\"2024-11-12T00:00:00-05:00\",\"2024-11-13T00:00:00-05:00\",\"2024-11-14T00:00:00-05:00\",\"2024-11-15T00:00:00-05:00\",\"2024-11-18T00:00:00-05:00\",\"2024-11-19T00:00:00-05:00\",\"2024-11-20T00:00:00-05:00\",\"2024-11-21T00:00:00-05:00\",\"2024-11-22T00:00:00-05:00\",\"2024-11-25T00:00:00-05:00\",\"2024-11-26T00:00:00-05:00\",\"2024-11-27T00:00:00-05:00\",\"2024-11-29T00:00:00-05:00\",\"2024-12-02T00:00:00-05:00\",\"2024-12-03T00:00:00-05:00\",\"2024-12-04T00:00:00-05:00\",\"2024-12-05T00:00:00-05:00\",\"2024-12-06T00:00:00-05:00\",\"2024-12-09T00:00:00-05:00\",\"2024-12-10T00:00:00-05:00\",\"2024-12-11T00:00:00-05:00\",\"2024-12-12T00:00:00-05:00\",\"2024-12-13T00:00:00-05:00\",\"2024-12-16T00:00:00-05:00\",\"2024-12-17T00:00:00-05:00\",\"2024-12-18T00:00:00-05:00\",\"2024-12-19T00:00:00-05:00\",\"2024-12-20T00:00:00-05:00\",\"2024-12-23T00:00:00-05:00\",\"2024-12-24T00:00:00-05:00\",\"2024-12-26T00:00:00-05:00\",\"2024-12-27T00:00:00-05:00\",\"2024-12-30T00:00:00-05:00\",\"2024-12-31T00:00:00-05:00\",\"2025-01-02T00:00:00-05:00\",\"2025-01-03T00:00:00-05:00\",\"2025-01-06T00:00:00-05:00\",\"2025-01-07T00:00:00-05:00\",\"2025-01-08T00:00:00-05:00\",\"2025-01-10T00:00:00-05:00\",\"2025-01-13T00:00:00-05:00\",\"2025-01-14T00:00:00-05:00\",\"2025-01-15T00:00:00-05:00\",\"2025-01-16T00:00:00-05:00\",\"2025-01-17T00:00:00-05:00\",\"2025-01-21T00:00:00-05:00\",\"2025-01-22T00:00:00-05:00\",\"2025-01-23T00:00:00-05:00\",\"2025-01-24T00:00:00-05:00\",\"2025-01-27T00:00:00-05:00\",\"2025-01-28T00:00:00-05:00\",\"2025-01-29T00:00:00-05:00\",\"2025-01-30T00:00:00-05:00\",\"2025-01-31T00:00:00-05:00\",\"2025-02-03T00:00:00-05:00\",\"2025-02-04T00:00:00-05:00\",\"2025-02-05T00:00:00-05:00\",\"2025-02-06T00:00:00-05:00\",\"2025-02-07T00:00:00-05:00\",\"2025-02-10T00:00:00-05:00\",\"2025-02-11T00:00:00-05:00\",\"2025-02-12T00:00:00-05:00\",\"2025-02-13T00:00:00-05:00\",\"2025-02-14T00:00:00-05:00\",\"2025-02-18T00:00:00-05:00\",\"2025-02-19T00:00:00-05:00\",\"2025-02-20T00:00:00-05:00\",\"2025-02-21T00:00:00-05:00\",\"2025-02-24T00:00:00-05:00\",\"2025-02-25T00:00:00-05:00\",\"2025-02-26T00:00:00-05:00\",\"2025-02-27T00:00:00-05:00\",\"2025-02-28T00:00:00-05:00\",\"2025-03-03T00:00:00-05:00\",\"2025-03-04T00:00:00-05:00\",\"2025-03-05T00:00:00-05:00\",\"2025-03-06T00:00:00-05:00\",\"2025-03-07T00:00:00-05:00\",\"2025-03-10T00:00:00-04:00\",\"2025-03-11T00:00:00-04:00\",\"2025-03-12T00:00:00-04:00\",\"2025-03-13T00:00:00-04:00\",\"2025-03-14T00:00:00-04:00\",\"2025-03-17T00:00:00-04:00\",\"2025-03-18T00:00:00-04:00\",\"2025-03-19T00:00:00-04:00\",\"2025-03-20T00:00:00-04:00\",\"2025-03-21T00:00:00-04:00\",\"2025-03-24T00:00:00-04:00\",\"2025-03-25T00:00:00-04:00\",\"2025-03-26T00:00:00-04:00\",\"2025-03-27T00:00:00-04:00\",\"2025-03-28T00:00:00-04:00\",\"2025-03-31T00:00:00-04:00\",\"2025-04-01T00:00:00-04:00\",\"2025-04-02T00:00:00-04:00\",\"2025-04-03T00:00:00-04:00\",\"2025-04-04T00:00:00-04:00\",\"2025-04-07T00:00:00-04:00\",\"2025-04-08T00:00:00-04:00\",\"2025-04-09T00:00:00-04:00\",\"2025-04-10T00:00:00-04:00\",\"2025-04-11T00:00:00-04:00\",\"2025-04-14T00:00:00-04:00\",\"2025-04-15T00:00:00-04:00\",\"2025-04-16T00:00:00-04:00\",\"2025-04-17T00:00:00-04:00\"],\"y\":[null,-0.008728319186030009,0.009209130985944558,0.011866633467404464,-0.0004746680898967126,-0.003798903452181035,0.009473994746552306,0.0035414250964573846,-0.015841273875022543,-0.003247105264761907,0.009353393102000673,0.012395319825871942,0.010326719515552973,0.0011033709352159526,9.687631553978449e-05,0.005761879330813846,0.0012881209227080248,0.00013410554391124485,0.004588286514030759,0.012382949389534215,-0.0020573270033357183,0.0014374741982441375,0.0011521813341253129,0.0024523748912728127,-0.002879347856559855,-0.007304204015124771,0.006616500353154198,0.0006987471586032967,-0.00700242611547941,-0.006633655630547408,0.00910804398998244,0.0008152988317526866,0.0011179560774192687,0.011885110365833507,-1.87284514425734e-05,-0.0012157536048030826,0.0030898469001348072,0.0024082741236772787,0.008213010343132154,0.002013548032625989,0.0006084910481736205,0.007958755274225515,0.0025407201011768965,-0.0027165087323838266,-0.0013405402864392624,-0.0032507863601173304,0.003850910876308733,0.0012480284689813104,0.001576501253757856,-0.0039351622921779406,0.002058113778742765,0.006729729803014894,0.0044626679560688665,0.005766475828777207,0.0011538590570103757,0.0009725540044869252,0.009895114995724485,-0.008622469549304346,0.0063074710559731795,0.0027500889281606433,0.0059303525908864785,-0.014021296183179488,-0.007684891354912127,-0.006640594820703893,0.010309907764797899,-0.001568518021516696,-0.022662529895389527,-0.005210422164865003,0.011199688003051378,0.0005877948706805025,-0.005066384968348547,0.01625451939139344,-0.014160938445735294,-0.018618307728389905,-0.029123772129418968,0.009219593377574054,-0.006683938581962812,0.023117367545735235,0.004409584931476029,0.0005252826978074943,0.016445749361880813,0.0031547727845206985,0.017140313134474505,0.0022419688775729973,0.00956137923062128,-0.0016261809630030433,0.003436643265334993,-0.007848534947103691,0.010625404799875504,-0.002383835819706248,0.0013730278312533706,-0.005805286408283039,8.950083475256498e-05,0.009546048472447888,-0.020578909301411263,-0.002046891344454127,-0.0024322092543163087,-0.016830212614402984,0.011196214999071863,0.004355808027816543,0.010258989035387689,0.00842327992936509,0.0052228347408600495,0.0014767172017491337,0.0004086456412846218,-0.0029658202997837613,0.0170643557287935,-0.0017285755475674458,0.0024988247405808295,0.002861358516134782,-0.002205508492116204,0.003964639036064588,-0.0014503466374615748,0.004007278926261737,-0.008958390519408721,0.0004219430705247884,-0.0018281887024179655,0.009087478910982494,-0.009040588309326747,0.009457559870797994,0.006926513350950181,-0.001750022536475826,0.0059882065403507045,0.00817828051670677,-0.007769662019544432,0.004346500392314434,8.576054306153047e-05,0.0038465526321536103,-0.0016421907154073878,-0.0005311772749163612,-0.009137376982166767,0.0021627645297690457,-0.0003452785648289103,0.003091289302395106,0.0016184515319028758,-0.0030253643233800753,-0.019603071272092154,0.00422057882162119,-0.0021540202461768354,0.012091894126530889,0.024865487463887392,0.007732246703992196,0.0043316339011354454,0.0009529115864397308,-0.0031064273223624372,0.00048582089375615034,-0.006430169669833119,-0.012808575932076294,0.00409729395294689,0.003655514780908309,0.0003389134208882094,0.0053682466137563445,0.003099331318362708,0.0033920777048406237,0.005221514481802636,-0.0030300789794227567,0.006212026206193766,0.0017924362310457465,0.00046391945080248576,0.006209406800210315,-0.0016455493394401666,0.0018956173189883518,-0.005149573711990096,-0.003109130300870566,0.007730578659771448,-0.005152540727580535,-0.00019860682495986826,0.004269980013378527,-0.004120024513639686,-0.029803467860256894,-0.00030708209254604046,0.012011006788273937,0.005988285019376871,0.011114989748490345,6.658418643890052e-05,-0.010526523683762057,-0.011411602725516334,-0.003638031857652546,-0.002456981412092718,0.012503332455847671,0.005760634478527704,-0.011304021553249277,0.001460917568971487,-0.015267460962898771,0.0015504803040384818,0.00137602434472206,0.01819002390432889,-0.0019231682808391604,0.010039880559060466,0.009153514761785386,0.0056214062337258675,0.005458144884880722,-0.002919324164959991,-0.01414535441927156,0.008592402569559843,-0.004482948481435156,0.005367081149522335,-0.0053219368053647464,-0.006729567924630753,0.006708286863932544,0.004054529845545218,0.0034756357468082033,-0.009153533876142705,0.006791158501634698,0.0007606167523941387,-0.0032214918501909384,0.010557537580401899,-4.919750337728512e-05,0.002935829744165508,0.0023548836253795002,-0.004160255274454183,-0.017104103285771943,-0.004550437416077302,-0.004973172137566095,0.0005047993020994568,-0.015961937978493657,0.015605579744493614,-0.01751995291910613,-0.01183686490134761,0.010747827002392407,-0.017751089749862614,0.005604833877935977,-0.02663556264724176,-0.008312878119322353,0.005306536505949477,-0.013330501352603052,0.020655754194149223,0.007711382365414909,-0.010808460030027,0.010890876918228543,-0.0028917345549811513,0.00032986182719207946,0.017908502022889516,0.0024038545877420603,-0.011938266525687413,-0.0026557092004866334,-0.020138328985595644,0.0067128130226792315,0.0028244266313557365,0.006328411525621025,-0.04928081620084812,-0.058542971330535654,-0.0017811785518102585,-0.0156627816725603,0.10501930183911301,-0.04381899719533322,0.017842817199724692,0.009701450822369617,-0.0028008788011967267,-0.02222803246337901,0.001426777837987947],\"yaxis\":\"y2\",\"type\":\"scatter\"}],                        {\"template\":{\"data\":{\"bar\":[{\"error_x\":{\"color\":\"#2a3f5f\"},\"error_y\":{\"color\":\"#2a3f5f\"},\"marker\":{\"line\":{\"color\":\"#E5ECF6\",\"width\":0.5},\"pattern\":{\"fillmode\":\"overlay\",\"size\":10,\"solidity\":0.2}},\"type\":\"bar\"}],\"barpolar\":[{\"marker\":{\"line\":{\"color\":\"#E5ECF6\",\"width\":0.5},\"pattern\":{\"fillmode\":\"overlay\",\"size\":10,\"solidity\":0.2}},\"type\":\"barpolar\"}],\"carpet\":[{\"aaxis\":{\"endlinecolor\":\"#2a3f5f\",\"gridcolor\":\"white\",\"linecolor\":\"white\",\"minorgridcolor\":\"white\",\"startlinecolor\":\"#2a3f5f\"},\"baxis\":{\"endlinecolor\":\"#2a3f5f\",\"gridcolor\":\"white\",\"linecolor\":\"white\",\"minorgridcolor\":\"white\",\"startlinecolor\":\"#2a3f5f\"},\"type\":\"carpet\"}],\"choropleth\":[{\"colorbar\":{\"outlinewidth\":0,\"ticks\":\"\"},\"type\":\"choropleth\"}],\"contour\":[{\"colorbar\":{\"outlinewidth\":0,\"ticks\":\"\"},\"colorscale\":[[0.0,\"#0d0887\"],[0.1111111111111111,\"#46039f\"],[0.2222222222222222,\"#7201a8\"],[0.3333333333333333,\"#9c179e\"],[0.4444444444444444,\"#bd3786\"],[0.5555555555555556,\"#d8576b\"],[0.6666666666666666,\"#ed7953\"],[0.7777777777777778,\"#fb9f3a\"],[0.8888888888888888,\"#fdca26\"],[1.0,\"#f0f921\"]],\"type\":\"contour\"}],\"contourcarpet\":[{\"colorbar\":{\"outlinewidth\":0,\"ticks\":\"\"},\"type\":\"contourcarpet\"}],\"heatmap\":[{\"colorbar\":{\"outlinewidth\":0,\"ticks\":\"\"},\"colorscale\":[[0.0,\"#0d0887\"],[0.1111111111111111,\"#46039f\"],[0.2222222222222222,\"#7201a8\"],[0.3333333333333333,\"#9c179e\"],[0.4444444444444444,\"#bd3786\"],[0.5555555555555556,\"#d8576b\"],[0.6666666666666666,\"#ed7953\"],[0.7777777777777778,\"#fb9f3a\"],[0.8888888888888888,\"#fdca26\"],[1.0,\"#f0f921\"]],\"type\":\"heatmap\"}],\"heatmapgl\":[{\"colorbar\":{\"outlinewidth\":0,\"ticks\":\"\"},\"colorscale\":[[0.0,\"#0d0887\"],[0.1111111111111111,\"#46039f\"],[0.2222222222222222,\"#7201a8\"],[0.3333333333333333,\"#9c179e\"],[0.4444444444444444,\"#bd3786\"],[0.5555555555555556,\"#d8576b\"],[0.6666666666666666,\"#ed7953\"],[0.7777777777777778,\"#fb9f3a\"],[0.8888888888888888,\"#fdca26\"],[1.0,\"#f0f921\"]],\"type\":\"heatmapgl\"}],\"histogram\":[{\"marker\":{\"pattern\":{\"fillmode\":\"overlay\",\"size\":10,\"solidity\":0.2}},\"type\":\"histogram\"}],\"histogram2d\":[{\"colorbar\":{\"outlinewidth\":0,\"ticks\":\"\"},\"colorscale\":[[0.0,\"#0d0887\"],[0.1111111111111111,\"#46039f\"],[0.2222222222222222,\"#7201a8\"],[0.3333333333333333,\"#9c179e\"],[0.4444444444444444,\"#bd3786\"],[0.5555555555555556,\"#d8576b\"],[0.6666666666666666,\"#ed7953\"],[0.7777777777777778,\"#fb9f3a\"],[0.8888888888888888,\"#fdca26\"],[1.0,\"#f0f921\"]],\"type\":\"histogram2d\"}],\"histogram2dcontour\":[{\"colorbar\":{\"outlinewidth\":0,\"ticks\":\"\"},\"colorscale\":[[0.0,\"#0d0887\"],[0.1111111111111111,\"#46039f\"],[0.2222222222222222,\"#7201a8\"],[0.3333333333333333,\"#9c179e\"],[0.4444444444444444,\"#bd3786\"],[0.5555555555555556,\"#d8576b\"],[0.6666666666666666,\"#ed7953\"],[0.7777777777777778,\"#fb9f3a\"],[0.8888888888888888,\"#fdca26\"],[1.0,\"#f0f921\"]],\"type\":\"histogram2dcontour\"}],\"mesh3d\":[{\"colorbar\":{\"outlinewidth\":0,\"ticks\":\"\"},\"type\":\"mesh3d\"}],\"parcoords\":[{\"line\":{\"colorbar\":{\"outlinewidth\":0,\"ticks\":\"\"}},\"type\":\"parcoords\"}],\"pie\":[{\"automargin\":true,\"type\":\"pie\"}],\"scatter\":[{\"marker\":{\"colorbar\":{\"outlinewidth\":0,\"ticks\":\"\"}},\"type\":\"scatter\"}],\"scatter3d\":[{\"line\":{\"colorbar\":{\"outlinewidth\":0,\"ticks\":\"\"}},\"marker\":{\"colorbar\":{\"outlinewidth\":0,\"ticks\":\"\"}},\"type\":\"scatter3d\"}],\"scattercarpet\":[{\"marker\":{\"colorbar\":{\"outlinewidth\":0,\"ticks\":\"\"}},\"type\":\"scattercarpet\"}],\"scattergeo\":[{\"marker\":{\"colorbar\":{\"outlinewidth\":0,\"ticks\":\"\"}},\"type\":\"scattergeo\"}],\"scattergl\":[{\"marker\":{\"colorbar\":{\"outlinewidth\":0,\"ticks\":\"\"}},\"type\":\"scattergl\"}],\"scattermapbox\":[{\"marker\":{\"colorbar\":{\"outlinewidth\":0,\"ticks\":\"\"}},\"type\":\"scattermapbox\"}],\"scatterpolar\":[{\"marker\":{\"colorbar\":{\"outlinewidth\":0,\"ticks\":\"\"}},\"type\":\"scatterpolar\"}],\"scatterpolargl\":[{\"marker\":{\"colorbar\":{\"outlinewidth\":0,\"ticks\":\"\"}},\"type\":\"scatterpolargl\"}],\"scatterternary\":[{\"marker\":{\"colorbar\":{\"outlinewidth\":0,\"ticks\":\"\"}},\"type\":\"scatterternary\"}],\"surface\":[{\"colorbar\":{\"outlinewidth\":0,\"ticks\":\"\"},\"colorscale\":[[0.0,\"#0d0887\"],[0.1111111111111111,\"#46039f\"],[0.2222222222222222,\"#7201a8\"],[0.3333333333333333,\"#9c179e\"],[0.4444444444444444,\"#bd3786\"],[0.5555555555555556,\"#d8576b\"],[0.6666666666666666,\"#ed7953\"],[0.7777777777777778,\"#fb9f3a\"],[0.8888888888888888,\"#fdca26\"],[1.0,\"#f0f921\"]],\"type\":\"surface\"}],\"table\":[{\"cells\":{\"fill\":{\"color\":\"#EBF0F8\"},\"line\":{\"color\":\"white\"}},\"header\":{\"fill\":{\"color\":\"#C8D4E3\"},\"line\":{\"color\":\"white\"}},\"type\":\"table\"}]},\"layout\":{\"annotationdefaults\":{\"arrowcolor\":\"#2a3f5f\",\"arrowhead\":0,\"arrowwidth\":1},\"autotypenumbers\":\"strict\",\"coloraxis\":{\"colorbar\":{\"outlinewidth\":0,\"ticks\":\"\"}},\"colorscale\":{\"diverging\":[[0,\"#8e0152\"],[0.1,\"#c51b7d\"],[0.2,\"#de77ae\"],[0.3,\"#f1b6da\"],[0.4,\"#fde0ef\"],[0.5,\"#f7f7f7\"],[0.6,\"#e6f5d0\"],[0.7,\"#b8e186\"],[0.8,\"#7fbc41\"],[0.9,\"#4d9221\"],[1,\"#276419\"]],\"sequential\":[[0.0,\"#0d0887\"],[0.1111111111111111,\"#46039f\"],[0.2222222222222222,\"#7201a8\"],[0.3333333333333333,\"#9c179e\"],[0.4444444444444444,\"#bd3786\"],[0.5555555555555556,\"#d8576b\"],[0.6666666666666666,\"#ed7953\"],[0.7777777777777778,\"#fb9f3a\"],[0.8888888888888888,\"#fdca26\"],[1.0,\"#f0f921\"]],\"sequentialminus\":[[0.0,\"#0d0887\"],[0.1111111111111111,\"#46039f\"],[0.2222222222222222,\"#7201a8\"],[0.3333333333333333,\"#9c179e\"],[0.4444444444444444,\"#bd3786\"],[0.5555555555555556,\"#d8576b\"],[0.6666666666666666,\"#ed7953\"],[0.7777777777777778,\"#fb9f3a\"],[0.8888888888888888,\"#fdca26\"],[1.0,\"#f0f921\"]]},\"colorway\":[\"#636efa\",\"#EF553B\",\"#00cc96\",\"#ab63fa\",\"#FFA15A\",\"#19d3f3\",\"#FF6692\",\"#B6E880\",\"#FF97FF\",\"#FECB52\"],\"font\":{\"color\":\"#2a3f5f\"},\"geo\":{\"bgcolor\":\"white\",\"lakecolor\":\"white\",\"landcolor\":\"#E5ECF6\",\"showlakes\":true,\"showland\":true,\"subunitcolor\":\"white\"},\"hoverlabel\":{\"align\":\"left\"},\"hovermode\":\"closest\",\"mapbox\":{\"style\":\"light\"},\"paper_bgcolor\":\"white\",\"plot_bgcolor\":\"#E5ECF6\",\"polar\":{\"angularaxis\":{\"gridcolor\":\"white\",\"linecolor\":\"white\",\"ticks\":\"\"},\"bgcolor\":\"#E5ECF6\",\"radialaxis\":{\"gridcolor\":\"white\",\"linecolor\":\"white\",\"ticks\":\"\"}},\"scene\":{\"xaxis\":{\"backgroundcolor\":\"#E5ECF6\",\"gridcolor\":\"white\",\"gridwidth\":2,\"linecolor\":\"white\",\"showbackground\":true,\"ticks\":\"\",\"zerolinecolor\":\"white\"},\"yaxis\":{\"backgroundcolor\":\"#E5ECF6\",\"gridcolor\":\"white\",\"gridwidth\":2,\"linecolor\":\"white\",\"showbackground\":true,\"ticks\":\"\",\"zerolinecolor\":\"white\"},\"zaxis\":{\"backgroundcolor\":\"#E5ECF6\",\"gridcolor\":\"white\",\"gridwidth\":2,\"linecolor\":\"white\",\"showbackground\":true,\"ticks\":\"\",\"zerolinecolor\":\"white\"}},\"shapedefaults\":{\"line\":{\"color\":\"#2a3f5f\"}},\"ternary\":{\"aaxis\":{\"gridcolor\":\"white\",\"linecolor\":\"white\",\"ticks\":\"\"},\"baxis\":{\"gridcolor\":\"white\",\"linecolor\":\"white\",\"ticks\":\"\"},\"bgcolor\":\"#E5ECF6\",\"caxis\":{\"gridcolor\":\"white\",\"linecolor\":\"white\",\"ticks\":\"\"}},\"title\":{\"x\":0.05},\"xaxis\":{\"automargin\":true,\"gridcolor\":\"white\",\"linecolor\":\"white\",\"ticks\":\"\",\"title\":{\"standoff\":15},\"zerolinecolor\":\"white\",\"zerolinewidth\":2},\"yaxis\":{\"automargin\":true,\"gridcolor\":\"white\",\"linecolor\":\"white\",\"ticks\":\"\",\"title\":{\"standoff\":15},\"zerolinecolor\":\"white\",\"zerolinewidth\":2}}},\"xaxis\":{\"anchor\":\"y\",\"domain\":[0.0,1.0]},\"yaxis\":{\"anchor\":\"x\",\"domain\":[0.575,1.0]},\"xaxis2\":{\"anchor\":\"y2\",\"domain\":[0.0,1.0]},\"yaxis2\":{\"anchor\":\"x2\",\"domain\":[0.0,0.425]}},                        {\"responsive\": true}                    ).then(function(){\n",
       "                            \n",
       "var gd = document.getElementById('9227d2c0-574c-4bd5-a0a4-aa2dbea28195');\n",
       "var x = new MutationObserver(function (mutations, observer) {{\n",
       "        var display = window.getComputedStyle(gd).display;\n",
       "        if (!display || display === 'none') {{\n",
       "            console.log([gd, 'removed!']);\n",
       "            Plotly.purge(gd);\n",
       "            observer.disconnect();\n",
       "        }}\n",
       "}});\n",
       "\n",
       "// Listen for the removal of the full notebook cells\n",
       "var notebookContainer = gd.closest('#notebook-container');\n",
       "if (notebookContainer) {{\n",
       "    x.observe(notebookContainer, {childList: true});\n",
       "}}\n",
       "\n",
       "// Listen for the clearing of the current output cell\n",
       "var outputEl = gd.closest('.output');\n",
       "if (outputEl) {{\n",
       "    x.observe(outputEl, {childList: true});\n",
       "}}\n",
       "\n",
       "                        })                };                });            </script>        </div>"
      ]
     },
     "metadata": {},
     "output_type": "display_data"
    }
   ],
   "source": [
    "# Creating subplots to show momentum and buying/selling markers\n",
    "figure = make_subplots(rows=2, cols=1)\n",
    "figure.add_trace(go.Scatter(x=data.index, \n",
    "                         y=data['Close'], \n",
    "                         name='Close Price'))\n",
    "figure.add_trace(go.Scatter(x=data.index, \n",
    "                         y=data['momentum'], \n",
    "                         name='Momentum', \n",
    "                         yaxis='y2'))"
   ]
  },
  {
   "cell_type": "markdown",
   "id": "e8f9ede9",
   "metadata": {},
   "source": [
    "## Buy & Sell Signals"
   ]
  },
  {
   "cell_type": "code",
   "execution_count": 9,
   "id": "71129e95",
   "metadata": {},
   "outputs": [
    {
     "data": {
      "application/vnd.plotly.v1+json": {
       "config": {
        "plotlyServerURL": "https://plot.ly"
       },
       "data": [
        {
         "name": "Close Price",
         "type": "scatter",
         "x": [
          "2024-04-18T00:00:00-04:00",
          "2024-04-19T00:00:00-04:00",
          "2024-04-22T00:00:00-04:00",
          "2024-04-23T00:00:00-04:00",
          "2024-04-24T00:00:00-04:00",
          "2024-04-25T00:00:00-04:00",
          "2024-04-26T00:00:00-04:00",
          "2024-04-29T00:00:00-04:00",
          "2024-04-30T00:00:00-04:00",
          "2024-05-01T00:00:00-04:00",
          "2024-05-02T00:00:00-04:00",
          "2024-05-03T00:00:00-04:00",
          "2024-05-06T00:00:00-04:00",
          "2024-05-07T00:00:00-04:00",
          "2024-05-08T00:00:00-04:00",
          "2024-05-09T00:00:00-04:00",
          "2024-05-10T00:00:00-04:00",
          "2024-05-13T00:00:00-04:00",
          "2024-05-14T00:00:00-04:00",
          "2024-05-15T00:00:00-04:00",
          "2024-05-16T00:00:00-04:00",
          "2024-05-17T00:00:00-04:00",
          "2024-05-20T00:00:00-04:00",
          "2024-05-21T00:00:00-04:00",
          "2024-05-22T00:00:00-04:00",
          "2024-05-23T00:00:00-04:00",
          "2024-05-24T00:00:00-04:00",
          "2024-05-28T00:00:00-04:00",
          "2024-05-29T00:00:00-04:00",
          "2024-05-30T00:00:00-04:00",
          "2024-05-31T00:00:00-04:00",
          "2024-06-03T00:00:00-04:00",
          "2024-06-04T00:00:00-04:00",
          "2024-06-05T00:00:00-04:00",
          "2024-06-06T00:00:00-04:00",
          "2024-06-07T00:00:00-04:00",
          "2024-06-10T00:00:00-04:00",
          "2024-06-11T00:00:00-04:00",
          "2024-06-12T00:00:00-04:00",
          "2024-06-13T00:00:00-04:00",
          "2024-06-14T00:00:00-04:00",
          "2024-06-17T00:00:00-04:00",
          "2024-06-18T00:00:00-04:00",
          "2024-06-20T00:00:00-04:00",
          "2024-06-21T00:00:00-04:00",
          "2024-06-24T00:00:00-04:00",
          "2024-06-25T00:00:00-04:00",
          "2024-06-26T00:00:00-04:00",
          "2024-06-27T00:00:00-04:00",
          "2024-06-28T00:00:00-04:00",
          "2024-07-01T00:00:00-04:00",
          "2024-07-02T00:00:00-04:00",
          "2024-07-03T00:00:00-04:00",
          "2024-07-05T00:00:00-04:00",
          "2024-07-08T00:00:00-04:00",
          "2024-07-09T00:00:00-04:00",
          "2024-07-10T00:00:00-04:00",
          "2024-07-11T00:00:00-04:00",
          "2024-07-12T00:00:00-04:00",
          "2024-07-15T00:00:00-04:00",
          "2024-07-16T00:00:00-04:00",
          "2024-07-17T00:00:00-04:00",
          "2024-07-18T00:00:00-04:00",
          "2024-07-19T00:00:00-04:00",
          "2024-07-22T00:00:00-04:00",
          "2024-07-23T00:00:00-04:00",
          "2024-07-24T00:00:00-04:00",
          "2024-07-25T00:00:00-04:00",
          "2024-07-26T00:00:00-04:00",
          "2024-07-29T00:00:00-04:00",
          "2024-07-30T00:00:00-04:00",
          "2024-07-31T00:00:00-04:00",
          "2024-08-01T00:00:00-04:00",
          "2024-08-02T00:00:00-04:00",
          "2024-08-05T00:00:00-04:00",
          "2024-08-06T00:00:00-04:00",
          "2024-08-07T00:00:00-04:00",
          "2024-08-08T00:00:00-04:00",
          "2024-08-09T00:00:00-04:00",
          "2024-08-12T00:00:00-04:00",
          "2024-08-13T00:00:00-04:00",
          "2024-08-14T00:00:00-04:00",
          "2024-08-15T00:00:00-04:00",
          "2024-08-16T00:00:00-04:00",
          "2024-08-19T00:00:00-04:00",
          "2024-08-20T00:00:00-04:00",
          "2024-08-21T00:00:00-04:00",
          "2024-08-22T00:00:00-04:00",
          "2024-08-23T00:00:00-04:00",
          "2024-08-26T00:00:00-04:00",
          "2024-08-27T00:00:00-04:00",
          "2024-08-28T00:00:00-04:00",
          "2024-08-29T00:00:00-04:00",
          "2024-08-30T00:00:00-04:00",
          "2024-09-03T00:00:00-04:00",
          "2024-09-04T00:00:00-04:00",
          "2024-09-05T00:00:00-04:00",
          "2024-09-06T00:00:00-04:00",
          "2024-09-09T00:00:00-04:00",
          "2024-09-10T00:00:00-04:00",
          "2024-09-11T00:00:00-04:00",
          "2024-09-12T00:00:00-04:00",
          "2024-09-13T00:00:00-04:00",
          "2024-09-16T00:00:00-04:00",
          "2024-09-17T00:00:00-04:00",
          "2024-09-18T00:00:00-04:00",
          "2024-09-19T00:00:00-04:00",
          "2024-09-20T00:00:00-04:00",
          "2024-09-23T00:00:00-04:00",
          "2024-09-24T00:00:00-04:00",
          "2024-09-25T00:00:00-04:00",
          "2024-09-26T00:00:00-04:00",
          "2024-09-27T00:00:00-04:00",
          "2024-09-30T00:00:00-04:00",
          "2024-10-01T00:00:00-04:00",
          "2024-10-02T00:00:00-04:00",
          "2024-10-03T00:00:00-04:00",
          "2024-10-04T00:00:00-04:00",
          "2024-10-07T00:00:00-04:00",
          "2024-10-08T00:00:00-04:00",
          "2024-10-09T00:00:00-04:00",
          "2024-10-10T00:00:00-04:00",
          "2024-10-11T00:00:00-04:00",
          "2024-10-14T00:00:00-04:00",
          "2024-10-15T00:00:00-04:00",
          "2024-10-16T00:00:00-04:00",
          "2024-10-17T00:00:00-04:00",
          "2024-10-18T00:00:00-04:00",
          "2024-10-21T00:00:00-04:00",
          "2024-10-22T00:00:00-04:00",
          "2024-10-23T00:00:00-04:00",
          "2024-10-24T00:00:00-04:00",
          "2024-10-25T00:00:00-04:00",
          "2024-10-28T00:00:00-04:00",
          "2024-10-29T00:00:00-04:00",
          "2024-10-30T00:00:00-04:00",
          "2024-10-31T00:00:00-04:00",
          "2024-11-01T00:00:00-04:00",
          "2024-11-04T00:00:00-05:00",
          "2024-11-05T00:00:00-05:00",
          "2024-11-06T00:00:00-05:00",
          "2024-11-07T00:00:00-05:00",
          "2024-11-08T00:00:00-05:00",
          "2024-11-11T00:00:00-05:00",
          "2024-11-12T00:00:00-05:00",
          "2024-11-13T00:00:00-05:00",
          "2024-11-14T00:00:00-05:00",
          "2024-11-15T00:00:00-05:00",
          "2024-11-18T00:00:00-05:00",
          "2024-11-19T00:00:00-05:00",
          "2024-11-20T00:00:00-05:00",
          "2024-11-21T00:00:00-05:00",
          "2024-11-22T00:00:00-05:00",
          "2024-11-25T00:00:00-05:00",
          "2024-11-26T00:00:00-05:00",
          "2024-11-27T00:00:00-05:00",
          "2024-11-29T00:00:00-05:00",
          "2024-12-02T00:00:00-05:00",
          "2024-12-03T00:00:00-05:00",
          "2024-12-04T00:00:00-05:00",
          "2024-12-05T00:00:00-05:00",
          "2024-12-06T00:00:00-05:00",
          "2024-12-09T00:00:00-05:00",
          "2024-12-10T00:00:00-05:00",
          "2024-12-11T00:00:00-05:00",
          "2024-12-12T00:00:00-05:00",
          "2024-12-13T00:00:00-05:00",
          "2024-12-16T00:00:00-05:00",
          "2024-12-17T00:00:00-05:00",
          "2024-12-18T00:00:00-05:00",
          "2024-12-19T00:00:00-05:00",
          "2024-12-20T00:00:00-05:00",
          "2024-12-23T00:00:00-05:00",
          "2024-12-24T00:00:00-05:00",
          "2024-12-26T00:00:00-05:00",
          "2024-12-27T00:00:00-05:00",
          "2024-12-30T00:00:00-05:00",
          "2024-12-31T00:00:00-05:00",
          "2025-01-02T00:00:00-05:00",
          "2025-01-03T00:00:00-05:00",
          "2025-01-06T00:00:00-05:00",
          "2025-01-07T00:00:00-05:00",
          "2025-01-08T00:00:00-05:00",
          "2025-01-10T00:00:00-05:00",
          "2025-01-13T00:00:00-05:00",
          "2025-01-14T00:00:00-05:00",
          "2025-01-15T00:00:00-05:00",
          "2025-01-16T00:00:00-05:00",
          "2025-01-17T00:00:00-05:00",
          "2025-01-21T00:00:00-05:00",
          "2025-01-22T00:00:00-05:00",
          "2025-01-23T00:00:00-05:00",
          "2025-01-24T00:00:00-05:00",
          "2025-01-27T00:00:00-05:00",
          "2025-01-28T00:00:00-05:00",
          "2025-01-29T00:00:00-05:00",
          "2025-01-30T00:00:00-05:00",
          "2025-01-31T00:00:00-05:00",
          "2025-02-03T00:00:00-05:00",
          "2025-02-04T00:00:00-05:00",
          "2025-02-05T00:00:00-05:00",
          "2025-02-06T00:00:00-05:00",
          "2025-02-07T00:00:00-05:00",
          "2025-02-10T00:00:00-05:00",
          "2025-02-11T00:00:00-05:00",
          "2025-02-12T00:00:00-05:00",
          "2025-02-13T00:00:00-05:00",
          "2025-02-14T00:00:00-05:00",
          "2025-02-18T00:00:00-05:00",
          "2025-02-19T00:00:00-05:00",
          "2025-02-20T00:00:00-05:00",
          "2025-02-21T00:00:00-05:00",
          "2025-02-24T00:00:00-05:00",
          "2025-02-25T00:00:00-05:00",
          "2025-02-26T00:00:00-05:00",
          "2025-02-27T00:00:00-05:00",
          "2025-02-28T00:00:00-05:00",
          "2025-03-03T00:00:00-05:00",
          "2025-03-04T00:00:00-05:00",
          "2025-03-05T00:00:00-05:00",
          "2025-03-06T00:00:00-05:00",
          "2025-03-07T00:00:00-05:00",
          "2025-03-10T00:00:00-04:00",
          "2025-03-11T00:00:00-04:00",
          "2025-03-12T00:00:00-04:00",
          "2025-03-13T00:00:00-04:00",
          "2025-03-14T00:00:00-04:00",
          "2025-03-17T00:00:00-04:00",
          "2025-03-18T00:00:00-04:00",
          "2025-03-19T00:00:00-04:00",
          "2025-03-20T00:00:00-04:00",
          "2025-03-21T00:00:00-04:00",
          "2025-03-24T00:00:00-04:00",
          "2025-03-25T00:00:00-04:00",
          "2025-03-26T00:00:00-04:00",
          "2025-03-27T00:00:00-04:00",
          "2025-03-28T00:00:00-04:00",
          "2025-03-31T00:00:00-04:00",
          "2025-04-01T00:00:00-04:00",
          "2025-04-02T00:00:00-04:00",
          "2025-04-03T00:00:00-04:00",
          "2025-04-04T00:00:00-04:00",
          "2025-04-07T00:00:00-04:00",
          "2025-04-08T00:00:00-04:00",
          "2025-04-09T00:00:00-04:00",
          "2025-04-10T00:00:00-04:00",
          "2025-04-11T00:00:00-04:00",
          "2025-04-14T00:00:00-04:00",
          "2025-04-15T00:00:00-04:00",
          "2025-04-16T00:00:00-04:00",
          "2025-04-17T00:00:00-04:00"
         ],
         "y": [
          493.24224853515625,
          488.93707275390625,
          493.43975830078125,
          499.29522705078125,
          499.0582275390625,
          497.162353515625,
          501.8724670410156,
          503.6498107910156,
          495.6713562011719,
          494.0618591308594,
          498.6830139160156,
          504.8643493652344,
          510.07794189453125,
          510.6407470703125,
          510.6902160644531,
          513.6327514648438,
          514.2943725585938,
          514.3633422851562,
          516.723388671875,
          523.1219482421875,
          522.0457153320312,
          522.796142578125,
          523.3984985351562,
          524.6820678710938,
          523.1713256835938,
          519.3499755859375,
          522.7862548828125,
          523.1515502929688,
          519.4882202148438,
          516.0421142578125,
          520.7422485351562,
          521.1668090820312,
          521.7494506835938,
          527.9505004882812,
          527.9406127929688,
          527.2987670898438,
          528.9280395507812,
          530.2018432617188,
          534.556396484375,
          535.6327514648438,
          535.9586791992188,
          540.2242431640625,
          541.5968017578125,
          540.1255493164062,
          539.4014892578125,
          537.6480102539062,
          539.7184448242188,
          540.3920288085938,
          541.2439575195312,
          539.1140747070312,
          540.2236328125,
          543.8591918945312,
          546.2862548828125,
          549.4364013671875,
          550.0703735351562,
          550.6053466796875,
          556.0536499023438,
          551.2590942382812,
          554.7361450195312,
          556.26171875,
          559.560546875,
          551.7147827148438,
          547.4749145507812,
          543.83935546875,
          549.4462890625,
          548.58447265625,
          536.1521606445312,
          533.3585815429688,
          539.33203125,
          539.6490478515625,
          536.9149780273438,
          545.6422729492188,
          537.9154663085938,
          527.900390625,
          512.5259399414062,
          517.251220703125,
          513.7939453125,
          525.6715087890625,
          527.989501953125,
          528.266845703125,
          536.95458984375,
          538.6485595703125,
          547.8811645507812,
          549.1094970703125,
          554.3597412109375,
          553.458251953125,
          555.3602905273438,
          551.0015258789062,
          556.8561401367188,
          555.5286865234375,
          556.2914428710938,
          553.06201171875,
          553.1115112304688,
          558.3915405273438,
          546.9004516601562,
          545.781005859375,
          544.4535522460938,
          535.290283203125,
          541.2835083007812,
          543.6412353515625,
          549.2184448242188,
          553.8446655273438,
          556.7373046875,
          557.5594482421875,
          557.7872924804688,
          556.1329956054688,
          565.623046875,
          564.6453247070312,
          566.0562744140625,
          567.6759643554688,
          566.4239501953125,
          568.6696166992188,
          567.8448486328125,
          570.120361328125,
          565.0130004882812,
          565.2514038085938,
          564.218017578125,
          569.3453369140625,
          564.1981201171875,
          569.5340576171875,
          573.4789428710938,
          572.475341796875,
          575.9034423828125,
          580.6133422851562,
          576.1021728515625,
          578.606201171875,
          578.6558227539062,
          580.8816528320312,
          579.927734375,
          579.6196899414062,
          574.323486328125,
          575.5656127929688,
          575.3668823242188,
          577.1455078125,
          578.07958984375,
          576.3306884765625,
          565.0328369140625,
          567.4176025390625,
          566.1953735351562,
          573.041748046875,
          587.2907104492188,
          591.831787109375,
          594.3953857421875,
          594.9617919921875,
          593.1135864257812,
          593.4017333984375,
          589.5860595703125,
          582.0343017578125,
          584.4190673828125,
          586.555419921875,
          586.7542114257812,
          589.904052734375,
          591.7323608398438,
          593.7395629882812,
          596.8397827148438,
          595.0313110351562,
          598.7276611328125,
          599.8008422851562,
          600.0791015625,
          603.8052368164062,
          602.8116455078125,
          603.954345703125,
          600.84423828125,
          598.9761352539062,
          603.6065673828125,
          600.4964599609375,
          600.377197265625,
          602.9407958984375,
          600.4566650390625,
          582.5609741210938,
          582.382080078125,
          589.3770751953125,
          592.9064331054688,
          599.49658203125,
          599.5364990234375,
          593.2254638671875,
          586.455810546875,
          584.322265625,
          582.8865966796875,
          590.1746215820312,
          593.5744018554688,
          586.8646240234375,
          587.7219848632812,
          578.7489624023438,
          579.6463012695312,
          580.4439086914062,
          591.002197265625,
          589.8656005859375,
          595.7877807617188,
          601.2413330078125,
          604.6211547851562,
          607.9212646484375,
          606.1465454101562,
          597.5723876953125,
          602.7069702148438,
          600.0050659179688,
          603.225341796875,
          600.0150146484375,
          595.9771728515625,
          599.9751586914062,
          602.4077758789062,
          604.5015258789062,
          598.9682006835938,
          603.035888671875,
          603.4945678710938,
          601.5504150390625,
          607.9013061523438,
          607.8713989257812,
          609.656005859375,
          611.0916748046875,
          608.5493774414062,
          598.1406860351562,
          595.4188842773438,
          592.457763671875,
          592.7568359375,
          583.2952880859375,
          592.39794921875,
          582.0191650390625,
          575.1298828125,
          581.311279296875,
          570.9923706054688,
          574.1926879882812,
          558.8987426757812,
          554.252685546875,
          557.19384765625,
          549.7661743164062,
          561.1220092773438,
          565.4490356445312,
          559.33740234375,
          565.4290771484375,
          563.7940063476562,
          563.97998046875,
          574.0800170898438,
          575.4600219726562,
          568.5900268554688,
          567.0800170898438,
          555.6599731445312,
          559.3900146484375,
          560.969970703125,
          564.52001953125,
          536.7000122070312,
          505.2799987792969,
          504.3800048828125,
          496.4800109863281,
          548.6199951171875,
          524.5800170898438,
          533.9400024414062,
          539.1199951171875,
          537.6099853515625,
          525.6599731445312,
          526.4099731445312
         ]
        },
        {
         "name": "Momentum",
         "type": "scatter",
         "x": [
          "2024-04-18T00:00:00-04:00",
          "2024-04-19T00:00:00-04:00",
          "2024-04-22T00:00:00-04:00",
          "2024-04-23T00:00:00-04:00",
          "2024-04-24T00:00:00-04:00",
          "2024-04-25T00:00:00-04:00",
          "2024-04-26T00:00:00-04:00",
          "2024-04-29T00:00:00-04:00",
          "2024-04-30T00:00:00-04:00",
          "2024-05-01T00:00:00-04:00",
          "2024-05-02T00:00:00-04:00",
          "2024-05-03T00:00:00-04:00",
          "2024-05-06T00:00:00-04:00",
          "2024-05-07T00:00:00-04:00",
          "2024-05-08T00:00:00-04:00",
          "2024-05-09T00:00:00-04:00",
          "2024-05-10T00:00:00-04:00",
          "2024-05-13T00:00:00-04:00",
          "2024-05-14T00:00:00-04:00",
          "2024-05-15T00:00:00-04:00",
          "2024-05-16T00:00:00-04:00",
          "2024-05-17T00:00:00-04:00",
          "2024-05-20T00:00:00-04:00",
          "2024-05-21T00:00:00-04:00",
          "2024-05-22T00:00:00-04:00",
          "2024-05-23T00:00:00-04:00",
          "2024-05-24T00:00:00-04:00",
          "2024-05-28T00:00:00-04:00",
          "2024-05-29T00:00:00-04:00",
          "2024-05-30T00:00:00-04:00",
          "2024-05-31T00:00:00-04:00",
          "2024-06-03T00:00:00-04:00",
          "2024-06-04T00:00:00-04:00",
          "2024-06-05T00:00:00-04:00",
          "2024-06-06T00:00:00-04:00",
          "2024-06-07T00:00:00-04:00",
          "2024-06-10T00:00:00-04:00",
          "2024-06-11T00:00:00-04:00",
          "2024-06-12T00:00:00-04:00",
          "2024-06-13T00:00:00-04:00",
          "2024-06-14T00:00:00-04:00",
          "2024-06-17T00:00:00-04:00",
          "2024-06-18T00:00:00-04:00",
          "2024-06-20T00:00:00-04:00",
          "2024-06-21T00:00:00-04:00",
          "2024-06-24T00:00:00-04:00",
          "2024-06-25T00:00:00-04:00",
          "2024-06-26T00:00:00-04:00",
          "2024-06-27T00:00:00-04:00",
          "2024-06-28T00:00:00-04:00",
          "2024-07-01T00:00:00-04:00",
          "2024-07-02T00:00:00-04:00",
          "2024-07-03T00:00:00-04:00",
          "2024-07-05T00:00:00-04:00",
          "2024-07-08T00:00:00-04:00",
          "2024-07-09T00:00:00-04:00",
          "2024-07-10T00:00:00-04:00",
          "2024-07-11T00:00:00-04:00",
          "2024-07-12T00:00:00-04:00",
          "2024-07-15T00:00:00-04:00",
          "2024-07-16T00:00:00-04:00",
          "2024-07-17T00:00:00-04:00",
          "2024-07-18T00:00:00-04:00",
          "2024-07-19T00:00:00-04:00",
          "2024-07-22T00:00:00-04:00",
          "2024-07-23T00:00:00-04:00",
          "2024-07-24T00:00:00-04:00",
          "2024-07-25T00:00:00-04:00",
          "2024-07-26T00:00:00-04:00",
          "2024-07-29T00:00:00-04:00",
          "2024-07-30T00:00:00-04:00",
          "2024-07-31T00:00:00-04:00",
          "2024-08-01T00:00:00-04:00",
          "2024-08-02T00:00:00-04:00",
          "2024-08-05T00:00:00-04:00",
          "2024-08-06T00:00:00-04:00",
          "2024-08-07T00:00:00-04:00",
          "2024-08-08T00:00:00-04:00",
          "2024-08-09T00:00:00-04:00",
          "2024-08-12T00:00:00-04:00",
          "2024-08-13T00:00:00-04:00",
          "2024-08-14T00:00:00-04:00",
          "2024-08-15T00:00:00-04:00",
          "2024-08-16T00:00:00-04:00",
          "2024-08-19T00:00:00-04:00",
          "2024-08-20T00:00:00-04:00",
          "2024-08-21T00:00:00-04:00",
          "2024-08-22T00:00:00-04:00",
          "2024-08-23T00:00:00-04:00",
          "2024-08-26T00:00:00-04:00",
          "2024-08-27T00:00:00-04:00",
          "2024-08-28T00:00:00-04:00",
          "2024-08-29T00:00:00-04:00",
          "2024-08-30T00:00:00-04:00",
          "2024-09-03T00:00:00-04:00",
          "2024-09-04T00:00:00-04:00",
          "2024-09-05T00:00:00-04:00",
          "2024-09-06T00:00:00-04:00",
          "2024-09-09T00:00:00-04:00",
          "2024-09-10T00:00:00-04:00",
          "2024-09-11T00:00:00-04:00",
          "2024-09-12T00:00:00-04:00",
          "2024-09-13T00:00:00-04:00",
          "2024-09-16T00:00:00-04:00",
          "2024-09-17T00:00:00-04:00",
          "2024-09-18T00:00:00-04:00",
          "2024-09-19T00:00:00-04:00",
          "2024-09-20T00:00:00-04:00",
          "2024-09-23T00:00:00-04:00",
          "2024-09-24T00:00:00-04:00",
          "2024-09-25T00:00:00-04:00",
          "2024-09-26T00:00:00-04:00",
          "2024-09-27T00:00:00-04:00",
          "2024-09-30T00:00:00-04:00",
          "2024-10-01T00:00:00-04:00",
          "2024-10-02T00:00:00-04:00",
          "2024-10-03T00:00:00-04:00",
          "2024-10-04T00:00:00-04:00",
          "2024-10-07T00:00:00-04:00",
          "2024-10-08T00:00:00-04:00",
          "2024-10-09T00:00:00-04:00",
          "2024-10-10T00:00:00-04:00",
          "2024-10-11T00:00:00-04:00",
          "2024-10-14T00:00:00-04:00",
          "2024-10-15T00:00:00-04:00",
          "2024-10-16T00:00:00-04:00",
          "2024-10-17T00:00:00-04:00",
          "2024-10-18T00:00:00-04:00",
          "2024-10-21T00:00:00-04:00",
          "2024-10-22T00:00:00-04:00",
          "2024-10-23T00:00:00-04:00",
          "2024-10-24T00:00:00-04:00",
          "2024-10-25T00:00:00-04:00",
          "2024-10-28T00:00:00-04:00",
          "2024-10-29T00:00:00-04:00",
          "2024-10-30T00:00:00-04:00",
          "2024-10-31T00:00:00-04:00",
          "2024-11-01T00:00:00-04:00",
          "2024-11-04T00:00:00-05:00",
          "2024-11-05T00:00:00-05:00",
          "2024-11-06T00:00:00-05:00",
          "2024-11-07T00:00:00-05:00",
          "2024-11-08T00:00:00-05:00",
          "2024-11-11T00:00:00-05:00",
          "2024-11-12T00:00:00-05:00",
          "2024-11-13T00:00:00-05:00",
          "2024-11-14T00:00:00-05:00",
          "2024-11-15T00:00:00-05:00",
          "2024-11-18T00:00:00-05:00",
          "2024-11-19T00:00:00-05:00",
          "2024-11-20T00:00:00-05:00",
          "2024-11-21T00:00:00-05:00",
          "2024-11-22T00:00:00-05:00",
          "2024-11-25T00:00:00-05:00",
          "2024-11-26T00:00:00-05:00",
          "2024-11-27T00:00:00-05:00",
          "2024-11-29T00:00:00-05:00",
          "2024-12-02T00:00:00-05:00",
          "2024-12-03T00:00:00-05:00",
          "2024-12-04T00:00:00-05:00",
          "2024-12-05T00:00:00-05:00",
          "2024-12-06T00:00:00-05:00",
          "2024-12-09T00:00:00-05:00",
          "2024-12-10T00:00:00-05:00",
          "2024-12-11T00:00:00-05:00",
          "2024-12-12T00:00:00-05:00",
          "2024-12-13T00:00:00-05:00",
          "2024-12-16T00:00:00-05:00",
          "2024-12-17T00:00:00-05:00",
          "2024-12-18T00:00:00-05:00",
          "2024-12-19T00:00:00-05:00",
          "2024-12-20T00:00:00-05:00",
          "2024-12-23T00:00:00-05:00",
          "2024-12-24T00:00:00-05:00",
          "2024-12-26T00:00:00-05:00",
          "2024-12-27T00:00:00-05:00",
          "2024-12-30T00:00:00-05:00",
          "2024-12-31T00:00:00-05:00",
          "2025-01-02T00:00:00-05:00",
          "2025-01-03T00:00:00-05:00",
          "2025-01-06T00:00:00-05:00",
          "2025-01-07T00:00:00-05:00",
          "2025-01-08T00:00:00-05:00",
          "2025-01-10T00:00:00-05:00",
          "2025-01-13T00:00:00-05:00",
          "2025-01-14T00:00:00-05:00",
          "2025-01-15T00:00:00-05:00",
          "2025-01-16T00:00:00-05:00",
          "2025-01-17T00:00:00-05:00",
          "2025-01-21T00:00:00-05:00",
          "2025-01-22T00:00:00-05:00",
          "2025-01-23T00:00:00-05:00",
          "2025-01-24T00:00:00-05:00",
          "2025-01-27T00:00:00-05:00",
          "2025-01-28T00:00:00-05:00",
          "2025-01-29T00:00:00-05:00",
          "2025-01-30T00:00:00-05:00",
          "2025-01-31T00:00:00-05:00",
          "2025-02-03T00:00:00-05:00",
          "2025-02-04T00:00:00-05:00",
          "2025-02-05T00:00:00-05:00",
          "2025-02-06T00:00:00-05:00",
          "2025-02-07T00:00:00-05:00",
          "2025-02-10T00:00:00-05:00",
          "2025-02-11T00:00:00-05:00",
          "2025-02-12T00:00:00-05:00",
          "2025-02-13T00:00:00-05:00",
          "2025-02-14T00:00:00-05:00",
          "2025-02-18T00:00:00-05:00",
          "2025-02-19T00:00:00-05:00",
          "2025-02-20T00:00:00-05:00",
          "2025-02-21T00:00:00-05:00",
          "2025-02-24T00:00:00-05:00",
          "2025-02-25T00:00:00-05:00",
          "2025-02-26T00:00:00-05:00",
          "2025-02-27T00:00:00-05:00",
          "2025-02-28T00:00:00-05:00",
          "2025-03-03T00:00:00-05:00",
          "2025-03-04T00:00:00-05:00",
          "2025-03-05T00:00:00-05:00",
          "2025-03-06T00:00:00-05:00",
          "2025-03-07T00:00:00-05:00",
          "2025-03-10T00:00:00-04:00",
          "2025-03-11T00:00:00-04:00",
          "2025-03-12T00:00:00-04:00",
          "2025-03-13T00:00:00-04:00",
          "2025-03-14T00:00:00-04:00",
          "2025-03-17T00:00:00-04:00",
          "2025-03-18T00:00:00-04:00",
          "2025-03-19T00:00:00-04:00",
          "2025-03-20T00:00:00-04:00",
          "2025-03-21T00:00:00-04:00",
          "2025-03-24T00:00:00-04:00",
          "2025-03-25T00:00:00-04:00",
          "2025-03-26T00:00:00-04:00",
          "2025-03-27T00:00:00-04:00",
          "2025-03-28T00:00:00-04:00",
          "2025-03-31T00:00:00-04:00",
          "2025-04-01T00:00:00-04:00",
          "2025-04-02T00:00:00-04:00",
          "2025-04-03T00:00:00-04:00",
          "2025-04-04T00:00:00-04:00",
          "2025-04-07T00:00:00-04:00",
          "2025-04-08T00:00:00-04:00",
          "2025-04-09T00:00:00-04:00",
          "2025-04-10T00:00:00-04:00",
          "2025-04-11T00:00:00-04:00",
          "2025-04-14T00:00:00-04:00",
          "2025-04-15T00:00:00-04:00",
          "2025-04-16T00:00:00-04:00",
          "2025-04-17T00:00:00-04:00"
         ],
         "y": [
          null,
          -0.008728319186030009,
          0.009209130985944558,
          0.011866633467404464,
          -0.0004746680898967126,
          -0.003798903452181035,
          0.009473994746552306,
          0.0035414250964573846,
          -0.015841273875022543,
          -0.003247105264761907,
          0.009353393102000673,
          0.012395319825871942,
          0.010326719515552973,
          0.0011033709352159526,
          9.687631553978449e-05,
          0.005761879330813846,
          0.0012881209227080248,
          0.00013410554391124485,
          0.004588286514030759,
          0.012382949389534215,
          -0.0020573270033357183,
          0.0014374741982441375,
          0.0011521813341253129,
          0.0024523748912728127,
          -0.002879347856559855,
          -0.007304204015124771,
          0.006616500353154198,
          0.0006987471586032967,
          -0.00700242611547941,
          -0.006633655630547408,
          0.00910804398998244,
          0.0008152988317526866,
          0.0011179560774192687,
          0.011885110365833507,
          -1.87284514425734e-05,
          -0.0012157536048030826,
          0.0030898469001348072,
          0.0024082741236772787,
          0.008213010343132154,
          0.002013548032625989,
          0.0006084910481736205,
          0.007958755274225515,
          0.0025407201011768965,
          -0.0027165087323838266,
          -0.0013405402864392624,
          -0.0032507863601173304,
          0.003850910876308733,
          0.0012480284689813104,
          0.001576501253757856,
          -0.0039351622921779406,
          0.002058113778742765,
          0.006729729803014894,
          0.0044626679560688665,
          0.005766475828777207,
          0.0011538590570103757,
          0.0009725540044869252,
          0.009895114995724485,
          -0.008622469549304346,
          0.0063074710559731795,
          0.0027500889281606433,
          0.0059303525908864785,
          -0.014021296183179488,
          -0.007684891354912127,
          -0.006640594820703893,
          0.010309907764797899,
          -0.001568518021516696,
          -0.022662529895389527,
          -0.005210422164865003,
          0.011199688003051378,
          0.0005877948706805025,
          -0.005066384968348547,
          0.01625451939139344,
          -0.014160938445735294,
          -0.018618307728389905,
          -0.029123772129418968,
          0.009219593377574054,
          -0.006683938581962812,
          0.023117367545735235,
          0.004409584931476029,
          0.0005252826978074943,
          0.016445749361880813,
          0.0031547727845206985,
          0.017140313134474505,
          0.0022419688775729973,
          0.00956137923062128,
          -0.0016261809630030433,
          0.003436643265334993,
          -0.007848534947103691,
          0.010625404799875504,
          -0.002383835819706248,
          0.0013730278312533706,
          -0.005805286408283039,
          8.950083475256498e-05,
          0.009546048472447888,
          -0.020578909301411263,
          -0.002046891344454127,
          -0.0024322092543163087,
          -0.016830212614402984,
          0.011196214999071863,
          0.004355808027816543,
          0.010258989035387689,
          0.00842327992936509,
          0.0052228347408600495,
          0.0014767172017491337,
          0.0004086456412846218,
          -0.0029658202997837613,
          0.0170643557287935,
          -0.0017285755475674458,
          0.0024988247405808295,
          0.002861358516134782,
          -0.002205508492116204,
          0.003964639036064588,
          -0.0014503466374615748,
          0.004007278926261737,
          -0.008958390519408721,
          0.0004219430705247884,
          -0.0018281887024179655,
          0.009087478910982494,
          -0.009040588309326747,
          0.009457559870797994,
          0.006926513350950181,
          -0.001750022536475826,
          0.0059882065403507045,
          0.00817828051670677,
          -0.007769662019544432,
          0.004346500392314434,
          8.576054306153047e-05,
          0.0038465526321536103,
          -0.0016421907154073878,
          -0.0005311772749163612,
          -0.009137376982166767,
          0.0021627645297690457,
          -0.0003452785648289103,
          0.003091289302395106,
          0.0016184515319028758,
          -0.0030253643233800753,
          -0.019603071272092154,
          0.00422057882162119,
          -0.0021540202461768354,
          0.012091894126530889,
          0.024865487463887392,
          0.007732246703992196,
          0.0043316339011354454,
          0.0009529115864397308,
          -0.0031064273223624372,
          0.00048582089375615034,
          -0.006430169669833119,
          -0.012808575932076294,
          0.00409729395294689,
          0.003655514780908309,
          0.0003389134208882094,
          0.0053682466137563445,
          0.003099331318362708,
          0.0033920777048406237,
          0.005221514481802636,
          -0.0030300789794227567,
          0.006212026206193766,
          0.0017924362310457465,
          0.00046391945080248576,
          0.006209406800210315,
          -0.0016455493394401666,
          0.0018956173189883518,
          -0.005149573711990096,
          -0.003109130300870566,
          0.007730578659771448,
          -0.005152540727580535,
          -0.00019860682495986826,
          0.004269980013378527,
          -0.004120024513639686,
          -0.029803467860256894,
          -0.00030708209254604046,
          0.012011006788273937,
          0.005988285019376871,
          0.011114989748490345,
          6.658418643890052e-05,
          -0.010526523683762057,
          -0.011411602725516334,
          -0.003638031857652546,
          -0.002456981412092718,
          0.012503332455847671,
          0.005760634478527704,
          -0.011304021553249277,
          0.001460917568971487,
          -0.015267460962898771,
          0.0015504803040384818,
          0.00137602434472206,
          0.01819002390432889,
          -0.0019231682808391604,
          0.010039880559060466,
          0.009153514761785386,
          0.0056214062337258675,
          0.005458144884880722,
          -0.002919324164959991,
          -0.01414535441927156,
          0.008592402569559843,
          -0.004482948481435156,
          0.005367081149522335,
          -0.0053219368053647464,
          -0.006729567924630753,
          0.006708286863932544,
          0.004054529845545218,
          0.0034756357468082033,
          -0.009153533876142705,
          0.006791158501634698,
          0.0007606167523941387,
          -0.0032214918501909384,
          0.010557537580401899,
          -4.919750337728512e-05,
          0.002935829744165508,
          0.0023548836253795002,
          -0.004160255274454183,
          -0.017104103285771943,
          -0.004550437416077302,
          -0.004973172137566095,
          0.0005047993020994568,
          -0.015961937978493657,
          0.015605579744493614,
          -0.01751995291910613,
          -0.01183686490134761,
          0.010747827002392407,
          -0.017751089749862614,
          0.005604833877935977,
          -0.02663556264724176,
          -0.008312878119322353,
          0.005306536505949477,
          -0.013330501352603052,
          0.020655754194149223,
          0.007711382365414909,
          -0.010808460030027,
          0.010890876918228543,
          -0.0028917345549811513,
          0.00032986182719207946,
          0.017908502022889516,
          0.0024038545877420603,
          -0.011938266525687413,
          -0.0026557092004866334,
          -0.020138328985595644,
          0.0067128130226792315,
          0.0028244266313557365,
          0.006328411525621025,
          -0.04928081620084812,
          -0.058542971330535654,
          -0.0017811785518102585,
          -0.0156627816725603,
          0.10501930183911301,
          -0.04381899719533322,
          0.017842817199724692,
          0.009701450822369617,
          -0.0028008788011967267,
          -0.02222803246337901,
          0.001426777837987947
         ],
         "yaxis": "y2"
        },
        {
         "marker": {
          "color": "Red",
          "symbol": "triangle-down"
         },
         "mode": "markers",
         "name": "Sell",
         "type": "scatter",
         "x": [
          "2024-04-22T00:00:00-04:00",
          "2024-04-23T00:00:00-04:00",
          "2024-04-26T00:00:00-04:00",
          "2024-04-29T00:00:00-04:00",
          "2024-05-02T00:00:00-04:00",
          "2024-05-03T00:00:00-04:00",
          "2024-05-06T00:00:00-04:00",
          "2024-05-07T00:00:00-04:00",
          "2024-05-08T00:00:00-04:00",
          "2024-05-09T00:00:00-04:00",
          "2024-05-10T00:00:00-04:00",
          "2024-05-13T00:00:00-04:00",
          "2024-05-14T00:00:00-04:00",
          "2024-05-15T00:00:00-04:00",
          "2024-05-17T00:00:00-04:00",
          "2024-05-20T00:00:00-04:00",
          "2024-05-21T00:00:00-04:00",
          "2024-05-24T00:00:00-04:00",
          "2024-05-28T00:00:00-04:00",
          "2024-05-31T00:00:00-04:00",
          "2024-06-03T00:00:00-04:00",
          "2024-06-04T00:00:00-04:00",
          "2024-06-05T00:00:00-04:00",
          "2024-06-10T00:00:00-04:00",
          "2024-06-11T00:00:00-04:00",
          "2024-06-12T00:00:00-04:00",
          "2024-06-13T00:00:00-04:00",
          "2024-06-14T00:00:00-04:00",
          "2024-06-17T00:00:00-04:00",
          "2024-06-18T00:00:00-04:00",
          "2024-06-25T00:00:00-04:00",
          "2024-06-26T00:00:00-04:00",
          "2024-06-27T00:00:00-04:00",
          "2024-07-01T00:00:00-04:00",
          "2024-07-02T00:00:00-04:00",
          "2024-07-03T00:00:00-04:00",
          "2024-07-05T00:00:00-04:00",
          "2024-07-08T00:00:00-04:00",
          "2024-07-09T00:00:00-04:00",
          "2024-07-10T00:00:00-04:00",
          "2024-07-12T00:00:00-04:00",
          "2024-07-15T00:00:00-04:00",
          "2024-07-16T00:00:00-04:00",
          "2024-07-22T00:00:00-04:00",
          "2024-07-26T00:00:00-04:00",
          "2024-07-29T00:00:00-04:00",
          "2024-07-31T00:00:00-04:00",
          "2024-08-06T00:00:00-04:00",
          "2024-08-08T00:00:00-04:00",
          "2024-08-09T00:00:00-04:00",
          "2024-08-12T00:00:00-04:00",
          "2024-08-13T00:00:00-04:00",
          "2024-08-14T00:00:00-04:00",
          "2024-08-15T00:00:00-04:00",
          "2024-08-16T00:00:00-04:00",
          "2024-08-19T00:00:00-04:00",
          "2024-08-21T00:00:00-04:00",
          "2024-08-23T00:00:00-04:00",
          "2024-08-27T00:00:00-04:00",
          "2024-08-29T00:00:00-04:00",
          "2024-08-30T00:00:00-04:00",
          "2024-09-09T00:00:00-04:00",
          "2024-09-10T00:00:00-04:00",
          "2024-09-11T00:00:00-04:00",
          "2024-09-12T00:00:00-04:00",
          "2024-09-13T00:00:00-04:00",
          "2024-09-16T00:00:00-04:00",
          "2024-09-17T00:00:00-04:00",
          "2024-09-19T00:00:00-04:00",
          "2024-09-23T00:00:00-04:00",
          "2024-09-24T00:00:00-04:00",
          "2024-09-26T00:00:00-04:00",
          "2024-09-30T00:00:00-04:00",
          "2024-10-02T00:00:00-04:00",
          "2024-10-04T00:00:00-04:00",
          "2024-10-08T00:00:00-04:00",
          "2024-10-09T00:00:00-04:00",
          "2024-10-11T00:00:00-04:00",
          "2024-10-14T00:00:00-04:00",
          "2024-10-16T00:00:00-04:00",
          "2024-10-17T00:00:00-04:00",
          "2024-10-18T00:00:00-04:00",
          "2024-10-24T00:00:00-04:00",
          "2024-10-28T00:00:00-04:00",
          "2024-10-29T00:00:00-04:00",
          "2024-11-01T00:00:00-04:00",
          "2024-11-05T00:00:00-05:00",
          "2024-11-06T00:00:00-05:00",
          "2024-11-07T00:00:00-05:00",
          "2024-11-08T00:00:00-05:00",
          "2024-11-11T00:00:00-05:00",
          "2024-11-13T00:00:00-05:00",
          "2024-11-18T00:00:00-05:00",
          "2024-11-19T00:00:00-05:00",
          "2024-11-20T00:00:00-05:00",
          "2024-11-21T00:00:00-05:00",
          "2024-11-22T00:00:00-05:00",
          "2024-11-25T00:00:00-05:00",
          "2024-11-26T00:00:00-05:00",
          "2024-11-29T00:00:00-05:00",
          "2024-12-02T00:00:00-05:00",
          "2024-12-03T00:00:00-05:00",
          "2024-12-04T00:00:00-05:00",
          "2024-12-06T00:00:00-05:00",
          "2024-12-11T00:00:00-05:00",
          "2024-12-16T00:00:00-05:00",
          "2024-12-20T00:00:00-05:00",
          "2024-12-23T00:00:00-05:00",
          "2024-12-24T00:00:00-05:00",
          "2024-12-26T00:00:00-05:00",
          "2025-01-03T00:00:00-05:00",
          "2025-01-06T00:00:00-05:00",
          "2025-01-08T00:00:00-05:00",
          "2025-01-13T00:00:00-05:00",
          "2025-01-14T00:00:00-05:00",
          "2025-01-15T00:00:00-05:00",
          "2025-01-17T00:00:00-05:00",
          "2025-01-21T00:00:00-05:00",
          "2025-01-22T00:00:00-05:00",
          "2025-01-23T00:00:00-05:00",
          "2025-01-28T00:00:00-05:00",
          "2025-01-30T00:00:00-05:00",
          "2025-02-04T00:00:00-05:00",
          "2025-02-05T00:00:00-05:00",
          "2025-02-06T00:00:00-05:00",
          "2025-02-10T00:00:00-05:00",
          "2025-02-11T00:00:00-05:00",
          "2025-02-13T00:00:00-05:00",
          "2025-02-18T00:00:00-05:00",
          "2025-02-19T00:00:00-05:00",
          "2025-02-26T00:00:00-05:00",
          "2025-02-28T00:00:00-05:00",
          "2025-03-05T00:00:00-05:00",
          "2025-03-07T00:00:00-05:00",
          "2025-03-12T00:00:00-04:00",
          "2025-03-14T00:00:00-04:00",
          "2025-03-17T00:00:00-04:00",
          "2025-03-19T00:00:00-04:00",
          "2025-03-21T00:00:00-04:00",
          "2025-03-24T00:00:00-04:00",
          "2025-03-25T00:00:00-04:00",
          "2025-03-31T00:00:00-04:00",
          "2025-04-01T00:00:00-04:00",
          "2025-04-02T00:00:00-04:00",
          "2025-04-09T00:00:00-04:00",
          "2025-04-11T00:00:00-04:00",
          "2025-04-14T00:00:00-04:00",
          "2025-04-17T00:00:00-04:00"
         ],
         "y": [
          493.43975830078125,
          499.29522705078125,
          501.8724670410156,
          503.6498107910156,
          498.6830139160156,
          504.8643493652344,
          510.07794189453125,
          510.6407470703125,
          510.6902160644531,
          513.6327514648438,
          514.2943725585938,
          514.3633422851562,
          516.723388671875,
          523.1219482421875,
          522.796142578125,
          523.3984985351562,
          524.6820678710938,
          522.7862548828125,
          523.1515502929688,
          520.7422485351562,
          521.1668090820312,
          521.7494506835938,
          527.9505004882812,
          528.9280395507812,
          530.2018432617188,
          534.556396484375,
          535.6327514648438,
          535.9586791992188,
          540.2242431640625,
          541.5968017578125,
          539.7184448242188,
          540.3920288085938,
          541.2439575195312,
          540.2236328125,
          543.8591918945312,
          546.2862548828125,
          549.4364013671875,
          550.0703735351562,
          550.6053466796875,
          556.0536499023438,
          554.7361450195312,
          556.26171875,
          559.560546875,
          549.4462890625,
          539.33203125,
          539.6490478515625,
          545.6422729492188,
          517.251220703125,
          525.6715087890625,
          527.989501953125,
          528.266845703125,
          536.95458984375,
          538.6485595703125,
          547.8811645507812,
          549.1094970703125,
          554.3597412109375,
          555.3602905273438,
          556.8561401367188,
          556.2914428710938,
          553.1115112304688,
          558.3915405273438,
          541.2835083007812,
          543.6412353515625,
          549.2184448242188,
          553.8446655273438,
          556.7373046875,
          557.5594482421875,
          557.7872924804688,
          565.623046875,
          566.0562744140625,
          567.6759643554688,
          568.6696166992188,
          570.120361328125,
          565.2514038085938,
          569.3453369140625,
          569.5340576171875,
          573.4789428710938,
          575.9034423828125,
          580.6133422851562,
          578.606201171875,
          578.6558227539062,
          580.8816528320312,
          575.5656127929688,
          577.1455078125,
          578.07958984375,
          567.4176025390625,
          573.041748046875,
          587.2907104492188,
          591.831787109375,
          594.3953857421875,
          594.9617919921875,
          593.4017333984375,
          584.4190673828125,
          586.555419921875,
          586.7542114257812,
          589.904052734375,
          591.7323608398438,
          593.7395629882812,
          596.8397827148438,
          598.7276611328125,
          599.8008422851562,
          600.0791015625,
          603.8052368164062,
          603.954345703125,
          603.6065673828125,
          602.9407958984375,
          589.3770751953125,
          592.9064331054688,
          599.49658203125,
          599.5364990234375,
          590.1746215820312,
          593.5744018554688,
          587.7219848632812,
          579.6463012695312,
          580.4439086914062,
          591.002197265625,
          595.7877807617188,
          601.2413330078125,
          604.6211547851562,
          607.9212646484375,
          602.7069702148438,
          603.225341796875,
          599.9751586914062,
          602.4077758789062,
          604.5015258789062,
          603.035888671875,
          603.4945678710938,
          607.9013061523438,
          609.656005859375,
          611.0916748046875,
          592.7568359375,
          592.39794921875,
          581.311279296875,
          574.1926879882812,
          557.19384765625,
          561.1220092773438,
          565.4490356445312,
          565.4290771484375,
          563.97998046875,
          574.0800170898438,
          575.4600219726562,
          559.3900146484375,
          560.969970703125,
          564.52001953125,
          548.6199951171875,
          533.9400024414062,
          539.1199951171875,
          526.4099731445312
         ]
        },
        {
         "marker": {
          "color": "Green",
          "symbol": "triangle-up"
         },
         "mode": "markers",
         "name": "Buy",
         "type": "scatter",
         "x": [
          "2024-04-19T00:00:00-04:00",
          "2024-04-24T00:00:00-04:00",
          "2024-04-25T00:00:00-04:00",
          "2024-04-30T00:00:00-04:00",
          "2024-05-01T00:00:00-04:00",
          "2024-05-16T00:00:00-04:00",
          "2024-05-22T00:00:00-04:00",
          "2024-05-23T00:00:00-04:00",
          "2024-05-29T00:00:00-04:00",
          "2024-05-30T00:00:00-04:00",
          "2024-06-06T00:00:00-04:00",
          "2024-06-07T00:00:00-04:00",
          "2024-06-20T00:00:00-04:00",
          "2024-06-21T00:00:00-04:00",
          "2024-06-24T00:00:00-04:00",
          "2024-06-28T00:00:00-04:00",
          "2024-07-11T00:00:00-04:00",
          "2024-07-17T00:00:00-04:00",
          "2024-07-18T00:00:00-04:00",
          "2024-07-19T00:00:00-04:00",
          "2024-07-23T00:00:00-04:00",
          "2024-07-24T00:00:00-04:00",
          "2024-07-25T00:00:00-04:00",
          "2024-07-30T00:00:00-04:00",
          "2024-08-01T00:00:00-04:00",
          "2024-08-02T00:00:00-04:00",
          "2024-08-05T00:00:00-04:00",
          "2024-08-07T00:00:00-04:00",
          "2024-08-20T00:00:00-04:00",
          "2024-08-22T00:00:00-04:00",
          "2024-08-26T00:00:00-04:00",
          "2024-08-28T00:00:00-04:00",
          "2024-09-03T00:00:00-04:00",
          "2024-09-04T00:00:00-04:00",
          "2024-09-05T00:00:00-04:00",
          "2024-09-06T00:00:00-04:00",
          "2024-09-18T00:00:00-04:00",
          "2024-09-20T00:00:00-04:00",
          "2024-09-25T00:00:00-04:00",
          "2024-09-27T00:00:00-04:00",
          "2024-10-01T00:00:00-04:00",
          "2024-10-03T00:00:00-04:00",
          "2024-10-07T00:00:00-04:00",
          "2024-10-10T00:00:00-04:00",
          "2024-10-15T00:00:00-04:00",
          "2024-10-21T00:00:00-04:00",
          "2024-10-22T00:00:00-04:00",
          "2024-10-23T00:00:00-04:00",
          "2024-10-25T00:00:00-04:00",
          "2024-10-30T00:00:00-04:00",
          "2024-10-31T00:00:00-04:00",
          "2024-11-04T00:00:00-05:00",
          "2024-11-12T00:00:00-05:00",
          "2024-11-14T00:00:00-05:00",
          "2024-11-15T00:00:00-05:00",
          "2024-11-27T00:00:00-05:00",
          "2024-12-05T00:00:00-05:00",
          "2024-12-09T00:00:00-05:00",
          "2024-12-10T00:00:00-05:00",
          "2024-12-12T00:00:00-05:00",
          "2024-12-13T00:00:00-05:00",
          "2024-12-17T00:00:00-05:00",
          "2024-12-18T00:00:00-05:00",
          "2024-12-19T00:00:00-05:00",
          "2024-12-27T00:00:00-05:00",
          "2024-12-30T00:00:00-05:00",
          "2024-12-31T00:00:00-05:00",
          "2025-01-02T00:00:00-05:00",
          "2025-01-07T00:00:00-05:00",
          "2025-01-10T00:00:00-05:00",
          "2025-01-16T00:00:00-05:00",
          "2025-01-24T00:00:00-05:00",
          "2025-01-27T00:00:00-05:00",
          "2025-01-29T00:00:00-05:00",
          "2025-01-31T00:00:00-05:00",
          "2025-02-03T00:00:00-05:00",
          "2025-02-07T00:00:00-05:00",
          "2025-02-12T00:00:00-05:00",
          "2025-02-14T00:00:00-05:00",
          "2025-02-20T00:00:00-05:00",
          "2025-02-21T00:00:00-05:00",
          "2025-02-24T00:00:00-05:00",
          "2025-02-25T00:00:00-05:00",
          "2025-02-27T00:00:00-05:00",
          "2025-03-03T00:00:00-05:00",
          "2025-03-04T00:00:00-05:00",
          "2025-03-06T00:00:00-05:00",
          "2025-03-10T00:00:00-04:00",
          "2025-03-11T00:00:00-04:00",
          "2025-03-13T00:00:00-04:00",
          "2025-03-18T00:00:00-04:00",
          "2025-03-20T00:00:00-04:00",
          "2025-03-26T00:00:00-04:00",
          "2025-03-27T00:00:00-04:00",
          "2025-03-28T00:00:00-04:00",
          "2025-04-03T00:00:00-04:00",
          "2025-04-04T00:00:00-04:00",
          "2025-04-07T00:00:00-04:00",
          "2025-04-08T00:00:00-04:00",
          "2025-04-10T00:00:00-04:00",
          "2025-04-15T00:00:00-04:00",
          "2025-04-16T00:00:00-04:00"
         ],
         "y": [
          488.93707275390625,
          499.0582275390625,
          497.162353515625,
          495.6713562011719,
          494.0618591308594,
          522.0457153320312,
          523.1713256835938,
          519.3499755859375,
          519.4882202148438,
          516.0421142578125,
          527.9406127929688,
          527.2987670898438,
          540.1255493164062,
          539.4014892578125,
          537.6480102539062,
          539.1140747070312,
          551.2590942382812,
          551.7147827148438,
          547.4749145507812,
          543.83935546875,
          548.58447265625,
          536.1521606445312,
          533.3585815429688,
          536.9149780273438,
          537.9154663085938,
          527.900390625,
          512.5259399414062,
          513.7939453125,
          553.458251953125,
          551.0015258789062,
          555.5286865234375,
          553.06201171875,
          546.9004516601562,
          545.781005859375,
          544.4535522460938,
          535.290283203125,
          556.1329956054688,
          564.6453247070312,
          566.4239501953125,
          567.8448486328125,
          565.0130004882812,
          564.218017578125,
          564.1981201171875,
          572.475341796875,
          576.1021728515625,
          579.927734375,
          579.6196899414062,
          574.323486328125,
          575.3668823242188,
          576.3306884765625,
          565.0328369140625,
          566.1953735351562,
          593.1135864257812,
          589.5860595703125,
          582.0343017578125,
          595.0313110351562,
          602.8116455078125,
          600.84423828125,
          598.9761352539062,
          600.4964599609375,
          600.377197265625,
          600.4566650390625,
          582.5609741210938,
          582.382080078125,
          593.2254638671875,
          586.455810546875,
          584.322265625,
          582.8865966796875,
          586.8646240234375,
          578.7489624023438,
          589.8656005859375,
          606.1465454101562,
          597.5723876953125,
          600.0050659179688,
          600.0150146484375,
          595.9771728515625,
          598.9682006835938,
          601.5504150390625,
          607.8713989257812,
          608.5493774414062,
          598.1406860351562,
          595.4188842773438,
          592.457763671875,
          583.2952880859375,
          582.0191650390625,
          575.1298828125,
          570.9923706054688,
          558.8987426757812,
          554.252685546875,
          549.7661743164062,
          559.33740234375,
          563.7940063476562,
          568.5900268554688,
          567.0800170898438,
          555.6599731445312,
          536.7000122070312,
          505.2799987792969,
          504.3800048828125,
          496.4800109863281,
          524.5800170898438,
          537.6099853515625,
          525.6599731445312
         ]
        }
       ],
       "layout": {
        "template": {
         "data": {
          "bar": [
           {
            "error_x": {
             "color": "#2a3f5f"
            },
            "error_y": {
             "color": "#2a3f5f"
            },
            "marker": {
             "line": {
              "color": "#E5ECF6",
              "width": 0.5
             },
             "pattern": {
              "fillmode": "overlay",
              "size": 10,
              "solidity": 0.2
             }
            },
            "type": "bar"
           }
          ],
          "barpolar": [
           {
            "marker": {
             "line": {
              "color": "#E5ECF6",
              "width": 0.5
             },
             "pattern": {
              "fillmode": "overlay",
              "size": 10,
              "solidity": 0.2
             }
            },
            "type": "barpolar"
           }
          ],
          "carpet": [
           {
            "aaxis": {
             "endlinecolor": "#2a3f5f",
             "gridcolor": "white",
             "linecolor": "white",
             "minorgridcolor": "white",
             "startlinecolor": "#2a3f5f"
            },
            "baxis": {
             "endlinecolor": "#2a3f5f",
             "gridcolor": "white",
             "linecolor": "white",
             "minorgridcolor": "white",
             "startlinecolor": "#2a3f5f"
            },
            "type": "carpet"
           }
          ],
          "choropleth": [
           {
            "colorbar": {
             "outlinewidth": 0,
             "ticks": ""
            },
            "type": "choropleth"
           }
          ],
          "contour": [
           {
            "colorbar": {
             "outlinewidth": 0,
             "ticks": ""
            },
            "colorscale": [
             [
              0,
              "#0d0887"
             ],
             [
              0.1111111111111111,
              "#46039f"
             ],
             [
              0.2222222222222222,
              "#7201a8"
             ],
             [
              0.3333333333333333,
              "#9c179e"
             ],
             [
              0.4444444444444444,
              "#bd3786"
             ],
             [
              0.5555555555555556,
              "#d8576b"
             ],
             [
              0.6666666666666666,
              "#ed7953"
             ],
             [
              0.7777777777777778,
              "#fb9f3a"
             ],
             [
              0.8888888888888888,
              "#fdca26"
             ],
             [
              1,
              "#f0f921"
             ]
            ],
            "type": "contour"
           }
          ],
          "contourcarpet": [
           {
            "colorbar": {
             "outlinewidth": 0,
             "ticks": ""
            },
            "type": "contourcarpet"
           }
          ],
          "heatmap": [
           {
            "colorbar": {
             "outlinewidth": 0,
             "ticks": ""
            },
            "colorscale": [
             [
              0,
              "#0d0887"
             ],
             [
              0.1111111111111111,
              "#46039f"
             ],
             [
              0.2222222222222222,
              "#7201a8"
             ],
             [
              0.3333333333333333,
              "#9c179e"
             ],
             [
              0.4444444444444444,
              "#bd3786"
             ],
             [
              0.5555555555555556,
              "#d8576b"
             ],
             [
              0.6666666666666666,
              "#ed7953"
             ],
             [
              0.7777777777777778,
              "#fb9f3a"
             ],
             [
              0.8888888888888888,
              "#fdca26"
             ],
             [
              1,
              "#f0f921"
             ]
            ],
            "type": "heatmap"
           }
          ],
          "heatmapgl": [
           {
            "colorbar": {
             "outlinewidth": 0,
             "ticks": ""
            },
            "colorscale": [
             [
              0,
              "#0d0887"
             ],
             [
              0.1111111111111111,
              "#46039f"
             ],
             [
              0.2222222222222222,
              "#7201a8"
             ],
             [
              0.3333333333333333,
              "#9c179e"
             ],
             [
              0.4444444444444444,
              "#bd3786"
             ],
             [
              0.5555555555555556,
              "#d8576b"
             ],
             [
              0.6666666666666666,
              "#ed7953"
             ],
             [
              0.7777777777777778,
              "#fb9f3a"
             ],
             [
              0.8888888888888888,
              "#fdca26"
             ],
             [
              1,
              "#f0f921"
             ]
            ],
            "type": "heatmapgl"
           }
          ],
          "histogram": [
           {
            "marker": {
             "pattern": {
              "fillmode": "overlay",
              "size": 10,
              "solidity": 0.2
             }
            },
            "type": "histogram"
           }
          ],
          "histogram2d": [
           {
            "colorbar": {
             "outlinewidth": 0,
             "ticks": ""
            },
            "colorscale": [
             [
              0,
              "#0d0887"
             ],
             [
              0.1111111111111111,
              "#46039f"
             ],
             [
              0.2222222222222222,
              "#7201a8"
             ],
             [
              0.3333333333333333,
              "#9c179e"
             ],
             [
              0.4444444444444444,
              "#bd3786"
             ],
             [
              0.5555555555555556,
              "#d8576b"
             ],
             [
              0.6666666666666666,
              "#ed7953"
             ],
             [
              0.7777777777777778,
              "#fb9f3a"
             ],
             [
              0.8888888888888888,
              "#fdca26"
             ],
             [
              1,
              "#f0f921"
             ]
            ],
            "type": "histogram2d"
           }
          ],
          "histogram2dcontour": [
           {
            "colorbar": {
             "outlinewidth": 0,
             "ticks": ""
            },
            "colorscale": [
             [
              0,
              "#0d0887"
             ],
             [
              0.1111111111111111,
              "#46039f"
             ],
             [
              0.2222222222222222,
              "#7201a8"
             ],
             [
              0.3333333333333333,
              "#9c179e"
             ],
             [
              0.4444444444444444,
              "#bd3786"
             ],
             [
              0.5555555555555556,
              "#d8576b"
             ],
             [
              0.6666666666666666,
              "#ed7953"
             ],
             [
              0.7777777777777778,
              "#fb9f3a"
             ],
             [
              0.8888888888888888,
              "#fdca26"
             ],
             [
              1,
              "#f0f921"
             ]
            ],
            "type": "histogram2dcontour"
           }
          ],
          "mesh3d": [
           {
            "colorbar": {
             "outlinewidth": 0,
             "ticks": ""
            },
            "type": "mesh3d"
           }
          ],
          "parcoords": [
           {
            "line": {
             "colorbar": {
              "outlinewidth": 0,
              "ticks": ""
             }
            },
            "type": "parcoords"
           }
          ],
          "pie": [
           {
            "automargin": true,
            "type": "pie"
           }
          ],
          "scatter": [
           {
            "marker": {
             "colorbar": {
              "outlinewidth": 0,
              "ticks": ""
             }
            },
            "type": "scatter"
           }
          ],
          "scatter3d": [
           {
            "line": {
             "colorbar": {
              "outlinewidth": 0,
              "ticks": ""
             }
            },
            "marker": {
             "colorbar": {
              "outlinewidth": 0,
              "ticks": ""
             }
            },
            "type": "scatter3d"
           }
          ],
          "scattercarpet": [
           {
            "marker": {
             "colorbar": {
              "outlinewidth": 0,
              "ticks": ""
             }
            },
            "type": "scattercarpet"
           }
          ],
          "scattergeo": [
           {
            "marker": {
             "colorbar": {
              "outlinewidth": 0,
              "ticks": ""
             }
            },
            "type": "scattergeo"
           }
          ],
          "scattergl": [
           {
            "marker": {
             "colorbar": {
              "outlinewidth": 0,
              "ticks": ""
             }
            },
            "type": "scattergl"
           }
          ],
          "scattermapbox": [
           {
            "marker": {
             "colorbar": {
              "outlinewidth": 0,
              "ticks": ""
             }
            },
            "type": "scattermapbox"
           }
          ],
          "scatterpolar": [
           {
            "marker": {
             "colorbar": {
              "outlinewidth": 0,
              "ticks": ""
             }
            },
            "type": "scatterpolar"
           }
          ],
          "scatterpolargl": [
           {
            "marker": {
             "colorbar": {
              "outlinewidth": 0,
              "ticks": ""
             }
            },
            "type": "scatterpolargl"
           }
          ],
          "scatterternary": [
           {
            "marker": {
             "colorbar": {
              "outlinewidth": 0,
              "ticks": ""
             }
            },
            "type": "scatterternary"
           }
          ],
          "surface": [
           {
            "colorbar": {
             "outlinewidth": 0,
             "ticks": ""
            },
            "colorscale": [
             [
              0,
              "#0d0887"
             ],
             [
              0.1111111111111111,
              "#46039f"
             ],
             [
              0.2222222222222222,
              "#7201a8"
             ],
             [
              0.3333333333333333,
              "#9c179e"
             ],
             [
              0.4444444444444444,
              "#bd3786"
             ],
             [
              0.5555555555555556,
              "#d8576b"
             ],
             [
              0.6666666666666666,
              "#ed7953"
             ],
             [
              0.7777777777777778,
              "#fb9f3a"
             ],
             [
              0.8888888888888888,
              "#fdca26"
             ],
             [
              1,
              "#f0f921"
             ]
            ],
            "type": "surface"
           }
          ],
          "table": [
           {
            "cells": {
             "fill": {
              "color": "#EBF0F8"
             },
             "line": {
              "color": "white"
             }
            },
            "header": {
             "fill": {
              "color": "#C8D4E3"
             },
             "line": {
              "color": "white"
             }
            },
            "type": "table"
           }
          ]
         },
         "layout": {
          "annotationdefaults": {
           "arrowcolor": "#2a3f5f",
           "arrowhead": 0,
           "arrowwidth": 1
          },
          "autotypenumbers": "strict",
          "coloraxis": {
           "colorbar": {
            "outlinewidth": 0,
            "ticks": ""
           }
          },
          "colorscale": {
           "diverging": [
            [
             0,
             "#8e0152"
            ],
            [
             0.1,
             "#c51b7d"
            ],
            [
             0.2,
             "#de77ae"
            ],
            [
             0.3,
             "#f1b6da"
            ],
            [
             0.4,
             "#fde0ef"
            ],
            [
             0.5,
             "#f7f7f7"
            ],
            [
             0.6,
             "#e6f5d0"
            ],
            [
             0.7,
             "#b8e186"
            ],
            [
             0.8,
             "#7fbc41"
            ],
            [
             0.9,
             "#4d9221"
            ],
            [
             1,
             "#276419"
            ]
           ],
           "sequential": [
            [
             0,
             "#0d0887"
            ],
            [
             0.1111111111111111,
             "#46039f"
            ],
            [
             0.2222222222222222,
             "#7201a8"
            ],
            [
             0.3333333333333333,
             "#9c179e"
            ],
            [
             0.4444444444444444,
             "#bd3786"
            ],
            [
             0.5555555555555556,
             "#d8576b"
            ],
            [
             0.6666666666666666,
             "#ed7953"
            ],
            [
             0.7777777777777778,
             "#fb9f3a"
            ],
            [
             0.8888888888888888,
             "#fdca26"
            ],
            [
             1,
             "#f0f921"
            ]
           ],
           "sequentialminus": [
            [
             0,
             "#0d0887"
            ],
            [
             0.1111111111111111,
             "#46039f"
            ],
            [
             0.2222222222222222,
             "#7201a8"
            ],
            [
             0.3333333333333333,
             "#9c179e"
            ],
            [
             0.4444444444444444,
             "#bd3786"
            ],
            [
             0.5555555555555556,
             "#d8576b"
            ],
            [
             0.6666666666666666,
             "#ed7953"
            ],
            [
             0.7777777777777778,
             "#fb9f3a"
            ],
            [
             0.8888888888888888,
             "#fdca26"
            ],
            [
             1,
             "#f0f921"
            ]
           ]
          },
          "colorway": [
           "#636efa",
           "#EF553B",
           "#00cc96",
           "#ab63fa",
           "#FFA15A",
           "#19d3f3",
           "#FF6692",
           "#B6E880",
           "#FF97FF",
           "#FECB52"
          ],
          "font": {
           "color": "#2a3f5f"
          },
          "geo": {
           "bgcolor": "white",
           "lakecolor": "white",
           "landcolor": "#E5ECF6",
           "showlakes": true,
           "showland": true,
           "subunitcolor": "white"
          },
          "hoverlabel": {
           "align": "left"
          },
          "hovermode": "closest",
          "mapbox": {
           "style": "light"
          },
          "paper_bgcolor": "white",
          "plot_bgcolor": "#E5ECF6",
          "polar": {
           "angularaxis": {
            "gridcolor": "white",
            "linecolor": "white",
            "ticks": ""
           },
           "bgcolor": "#E5ECF6",
           "radialaxis": {
            "gridcolor": "white",
            "linecolor": "white",
            "ticks": ""
           }
          },
          "scene": {
           "xaxis": {
            "backgroundcolor": "#E5ECF6",
            "gridcolor": "white",
            "gridwidth": 2,
            "linecolor": "white",
            "showbackground": true,
            "ticks": "",
            "zerolinecolor": "white"
           },
           "yaxis": {
            "backgroundcolor": "#E5ECF6",
            "gridcolor": "white",
            "gridwidth": 2,
            "linecolor": "white",
            "showbackground": true,
            "ticks": "",
            "zerolinecolor": "white"
           },
           "zaxis": {
            "backgroundcolor": "#E5ECF6",
            "gridcolor": "white",
            "gridwidth": 2,
            "linecolor": "white",
            "showbackground": true,
            "ticks": "",
            "zerolinecolor": "white"
           }
          },
          "shapedefaults": {
           "line": {
            "color": "#2a3f5f"
           }
          },
          "ternary": {
           "aaxis": {
            "gridcolor": "white",
            "linecolor": "white",
            "ticks": ""
           },
           "baxis": {
            "gridcolor": "white",
            "linecolor": "white",
            "ticks": ""
           },
           "bgcolor": "#E5ECF6",
           "caxis": {
            "gridcolor": "white",
            "linecolor": "white",
            "ticks": ""
           }
          },
          "title": {
           "x": 0.05
          },
          "xaxis": {
           "automargin": true,
           "gridcolor": "white",
           "linecolor": "white",
           "ticks": "",
           "title": {
            "standoff": 15
           },
           "zerolinecolor": "white",
           "zerolinewidth": 2
          },
          "yaxis": {
           "automargin": true,
           "gridcolor": "white",
           "linecolor": "white",
           "ticks": "",
           "title": {
            "standoff": 15
           },
           "zerolinecolor": "white",
           "zerolinewidth": 2
          }
         }
        },
        "title": {
         "text": "Algorithmic Trading using Momentum Strategy"
        },
        "xaxis": {
         "anchor": "y",
         "domain": [
          0,
          1
         ],
         "title": {
          "text": "Date"
         }
        },
        "xaxis2": {
         "anchor": "y2",
         "domain": [
          0,
          1
         ]
        },
        "yaxis": {
         "anchor": "x",
         "domain": [
          0.575,
          1
         ],
         "title": {
          "text": "Price"
         }
        },
        "yaxis2": {
         "anchor": "x2",
         "domain": [
          0,
          0.425
         ]
        }
       }
      },
      "text/html": [
       "<div>                            <div id=\"e43bda7e-abed-4df8-9fe5-ed2dd3d2bbe3\" class=\"plotly-graph-div\" style=\"height:525px; width:100%;\"></div>            <script type=\"text/javascript\">                require([\"plotly\"], function(Plotly) {                    window.PLOTLYENV=window.PLOTLYENV || {};                                    if (document.getElementById(\"e43bda7e-abed-4df8-9fe5-ed2dd3d2bbe3\")) {                    Plotly.newPlot(                        \"e43bda7e-abed-4df8-9fe5-ed2dd3d2bbe3\",                        [{\"name\":\"Close Price\",\"x\":[\"2024-04-18T00:00:00-04:00\",\"2024-04-19T00:00:00-04:00\",\"2024-04-22T00:00:00-04:00\",\"2024-04-23T00:00:00-04:00\",\"2024-04-24T00:00:00-04:00\",\"2024-04-25T00:00:00-04:00\",\"2024-04-26T00:00:00-04:00\",\"2024-04-29T00:00:00-04:00\",\"2024-04-30T00:00:00-04:00\",\"2024-05-01T00:00:00-04:00\",\"2024-05-02T00:00:00-04:00\",\"2024-05-03T00:00:00-04:00\",\"2024-05-06T00:00:00-04:00\",\"2024-05-07T00:00:00-04:00\",\"2024-05-08T00:00:00-04:00\",\"2024-05-09T00:00:00-04:00\",\"2024-05-10T00:00:00-04:00\",\"2024-05-13T00:00:00-04:00\",\"2024-05-14T00:00:00-04:00\",\"2024-05-15T00:00:00-04:00\",\"2024-05-16T00:00:00-04:00\",\"2024-05-17T00:00:00-04:00\",\"2024-05-20T00:00:00-04:00\",\"2024-05-21T00:00:00-04:00\",\"2024-05-22T00:00:00-04:00\",\"2024-05-23T00:00:00-04:00\",\"2024-05-24T00:00:00-04:00\",\"2024-05-28T00:00:00-04:00\",\"2024-05-29T00:00:00-04:00\",\"2024-05-30T00:00:00-04:00\",\"2024-05-31T00:00:00-04:00\",\"2024-06-03T00:00:00-04:00\",\"2024-06-04T00:00:00-04:00\",\"2024-06-05T00:00:00-04:00\",\"2024-06-06T00:00:00-04:00\",\"2024-06-07T00:00:00-04:00\",\"2024-06-10T00:00:00-04:00\",\"2024-06-11T00:00:00-04:00\",\"2024-06-12T00:00:00-04:00\",\"2024-06-13T00:00:00-04:00\",\"2024-06-14T00:00:00-04:00\",\"2024-06-17T00:00:00-04:00\",\"2024-06-18T00:00:00-04:00\",\"2024-06-20T00:00:00-04:00\",\"2024-06-21T00:00:00-04:00\",\"2024-06-24T00:00:00-04:00\",\"2024-06-25T00:00:00-04:00\",\"2024-06-26T00:00:00-04:00\",\"2024-06-27T00:00:00-04:00\",\"2024-06-28T00:00:00-04:00\",\"2024-07-01T00:00:00-04:00\",\"2024-07-02T00:00:00-04:00\",\"2024-07-03T00:00:00-04:00\",\"2024-07-05T00:00:00-04:00\",\"2024-07-08T00:00:00-04:00\",\"2024-07-09T00:00:00-04:00\",\"2024-07-10T00:00:00-04:00\",\"2024-07-11T00:00:00-04:00\",\"2024-07-12T00:00:00-04:00\",\"2024-07-15T00:00:00-04:00\",\"2024-07-16T00:00:00-04:00\",\"2024-07-17T00:00:00-04:00\",\"2024-07-18T00:00:00-04:00\",\"2024-07-19T00:00:00-04:00\",\"2024-07-22T00:00:00-04:00\",\"2024-07-23T00:00:00-04:00\",\"2024-07-24T00:00:00-04:00\",\"2024-07-25T00:00:00-04:00\",\"2024-07-26T00:00:00-04:00\",\"2024-07-29T00:00:00-04:00\",\"2024-07-30T00:00:00-04:00\",\"2024-07-31T00:00:00-04:00\",\"2024-08-01T00:00:00-04:00\",\"2024-08-02T00:00:00-04:00\",\"2024-08-05T00:00:00-04:00\",\"2024-08-06T00:00:00-04:00\",\"2024-08-07T00:00:00-04:00\",\"2024-08-08T00:00:00-04:00\",\"2024-08-09T00:00:00-04:00\",\"2024-08-12T00:00:00-04:00\",\"2024-08-13T00:00:00-04:00\",\"2024-08-14T00:00:00-04:00\",\"2024-08-15T00:00:00-04:00\",\"2024-08-16T00:00:00-04:00\",\"2024-08-19T00:00:00-04:00\",\"2024-08-20T00:00:00-04:00\",\"2024-08-21T00:00:00-04:00\",\"2024-08-22T00:00:00-04:00\",\"2024-08-23T00:00:00-04:00\",\"2024-08-26T00:00:00-04:00\",\"2024-08-27T00:00:00-04:00\",\"2024-08-28T00:00:00-04:00\",\"2024-08-29T00:00:00-04:00\",\"2024-08-30T00:00:00-04:00\",\"2024-09-03T00:00:00-04:00\",\"2024-09-04T00:00:00-04:00\",\"2024-09-05T00:00:00-04:00\",\"2024-09-06T00:00:00-04:00\",\"2024-09-09T00:00:00-04:00\",\"2024-09-10T00:00:00-04:00\",\"2024-09-11T00:00:00-04:00\",\"2024-09-12T00:00:00-04:00\",\"2024-09-13T00:00:00-04:00\",\"2024-09-16T00:00:00-04:00\",\"2024-09-17T00:00:00-04:00\",\"2024-09-18T00:00:00-04:00\",\"2024-09-19T00:00:00-04:00\",\"2024-09-20T00:00:00-04:00\",\"2024-09-23T00:00:00-04:00\",\"2024-09-24T00:00:00-04:00\",\"2024-09-25T00:00:00-04:00\",\"2024-09-26T00:00:00-04:00\",\"2024-09-27T00:00:00-04:00\",\"2024-09-30T00:00:00-04:00\",\"2024-10-01T00:00:00-04:00\",\"2024-10-02T00:00:00-04:00\",\"2024-10-03T00:00:00-04:00\",\"2024-10-04T00:00:00-04:00\",\"2024-10-07T00:00:00-04:00\",\"2024-10-08T00:00:00-04:00\",\"2024-10-09T00:00:00-04:00\",\"2024-10-10T00:00:00-04:00\",\"2024-10-11T00:00:00-04:00\",\"2024-10-14T00:00:00-04:00\",\"2024-10-15T00:00:00-04:00\",\"2024-10-16T00:00:00-04:00\",\"2024-10-17T00:00:00-04:00\",\"2024-10-18T00:00:00-04:00\",\"2024-10-21T00:00:00-04:00\",\"2024-10-22T00:00:00-04:00\",\"2024-10-23T00:00:00-04:00\",\"2024-10-24T00:00:00-04:00\",\"2024-10-25T00:00:00-04:00\",\"2024-10-28T00:00:00-04:00\",\"2024-10-29T00:00:00-04:00\",\"2024-10-30T00:00:00-04:00\",\"2024-10-31T00:00:00-04:00\",\"2024-11-01T00:00:00-04:00\",\"2024-11-04T00:00:00-05:00\",\"2024-11-05T00:00:00-05:00\",\"2024-11-06T00:00:00-05:00\",\"2024-11-07T00:00:00-05:00\",\"2024-11-08T00:00:00-05:00\",\"2024-11-11T00:00:00-05:00\",\"2024-11-12T00:00:00-05:00\",\"2024-11-13T00:00:00-05:00\",\"2024-11-14T00:00:00-05:00\",\"2024-11-15T00:00:00-05:00\",\"2024-11-18T00:00:00-05:00\",\"2024-11-19T00:00:00-05:00\",\"2024-11-20T00:00:00-05:00\",\"2024-11-21T00:00:00-05:00\",\"2024-11-22T00:00:00-05:00\",\"2024-11-25T00:00:00-05:00\",\"2024-11-26T00:00:00-05:00\",\"2024-11-27T00:00:00-05:00\",\"2024-11-29T00:00:00-05:00\",\"2024-12-02T00:00:00-05:00\",\"2024-12-03T00:00:00-05:00\",\"2024-12-04T00:00:00-05:00\",\"2024-12-05T00:00:00-05:00\",\"2024-12-06T00:00:00-05:00\",\"2024-12-09T00:00:00-05:00\",\"2024-12-10T00:00:00-05:00\",\"2024-12-11T00:00:00-05:00\",\"2024-12-12T00:00:00-05:00\",\"2024-12-13T00:00:00-05:00\",\"2024-12-16T00:00:00-05:00\",\"2024-12-17T00:00:00-05:00\",\"2024-12-18T00:00:00-05:00\",\"2024-12-19T00:00:00-05:00\",\"2024-12-20T00:00:00-05:00\",\"2024-12-23T00:00:00-05:00\",\"2024-12-24T00:00:00-05:00\",\"2024-12-26T00:00:00-05:00\",\"2024-12-27T00:00:00-05:00\",\"2024-12-30T00:00:00-05:00\",\"2024-12-31T00:00:00-05:00\",\"2025-01-02T00:00:00-05:00\",\"2025-01-03T00:00:00-05:00\",\"2025-01-06T00:00:00-05:00\",\"2025-01-07T00:00:00-05:00\",\"2025-01-08T00:00:00-05:00\",\"2025-01-10T00:00:00-05:00\",\"2025-01-13T00:00:00-05:00\",\"2025-01-14T00:00:00-05:00\",\"2025-01-15T00:00:00-05:00\",\"2025-01-16T00:00:00-05:00\",\"2025-01-17T00:00:00-05:00\",\"2025-01-21T00:00:00-05:00\",\"2025-01-22T00:00:00-05:00\",\"2025-01-23T00:00:00-05:00\",\"2025-01-24T00:00:00-05:00\",\"2025-01-27T00:00:00-05:00\",\"2025-01-28T00:00:00-05:00\",\"2025-01-29T00:00:00-05:00\",\"2025-01-30T00:00:00-05:00\",\"2025-01-31T00:00:00-05:00\",\"2025-02-03T00:00:00-05:00\",\"2025-02-04T00:00:00-05:00\",\"2025-02-05T00:00:00-05:00\",\"2025-02-06T00:00:00-05:00\",\"2025-02-07T00:00:00-05:00\",\"2025-02-10T00:00:00-05:00\",\"2025-02-11T00:00:00-05:00\",\"2025-02-12T00:00:00-05:00\",\"2025-02-13T00:00:00-05:00\",\"2025-02-14T00:00:00-05:00\",\"2025-02-18T00:00:00-05:00\",\"2025-02-19T00:00:00-05:00\",\"2025-02-20T00:00:00-05:00\",\"2025-02-21T00:00:00-05:00\",\"2025-02-24T00:00:00-05:00\",\"2025-02-25T00:00:00-05:00\",\"2025-02-26T00:00:00-05:00\",\"2025-02-27T00:00:00-05:00\",\"2025-02-28T00:00:00-05:00\",\"2025-03-03T00:00:00-05:00\",\"2025-03-04T00:00:00-05:00\",\"2025-03-05T00:00:00-05:00\",\"2025-03-06T00:00:00-05:00\",\"2025-03-07T00:00:00-05:00\",\"2025-03-10T00:00:00-04:00\",\"2025-03-11T00:00:00-04:00\",\"2025-03-12T00:00:00-04:00\",\"2025-03-13T00:00:00-04:00\",\"2025-03-14T00:00:00-04:00\",\"2025-03-17T00:00:00-04:00\",\"2025-03-18T00:00:00-04:00\",\"2025-03-19T00:00:00-04:00\",\"2025-03-20T00:00:00-04:00\",\"2025-03-21T00:00:00-04:00\",\"2025-03-24T00:00:00-04:00\",\"2025-03-25T00:00:00-04:00\",\"2025-03-26T00:00:00-04:00\",\"2025-03-27T00:00:00-04:00\",\"2025-03-28T00:00:00-04:00\",\"2025-03-31T00:00:00-04:00\",\"2025-04-01T00:00:00-04:00\",\"2025-04-02T00:00:00-04:00\",\"2025-04-03T00:00:00-04:00\",\"2025-04-04T00:00:00-04:00\",\"2025-04-07T00:00:00-04:00\",\"2025-04-08T00:00:00-04:00\",\"2025-04-09T00:00:00-04:00\",\"2025-04-10T00:00:00-04:00\",\"2025-04-11T00:00:00-04:00\",\"2025-04-14T00:00:00-04:00\",\"2025-04-15T00:00:00-04:00\",\"2025-04-16T00:00:00-04:00\",\"2025-04-17T00:00:00-04:00\"],\"y\":[493.24224853515625,488.93707275390625,493.43975830078125,499.29522705078125,499.0582275390625,497.162353515625,501.8724670410156,503.6498107910156,495.6713562011719,494.0618591308594,498.6830139160156,504.8643493652344,510.07794189453125,510.6407470703125,510.6902160644531,513.6327514648438,514.2943725585938,514.3633422851562,516.723388671875,523.1219482421875,522.0457153320312,522.796142578125,523.3984985351562,524.6820678710938,523.1713256835938,519.3499755859375,522.7862548828125,523.1515502929688,519.4882202148438,516.0421142578125,520.7422485351562,521.1668090820312,521.7494506835938,527.9505004882812,527.9406127929688,527.2987670898438,528.9280395507812,530.2018432617188,534.556396484375,535.6327514648438,535.9586791992188,540.2242431640625,541.5968017578125,540.1255493164062,539.4014892578125,537.6480102539062,539.7184448242188,540.3920288085938,541.2439575195312,539.1140747070312,540.2236328125,543.8591918945312,546.2862548828125,549.4364013671875,550.0703735351562,550.6053466796875,556.0536499023438,551.2590942382812,554.7361450195312,556.26171875,559.560546875,551.7147827148438,547.4749145507812,543.83935546875,549.4462890625,548.58447265625,536.1521606445312,533.3585815429688,539.33203125,539.6490478515625,536.9149780273438,545.6422729492188,537.9154663085938,527.900390625,512.5259399414062,517.251220703125,513.7939453125,525.6715087890625,527.989501953125,528.266845703125,536.95458984375,538.6485595703125,547.8811645507812,549.1094970703125,554.3597412109375,553.458251953125,555.3602905273438,551.0015258789062,556.8561401367188,555.5286865234375,556.2914428710938,553.06201171875,553.1115112304688,558.3915405273438,546.9004516601562,545.781005859375,544.4535522460938,535.290283203125,541.2835083007812,543.6412353515625,549.2184448242188,553.8446655273438,556.7373046875,557.5594482421875,557.7872924804688,556.1329956054688,565.623046875,564.6453247070312,566.0562744140625,567.6759643554688,566.4239501953125,568.6696166992188,567.8448486328125,570.120361328125,565.0130004882812,565.2514038085938,564.218017578125,569.3453369140625,564.1981201171875,569.5340576171875,573.4789428710938,572.475341796875,575.9034423828125,580.6133422851562,576.1021728515625,578.606201171875,578.6558227539062,580.8816528320312,579.927734375,579.6196899414062,574.323486328125,575.5656127929688,575.3668823242188,577.1455078125,578.07958984375,576.3306884765625,565.0328369140625,567.4176025390625,566.1953735351562,573.041748046875,587.2907104492188,591.831787109375,594.3953857421875,594.9617919921875,593.1135864257812,593.4017333984375,589.5860595703125,582.0343017578125,584.4190673828125,586.555419921875,586.7542114257812,589.904052734375,591.7323608398438,593.7395629882812,596.8397827148438,595.0313110351562,598.7276611328125,599.8008422851562,600.0791015625,603.8052368164062,602.8116455078125,603.954345703125,600.84423828125,598.9761352539062,603.6065673828125,600.4964599609375,600.377197265625,602.9407958984375,600.4566650390625,582.5609741210938,582.382080078125,589.3770751953125,592.9064331054688,599.49658203125,599.5364990234375,593.2254638671875,586.455810546875,584.322265625,582.8865966796875,590.1746215820312,593.5744018554688,586.8646240234375,587.7219848632812,578.7489624023438,579.6463012695312,580.4439086914062,591.002197265625,589.8656005859375,595.7877807617188,601.2413330078125,604.6211547851562,607.9212646484375,606.1465454101562,597.5723876953125,602.7069702148438,600.0050659179688,603.225341796875,600.0150146484375,595.9771728515625,599.9751586914062,602.4077758789062,604.5015258789062,598.9682006835938,603.035888671875,603.4945678710938,601.5504150390625,607.9013061523438,607.8713989257812,609.656005859375,611.0916748046875,608.5493774414062,598.1406860351562,595.4188842773438,592.457763671875,592.7568359375,583.2952880859375,592.39794921875,582.0191650390625,575.1298828125,581.311279296875,570.9923706054688,574.1926879882812,558.8987426757812,554.252685546875,557.19384765625,549.7661743164062,561.1220092773438,565.4490356445312,559.33740234375,565.4290771484375,563.7940063476562,563.97998046875,574.0800170898438,575.4600219726562,568.5900268554688,567.0800170898438,555.6599731445312,559.3900146484375,560.969970703125,564.52001953125,536.7000122070312,505.2799987792969,504.3800048828125,496.4800109863281,548.6199951171875,524.5800170898438,533.9400024414062,539.1199951171875,537.6099853515625,525.6599731445312,526.4099731445312],\"type\":\"scatter\"},{\"name\":\"Momentum\",\"x\":[\"2024-04-18T00:00:00-04:00\",\"2024-04-19T00:00:00-04:00\",\"2024-04-22T00:00:00-04:00\",\"2024-04-23T00:00:00-04:00\",\"2024-04-24T00:00:00-04:00\",\"2024-04-25T00:00:00-04:00\",\"2024-04-26T00:00:00-04:00\",\"2024-04-29T00:00:00-04:00\",\"2024-04-30T00:00:00-04:00\",\"2024-05-01T00:00:00-04:00\",\"2024-05-02T00:00:00-04:00\",\"2024-05-03T00:00:00-04:00\",\"2024-05-06T00:00:00-04:00\",\"2024-05-07T00:00:00-04:00\",\"2024-05-08T00:00:00-04:00\",\"2024-05-09T00:00:00-04:00\",\"2024-05-10T00:00:00-04:00\",\"2024-05-13T00:00:00-04:00\",\"2024-05-14T00:00:00-04:00\",\"2024-05-15T00:00:00-04:00\",\"2024-05-16T00:00:00-04:00\",\"2024-05-17T00:00:00-04:00\",\"2024-05-20T00:00:00-04:00\",\"2024-05-21T00:00:00-04:00\",\"2024-05-22T00:00:00-04:00\",\"2024-05-23T00:00:00-04:00\",\"2024-05-24T00:00:00-04:00\",\"2024-05-28T00:00:00-04:00\",\"2024-05-29T00:00:00-04:00\",\"2024-05-30T00:00:00-04:00\",\"2024-05-31T00:00:00-04:00\",\"2024-06-03T00:00:00-04:00\",\"2024-06-04T00:00:00-04:00\",\"2024-06-05T00:00:00-04:00\",\"2024-06-06T00:00:00-04:00\",\"2024-06-07T00:00:00-04:00\",\"2024-06-10T00:00:00-04:00\",\"2024-06-11T00:00:00-04:00\",\"2024-06-12T00:00:00-04:00\",\"2024-06-13T00:00:00-04:00\",\"2024-06-14T00:00:00-04:00\",\"2024-06-17T00:00:00-04:00\",\"2024-06-18T00:00:00-04:00\",\"2024-06-20T00:00:00-04:00\",\"2024-06-21T00:00:00-04:00\",\"2024-06-24T00:00:00-04:00\",\"2024-06-25T00:00:00-04:00\",\"2024-06-26T00:00:00-04:00\",\"2024-06-27T00:00:00-04:00\",\"2024-06-28T00:00:00-04:00\",\"2024-07-01T00:00:00-04:00\",\"2024-07-02T00:00:00-04:00\",\"2024-07-03T00:00:00-04:00\",\"2024-07-05T00:00:00-04:00\",\"2024-07-08T00:00:00-04:00\",\"2024-07-09T00:00:00-04:00\",\"2024-07-10T00:00:00-04:00\",\"2024-07-11T00:00:00-04:00\",\"2024-07-12T00:00:00-04:00\",\"2024-07-15T00:00:00-04:00\",\"2024-07-16T00:00:00-04:00\",\"2024-07-17T00:00:00-04:00\",\"2024-07-18T00:00:00-04:00\",\"2024-07-19T00:00:00-04:00\",\"2024-07-22T00:00:00-04:00\",\"2024-07-23T00:00:00-04:00\",\"2024-07-24T00:00:00-04:00\",\"2024-07-25T00:00:00-04:00\",\"2024-07-26T00:00:00-04:00\",\"2024-07-29T00:00:00-04:00\",\"2024-07-30T00:00:00-04:00\",\"2024-07-31T00:00:00-04:00\",\"2024-08-01T00:00:00-04:00\",\"2024-08-02T00:00:00-04:00\",\"2024-08-05T00:00:00-04:00\",\"2024-08-06T00:00:00-04:00\",\"2024-08-07T00:00:00-04:00\",\"2024-08-08T00:00:00-04:00\",\"2024-08-09T00:00:00-04:00\",\"2024-08-12T00:00:00-04:00\",\"2024-08-13T00:00:00-04:00\",\"2024-08-14T00:00:00-04:00\",\"2024-08-15T00:00:00-04:00\",\"2024-08-16T00:00:00-04:00\",\"2024-08-19T00:00:00-04:00\",\"2024-08-20T00:00:00-04:00\",\"2024-08-21T00:00:00-04:00\",\"2024-08-22T00:00:00-04:00\",\"2024-08-23T00:00:00-04:00\",\"2024-08-26T00:00:00-04:00\",\"2024-08-27T00:00:00-04:00\",\"2024-08-28T00:00:00-04:00\",\"2024-08-29T00:00:00-04:00\",\"2024-08-30T00:00:00-04:00\",\"2024-09-03T00:00:00-04:00\",\"2024-09-04T00:00:00-04:00\",\"2024-09-05T00:00:00-04:00\",\"2024-09-06T00:00:00-04:00\",\"2024-09-09T00:00:00-04:00\",\"2024-09-10T00:00:00-04:00\",\"2024-09-11T00:00:00-04:00\",\"2024-09-12T00:00:00-04:00\",\"2024-09-13T00:00:00-04:00\",\"2024-09-16T00:00:00-04:00\",\"2024-09-17T00:00:00-04:00\",\"2024-09-18T00:00:00-04:00\",\"2024-09-19T00:00:00-04:00\",\"2024-09-20T00:00:00-04:00\",\"2024-09-23T00:00:00-04:00\",\"2024-09-24T00:00:00-04:00\",\"2024-09-25T00:00:00-04:00\",\"2024-09-26T00:00:00-04:00\",\"2024-09-27T00:00:00-04:00\",\"2024-09-30T00:00:00-04:00\",\"2024-10-01T00:00:00-04:00\",\"2024-10-02T00:00:00-04:00\",\"2024-10-03T00:00:00-04:00\",\"2024-10-04T00:00:00-04:00\",\"2024-10-07T00:00:00-04:00\",\"2024-10-08T00:00:00-04:00\",\"2024-10-09T00:00:00-04:00\",\"2024-10-10T00:00:00-04:00\",\"2024-10-11T00:00:00-04:00\",\"2024-10-14T00:00:00-04:00\",\"2024-10-15T00:00:00-04:00\",\"2024-10-16T00:00:00-04:00\",\"2024-10-17T00:00:00-04:00\",\"2024-10-18T00:00:00-04:00\",\"2024-10-21T00:00:00-04:00\",\"2024-10-22T00:00:00-04:00\",\"2024-10-23T00:00:00-04:00\",\"2024-10-24T00:00:00-04:00\",\"2024-10-25T00:00:00-04:00\",\"2024-10-28T00:00:00-04:00\",\"2024-10-29T00:00:00-04:00\",\"2024-10-30T00:00:00-04:00\",\"2024-10-31T00:00:00-04:00\",\"2024-11-01T00:00:00-04:00\",\"2024-11-04T00:00:00-05:00\",\"2024-11-05T00:00:00-05:00\",\"2024-11-06T00:00:00-05:00\",\"2024-11-07T00:00:00-05:00\",\"2024-11-08T00:00:00-05:00\",\"2024-11-11T00:00:00-05:00\",\"2024-11-12T00:00:00-05:00\",\"2024-11-13T00:00:00-05:00\",\"2024-11-14T00:00:00-05:00\",\"2024-11-15T00:00:00-05:00\",\"2024-11-18T00:00:00-05:00\",\"2024-11-19T00:00:00-05:00\",\"2024-11-20T00:00:00-05:00\",\"2024-11-21T00:00:00-05:00\",\"2024-11-22T00:00:00-05:00\",\"2024-11-25T00:00:00-05:00\",\"2024-11-26T00:00:00-05:00\",\"2024-11-27T00:00:00-05:00\",\"2024-11-29T00:00:00-05:00\",\"2024-12-02T00:00:00-05:00\",\"2024-12-03T00:00:00-05:00\",\"2024-12-04T00:00:00-05:00\",\"2024-12-05T00:00:00-05:00\",\"2024-12-06T00:00:00-05:00\",\"2024-12-09T00:00:00-05:00\",\"2024-12-10T00:00:00-05:00\",\"2024-12-11T00:00:00-05:00\",\"2024-12-12T00:00:00-05:00\",\"2024-12-13T00:00:00-05:00\",\"2024-12-16T00:00:00-05:00\",\"2024-12-17T00:00:00-05:00\",\"2024-12-18T00:00:00-05:00\",\"2024-12-19T00:00:00-05:00\",\"2024-12-20T00:00:00-05:00\",\"2024-12-23T00:00:00-05:00\",\"2024-12-24T00:00:00-05:00\",\"2024-12-26T00:00:00-05:00\",\"2024-12-27T00:00:00-05:00\",\"2024-12-30T00:00:00-05:00\",\"2024-12-31T00:00:00-05:00\",\"2025-01-02T00:00:00-05:00\",\"2025-01-03T00:00:00-05:00\",\"2025-01-06T00:00:00-05:00\",\"2025-01-07T00:00:00-05:00\",\"2025-01-08T00:00:00-05:00\",\"2025-01-10T00:00:00-05:00\",\"2025-01-13T00:00:00-05:00\",\"2025-01-14T00:00:00-05:00\",\"2025-01-15T00:00:00-05:00\",\"2025-01-16T00:00:00-05:00\",\"2025-01-17T00:00:00-05:00\",\"2025-01-21T00:00:00-05:00\",\"2025-01-22T00:00:00-05:00\",\"2025-01-23T00:00:00-05:00\",\"2025-01-24T00:00:00-05:00\",\"2025-01-27T00:00:00-05:00\",\"2025-01-28T00:00:00-05:00\",\"2025-01-29T00:00:00-05:00\",\"2025-01-30T00:00:00-05:00\",\"2025-01-31T00:00:00-05:00\",\"2025-02-03T00:00:00-05:00\",\"2025-02-04T00:00:00-05:00\",\"2025-02-05T00:00:00-05:00\",\"2025-02-06T00:00:00-05:00\",\"2025-02-07T00:00:00-05:00\",\"2025-02-10T00:00:00-05:00\",\"2025-02-11T00:00:00-05:00\",\"2025-02-12T00:00:00-05:00\",\"2025-02-13T00:00:00-05:00\",\"2025-02-14T00:00:00-05:00\",\"2025-02-18T00:00:00-05:00\",\"2025-02-19T00:00:00-05:00\",\"2025-02-20T00:00:00-05:00\",\"2025-02-21T00:00:00-05:00\",\"2025-02-24T00:00:00-05:00\",\"2025-02-25T00:00:00-05:00\",\"2025-02-26T00:00:00-05:00\",\"2025-02-27T00:00:00-05:00\",\"2025-02-28T00:00:00-05:00\",\"2025-03-03T00:00:00-05:00\",\"2025-03-04T00:00:00-05:00\",\"2025-03-05T00:00:00-05:00\",\"2025-03-06T00:00:00-05:00\",\"2025-03-07T00:00:00-05:00\",\"2025-03-10T00:00:00-04:00\",\"2025-03-11T00:00:00-04:00\",\"2025-03-12T00:00:00-04:00\",\"2025-03-13T00:00:00-04:00\",\"2025-03-14T00:00:00-04:00\",\"2025-03-17T00:00:00-04:00\",\"2025-03-18T00:00:00-04:00\",\"2025-03-19T00:00:00-04:00\",\"2025-03-20T00:00:00-04:00\",\"2025-03-21T00:00:00-04:00\",\"2025-03-24T00:00:00-04:00\",\"2025-03-25T00:00:00-04:00\",\"2025-03-26T00:00:00-04:00\",\"2025-03-27T00:00:00-04:00\",\"2025-03-28T00:00:00-04:00\",\"2025-03-31T00:00:00-04:00\",\"2025-04-01T00:00:00-04:00\",\"2025-04-02T00:00:00-04:00\",\"2025-04-03T00:00:00-04:00\",\"2025-04-04T00:00:00-04:00\",\"2025-04-07T00:00:00-04:00\",\"2025-04-08T00:00:00-04:00\",\"2025-04-09T00:00:00-04:00\",\"2025-04-10T00:00:00-04:00\",\"2025-04-11T00:00:00-04:00\",\"2025-04-14T00:00:00-04:00\",\"2025-04-15T00:00:00-04:00\",\"2025-04-16T00:00:00-04:00\",\"2025-04-17T00:00:00-04:00\"],\"y\":[null,-0.008728319186030009,0.009209130985944558,0.011866633467404464,-0.0004746680898967126,-0.003798903452181035,0.009473994746552306,0.0035414250964573846,-0.015841273875022543,-0.003247105264761907,0.009353393102000673,0.012395319825871942,0.010326719515552973,0.0011033709352159526,9.687631553978449e-05,0.005761879330813846,0.0012881209227080248,0.00013410554391124485,0.004588286514030759,0.012382949389534215,-0.0020573270033357183,0.0014374741982441375,0.0011521813341253129,0.0024523748912728127,-0.002879347856559855,-0.007304204015124771,0.006616500353154198,0.0006987471586032967,-0.00700242611547941,-0.006633655630547408,0.00910804398998244,0.0008152988317526866,0.0011179560774192687,0.011885110365833507,-1.87284514425734e-05,-0.0012157536048030826,0.0030898469001348072,0.0024082741236772787,0.008213010343132154,0.002013548032625989,0.0006084910481736205,0.007958755274225515,0.0025407201011768965,-0.0027165087323838266,-0.0013405402864392624,-0.0032507863601173304,0.003850910876308733,0.0012480284689813104,0.001576501253757856,-0.0039351622921779406,0.002058113778742765,0.006729729803014894,0.0044626679560688665,0.005766475828777207,0.0011538590570103757,0.0009725540044869252,0.009895114995724485,-0.008622469549304346,0.0063074710559731795,0.0027500889281606433,0.0059303525908864785,-0.014021296183179488,-0.007684891354912127,-0.006640594820703893,0.010309907764797899,-0.001568518021516696,-0.022662529895389527,-0.005210422164865003,0.011199688003051378,0.0005877948706805025,-0.005066384968348547,0.01625451939139344,-0.014160938445735294,-0.018618307728389905,-0.029123772129418968,0.009219593377574054,-0.006683938581962812,0.023117367545735235,0.004409584931476029,0.0005252826978074943,0.016445749361880813,0.0031547727845206985,0.017140313134474505,0.0022419688775729973,0.00956137923062128,-0.0016261809630030433,0.003436643265334993,-0.007848534947103691,0.010625404799875504,-0.002383835819706248,0.0013730278312533706,-0.005805286408283039,8.950083475256498e-05,0.009546048472447888,-0.020578909301411263,-0.002046891344454127,-0.0024322092543163087,-0.016830212614402984,0.011196214999071863,0.004355808027816543,0.010258989035387689,0.00842327992936509,0.0052228347408600495,0.0014767172017491337,0.0004086456412846218,-0.0029658202997837613,0.0170643557287935,-0.0017285755475674458,0.0024988247405808295,0.002861358516134782,-0.002205508492116204,0.003964639036064588,-0.0014503466374615748,0.004007278926261737,-0.008958390519408721,0.0004219430705247884,-0.0018281887024179655,0.009087478910982494,-0.009040588309326747,0.009457559870797994,0.006926513350950181,-0.001750022536475826,0.0059882065403507045,0.00817828051670677,-0.007769662019544432,0.004346500392314434,8.576054306153047e-05,0.0038465526321536103,-0.0016421907154073878,-0.0005311772749163612,-0.009137376982166767,0.0021627645297690457,-0.0003452785648289103,0.003091289302395106,0.0016184515319028758,-0.0030253643233800753,-0.019603071272092154,0.00422057882162119,-0.0021540202461768354,0.012091894126530889,0.024865487463887392,0.007732246703992196,0.0043316339011354454,0.0009529115864397308,-0.0031064273223624372,0.00048582089375615034,-0.006430169669833119,-0.012808575932076294,0.00409729395294689,0.003655514780908309,0.0003389134208882094,0.0053682466137563445,0.003099331318362708,0.0033920777048406237,0.005221514481802636,-0.0030300789794227567,0.006212026206193766,0.0017924362310457465,0.00046391945080248576,0.006209406800210315,-0.0016455493394401666,0.0018956173189883518,-0.005149573711990096,-0.003109130300870566,0.007730578659771448,-0.005152540727580535,-0.00019860682495986826,0.004269980013378527,-0.004120024513639686,-0.029803467860256894,-0.00030708209254604046,0.012011006788273937,0.005988285019376871,0.011114989748490345,6.658418643890052e-05,-0.010526523683762057,-0.011411602725516334,-0.003638031857652546,-0.002456981412092718,0.012503332455847671,0.005760634478527704,-0.011304021553249277,0.001460917568971487,-0.015267460962898771,0.0015504803040384818,0.00137602434472206,0.01819002390432889,-0.0019231682808391604,0.010039880559060466,0.009153514761785386,0.0056214062337258675,0.005458144884880722,-0.002919324164959991,-0.01414535441927156,0.008592402569559843,-0.004482948481435156,0.005367081149522335,-0.0053219368053647464,-0.006729567924630753,0.006708286863932544,0.004054529845545218,0.0034756357468082033,-0.009153533876142705,0.006791158501634698,0.0007606167523941387,-0.0032214918501909384,0.010557537580401899,-4.919750337728512e-05,0.002935829744165508,0.0023548836253795002,-0.004160255274454183,-0.017104103285771943,-0.004550437416077302,-0.004973172137566095,0.0005047993020994568,-0.015961937978493657,0.015605579744493614,-0.01751995291910613,-0.01183686490134761,0.010747827002392407,-0.017751089749862614,0.005604833877935977,-0.02663556264724176,-0.008312878119322353,0.005306536505949477,-0.013330501352603052,0.020655754194149223,0.007711382365414909,-0.010808460030027,0.010890876918228543,-0.0028917345549811513,0.00032986182719207946,0.017908502022889516,0.0024038545877420603,-0.011938266525687413,-0.0026557092004866334,-0.020138328985595644,0.0067128130226792315,0.0028244266313557365,0.006328411525621025,-0.04928081620084812,-0.058542971330535654,-0.0017811785518102585,-0.0156627816725603,0.10501930183911301,-0.04381899719533322,0.017842817199724692,0.009701450822369617,-0.0028008788011967267,-0.02222803246337901,0.001426777837987947],\"yaxis\":\"y2\",\"type\":\"scatter\"},{\"marker\":{\"color\":\"Red\",\"symbol\":\"triangle-down\"},\"mode\":\"markers\",\"name\":\"Sell\",\"x\":[\"2024-04-22T00:00:00-04:00\",\"2024-04-23T00:00:00-04:00\",\"2024-04-26T00:00:00-04:00\",\"2024-04-29T00:00:00-04:00\",\"2024-05-02T00:00:00-04:00\",\"2024-05-03T00:00:00-04:00\",\"2024-05-06T00:00:00-04:00\",\"2024-05-07T00:00:00-04:00\",\"2024-05-08T00:00:00-04:00\",\"2024-05-09T00:00:00-04:00\",\"2024-05-10T00:00:00-04:00\",\"2024-05-13T00:00:00-04:00\",\"2024-05-14T00:00:00-04:00\",\"2024-05-15T00:00:00-04:00\",\"2024-05-17T00:00:00-04:00\",\"2024-05-20T00:00:00-04:00\",\"2024-05-21T00:00:00-04:00\",\"2024-05-24T00:00:00-04:00\",\"2024-05-28T00:00:00-04:00\",\"2024-05-31T00:00:00-04:00\",\"2024-06-03T00:00:00-04:00\",\"2024-06-04T00:00:00-04:00\",\"2024-06-05T00:00:00-04:00\",\"2024-06-10T00:00:00-04:00\",\"2024-06-11T00:00:00-04:00\",\"2024-06-12T00:00:00-04:00\",\"2024-06-13T00:00:00-04:00\",\"2024-06-14T00:00:00-04:00\",\"2024-06-17T00:00:00-04:00\",\"2024-06-18T00:00:00-04:00\",\"2024-06-25T00:00:00-04:00\",\"2024-06-26T00:00:00-04:00\",\"2024-06-27T00:00:00-04:00\",\"2024-07-01T00:00:00-04:00\",\"2024-07-02T00:00:00-04:00\",\"2024-07-03T00:00:00-04:00\",\"2024-07-05T00:00:00-04:00\",\"2024-07-08T00:00:00-04:00\",\"2024-07-09T00:00:00-04:00\",\"2024-07-10T00:00:00-04:00\",\"2024-07-12T00:00:00-04:00\",\"2024-07-15T00:00:00-04:00\",\"2024-07-16T00:00:00-04:00\",\"2024-07-22T00:00:00-04:00\",\"2024-07-26T00:00:00-04:00\",\"2024-07-29T00:00:00-04:00\",\"2024-07-31T00:00:00-04:00\",\"2024-08-06T00:00:00-04:00\",\"2024-08-08T00:00:00-04:00\",\"2024-08-09T00:00:00-04:00\",\"2024-08-12T00:00:00-04:00\",\"2024-08-13T00:00:00-04:00\",\"2024-08-14T00:00:00-04:00\",\"2024-08-15T00:00:00-04:00\",\"2024-08-16T00:00:00-04:00\",\"2024-08-19T00:00:00-04:00\",\"2024-08-21T00:00:00-04:00\",\"2024-08-23T00:00:00-04:00\",\"2024-08-27T00:00:00-04:00\",\"2024-08-29T00:00:00-04:00\",\"2024-08-30T00:00:00-04:00\",\"2024-09-09T00:00:00-04:00\",\"2024-09-10T00:00:00-04:00\",\"2024-09-11T00:00:00-04:00\",\"2024-09-12T00:00:00-04:00\",\"2024-09-13T00:00:00-04:00\",\"2024-09-16T00:00:00-04:00\",\"2024-09-17T00:00:00-04:00\",\"2024-09-19T00:00:00-04:00\",\"2024-09-23T00:00:00-04:00\",\"2024-09-24T00:00:00-04:00\",\"2024-09-26T00:00:00-04:00\",\"2024-09-30T00:00:00-04:00\",\"2024-10-02T00:00:00-04:00\",\"2024-10-04T00:00:00-04:00\",\"2024-10-08T00:00:00-04:00\",\"2024-10-09T00:00:00-04:00\",\"2024-10-11T00:00:00-04:00\",\"2024-10-14T00:00:00-04:00\",\"2024-10-16T00:00:00-04:00\",\"2024-10-17T00:00:00-04:00\",\"2024-10-18T00:00:00-04:00\",\"2024-10-24T00:00:00-04:00\",\"2024-10-28T00:00:00-04:00\",\"2024-10-29T00:00:00-04:00\",\"2024-11-01T00:00:00-04:00\",\"2024-11-05T00:00:00-05:00\",\"2024-11-06T00:00:00-05:00\",\"2024-11-07T00:00:00-05:00\",\"2024-11-08T00:00:00-05:00\",\"2024-11-11T00:00:00-05:00\",\"2024-11-13T00:00:00-05:00\",\"2024-11-18T00:00:00-05:00\",\"2024-11-19T00:00:00-05:00\",\"2024-11-20T00:00:00-05:00\",\"2024-11-21T00:00:00-05:00\",\"2024-11-22T00:00:00-05:00\",\"2024-11-25T00:00:00-05:00\",\"2024-11-26T00:00:00-05:00\",\"2024-11-29T00:00:00-05:00\",\"2024-12-02T00:00:00-05:00\",\"2024-12-03T00:00:00-05:00\",\"2024-12-04T00:00:00-05:00\",\"2024-12-06T00:00:00-05:00\",\"2024-12-11T00:00:00-05:00\",\"2024-12-16T00:00:00-05:00\",\"2024-12-20T00:00:00-05:00\",\"2024-12-23T00:00:00-05:00\",\"2024-12-24T00:00:00-05:00\",\"2024-12-26T00:00:00-05:00\",\"2025-01-03T00:00:00-05:00\",\"2025-01-06T00:00:00-05:00\",\"2025-01-08T00:00:00-05:00\",\"2025-01-13T00:00:00-05:00\",\"2025-01-14T00:00:00-05:00\",\"2025-01-15T00:00:00-05:00\",\"2025-01-17T00:00:00-05:00\",\"2025-01-21T00:00:00-05:00\",\"2025-01-22T00:00:00-05:00\",\"2025-01-23T00:00:00-05:00\",\"2025-01-28T00:00:00-05:00\",\"2025-01-30T00:00:00-05:00\",\"2025-02-04T00:00:00-05:00\",\"2025-02-05T00:00:00-05:00\",\"2025-02-06T00:00:00-05:00\",\"2025-02-10T00:00:00-05:00\",\"2025-02-11T00:00:00-05:00\",\"2025-02-13T00:00:00-05:00\",\"2025-02-18T00:00:00-05:00\",\"2025-02-19T00:00:00-05:00\",\"2025-02-26T00:00:00-05:00\",\"2025-02-28T00:00:00-05:00\",\"2025-03-05T00:00:00-05:00\",\"2025-03-07T00:00:00-05:00\",\"2025-03-12T00:00:00-04:00\",\"2025-03-14T00:00:00-04:00\",\"2025-03-17T00:00:00-04:00\",\"2025-03-19T00:00:00-04:00\",\"2025-03-21T00:00:00-04:00\",\"2025-03-24T00:00:00-04:00\",\"2025-03-25T00:00:00-04:00\",\"2025-03-31T00:00:00-04:00\",\"2025-04-01T00:00:00-04:00\",\"2025-04-02T00:00:00-04:00\",\"2025-04-09T00:00:00-04:00\",\"2025-04-11T00:00:00-04:00\",\"2025-04-14T00:00:00-04:00\",\"2025-04-17T00:00:00-04:00\"],\"y\":[493.43975830078125,499.29522705078125,501.8724670410156,503.6498107910156,498.6830139160156,504.8643493652344,510.07794189453125,510.6407470703125,510.6902160644531,513.6327514648438,514.2943725585938,514.3633422851562,516.723388671875,523.1219482421875,522.796142578125,523.3984985351562,524.6820678710938,522.7862548828125,523.1515502929688,520.7422485351562,521.1668090820312,521.7494506835938,527.9505004882812,528.9280395507812,530.2018432617188,534.556396484375,535.6327514648438,535.9586791992188,540.2242431640625,541.5968017578125,539.7184448242188,540.3920288085938,541.2439575195312,540.2236328125,543.8591918945312,546.2862548828125,549.4364013671875,550.0703735351562,550.6053466796875,556.0536499023438,554.7361450195312,556.26171875,559.560546875,549.4462890625,539.33203125,539.6490478515625,545.6422729492188,517.251220703125,525.6715087890625,527.989501953125,528.266845703125,536.95458984375,538.6485595703125,547.8811645507812,549.1094970703125,554.3597412109375,555.3602905273438,556.8561401367188,556.2914428710938,553.1115112304688,558.3915405273438,541.2835083007812,543.6412353515625,549.2184448242188,553.8446655273438,556.7373046875,557.5594482421875,557.7872924804688,565.623046875,566.0562744140625,567.6759643554688,568.6696166992188,570.120361328125,565.2514038085938,569.3453369140625,569.5340576171875,573.4789428710938,575.9034423828125,580.6133422851562,578.606201171875,578.6558227539062,580.8816528320312,575.5656127929688,577.1455078125,578.07958984375,567.4176025390625,573.041748046875,587.2907104492188,591.831787109375,594.3953857421875,594.9617919921875,593.4017333984375,584.4190673828125,586.555419921875,586.7542114257812,589.904052734375,591.7323608398438,593.7395629882812,596.8397827148438,598.7276611328125,599.8008422851562,600.0791015625,603.8052368164062,603.954345703125,603.6065673828125,602.9407958984375,589.3770751953125,592.9064331054688,599.49658203125,599.5364990234375,590.1746215820312,593.5744018554688,587.7219848632812,579.6463012695312,580.4439086914062,591.002197265625,595.7877807617188,601.2413330078125,604.6211547851562,607.9212646484375,602.7069702148438,603.225341796875,599.9751586914062,602.4077758789062,604.5015258789062,603.035888671875,603.4945678710938,607.9013061523438,609.656005859375,611.0916748046875,592.7568359375,592.39794921875,581.311279296875,574.1926879882812,557.19384765625,561.1220092773438,565.4490356445312,565.4290771484375,563.97998046875,574.0800170898438,575.4600219726562,559.3900146484375,560.969970703125,564.52001953125,548.6199951171875,533.9400024414062,539.1199951171875,526.4099731445312],\"type\":\"scatter\"},{\"marker\":{\"color\":\"Green\",\"symbol\":\"triangle-up\"},\"mode\":\"markers\",\"name\":\"Buy\",\"x\":[\"2024-04-19T00:00:00-04:00\",\"2024-04-24T00:00:00-04:00\",\"2024-04-25T00:00:00-04:00\",\"2024-04-30T00:00:00-04:00\",\"2024-05-01T00:00:00-04:00\",\"2024-05-16T00:00:00-04:00\",\"2024-05-22T00:00:00-04:00\",\"2024-05-23T00:00:00-04:00\",\"2024-05-29T00:00:00-04:00\",\"2024-05-30T00:00:00-04:00\",\"2024-06-06T00:00:00-04:00\",\"2024-06-07T00:00:00-04:00\",\"2024-06-20T00:00:00-04:00\",\"2024-06-21T00:00:00-04:00\",\"2024-06-24T00:00:00-04:00\",\"2024-06-28T00:00:00-04:00\",\"2024-07-11T00:00:00-04:00\",\"2024-07-17T00:00:00-04:00\",\"2024-07-18T00:00:00-04:00\",\"2024-07-19T00:00:00-04:00\",\"2024-07-23T00:00:00-04:00\",\"2024-07-24T00:00:00-04:00\",\"2024-07-25T00:00:00-04:00\",\"2024-07-30T00:00:00-04:00\",\"2024-08-01T00:00:00-04:00\",\"2024-08-02T00:00:00-04:00\",\"2024-08-05T00:00:00-04:00\",\"2024-08-07T00:00:00-04:00\",\"2024-08-20T00:00:00-04:00\",\"2024-08-22T00:00:00-04:00\",\"2024-08-26T00:00:00-04:00\",\"2024-08-28T00:00:00-04:00\",\"2024-09-03T00:00:00-04:00\",\"2024-09-04T00:00:00-04:00\",\"2024-09-05T00:00:00-04:00\",\"2024-09-06T00:00:00-04:00\",\"2024-09-18T00:00:00-04:00\",\"2024-09-20T00:00:00-04:00\",\"2024-09-25T00:00:00-04:00\",\"2024-09-27T00:00:00-04:00\",\"2024-10-01T00:00:00-04:00\",\"2024-10-03T00:00:00-04:00\",\"2024-10-07T00:00:00-04:00\",\"2024-10-10T00:00:00-04:00\",\"2024-10-15T00:00:00-04:00\",\"2024-10-21T00:00:00-04:00\",\"2024-10-22T00:00:00-04:00\",\"2024-10-23T00:00:00-04:00\",\"2024-10-25T00:00:00-04:00\",\"2024-10-30T00:00:00-04:00\",\"2024-10-31T00:00:00-04:00\",\"2024-11-04T00:00:00-05:00\",\"2024-11-12T00:00:00-05:00\",\"2024-11-14T00:00:00-05:00\",\"2024-11-15T00:00:00-05:00\",\"2024-11-27T00:00:00-05:00\",\"2024-12-05T00:00:00-05:00\",\"2024-12-09T00:00:00-05:00\",\"2024-12-10T00:00:00-05:00\",\"2024-12-12T00:00:00-05:00\",\"2024-12-13T00:00:00-05:00\",\"2024-12-17T00:00:00-05:00\",\"2024-12-18T00:00:00-05:00\",\"2024-12-19T00:00:00-05:00\",\"2024-12-27T00:00:00-05:00\",\"2024-12-30T00:00:00-05:00\",\"2024-12-31T00:00:00-05:00\",\"2025-01-02T00:00:00-05:00\",\"2025-01-07T00:00:00-05:00\",\"2025-01-10T00:00:00-05:00\",\"2025-01-16T00:00:00-05:00\",\"2025-01-24T00:00:00-05:00\",\"2025-01-27T00:00:00-05:00\",\"2025-01-29T00:00:00-05:00\",\"2025-01-31T00:00:00-05:00\",\"2025-02-03T00:00:00-05:00\",\"2025-02-07T00:00:00-05:00\",\"2025-02-12T00:00:00-05:00\",\"2025-02-14T00:00:00-05:00\",\"2025-02-20T00:00:00-05:00\",\"2025-02-21T00:00:00-05:00\",\"2025-02-24T00:00:00-05:00\",\"2025-02-25T00:00:00-05:00\",\"2025-02-27T00:00:00-05:00\",\"2025-03-03T00:00:00-05:00\",\"2025-03-04T00:00:00-05:00\",\"2025-03-06T00:00:00-05:00\",\"2025-03-10T00:00:00-04:00\",\"2025-03-11T00:00:00-04:00\",\"2025-03-13T00:00:00-04:00\",\"2025-03-18T00:00:00-04:00\",\"2025-03-20T00:00:00-04:00\",\"2025-03-26T00:00:00-04:00\",\"2025-03-27T00:00:00-04:00\",\"2025-03-28T00:00:00-04:00\",\"2025-04-03T00:00:00-04:00\",\"2025-04-04T00:00:00-04:00\",\"2025-04-07T00:00:00-04:00\",\"2025-04-08T00:00:00-04:00\",\"2025-04-10T00:00:00-04:00\",\"2025-04-15T00:00:00-04:00\",\"2025-04-16T00:00:00-04:00\"],\"y\":[488.93707275390625,499.0582275390625,497.162353515625,495.6713562011719,494.0618591308594,522.0457153320312,523.1713256835938,519.3499755859375,519.4882202148438,516.0421142578125,527.9406127929688,527.2987670898438,540.1255493164062,539.4014892578125,537.6480102539062,539.1140747070312,551.2590942382812,551.7147827148438,547.4749145507812,543.83935546875,548.58447265625,536.1521606445312,533.3585815429688,536.9149780273438,537.9154663085938,527.900390625,512.5259399414062,513.7939453125,553.458251953125,551.0015258789062,555.5286865234375,553.06201171875,546.9004516601562,545.781005859375,544.4535522460938,535.290283203125,556.1329956054688,564.6453247070312,566.4239501953125,567.8448486328125,565.0130004882812,564.218017578125,564.1981201171875,572.475341796875,576.1021728515625,579.927734375,579.6196899414062,574.323486328125,575.3668823242188,576.3306884765625,565.0328369140625,566.1953735351562,593.1135864257812,589.5860595703125,582.0343017578125,595.0313110351562,602.8116455078125,600.84423828125,598.9761352539062,600.4964599609375,600.377197265625,600.4566650390625,582.5609741210938,582.382080078125,593.2254638671875,586.455810546875,584.322265625,582.8865966796875,586.8646240234375,578.7489624023438,589.8656005859375,606.1465454101562,597.5723876953125,600.0050659179688,600.0150146484375,595.9771728515625,598.9682006835938,601.5504150390625,607.8713989257812,608.5493774414062,598.1406860351562,595.4188842773438,592.457763671875,583.2952880859375,582.0191650390625,575.1298828125,570.9923706054688,558.8987426757812,554.252685546875,549.7661743164062,559.33740234375,563.7940063476562,568.5900268554688,567.0800170898438,555.6599731445312,536.7000122070312,505.2799987792969,504.3800048828125,496.4800109863281,524.5800170898438,537.6099853515625,525.6599731445312],\"type\":\"scatter\"}],                        {\"template\":{\"data\":{\"bar\":[{\"error_x\":{\"color\":\"#2a3f5f\"},\"error_y\":{\"color\":\"#2a3f5f\"},\"marker\":{\"line\":{\"color\":\"#E5ECF6\",\"width\":0.5},\"pattern\":{\"fillmode\":\"overlay\",\"size\":10,\"solidity\":0.2}},\"type\":\"bar\"}],\"barpolar\":[{\"marker\":{\"line\":{\"color\":\"#E5ECF6\",\"width\":0.5},\"pattern\":{\"fillmode\":\"overlay\",\"size\":10,\"solidity\":0.2}},\"type\":\"barpolar\"}],\"carpet\":[{\"aaxis\":{\"endlinecolor\":\"#2a3f5f\",\"gridcolor\":\"white\",\"linecolor\":\"white\",\"minorgridcolor\":\"white\",\"startlinecolor\":\"#2a3f5f\"},\"baxis\":{\"endlinecolor\":\"#2a3f5f\",\"gridcolor\":\"white\",\"linecolor\":\"white\",\"minorgridcolor\":\"white\",\"startlinecolor\":\"#2a3f5f\"},\"type\":\"carpet\"}],\"choropleth\":[{\"colorbar\":{\"outlinewidth\":0,\"ticks\":\"\"},\"type\":\"choropleth\"}],\"contour\":[{\"colorbar\":{\"outlinewidth\":0,\"ticks\":\"\"},\"colorscale\":[[0.0,\"#0d0887\"],[0.1111111111111111,\"#46039f\"],[0.2222222222222222,\"#7201a8\"],[0.3333333333333333,\"#9c179e\"],[0.4444444444444444,\"#bd3786\"],[0.5555555555555556,\"#d8576b\"],[0.6666666666666666,\"#ed7953\"],[0.7777777777777778,\"#fb9f3a\"],[0.8888888888888888,\"#fdca26\"],[1.0,\"#f0f921\"]],\"type\":\"contour\"}],\"contourcarpet\":[{\"colorbar\":{\"outlinewidth\":0,\"ticks\":\"\"},\"type\":\"contourcarpet\"}],\"heatmap\":[{\"colorbar\":{\"outlinewidth\":0,\"ticks\":\"\"},\"colorscale\":[[0.0,\"#0d0887\"],[0.1111111111111111,\"#46039f\"],[0.2222222222222222,\"#7201a8\"],[0.3333333333333333,\"#9c179e\"],[0.4444444444444444,\"#bd3786\"],[0.5555555555555556,\"#d8576b\"],[0.6666666666666666,\"#ed7953\"],[0.7777777777777778,\"#fb9f3a\"],[0.8888888888888888,\"#fdca26\"],[1.0,\"#f0f921\"]],\"type\":\"heatmap\"}],\"heatmapgl\":[{\"colorbar\":{\"outlinewidth\":0,\"ticks\":\"\"},\"colorscale\":[[0.0,\"#0d0887\"],[0.1111111111111111,\"#46039f\"],[0.2222222222222222,\"#7201a8\"],[0.3333333333333333,\"#9c179e\"],[0.4444444444444444,\"#bd3786\"],[0.5555555555555556,\"#d8576b\"],[0.6666666666666666,\"#ed7953\"],[0.7777777777777778,\"#fb9f3a\"],[0.8888888888888888,\"#fdca26\"],[1.0,\"#f0f921\"]],\"type\":\"heatmapgl\"}],\"histogram\":[{\"marker\":{\"pattern\":{\"fillmode\":\"overlay\",\"size\":10,\"solidity\":0.2}},\"type\":\"histogram\"}],\"histogram2d\":[{\"colorbar\":{\"outlinewidth\":0,\"ticks\":\"\"},\"colorscale\":[[0.0,\"#0d0887\"],[0.1111111111111111,\"#46039f\"],[0.2222222222222222,\"#7201a8\"],[0.3333333333333333,\"#9c179e\"],[0.4444444444444444,\"#bd3786\"],[0.5555555555555556,\"#d8576b\"],[0.6666666666666666,\"#ed7953\"],[0.7777777777777778,\"#fb9f3a\"],[0.8888888888888888,\"#fdca26\"],[1.0,\"#f0f921\"]],\"type\":\"histogram2d\"}],\"histogram2dcontour\":[{\"colorbar\":{\"outlinewidth\":0,\"ticks\":\"\"},\"colorscale\":[[0.0,\"#0d0887\"],[0.1111111111111111,\"#46039f\"],[0.2222222222222222,\"#7201a8\"],[0.3333333333333333,\"#9c179e\"],[0.4444444444444444,\"#bd3786\"],[0.5555555555555556,\"#d8576b\"],[0.6666666666666666,\"#ed7953\"],[0.7777777777777778,\"#fb9f3a\"],[0.8888888888888888,\"#fdca26\"],[1.0,\"#f0f921\"]],\"type\":\"histogram2dcontour\"}],\"mesh3d\":[{\"colorbar\":{\"outlinewidth\":0,\"ticks\":\"\"},\"type\":\"mesh3d\"}],\"parcoords\":[{\"line\":{\"colorbar\":{\"outlinewidth\":0,\"ticks\":\"\"}},\"type\":\"parcoords\"}],\"pie\":[{\"automargin\":true,\"type\":\"pie\"}],\"scatter\":[{\"marker\":{\"colorbar\":{\"outlinewidth\":0,\"ticks\":\"\"}},\"type\":\"scatter\"}],\"scatter3d\":[{\"line\":{\"colorbar\":{\"outlinewidth\":0,\"ticks\":\"\"}},\"marker\":{\"colorbar\":{\"outlinewidth\":0,\"ticks\":\"\"}},\"type\":\"scatter3d\"}],\"scattercarpet\":[{\"marker\":{\"colorbar\":{\"outlinewidth\":0,\"ticks\":\"\"}},\"type\":\"scattercarpet\"}],\"scattergeo\":[{\"marker\":{\"colorbar\":{\"outlinewidth\":0,\"ticks\":\"\"}},\"type\":\"scattergeo\"}],\"scattergl\":[{\"marker\":{\"colorbar\":{\"outlinewidth\":0,\"ticks\":\"\"}},\"type\":\"scattergl\"}],\"scattermapbox\":[{\"marker\":{\"colorbar\":{\"outlinewidth\":0,\"ticks\":\"\"}},\"type\":\"scattermapbox\"}],\"scatterpolar\":[{\"marker\":{\"colorbar\":{\"outlinewidth\":0,\"ticks\":\"\"}},\"type\":\"scatterpolar\"}],\"scatterpolargl\":[{\"marker\":{\"colorbar\":{\"outlinewidth\":0,\"ticks\":\"\"}},\"type\":\"scatterpolargl\"}],\"scatterternary\":[{\"marker\":{\"colorbar\":{\"outlinewidth\":0,\"ticks\":\"\"}},\"type\":\"scatterternary\"}],\"surface\":[{\"colorbar\":{\"outlinewidth\":0,\"ticks\":\"\"},\"colorscale\":[[0.0,\"#0d0887\"],[0.1111111111111111,\"#46039f\"],[0.2222222222222222,\"#7201a8\"],[0.3333333333333333,\"#9c179e\"],[0.4444444444444444,\"#bd3786\"],[0.5555555555555556,\"#d8576b\"],[0.6666666666666666,\"#ed7953\"],[0.7777777777777778,\"#fb9f3a\"],[0.8888888888888888,\"#fdca26\"],[1.0,\"#f0f921\"]],\"type\":\"surface\"}],\"table\":[{\"cells\":{\"fill\":{\"color\":\"#EBF0F8\"},\"line\":{\"color\":\"white\"}},\"header\":{\"fill\":{\"color\":\"#C8D4E3\"},\"line\":{\"color\":\"white\"}},\"type\":\"table\"}]},\"layout\":{\"annotationdefaults\":{\"arrowcolor\":\"#2a3f5f\",\"arrowhead\":0,\"arrowwidth\":1},\"autotypenumbers\":\"strict\",\"coloraxis\":{\"colorbar\":{\"outlinewidth\":0,\"ticks\":\"\"}},\"colorscale\":{\"diverging\":[[0,\"#8e0152\"],[0.1,\"#c51b7d\"],[0.2,\"#de77ae\"],[0.3,\"#f1b6da\"],[0.4,\"#fde0ef\"],[0.5,\"#f7f7f7\"],[0.6,\"#e6f5d0\"],[0.7,\"#b8e186\"],[0.8,\"#7fbc41\"],[0.9,\"#4d9221\"],[1,\"#276419\"]],\"sequential\":[[0.0,\"#0d0887\"],[0.1111111111111111,\"#46039f\"],[0.2222222222222222,\"#7201a8\"],[0.3333333333333333,\"#9c179e\"],[0.4444444444444444,\"#bd3786\"],[0.5555555555555556,\"#d8576b\"],[0.6666666666666666,\"#ed7953\"],[0.7777777777777778,\"#fb9f3a\"],[0.8888888888888888,\"#fdca26\"],[1.0,\"#f0f921\"]],\"sequentialminus\":[[0.0,\"#0d0887\"],[0.1111111111111111,\"#46039f\"],[0.2222222222222222,\"#7201a8\"],[0.3333333333333333,\"#9c179e\"],[0.4444444444444444,\"#bd3786\"],[0.5555555555555556,\"#d8576b\"],[0.6666666666666666,\"#ed7953\"],[0.7777777777777778,\"#fb9f3a\"],[0.8888888888888888,\"#fdca26\"],[1.0,\"#f0f921\"]]},\"colorway\":[\"#636efa\",\"#EF553B\",\"#00cc96\",\"#ab63fa\",\"#FFA15A\",\"#19d3f3\",\"#FF6692\",\"#B6E880\",\"#FF97FF\",\"#FECB52\"],\"font\":{\"color\":\"#2a3f5f\"},\"geo\":{\"bgcolor\":\"white\",\"lakecolor\":\"white\",\"landcolor\":\"#E5ECF6\",\"showlakes\":true,\"showland\":true,\"subunitcolor\":\"white\"},\"hoverlabel\":{\"align\":\"left\"},\"hovermode\":\"closest\",\"mapbox\":{\"style\":\"light\"},\"paper_bgcolor\":\"white\",\"plot_bgcolor\":\"#E5ECF6\",\"polar\":{\"angularaxis\":{\"gridcolor\":\"white\",\"linecolor\":\"white\",\"ticks\":\"\"},\"bgcolor\":\"#E5ECF6\",\"radialaxis\":{\"gridcolor\":\"white\",\"linecolor\":\"white\",\"ticks\":\"\"}},\"scene\":{\"xaxis\":{\"backgroundcolor\":\"#E5ECF6\",\"gridcolor\":\"white\",\"gridwidth\":2,\"linecolor\":\"white\",\"showbackground\":true,\"ticks\":\"\",\"zerolinecolor\":\"white\"},\"yaxis\":{\"backgroundcolor\":\"#E5ECF6\",\"gridcolor\":\"white\",\"gridwidth\":2,\"linecolor\":\"white\",\"showbackground\":true,\"ticks\":\"\",\"zerolinecolor\":\"white\"},\"zaxis\":{\"backgroundcolor\":\"#E5ECF6\",\"gridcolor\":\"white\",\"gridwidth\":2,\"linecolor\":\"white\",\"showbackground\":true,\"ticks\":\"\",\"zerolinecolor\":\"white\"}},\"shapedefaults\":{\"line\":{\"color\":\"#2a3f5f\"}},\"ternary\":{\"aaxis\":{\"gridcolor\":\"white\",\"linecolor\":\"white\",\"ticks\":\"\"},\"baxis\":{\"gridcolor\":\"white\",\"linecolor\":\"white\",\"ticks\":\"\"},\"bgcolor\":\"#E5ECF6\",\"caxis\":{\"gridcolor\":\"white\",\"linecolor\":\"white\",\"ticks\":\"\"}},\"title\":{\"x\":0.05},\"xaxis\":{\"automargin\":true,\"gridcolor\":\"white\",\"linecolor\":\"white\",\"ticks\":\"\",\"title\":{\"standoff\":15},\"zerolinecolor\":\"white\",\"zerolinewidth\":2},\"yaxis\":{\"automargin\":true,\"gridcolor\":\"white\",\"linecolor\":\"white\",\"ticks\":\"\",\"title\":{\"standoff\":15},\"zerolinecolor\":\"white\",\"zerolinewidth\":2}}},\"xaxis\":{\"anchor\":\"y\",\"domain\":[0.0,1.0],\"title\":{\"text\":\"Date\"}},\"yaxis\":{\"anchor\":\"x\",\"domain\":[0.575,1.0],\"title\":{\"text\":\"Price\"}},\"xaxis2\":{\"anchor\":\"y2\",\"domain\":[0.0,1.0]},\"yaxis2\":{\"anchor\":\"x2\",\"domain\":[0.0,0.425]},\"title\":{\"text\":\"Algorithmic Trading using Momentum Strategy\"}},                        {\"responsive\": true}                    ).then(function(){\n",
       "                            \n",
       "var gd = document.getElementById('e43bda7e-abed-4df8-9fe5-ed2dd3d2bbe3');\n",
       "var x = new MutationObserver(function (mutations, observer) {{\n",
       "        var display = window.getComputedStyle(gd).display;\n",
       "        if (!display || display === 'none') {{\n",
       "            console.log([gd, 'removed!']);\n",
       "            Plotly.purge(gd);\n",
       "            observer.disconnect();\n",
       "        }}\n",
       "}});\n",
       "\n",
       "// Listen for the removal of the full notebook cells\n",
       "var notebookContainer = gd.closest('#notebook-container');\n",
       "if (notebookContainer) {{\n",
       "    x.observe(notebookContainer, {childList: true});\n",
       "}}\n",
       "\n",
       "// Listen for the clearing of the current output cell\n",
       "var outputEl = gd.closest('.output');\n",
       "if (outputEl) {{\n",
       "    x.observe(outputEl, {childList: true});\n",
       "}}\n",
       "\n",
       "                        })                };                });            </script>        </div>"
      ]
     },
     "metadata": {},
     "output_type": "display_data"
    }
   ],
   "source": [
    "# Adding the buy and sell signals\n",
    "figure.add_trace(go.Scatter(x=data.loc[data['momentum'] > 0].index, \n",
    "                         y=data.loc[data['momentum'] > 0]['Close'], \n",
    "                         mode='markers', name='Sell', \n",
    "                         marker=dict(color='Red', symbol='triangle-down')))\n",
    "\n",
    "figure.add_trace(go.Scatter(x=data.loc[data['momentum'] < 0].index, \n",
    "                         y=data.loc[data['momentum'] < 0]['Close'], \n",
    "                         mode='markers', name='Buy', \n",
    "                         marker=dict(color='Green', symbol='triangle-up')))\n",
    "\n",
    "figure.update_layout(title='Algorithmic Trading using Momentum Strategy',\n",
    "                  xaxis_title='Date',\n",
    "                  yaxis_title='Price')\n",
    "figure.update_yaxes(title=\"Momentum\", secondary_y=True)\n",
    "figure.show()"
   ]
  },
  {
   "cell_type": "markdown",
   "id": "ffbdf3c0",
   "metadata": {},
   "source": [
    "**🔍 Visualization Insight:**\n",
    "- 🟢 Green triangles: **Buy signals** when momentum turns positive.\n",
    "- 🔴 Red triangles: **Sell signals** when momentum turns negative.\n",
    "\n",
    "The chart clearly illustrates how momentum informs timely trade decisions.\n"
   ]
  },
  {
   "cell_type": "markdown",
   "id": "63255e06",
   "metadata": {},
   "source": [
    "## 📉 Intraday Resistance Breakout Strategy\n",
    "\n",
    "**Strategy Overview:**\n",
    "This strategy identifies price breakouts through previously established resistance levels, indicating potential upward price movements.\n",
    "\n",
    "**Key Calculation - ATR (Average True Range):**\n",
    "ATR measures market volatility. A breakout occurs when the price exceeds the upper resistance band calculated using ATR.\n",
    "\n",
    "**Implementation Approach:**\n",
    "- Compute ATR and establish resistance bands.\n",
    "- Signal trades upon price breaching resistance levels.\n"
   ]
  },
  {
   "cell_type": "code",
   "execution_count": 16,
   "id": "95f8130f",
   "metadata": {},
   "outputs": [],
   "source": [
    "def ATR(DF,n):\n",
    "    \"function to calculate True Range and Average True Range\"\n",
    "    df = DF.copy()\n",
    "    df['H-L']=abs(df['High']-df['Low'])\n",
    "    df['H-PC']=abs(df['High']-df['Close'].shift(1))\n",
    "    df['L-PC']=abs(df['Low']-df['Close'].shift(1))\n",
    "    df['TR']=df[['H-L','H-PC','L-PC']].max(axis=1,skipna=False)\n",
    "    df['ATR'] = df['TR'].rolling(n).mean()\n",
    "    #df['ATR'] = df['TR'].ewm(span=n,adjust=False,min_periods=n).mean()\n",
    "    df2 = df.drop(['H-L','H-PC','L-PC'],axis=1)\n",
    "    return df2['ATR']\n",
    "\n",
    "def CAGR(DF):\n",
    "    \"function to calculate the Cumulative Annual Growth Rate of a trading strategy\"\n",
    "    df = DF.copy()\n",
    "    df[\"cum_return\"] = (1 + df[\"ret\"]).cumprod()\n",
    "    n = len(df)/(252*78)\n",
    "    CAGR = (df[\"cum_return\"].tolist()[-1])**(1/n) - 1\n",
    "    return CAGR\n",
    "\n",
    "def volatility(DF):\n",
    "    \"function to calculate annualized volatility of a trading strategy\"\n",
    "    df = DF.copy()\n",
    "    vol = df[\"ret\"].std() * np.sqrt(252*78)\n",
    "    return vol\n",
    "\n",
    "def sharpe(DF, rf):\n",
    "    \"function to calculate sharpe ratio ; rf is the risk free rate\"\n",
    "    df = DF.copy()\n",
    "    vol = volatility(df)\n",
    "    if vol == 0:         # ← guard zero‐vol case\n",
    "        return np.nan    # or 0, or float('inf'), whichever you prefer\n",
    "    return (CAGR(df) - rf) / vol\n",
    "\n",
    "def max_dd(DF):\n",
    "    \"function to calculate max drawdown\"\n",
    "    df = DF.copy()\n",
    "    df[\"cum_return\"] = (1 + df[\"ret\"]).cumprod()\n",
    "    df[\"cum_roll_max\"] = df[\"cum_return\"].cummax()\n",
    "    df[\"drawdown\"] = df[\"cum_roll_max\"] - df[\"cum_return\"]\n",
    "    df[\"drawdown_pct\"] = df[\"drawdown\"]/df[\"cum_roll_max\"]\n",
    "    max_dd = df[\"drawdown_pct\"].max()\n",
    "    return max_dd"
   ]
  },
  {
   "cell_type": "code",
   "execution_count": 17,
   "id": "5d088e0a",
   "metadata": {},
   "outputs": [
    {
     "name": "stderr",
     "output_type": "stream",
     "text": [
      "[*********************100%***********************]  1 of 1 completed\n",
      "[*********************100%***********************]  1 of 1 completed\n",
      "[*********************100%***********************]  1 of 1 completed\n",
      "[*********************100%***********************]  1 of 1 completed\n",
      "[*********************100%***********************]  1 of 1 completed\n",
      "[*********************100%***********************]  1 of 1 completed\n"
     ]
    }
   ],
   "source": [
    "### Download historical data (monthly) for selected stocks\n",
    "\n",
    "tickers = [\"AMZN\",\"AAPL\",\"TSLA\",\"MSFT\",\"GOOGL\",\"NVDA\"]\n",
    "\n",
    "ohlc_intraday = {}\n",
    "start = '2025-04-11'\n",
    "end = '2025-04-18'\n",
    "\n",
    "for ticker in tickers:\n",
    "    ohlc_intraday[ticker] = yf.download(ticker, start, end, interval='1m', auto_adjust=False)\n",
    "    ohlc_intraday[ticker].dropna(inplace=True, how=\"all\")\n",
    "\n",
    "tickers = ohlc_intraday.keys()\n",
    "\n",
    "ohlc_dict = copy.deepcopy(ohlc_intraday)\n",
    "\n",
    "tickers_signal = {}\n",
    "tickers_ret = {}"
   ]
  },
  {
   "cell_type": "code",
   "execution_count": 18,
   "id": "f210a63e",
   "metadata": {},
   "outputs": [
    {
     "data": {
      "text/plain": [
       "{'AMZN': Price                       Adj Close       Close        High         Low  \\\n",
       " Ticker                           AMZN        AMZN        AMZN        AMZN   \n",
       " Datetime                                                                    \n",
       " 2025-04-11 13:30:00+00:00  180.294998  180.294998  180.539993  179.009995   \n",
       " 2025-04-11 13:31:00+00:00  179.963196  179.963196  180.529999  179.804993   \n",
       " 2025-04-11 13:32:00+00:00  179.169998  179.169998  180.000000  179.040100   \n",
       " 2025-04-11 13:33:00+00:00  179.479996  179.479996  179.740005  179.149994   \n",
       " 2025-04-11 13:34:00+00:00  179.838303  179.838303  180.009995  179.250000   \n",
       " ...                               ...         ...         ...         ...   \n",
       " 2025-04-17 19:55:00+00:00  172.428299  172.428299  172.680206  172.399994   \n",
       " 2025-04-17 19:56:00+00:00  172.529999  172.529999  172.535004  172.339996   \n",
       " 2025-04-17 19:57:00+00:00  172.544998  172.544998  172.649994  172.475006   \n",
       " 2025-04-17 19:58:00+00:00  172.550003  172.550003  172.580002  172.410004   \n",
       " 2025-04-17 19:59:00+00:00  172.589996  172.589996  172.839996  172.539993   \n",
       " \n",
       " Price                            Open   Volume  \n",
       " Ticker                           AMZN     AMZN  \n",
       " Datetime                                        \n",
       " 2025-04-11 13:30:00+00:00  179.994995  1876445  \n",
       " 2025-04-11 13:31:00+00:00  180.285599   300180  \n",
       " 2025-04-11 13:32:00+00:00  179.955002   159079  \n",
       " 2025-04-11 13:33:00+00:00  179.169998   148052  \n",
       " 2025-04-11 13:34:00+00:00  179.559998   137843  \n",
       " ...                               ...      ...  \n",
       " 2025-04-17 19:55:00+00:00  172.460007   222782  \n",
       " 2025-04-17 19:56:00+00:00  172.425003   165881  \n",
       " 2025-04-17 19:57:00+00:00  172.529999   187509  \n",
       " 2025-04-17 19:58:00+00:00  172.550003   296415  \n",
       " 2025-04-17 19:59:00+00:00  172.550003   640280  \n",
       " \n",
       " [1950 rows x 6 columns],\n",
       " 'AAPL': Price                       Adj Close       Close        High         Low  \\\n",
       " Ticker                           AAPL        AAPL        AAPL        AAPL   \n",
       " Datetime                                                                    \n",
       " 2025-04-11 13:30:00+00:00  187.580002  187.580002  188.089996  186.059998   \n",
       " 2025-04-11 13:31:00+00:00  188.110001  188.110001  188.350006  186.869995   \n",
       " 2025-04-11 13:32:00+00:00  187.910095  187.910095  188.226303  187.500000   \n",
       " 2025-04-11 13:33:00+00:00  188.425003  188.425003  188.425003  187.679993   \n",
       " 2025-04-11 13:34:00+00:00  188.264999  188.264999  188.459305  187.559998   \n",
       " ...                               ...         ...         ...         ...   \n",
       " 2025-04-17 19:55:00+00:00  196.919998  196.919998  197.360001  196.845901   \n",
       " 2025-04-17 19:56:00+00:00  196.880005  196.880005  197.019897  196.699997   \n",
       " 2025-04-17 19:57:00+00:00  196.877502  196.877502  197.009995  196.779999   \n",
       " 2025-04-17 19:58:00+00:00  196.899994  196.899994  196.899994  196.639999   \n",
       " 2025-04-17 19:59:00+00:00  196.869995  196.869995  197.110001  196.839996   \n",
       " \n",
       " Price                            Open   Volume  \n",
       " Ticker                           AAPL     AAPL  \n",
       " Datetime                                        \n",
       " 2025-04-11 13:30:00+00:00  186.179993  3889973  \n",
       " 2025-04-11 13:31:00+00:00  187.580002   276117  \n",
       " 2025-04-11 13:32:00+00:00  188.080002   284932  \n",
       " 2025-04-11 13:33:00+00:00  187.960007   254226  \n",
       " 2025-04-11 13:34:00+00:00  188.440002   185520  \n",
       " ...                               ...      ...  \n",
       " 2025-04-17 19:55:00+00:00  197.000000   252080  \n",
       " 2025-04-17 19:56:00+00:00  196.940002   211264  \n",
       " 2025-04-17 19:57:00+00:00  196.860001   190174  \n",
       " 2025-04-17 19:58:00+00:00  196.880005   487907  \n",
       " 2025-04-17 19:59:00+00:00  196.880005   749717  \n",
       " \n",
       " [1947 rows x 6 columns],\n",
       " 'TSLA': Price                       Adj Close       Close        High         Low  \\\n",
       " Ticker                           TSLA        TSLA        TSLA        TSLA   \n",
       " Datetime                                                                    \n",
       " 2025-04-11 13:30:00+00:00  253.320007  253.320007  253.779907  251.289993   \n",
       " 2025-04-11 13:31:00+00:00  254.424500  254.424500  254.850006  252.500000   \n",
       " 2025-04-11 13:32:00+00:00  253.130005  253.130005  254.559998  252.330093   \n",
       " 2025-04-11 13:33:00+00:00  254.590500  254.590500  254.789902  252.425507   \n",
       " 2025-04-11 13:34:00+00:00  254.660004  254.660004  254.979996  253.360107   \n",
       " ...                               ...         ...         ...         ...   \n",
       " 2025-04-17 19:55:00+00:00  240.779999  240.779999  241.750000  240.119995   \n",
       " 2025-04-17 19:56:00+00:00  241.080002  241.080002  241.125000  240.580002   \n",
       " 2025-04-17 19:57:00+00:00  241.309998  241.309998  241.490005  241.059998   \n",
       " 2025-04-17 19:58:00+00:00  241.192307  241.192307  241.380005  241.085007   \n",
       " 2025-04-17 19:59:00+00:00  241.539993  241.539993  241.539993  241.119995   \n",
       " \n",
       " Price                            Open   Volume  \n",
       " Ticker                           TSLA     TSLA  \n",
       " Datetime                                        \n",
       " 2025-04-11 13:30:00+00:00  251.839996  6491453  \n",
       " 2025-04-11 13:31:00+00:00  253.320007   680493  \n",
       " 2025-04-11 13:32:00+00:00  254.429993   600890  \n",
       " 2025-04-11 13:33:00+00:00  253.169998   599263  \n",
       " 2025-04-11 13:34:00+00:00  254.630005   593299  \n",
       " ...                               ...      ...  \n",
       " 2025-04-17 19:55:00+00:00  241.690002   475645  \n",
       " 2025-04-17 19:56:00+00:00  240.699997   247943  \n",
       " 2025-04-17 19:57:00+00:00  241.100006   365918  \n",
       " 2025-04-17 19:58:00+00:00  241.320007   334081  \n",
       " 2025-04-17 19:59:00+00:00  241.229996   788056  \n",
       " \n",
       " [1948 rows x 6 columns],\n",
       " 'MSFT': Price                       Adj Close       Close        High         Low  \\\n",
       " Ticker                           MSFT        MSFT        MSFT        MSFT   \n",
       " Datetime                                                                    \n",
       " 2025-04-11 13:30:00+00:00  382.019989  382.019989  383.119904  380.299988   \n",
       " 2025-04-11 13:31:00+00:00  381.559998  381.559998  382.370087  381.170013   \n",
       " 2025-04-11 13:32:00+00:00  381.480011  381.480011  382.230011  380.880005   \n",
       " 2025-04-11 13:33:00+00:00  382.109985  382.109985  382.290009  381.330109   \n",
       " 2025-04-11 13:34:00+00:00  382.410004  382.410004  382.589996  381.454987   \n",
       " ...                               ...         ...         ...         ...   \n",
       " 2025-04-17 19:55:00+00:00  367.600006  367.600006  368.459991  367.570007   \n",
       " 2025-04-17 19:56:00+00:00  367.545013  367.545013  367.640015  367.299988   \n",
       " 2025-04-17 19:57:00+00:00  367.420013  367.420013  367.559998  367.325012   \n",
       " 2025-04-17 19:58:00+00:00  367.410004  367.410004  367.529999  367.200012   \n",
       " 2025-04-17 19:59:00+00:00  367.600006  367.600006  367.940002  367.410004   \n",
       " \n",
       " Price                            Open  Volume  \n",
       " Ticker                           MSFT    MSFT  \n",
       " Datetime                                       \n",
       " 2025-04-11 13:30:00+00:00  380.635010  836415  \n",
       " 2025-04-11 13:31:00+00:00  382.019989   62814  \n",
       " 2025-04-11 13:32:00+00:00  381.429993   70771  \n",
       " 2025-04-11 13:33:00+00:00  381.484314   63593  \n",
       " 2025-04-11 13:34:00+00:00  381.910004   43979  \n",
       " ...                               ...     ...  \n",
       " 2025-04-17 19:55:00+00:00  367.950012   94227  \n",
       " 2025-04-17 19:56:00+00:00  367.614990  117095  \n",
       " 2025-04-17 19:57:00+00:00  367.559998  100703  \n",
       " 2025-04-17 19:58:00+00:00  367.450012  216663  \n",
       " 2025-04-17 19:59:00+00:00  367.410004  492761  \n",
       " \n",
       " [1949 rows x 6 columns],\n",
       " 'GOOGL': Price                       Adj Close       Close        High         Low  \\\n",
       " Ticker                          GOOGL       GOOGL       GOOGL       GOOGL   \n",
       " Datetime                                                                    \n",
       " 2025-04-11 13:30:00+00:00  153.720001  153.720001  153.970001  152.889999   \n",
       " 2025-04-11 13:31:00+00:00  153.679993  153.679993  153.979996  153.520004   \n",
       " 2025-04-11 13:32:00+00:00  153.854996  153.854996  153.910004  153.559998   \n",
       " 2025-04-11 13:33:00+00:00  153.955002  153.955002  154.110001  153.630005   \n",
       " 2025-04-11 13:34:00+00:00  154.250000  154.250000  154.335007  153.780396   \n",
       " ...                               ...         ...         ...         ...   \n",
       " 2025-04-17 19:55:00+00:00  150.960007  150.960007  151.220001  150.945007   \n",
       " 2025-04-17 19:56:00+00:00  150.945007  150.945007  150.990005  150.820007   \n",
       " 2025-04-17 19:57:00+00:00  151.039993  151.039993  151.089996  150.899994   \n",
       " 2025-04-17 19:58:00+00:00  151.130005  151.130005  151.130005  151.005005   \n",
       " 2025-04-17 19:59:00+00:00  151.210007  151.210007  151.360001  151.104996   \n",
       " \n",
       " Price                            Open  Volume  \n",
       " Ticker                          GOOGL   GOOGL  \n",
       " Datetime                                       \n",
       " 2025-04-11 13:30:00+00:00  152.940002  993890  \n",
       " 2025-04-11 13:31:00+00:00  153.699997   72711  \n",
       " 2025-04-11 13:32:00+00:00  153.699997   65717  \n",
       " 2025-04-11 13:33:00+00:00  153.854996  106294  \n",
       " 2025-04-11 13:34:00+00:00  154.000000   77517  \n",
       " ...                               ...     ...  \n",
       " 2025-04-17 19:55:00+00:00  150.990005  207602  \n",
       " 2025-04-17 19:56:00+00:00  150.970001  173692  \n",
       " 2025-04-17 19:57:00+00:00  150.949997  185801  \n",
       " 2025-04-17 19:58:00+00:00  151.039993  280755  \n",
       " 2025-04-17 19:59:00+00:00  151.130005  621722  \n",
       " \n",
       " [1950 rows x 6 columns],\n",
       " 'NVDA': Price                       Adj Close       Close        High         Low  \\\n",
       " Ticker                           NVDA        NVDA        NVDA        NVDA   \n",
       " Datetime                                                                    \n",
       " 2025-04-11 13:30:00+00:00  109.029999  109.029999  109.199997  108.529999   \n",
       " 2025-04-11 13:31:00+00:00  108.699997  108.699997  109.199997  108.629997   \n",
       " 2025-04-11 13:32:00+00:00  108.070000  108.070000  108.888901  108.019402   \n",
       " 2025-04-11 13:33:00+00:00  108.425003  108.425003  108.529999  107.900002   \n",
       " 2025-04-11 13:34:00+00:00  108.434998  108.434998  108.489998  107.970100   \n",
       " ...                               ...         ...         ...         ...   \n",
       " 2025-04-17 19:55:00+00:00  101.355003  101.355003  101.540001  101.120003   \n",
       " 2025-04-17 19:56:00+00:00  101.309898  101.309898  101.370003  101.199997   \n",
       " 2025-04-17 19:57:00+00:00  101.264999  101.264999  101.360001  101.205002   \n",
       " 2025-04-17 19:58:00+00:00  101.349998  101.349998  101.360001  101.250000   \n",
       " 2025-04-17 19:59:00+00:00  101.410004  101.410004  101.529999  101.339996   \n",
       " \n",
       " Price                            Open    Volume  \n",
       " Ticker                           NVDA      NVDA  \n",
       " Datetime                                         \n",
       " 2025-04-11 13:30:00+00:00  108.589996  15169480  \n",
       " 2025-04-11 13:31:00+00:00  109.019997   1174302  \n",
       " 2025-04-11 13:32:00+00:00  108.699997   1209223  \n",
       " 2025-04-11 13:33:00+00:00  108.110001   1087581  \n",
       " 2025-04-11 13:34:00+00:00  108.430000    959414  \n",
       " ...                               ...       ...  \n",
       " 2025-04-17 19:55:00+00:00  101.224998   1447002  \n",
       " 2025-04-17 19:56:00+00:00  101.349998   1167268  \n",
       " 2025-04-17 19:57:00+00:00  101.305000   1538778  \n",
       " 2025-04-17 19:58:00+00:00  101.269302   1382571  \n",
       " 2025-04-17 19:59:00+00:00  101.345001   3148817  \n",
       " \n",
       " [1950 rows x 6 columns]}"
      ]
     },
     "execution_count": 18,
     "metadata": {},
     "output_type": "execute_result"
    }
   ],
   "source": [
    "ohlc_intraday"
   ]
  },
  {
   "cell_type": "code",
   "execution_count": 19,
   "id": "aacdd7be",
   "metadata": {},
   "outputs": [
    {
     "data": {
      "text/plain": [
       "{'AMZN': Price                       Adj Close       Close        High         Low  \\\n",
       " Ticker                           AMZN        AMZN        AMZN        AMZN   \n",
       " Datetime                                                                    \n",
       " 2025-04-11 13:30:00+00:00  180.294998  180.294998  180.539993  179.009995   \n",
       " 2025-04-11 13:31:00+00:00  179.963196  179.963196  180.529999  179.804993   \n",
       " 2025-04-11 13:32:00+00:00  179.169998  179.169998  180.000000  179.040100   \n",
       " 2025-04-11 13:33:00+00:00  179.479996  179.479996  179.740005  179.149994   \n",
       " 2025-04-11 13:34:00+00:00  179.838303  179.838303  180.009995  179.250000   \n",
       " ...                               ...         ...         ...         ...   \n",
       " 2025-04-17 19:55:00+00:00  172.428299  172.428299  172.680206  172.399994   \n",
       " 2025-04-17 19:56:00+00:00  172.529999  172.529999  172.535004  172.339996   \n",
       " 2025-04-17 19:57:00+00:00  172.544998  172.544998  172.649994  172.475006   \n",
       " 2025-04-17 19:58:00+00:00  172.550003  172.550003  172.580002  172.410004   \n",
       " 2025-04-17 19:59:00+00:00  172.589996  172.589996  172.839996  172.539993   \n",
       " \n",
       " Price                            Open   Volume  \n",
       " Ticker                           AMZN     AMZN  \n",
       " Datetime                                        \n",
       " 2025-04-11 13:30:00+00:00  179.994995  1876445  \n",
       " 2025-04-11 13:31:00+00:00  180.285599   300180  \n",
       " 2025-04-11 13:32:00+00:00  179.955002   159079  \n",
       " 2025-04-11 13:33:00+00:00  179.169998   148052  \n",
       " 2025-04-11 13:34:00+00:00  179.559998   137843  \n",
       " ...                               ...      ...  \n",
       " 2025-04-17 19:55:00+00:00  172.460007   222782  \n",
       " 2025-04-17 19:56:00+00:00  172.425003   165881  \n",
       " 2025-04-17 19:57:00+00:00  172.529999   187509  \n",
       " 2025-04-17 19:58:00+00:00  172.550003   296415  \n",
       " 2025-04-17 19:59:00+00:00  172.550003   640280  \n",
       " \n",
       " [1950 rows x 6 columns],\n",
       " 'AAPL': Price                       Adj Close       Close        High         Low  \\\n",
       " Ticker                           AAPL        AAPL        AAPL        AAPL   \n",
       " Datetime                                                                    \n",
       " 2025-04-11 13:30:00+00:00  187.580002  187.580002  188.089996  186.059998   \n",
       " 2025-04-11 13:31:00+00:00  188.110001  188.110001  188.350006  186.869995   \n",
       " 2025-04-11 13:32:00+00:00  187.910095  187.910095  188.226303  187.500000   \n",
       " 2025-04-11 13:33:00+00:00  188.425003  188.425003  188.425003  187.679993   \n",
       " 2025-04-11 13:34:00+00:00  188.264999  188.264999  188.459305  187.559998   \n",
       " ...                               ...         ...         ...         ...   \n",
       " 2025-04-17 19:55:00+00:00  196.919998  196.919998  197.360001  196.845901   \n",
       " 2025-04-17 19:56:00+00:00  196.880005  196.880005  197.019897  196.699997   \n",
       " 2025-04-17 19:57:00+00:00  196.877502  196.877502  197.009995  196.779999   \n",
       " 2025-04-17 19:58:00+00:00  196.899994  196.899994  196.899994  196.639999   \n",
       " 2025-04-17 19:59:00+00:00  196.869995  196.869995  197.110001  196.839996   \n",
       " \n",
       " Price                            Open   Volume  \n",
       " Ticker                           AAPL     AAPL  \n",
       " Datetime                                        \n",
       " 2025-04-11 13:30:00+00:00  186.179993  3889973  \n",
       " 2025-04-11 13:31:00+00:00  187.580002   276117  \n",
       " 2025-04-11 13:32:00+00:00  188.080002   284932  \n",
       " 2025-04-11 13:33:00+00:00  187.960007   254226  \n",
       " 2025-04-11 13:34:00+00:00  188.440002   185520  \n",
       " ...                               ...      ...  \n",
       " 2025-04-17 19:55:00+00:00  197.000000   252080  \n",
       " 2025-04-17 19:56:00+00:00  196.940002   211264  \n",
       " 2025-04-17 19:57:00+00:00  196.860001   190174  \n",
       " 2025-04-17 19:58:00+00:00  196.880005   487907  \n",
       " 2025-04-17 19:59:00+00:00  196.880005   749717  \n",
       " \n",
       " [1947 rows x 6 columns],\n",
       " 'TSLA': Price                       Adj Close       Close        High         Low  \\\n",
       " Ticker                           TSLA        TSLA        TSLA        TSLA   \n",
       " Datetime                                                                    \n",
       " 2025-04-11 13:30:00+00:00  253.320007  253.320007  253.779907  251.289993   \n",
       " 2025-04-11 13:31:00+00:00  254.424500  254.424500  254.850006  252.500000   \n",
       " 2025-04-11 13:32:00+00:00  253.130005  253.130005  254.559998  252.330093   \n",
       " 2025-04-11 13:33:00+00:00  254.590500  254.590500  254.789902  252.425507   \n",
       " 2025-04-11 13:34:00+00:00  254.660004  254.660004  254.979996  253.360107   \n",
       " ...                               ...         ...         ...         ...   \n",
       " 2025-04-17 19:55:00+00:00  240.779999  240.779999  241.750000  240.119995   \n",
       " 2025-04-17 19:56:00+00:00  241.080002  241.080002  241.125000  240.580002   \n",
       " 2025-04-17 19:57:00+00:00  241.309998  241.309998  241.490005  241.059998   \n",
       " 2025-04-17 19:58:00+00:00  241.192307  241.192307  241.380005  241.085007   \n",
       " 2025-04-17 19:59:00+00:00  241.539993  241.539993  241.539993  241.119995   \n",
       " \n",
       " Price                            Open   Volume  \n",
       " Ticker                           TSLA     TSLA  \n",
       " Datetime                                        \n",
       " 2025-04-11 13:30:00+00:00  251.839996  6491453  \n",
       " 2025-04-11 13:31:00+00:00  253.320007   680493  \n",
       " 2025-04-11 13:32:00+00:00  254.429993   600890  \n",
       " 2025-04-11 13:33:00+00:00  253.169998   599263  \n",
       " 2025-04-11 13:34:00+00:00  254.630005   593299  \n",
       " ...                               ...      ...  \n",
       " 2025-04-17 19:55:00+00:00  241.690002   475645  \n",
       " 2025-04-17 19:56:00+00:00  240.699997   247943  \n",
       " 2025-04-17 19:57:00+00:00  241.100006   365918  \n",
       " 2025-04-17 19:58:00+00:00  241.320007   334081  \n",
       " 2025-04-17 19:59:00+00:00  241.229996   788056  \n",
       " \n",
       " [1948 rows x 6 columns],\n",
       " 'MSFT': Price                       Adj Close       Close        High         Low  \\\n",
       " Ticker                           MSFT        MSFT        MSFT        MSFT   \n",
       " Datetime                                                                    \n",
       " 2025-04-11 13:30:00+00:00  382.019989  382.019989  383.119904  380.299988   \n",
       " 2025-04-11 13:31:00+00:00  381.559998  381.559998  382.370087  381.170013   \n",
       " 2025-04-11 13:32:00+00:00  381.480011  381.480011  382.230011  380.880005   \n",
       " 2025-04-11 13:33:00+00:00  382.109985  382.109985  382.290009  381.330109   \n",
       " 2025-04-11 13:34:00+00:00  382.410004  382.410004  382.589996  381.454987   \n",
       " ...                               ...         ...         ...         ...   \n",
       " 2025-04-17 19:55:00+00:00  367.600006  367.600006  368.459991  367.570007   \n",
       " 2025-04-17 19:56:00+00:00  367.545013  367.545013  367.640015  367.299988   \n",
       " 2025-04-17 19:57:00+00:00  367.420013  367.420013  367.559998  367.325012   \n",
       " 2025-04-17 19:58:00+00:00  367.410004  367.410004  367.529999  367.200012   \n",
       " 2025-04-17 19:59:00+00:00  367.600006  367.600006  367.940002  367.410004   \n",
       " \n",
       " Price                            Open  Volume  \n",
       " Ticker                           MSFT    MSFT  \n",
       " Datetime                                       \n",
       " 2025-04-11 13:30:00+00:00  380.635010  836415  \n",
       " 2025-04-11 13:31:00+00:00  382.019989   62814  \n",
       " 2025-04-11 13:32:00+00:00  381.429993   70771  \n",
       " 2025-04-11 13:33:00+00:00  381.484314   63593  \n",
       " 2025-04-11 13:34:00+00:00  381.910004   43979  \n",
       " ...                               ...     ...  \n",
       " 2025-04-17 19:55:00+00:00  367.950012   94227  \n",
       " 2025-04-17 19:56:00+00:00  367.614990  117095  \n",
       " 2025-04-17 19:57:00+00:00  367.559998  100703  \n",
       " 2025-04-17 19:58:00+00:00  367.450012  216663  \n",
       " 2025-04-17 19:59:00+00:00  367.410004  492761  \n",
       " \n",
       " [1949 rows x 6 columns],\n",
       " 'GOOGL': Price                       Adj Close       Close        High         Low  \\\n",
       " Ticker                          GOOGL       GOOGL       GOOGL       GOOGL   \n",
       " Datetime                                                                    \n",
       " 2025-04-11 13:30:00+00:00  153.720001  153.720001  153.970001  152.889999   \n",
       " 2025-04-11 13:31:00+00:00  153.679993  153.679993  153.979996  153.520004   \n",
       " 2025-04-11 13:32:00+00:00  153.854996  153.854996  153.910004  153.559998   \n",
       " 2025-04-11 13:33:00+00:00  153.955002  153.955002  154.110001  153.630005   \n",
       " 2025-04-11 13:34:00+00:00  154.250000  154.250000  154.335007  153.780396   \n",
       " ...                               ...         ...         ...         ...   \n",
       " 2025-04-17 19:55:00+00:00  150.960007  150.960007  151.220001  150.945007   \n",
       " 2025-04-17 19:56:00+00:00  150.945007  150.945007  150.990005  150.820007   \n",
       " 2025-04-17 19:57:00+00:00  151.039993  151.039993  151.089996  150.899994   \n",
       " 2025-04-17 19:58:00+00:00  151.130005  151.130005  151.130005  151.005005   \n",
       " 2025-04-17 19:59:00+00:00  151.210007  151.210007  151.360001  151.104996   \n",
       " \n",
       " Price                            Open  Volume  \n",
       " Ticker                          GOOGL   GOOGL  \n",
       " Datetime                                       \n",
       " 2025-04-11 13:30:00+00:00  152.940002  993890  \n",
       " 2025-04-11 13:31:00+00:00  153.699997   72711  \n",
       " 2025-04-11 13:32:00+00:00  153.699997   65717  \n",
       " 2025-04-11 13:33:00+00:00  153.854996  106294  \n",
       " 2025-04-11 13:34:00+00:00  154.000000   77517  \n",
       " ...                               ...     ...  \n",
       " 2025-04-17 19:55:00+00:00  150.990005  207602  \n",
       " 2025-04-17 19:56:00+00:00  150.970001  173692  \n",
       " 2025-04-17 19:57:00+00:00  150.949997  185801  \n",
       " 2025-04-17 19:58:00+00:00  151.039993  280755  \n",
       " 2025-04-17 19:59:00+00:00  151.130005  621722  \n",
       " \n",
       " [1950 rows x 6 columns],\n",
       " 'NVDA': Price                       Adj Close       Close        High         Low  \\\n",
       " Ticker                           NVDA        NVDA        NVDA        NVDA   \n",
       " Datetime                                                                    \n",
       " 2025-04-11 13:30:00+00:00  109.029999  109.029999  109.199997  108.529999   \n",
       " 2025-04-11 13:31:00+00:00  108.699997  108.699997  109.199997  108.629997   \n",
       " 2025-04-11 13:32:00+00:00  108.070000  108.070000  108.888901  108.019402   \n",
       " 2025-04-11 13:33:00+00:00  108.425003  108.425003  108.529999  107.900002   \n",
       " 2025-04-11 13:34:00+00:00  108.434998  108.434998  108.489998  107.970100   \n",
       " ...                               ...         ...         ...         ...   \n",
       " 2025-04-17 19:55:00+00:00  101.355003  101.355003  101.540001  101.120003   \n",
       " 2025-04-17 19:56:00+00:00  101.309898  101.309898  101.370003  101.199997   \n",
       " 2025-04-17 19:57:00+00:00  101.264999  101.264999  101.360001  101.205002   \n",
       " 2025-04-17 19:58:00+00:00  101.349998  101.349998  101.360001  101.250000   \n",
       " 2025-04-17 19:59:00+00:00  101.410004  101.410004  101.529999  101.339996   \n",
       " \n",
       " Price                            Open    Volume  \n",
       " Ticker                           NVDA      NVDA  \n",
       " Datetime                                         \n",
       " 2025-04-11 13:30:00+00:00  108.589996  15169480  \n",
       " 2025-04-11 13:31:00+00:00  109.019997   1174302  \n",
       " 2025-04-11 13:32:00+00:00  108.699997   1209223  \n",
       " 2025-04-11 13:33:00+00:00  108.110001   1087581  \n",
       " 2025-04-11 13:34:00+00:00  108.430000    959414  \n",
       " ...                               ...       ...  \n",
       " 2025-04-17 19:55:00+00:00  101.224998   1447002  \n",
       " 2025-04-17 19:56:00+00:00  101.349998   1167268  \n",
       " 2025-04-17 19:57:00+00:00  101.305000   1538778  \n",
       " 2025-04-17 19:58:00+00:00  101.269302   1382571  \n",
       " 2025-04-17 19:59:00+00:00  101.345001   3148817  \n",
       " \n",
       " [1950 rows x 6 columns]}"
      ]
     },
     "execution_count": 19,
     "metadata": {},
     "output_type": "execute_result"
    }
   ],
   "source": [
    "ohlc_dict"
   ]
  },
  {
   "cell_type": "code",
   "execution_count": 20,
   "id": "ffddd77e",
   "metadata": {},
   "outputs": [
    {
     "name": "stdout",
     "output_type": "stream",
     "text": [
      "Calculating ATR and rolling max/min price for AMZN\n",
      "Calculating ATR and rolling max/min price for AAPL\n",
      "Calculating ATR and rolling max/min price for TSLA\n",
      "Calculating ATR and rolling max/min price for MSFT\n",
      "Calculating ATR and rolling max/min price for GOOGL\n",
      "Calculating ATR and rolling max/min price for NVDA\n",
      "calculating returns for  AMZN\n"
     ]
    },
    {
     "name": "stderr",
     "output_type": "stream",
     "text": [
      "C:\\Users\\srp51\\AppData\\Local\\Temp\\ipykernel_94276\\2150824784.py:48: VisibleDeprecationWarning:\n",
      "\n",
      "Creating an ndarray from ragged nested sequences (which is a list-or-tuple of lists-or-tuples-or ndarrays with different lengths or shapes) is deprecated. If you meant to do this, you must specify 'dtype=object' when creating the ndarray.\n",
      "\n"
     ]
    },
    {
     "name": "stdout",
     "output_type": "stream",
     "text": [
      "calculating returns for  AAPL\n"
     ]
    },
    {
     "name": "stderr",
     "output_type": "stream",
     "text": [
      "C:\\Users\\srp51\\AppData\\Local\\Temp\\ipykernel_94276\\2150824784.py:48: VisibleDeprecationWarning:\n",
      "\n",
      "Creating an ndarray from ragged nested sequences (which is a list-or-tuple of lists-or-tuples-or ndarrays with different lengths or shapes) is deprecated. If you meant to do this, you must specify 'dtype=object' when creating the ndarray.\n",
      "\n"
     ]
    },
    {
     "name": "stdout",
     "output_type": "stream",
     "text": [
      "calculating returns for  TSLA\n"
     ]
    },
    {
     "name": "stderr",
     "output_type": "stream",
     "text": [
      "C:\\Users\\srp51\\AppData\\Local\\Temp\\ipykernel_94276\\2150824784.py:48: VisibleDeprecationWarning:\n",
      "\n",
      "Creating an ndarray from ragged nested sequences (which is a list-or-tuple of lists-or-tuples-or ndarrays with different lengths or shapes) is deprecated. If you meant to do this, you must specify 'dtype=object' when creating the ndarray.\n",
      "\n"
     ]
    },
    {
     "name": "stdout",
     "output_type": "stream",
     "text": [
      "calculating returns for  MSFT\n"
     ]
    },
    {
     "name": "stderr",
     "output_type": "stream",
     "text": [
      "C:\\Users\\srp51\\AppData\\Local\\Temp\\ipykernel_94276\\2150824784.py:48: VisibleDeprecationWarning:\n",
      "\n",
      "Creating an ndarray from ragged nested sequences (which is a list-or-tuple of lists-or-tuples-or ndarrays with different lengths or shapes) is deprecated. If you meant to do this, you must specify 'dtype=object' when creating the ndarray.\n",
      "\n"
     ]
    },
    {
     "name": "stdout",
     "output_type": "stream",
     "text": [
      "calculating returns for  GOOGL\n"
     ]
    },
    {
     "name": "stderr",
     "output_type": "stream",
     "text": [
      "C:\\Users\\srp51\\AppData\\Local\\Temp\\ipykernel_94276\\2150824784.py:48: VisibleDeprecationWarning:\n",
      "\n",
      "Creating an ndarray from ragged nested sequences (which is a list-or-tuple of lists-or-tuples-or ndarrays with different lengths or shapes) is deprecated. If you meant to do this, you must specify 'dtype=object' when creating the ndarray.\n",
      "\n"
     ]
    },
    {
     "name": "stdout",
     "output_type": "stream",
     "text": [
      "calculating returns for  NVDA\n"
     ]
    },
    {
     "name": "stderr",
     "output_type": "stream",
     "text": [
      "C:\\Users\\srp51\\AppData\\Local\\Temp\\ipykernel_94276\\2150824784.py:48: VisibleDeprecationWarning:\n",
      "\n",
      "Creating an ndarray from ragged nested sequences (which is a list-or-tuple of lists-or-tuples-or ndarrays with different lengths or shapes) is deprecated. If you meant to do this, you must specify 'dtype=object' when creating the ndarray.\n",
      "\n"
     ]
    }
   ],
   "source": [
    "for ticker in tickers:\n",
    "    print(f\"Calculating ATR and rolling max/min price for {ticker}\")\n",
    "    ohlc_dict[ticker] = ohlc_dict[ticker].reset_index(drop=True)\n",
    "    ohlc_dict[ticker][\"ATR\"]         = ATR(ohlc_dict[ticker], 20)\n",
    "    ohlc_dict[ticker][\"roll_max_cp\"] = ohlc_dict[ticker][\"High\"].rolling(20).max()\n",
    "    ohlc_dict[ticker][\"roll_min_cp\"] = ohlc_dict[ticker][\"Low\"].rolling(20).min()\n",
    "    ohlc_dict[ticker][\"roll_max_vol\"]= ohlc_dict[ticker][\"Volume\"].rolling(20).max()\n",
    "    ohlc_dict[ticker].dropna(inplace=True)\n",
    "    tickers_signal[ticker] = \"\"\n",
    "    tickers_ret[ticker]    = []     \n",
    "\n",
    "# identifying signals and calculating returns (stop loss factored in)\n",
    "for ticker in tickers:\n",
    "    #tickers_ret[ticker].append(0)\n",
    "    print(\"calculating returns for \", ticker)\n",
    "    for i in range(len(ohlc_dict[ticker])):\n",
    "        if tickers_signal[ticker] == \"\":\n",
    "            tickers_ret[ticker].append(0)\n",
    "            if (ohlc_dict[ticker][\"High\"].iloc[i] >=ohlc_dict[ticker][\"roll_max_cp\"].iloc[i]).item() and \\\n",
    "               (ohlc_dict[ticker][\"Volume\"].iloc[i]>1*ohlc_dict[ticker][\"roll_max_vol\"].iloc[i-1]).item() :\n",
    "                tickers_signal[ticker] = \"Buy\"\n",
    "            elif (ohlc_dict[ticker][\"Low\"].iloc[i]<=ohlc_dict[ticker][\"roll_min_cp\"].iloc[i]).item() and \\\n",
    "               (ohlc_dict[ticker][\"Volume\"].iloc[i]>1*ohlc_dict[ticker][\"roll_max_vol\"].iloc[i-1]).item():\n",
    "                tickers_signal[ticker] = \"Sell\"\n",
    "        \n",
    "        elif tickers_signal[ticker] == \"Buy\":\n",
    "            if (ohlc_dict[ticker][\"Low\"].iloc[i]<(ohlc_dict[ticker][\"Close\"].iloc[i-1] - ohlc_dict[ticker][\"ATR\"].iloc[i-1])).item():\n",
    "                tickers_signal[ticker] = \"\"\n",
    "                tickers_ret[ticker].append(((ohlc_dict[ticker][\"Close\"].iloc[i-1] - ohlc_dict[ticker][\"ATR\"].iloc[i-1])/ohlc_dict[ticker][\"Close\"].iloc[i-1])-1)\n",
    "            elif (ohlc_dict[ticker][\"Low\"].iloc[i]<=ohlc_dict[ticker][\"roll_min_cp\"].iloc[i]).item() and \\\n",
    "                (ohlc_dict[ticker][\"Volume\"].iloc[i]>1*ohlc_dict[ticker][\"roll_max_vol\"].iloc[i-1]).item():\n",
    "                tickers_signal[ticker] = \"Sell\"\n",
    "                tickers_ret[ticker].append((ohlc_dict[ticker][\"Close\"].iloc[i]/ohlc_dict[ticker][\"Close\"].iloc[i-1])-1)\n",
    "            else:\n",
    "                tickers_ret[ticker].append((ohlc_dict[ticker][\"Close\"].iloc[i]/ohlc_dict[ticker][\"Close\"].iloc[i-1])-1)\n",
    "        \n",
    "        elif tickers_signal[ticker] == \"Sell\":\n",
    "            if (ohlc_dict[ticker][\"High\"].iloc[i] > ohlc_dict[ticker][\"Close\"].iloc[i-1] + ohlc_dict[ticker][\"ATR\"].iloc[i-1]).item():\n",
    "                tickers_signal[ticker] = \"\"\n",
    "                tickers_ret[ticker].append((ohlc_dict[ticker][\"Close\"].iloc[i-1]/(ohlc_dict[ticker][\"Close\"].iloc[i-1] + ohlc_dict[ticker][\"ATR\"].iloc[i-1]))-1)\n",
    "            elif (ohlc_dict[ticker][\"High\"].iloc[i]>=ohlc_dict[ticker][\"roll_max_cp\"].iloc[i]).item() and \\\n",
    "               (ohlc_dict[ticker][\"Volume\"].iloc[i]>1*ohlc_dict[ticker][\"roll_max_vol\"].iloc[i-1]).item():\n",
    "                tickers_signal[ticker] = \"Buy\"\n",
    "                tickers_ret[ticker].append((ohlc_dict[ticker][\"Close\"].iloc[i-1]/ohlc_dict[ticker][\"Close\"].iloc[i])-1)\n",
    "            else:\n",
    "                tickers_ret[ticker].append((ohlc_dict[ticker][\"Close\"].iloc[i-1]/ohlc_dict[ticker][\"Close\"].iloc[i])-1)\n",
    "\n",
    "    ohlc_dict[ticker][\"ret\"] = np.array(tickers_ret[ticker])\n"
   ]
  },
  {
   "cell_type": "code",
   "execution_count": 21,
   "id": "40f592e0",
   "metadata": {},
   "outputs": [],
   "source": [
    "#for ticker, df in ohlc_dict.items():\n",
    " #   zero_rows = pd.DataFrame(0, index=range(2), columns=df.columns)\n",
    " #   ohlc_dict[ticker] = pd.concat([df, zero_rows], ignore_index=True)"
   ]
  },
  {
   "cell_type": "code",
   "execution_count": 22,
   "id": "fdbb9433",
   "metadata": {},
   "outputs": [],
   "source": [
    "# calculating overall strategy's KPIs\n",
    "strategy_df = pd.DataFrame()\n",
    "for ticker in tickers:\n",
    "    strategy_df[ticker] = ohlc_dict[ticker][\"ret\"]\n"
   ]
  },
  {
   "cell_type": "code",
   "execution_count": 23,
   "id": "91b787aa",
   "metadata": {},
   "outputs": [],
   "source": [
    "# Alternatively, convert specific columns\n",
    "cols_to_convert = ['AMZN', 'AAPL', 'TSLA', 'MSFT', 'GOOGL', 'NVDA']\n",
    "strategy_df[cols_to_convert] = strategy_df[cols_to_convert].astype(float)"
   ]
  },
  {
   "cell_type": "code",
   "execution_count": 24,
   "id": "f00a126d",
   "metadata": {},
   "outputs": [
    {
     "data": {
      "text/plain": [
       "<AxesSubplot:>"
      ]
     },
     "execution_count": 24,
     "metadata": {},
     "output_type": "execute_result"
    },
    {
     "data": {
      "image/png": "[encoded data removed]",
      "text/plain": [
       "<Figure size 432x288 with 1 Axes>"
      ]
     },
     "metadata": {
      "needs_background": "light"
     },
     "output_type": "display_data"
    }
   ],
   "source": [
    "strategy_df[\"ret\"] = strategy_df.mean(axis=1)\n",
    "CAGR(strategy_df)\n",
    "sharpe(strategy_df,0.025)\n",
    "max_dd(strategy_df)  \n",
    "\n",
    "\n",
    "# vizualization of strategy return\n",
    "(1 + strategy_df[\"ret\"]).cumprod().plot()"
   ]
  },
  {
   "cell_type": "code",
   "execution_count": 25,
   "id": "b4100737",
   "metadata": {},
   "outputs": [
    {
     "name": "stdout",
     "output_type": "stream",
     "text": [
      "0.17788851283351526\n",
      "2.6884185662640783\n",
      "0.00749918138286515\n"
     ]
    }
   ],
   "source": [
    "print(CAGR(strategy_df))\n",
    "print(sharpe(strategy_df,0.025))\n",
    "print(max_dd(strategy_df))"
   ]
  },
  {
   "cell_type": "code",
   "execution_count": 26,
   "id": "c7cb1bb4",
   "metadata": {},
   "outputs": [
    {
     "name": "stdout",
     "output_type": "stream",
     "text": [
      "calculating KPIs for  AMZN\n",
      "calculating KPIs for  AAPL\n",
      "calculating KPIs for  TSLA\n",
      "calculating KPIs for  MSFT\n",
      "calculating KPIs for  GOOGL\n",
      "calculating KPIs for  NVDA\n"
     ]
    },
    {
     "data": {
      "text/html": [
       "<div>\n",
       "<style scoped>\n",
       "    .dataframe tbody tr th:only-of-type {\n",
       "        vertical-align: middle;\n",
       "    }\n",
       "\n",
       "    .dataframe tbody tr th {\n",
       "        vertical-align: top;\n",
       "    }\n",
       "\n",
       "    .dataframe thead th {\n",
       "        text-align: right;\n",
       "    }\n",
       "</style>\n",
       "<table border=\"1\" class=\"dataframe\">\n",
       "  <thead>\n",
       "    <tr style=\"text-align: right;\">\n",
       "      <th></th>\n",
       "      <th>Return</th>\n",
       "      <th>Sharpe Ratio</th>\n",
       "    </tr>\n",
       "  </thead>\n",
       "  <tbody>\n",
       "    <tr>\n",
       "      <th>AMZN</th>\n",
       "      <td>Ticker\n",
       "AMZN   -0.168657\n",
       "dtype: float64</td>\n",
       "      <td>Ticker\n",
       "AMZN   -3.31482\n",
       "dtype: float64</td>\n",
       "    </tr>\n",
       "    <tr>\n",
       "      <th>AAPL</th>\n",
       "      <td>Ticker\n",
       "AAPL    0.097575\n",
       "dtype: float64</td>\n",
       "      <td>Ticker\n",
       "AAPL    0.860024\n",
       "dtype: float64</td>\n",
       "    </tr>\n",
       "    <tr>\n",
       "      <th>TSLA</th>\n",
       "      <td>Ticker\n",
       "TSLA    1.148361\n",
       "dtype: float64</td>\n",
       "      <td>Ticker\n",
       "TSLA    6.921275\n",
       "dtype: float64</td>\n",
       "    </tr>\n",
       "    <tr>\n",
       "      <th>MSFT</th>\n",
       "      <td>Ticker\n",
       "MSFT   -0.181888\n",
       "dtype: float64</td>\n",
       "      <td>Ticker\n",
       "MSFT   -4.169995\n",
       "dtype: float64</td>\n",
       "    </tr>\n",
       "    <tr>\n",
       "      <th>GOOGL</th>\n",
       "      <td>Ticker\n",
       "GOOGL    0.320542\n",
       "dtype: float64</td>\n",
       "      <td>Ticker\n",
       "GOOGL    3.491895\n",
       "dtype: float64</td>\n",
       "    </tr>\n",
       "    <tr>\n",
       "      <th>NVDA</th>\n",
       "      <td>Ticker\n",
       "NVDA    0.234378\n",
       "dtype: float64</td>\n",
       "      <td>Ticker\n",
       "NVDA    1.569133\n",
       "dtype: float64</td>\n",
       "    </tr>\n",
       "  </tbody>\n",
       "</table>\n",
       "</div>"
      ],
      "text/plain": [
       "                                        Return  \\\n",
       "AMZN    Ticker\n",
       "AMZN   -0.168657\n",
       "dtype: float64   \n",
       "AAPL    Ticker\n",
       "AAPL    0.097575\n",
       "dtype: float64   \n",
       "TSLA    Ticker\n",
       "TSLA    1.148361\n",
       "dtype: float64   \n",
       "MSFT    Ticker\n",
       "MSFT   -0.181888\n",
       "dtype: float64   \n",
       "GOOGL  Ticker\n",
       "GOOGL    0.320542\n",
       "dtype: float64   \n",
       "NVDA    Ticker\n",
       "NVDA    0.234378\n",
       "dtype: float64   \n",
       "\n",
       "                                  Sharpe Ratio  \n",
       "AMZN     Ticker\n",
       "AMZN   -3.31482\n",
       "dtype: float64  \n",
       "AAPL    Ticker\n",
       "AAPL    0.860024\n",
       "dtype: float64  \n",
       "TSLA    Ticker\n",
       "TSLA    6.921275\n",
       "dtype: float64  \n",
       "MSFT    Ticker\n",
       "MSFT   -4.169995\n",
       "dtype: float64  \n",
       "GOOGL  Ticker\n",
       "GOOGL    3.491895\n",
       "dtype: float64  \n",
       "NVDA    Ticker\n",
       "NVDA    1.569133\n",
       "dtype: float64  "
      ]
     },
     "execution_count": 26,
     "metadata": {},
     "output_type": "execute_result"
    }
   ],
   "source": [
    "#calculating individual stock's KPIs\n",
    "cagr = {}\n",
    "sharpe_ratios = {}\n",
    "max_drawdown = {}\n",
    "for ticker in tickers:\n",
    "    print(\"calculating KPIs for \",ticker)      \n",
    "    cagr[ticker] =  CAGR(ohlc_dict[ticker])\n",
    "    sharpe_ratios[ticker] =  sharpe(ohlc_dict[ticker],0.025)\n",
    "    #max_drawdown[ticker] =  max_dd(ohlc_dict[ticker])\n",
    "\n",
    "KPI_df = pd.DataFrame([cagr,sharpe_ratios],index=[\"Return\",\"Sharpe Ratio\"])      \n",
    "KPI_df.T"
   ]
  },
  {
   "cell_type": "markdown",
   "id": "ba023d85",
   "metadata": {},
   "source": [
    "## 📉 Intraday Resistance Breakout Strategy:\n",
    "### Performance Summary:\n",
    "\n",
    "CAGR: 17.79%\n",
    "\n",
    "Sharpe Ratio: 2.69\n",
    "\n",
    "Maximum Drawdown: 0.75%\n",
    "\n",
    "The Intraday Resistance Breakout strategy demonstrated robust performance with a strong CAGR of 17.79%, complemented by an impressive Sharpe ratio indicating excellent risk-adjusted returns. The very low maximum drawdown (0.75%) underscores the strategy's effectiveness in mitigating significant losses and capitalizing on volatility to consistently generate profitable trades​\n",
    "\n",
    "-------------------------------------------------------------------------------------------------------------------------------"
   ]
  },
  {
   "cell_type": "markdown",
   "id": "88b001f0",
   "metadata": {},
   "source": [
    "## 📈 Renko Charts with OBV Strategy\n",
    "\n",
    "**Strategy Overview:**\n",
    "Combines Renko charts—which filter price movements based on size rather than time—with the OBV indicator, tracking volume flow.\n",
    "\n",
    "**Why this Works:**\n",
    "Renko simplifies price trends while OBV confirms trend strength through volume analysis.\n",
    "\n",
    "**Implementation Approach:**\n",
    "- Generate Renko charts to filter market noise.\n",
    "- Calculate OBV to confirm market sentiment.\n"
   ]
  },
  {
   "cell_type": "code",
   "execution_count": 27,
   "id": "77e21de6",
   "metadata": {},
   "outputs": [],
   "source": [
    "def ATR(DF,n):\n",
    "    \"function to calculate True Range and Average True Range\"\n",
    "    df = DF.copy()\n",
    "    df['H-L']=abs(df['High']-df['Low'])\n",
    "    df['H-PC']=abs(df['High']-df['Adj Close'].shift(1))\n",
    "    df['L-PC']=abs(df['Low']-df['Adj Close'].shift(1))\n",
    "    df['TR']=df[['H-L','H-PC','L-PC']].max(axis=1,skipna=False)\n",
    "    df['ATR'] = df['TR'].rolling(n).mean()\n",
    "    #df['ATR'] = df['TR'].ewm(span=n,adjust=False,min_periods=n).mean()\n",
    "    df2 = df.drop(['H-L','H-PC','L-PC'],axis=1)\n",
    "    return df2\n",
    " \n",
    "def slope(ser,n):\n",
    "    \"function to calculate the slope of n consecutive points on a plot\"\n",
    "    slopes = [i*0 for i in range(n-1)]\n",
    "    for i in range(n,len(ser)+1):\n",
    "        y = ser[i-n:i]\n",
    "        x = np.array(range(n))\n",
    "        y_scaled = (y - y.min())/(y.max() - y.min())\n",
    "        x_scaled = (x - x.min())/(x.max() - x.min())\n",
    "        x_scaled = sm.add_constant(x_scaled)\n",
    "        model = sm.OLS(y_scaled,x_scaled)\n",
    "        results = model.fit()\n",
    "        slopes.append(results.params[-1])\n",
    "    slope_angle = (np.rad2deg(np.arctan(np.array(slopes))))\n",
    "    return np.array(slope_angle)\n",
    " \n",
    "def renko_DF(DF):\n",
    "    \"function to convert ohlc data into renko bricks\"\n",
    "    df = DF.copy()\n",
    "    df.reset_index(inplace=True)\n",
    "    df = df.iloc[:,[0,1,2,3,5,6]]\n",
    "    df.columns = [\"date\",\"open\",\"high\",\"low\",\"close\",\"volume\"]\n",
    "    df2 = Renko(df)\n",
    "    df2.brick_size = max(0.5,round(ATR(DF,120)[\"ATR\"][-1],0))\n",
    "    renko_df = df2.get_ohlc_data()\n",
    "    renko_df[\"bar_num\"] = np.where(renko_df[\"uptrend\"]==True,1,np.where(renko_df[\"uptrend\"]==False,-1,0))\n",
    "    for i in range(1,len(renko_df[\"bar_num\"])):\n",
    "        if renko_df[\"bar_num\"][i]>0 and renko_df[\"bar_num\"][i-1]>0:\n",
    "            renko_df[\"bar_num\"][i]+=renko_df[\"bar_num\"][i-1]\n",
    "        elif renko_df[\"bar_num\"][i]<0 and renko_df[\"bar_num\"][i-1]<0:\n",
    "            renko_df[\"bar_num\"][i]+=renko_df[\"bar_num\"][i-1]\n",
    "    renko_df.drop_duplicates(subset=\"date\",keep=\"last\",inplace=True)\n",
    "    return renko_df\n",
    "\n",
    "def OBV(DF, price_col='Close', volume_col='Volume'):\n",
    "    \"\"\"function to calculate On Balance Volume\"\"\"\n",
    "    df = DF.copy()\n",
    "    # guard for missing columns\n",
    "    if price_col not in df.columns or volume_col not in df.columns:\n",
    "        raise KeyError(f\"Need columns {price_col!r} and {volume_col!r}; got {list(df.columns)}\")\n",
    "    df['daily_ret'] = df[price_col].pct_change()\n",
    "    df['direction'] = np.where(df['daily_ret'] >= 0, 1, -1)\n",
    "    df.at[df.index[0], 'direction'] = 0\n",
    "    df['vol_adj']   = df[volume_col] * df['direction']\n",
    "    df['obv']       = df['vol_adj'].cumsum()\n",
    "    return df['obv']\n",
    "\n",
    "\n",
    " \n",
    "def CAGR(DF):\n",
    "    \"function to calculate the Cumulative Annual Growth Rate of a trading strategy\"\n",
    "    df = DF.copy()\n",
    "    df[\"cum_return\"] = (1 + df[\"ret\"]).cumprod()\n",
    "    n = len(df)/(252)\n",
    "    CAGR = (df[\"cum_return\"].tolist()[-1])**(1/n) - 1\n",
    "    return CAGR\n",
    " \n",
    "def volatility(DF):\n",
    "    \"function to calculate annualized volatility of a trading strategy\"\n",
    "    df = DF.copy()\n",
    "    vol = df[\"ret\"].std() * np.sqrt(252)\n",
    "    return vol\n",
    " \n",
    "def sharpe(DF,rf):\n",
    "    \"function to calculate sharpe ratio ; rf is the risk free rate\"\n",
    "    df = DF.copy()\n",
    "    sr = (CAGR(df) - rf)/volatility(df)\n",
    "    return sr\n",
    "    \n",
    "def max_dd(DF):\n",
    "    \"function to calculate max drawdown\"\n",
    "    df = DF.copy()\n",
    "    df[\"cum_return\"] = (1 + df[\"ret\"]).cumprod()\n",
    "    df[\"cum_roll_max\"] = df[\"cum_return\"].cummax()\n",
    "    df[\"drawdown\"] = df[\"cum_roll_max\"] - df[\"cum_return\"]\n",
    "    df[\"drawdown_pct\"] = df[\"drawdown\"]/df[\"cum_roll_max\"]\n",
    "    max_dd = df[\"drawdown_pct\"].max()\n",
    "    return max_dd"
   ]
  },
  {
   "cell_type": "code",
   "execution_count": 28,
   "id": "d49145fe",
   "metadata": {},
   "outputs": [
    {
     "name": "stderr",
     "output_type": "stream",
     "text": [
      "[*********************100%***********************]  1 of 1 completed\n",
      "[*********************100%***********************]  1 of 1 completed\n",
      "[*********************100%***********************]  1 of 1 completed\n",
      "[*********************100%***********************]  1 of 1 completed\n",
      "[*********************100%***********************]  1 of 1 completed\n",
      "[*********************100%***********************]  1 of 1 completed\n"
     ]
    }
   ],
   "source": [
    "tickers = [\"AMZN\",\"AAPL\",\"TSLA\",\"MSFT\",\"GOOGL\",\"NVDA\"]\n",
    "\n",
    "ohlc_intraday = {}\n",
    "\n",
    "\n",
    "for ticker in tickers:\n",
    "\n",
    "    ohlc_intraday[ticker] = yf.download(ticker,period=\"1mo\",interval='5m', auto_adjust=False, multi_level_index=False)\n",
    "\n",
    "    ohlc_intraday[ticker].dropna(inplace=True,how=\"all\")\n",
    "\n",
    "    #MKH:\n",
    "\n",
    "    #ohlc_intraday[ticker].drop(\"Close\",axis=1,inplace=True)\n",
    "\n",
    "\n",
    "\n",
    "tickers = ohlc_intraday.keys()\n"
   ]
  },
  {
   "cell_type": "code",
   "execution_count": 29,
   "id": "46a5e427",
   "metadata": {},
   "outputs": [
    {
     "name": "stdout",
     "output_type": "stream",
     "text": [
      "merging for  AMZN\n"
     ]
    },
    {
     "name": "stderr",
     "output_type": "stream",
     "text": [
      "C:\\Users\\srp51\\AppData\\Local\\Temp\\ipykernel_94276\\21960990.py:40: SettingWithCopyWarning:\n",
      "\n",
      "\n",
      "A value is trying to be set on a copy of a slice from a DataFrame\n",
      "\n",
      "See the caveats in the documentation: https://pandas.pydata.org/pandas-docs/stable/user_guide/indexing.html#returning-a-view-versus-a-copy\n",
      "\n",
      "C:\\Users\\srp51\\AppData\\Local\\Temp\\ipykernel_94276\\21960990.py:42: SettingWithCopyWarning:\n",
      "\n",
      "\n",
      "A value is trying to be set on a copy of a slice from a DataFrame\n",
      "\n",
      "See the caveats in the documentation: https://pandas.pydata.org/pandas-docs/stable/user_guide/indexing.html#returning-a-view-versus-a-copy\n",
      "\n"
     ]
    },
    {
     "name": "stdout",
     "output_type": "stream",
     "text": [
      "merging for  AAPL\n"
     ]
    },
    {
     "name": "stderr",
     "output_type": "stream",
     "text": [
      "C:\\Users\\srp51\\AppData\\Local\\Temp\\ipykernel_94276\\21960990.py:40: SettingWithCopyWarning:\n",
      "\n",
      "\n",
      "A value is trying to be set on a copy of a slice from a DataFrame\n",
      "\n",
      "See the caveats in the documentation: https://pandas.pydata.org/pandas-docs/stable/user_guide/indexing.html#returning-a-view-versus-a-copy\n",
      "\n",
      "C:\\Users\\srp51\\AppData\\Local\\Temp\\ipykernel_94276\\21960990.py:42: SettingWithCopyWarning:\n",
      "\n",
      "\n",
      "A value is trying to be set on a copy of a slice from a DataFrame\n",
      "\n",
      "See the caveats in the documentation: https://pandas.pydata.org/pandas-docs/stable/user_guide/indexing.html#returning-a-view-versus-a-copy\n",
      "\n"
     ]
    },
    {
     "name": "stdout",
     "output_type": "stream",
     "text": [
      "merging for  TSLA\n"
     ]
    },
    {
     "name": "stderr",
     "output_type": "stream",
     "text": [
      "C:\\Users\\srp51\\AppData\\Local\\Temp\\ipykernel_94276\\21960990.py:42: SettingWithCopyWarning:\n",
      "\n",
      "\n",
      "A value is trying to be set on a copy of a slice from a DataFrame\n",
      "\n",
      "See the caveats in the documentation: https://pandas.pydata.org/pandas-docs/stable/user_guide/indexing.html#returning-a-view-versus-a-copy\n",
      "\n",
      "C:\\Users\\srp51\\AppData\\Local\\Temp\\ipykernel_94276\\21960990.py:40: SettingWithCopyWarning:\n",
      "\n",
      "\n",
      "A value is trying to be set on a copy of a slice from a DataFrame\n",
      "\n",
      "See the caveats in the documentation: https://pandas.pydata.org/pandas-docs/stable/user_guide/indexing.html#returning-a-view-versus-a-copy\n",
      "\n"
     ]
    },
    {
     "name": "stdout",
     "output_type": "stream",
     "text": [
      "merging for  MSFT\n"
     ]
    },
    {
     "name": "stderr",
     "output_type": "stream",
     "text": [
      "C:\\Users\\srp51\\AppData\\Local\\Temp\\ipykernel_94276\\21960990.py:42: SettingWithCopyWarning:\n",
      "\n",
      "\n",
      "A value is trying to be set on a copy of a slice from a DataFrame\n",
      "\n",
      "See the caveats in the documentation: https://pandas.pydata.org/pandas-docs/stable/user_guide/indexing.html#returning-a-view-versus-a-copy\n",
      "\n",
      "C:\\Users\\srp51\\AppData\\Local\\Temp\\ipykernel_94276\\21960990.py:40: SettingWithCopyWarning:\n",
      "\n",
      "\n",
      "A value is trying to be set on a copy of a slice from a DataFrame\n",
      "\n",
      "See the caveats in the documentation: https://pandas.pydata.org/pandas-docs/stable/user_guide/indexing.html#returning-a-view-versus-a-copy\n",
      "\n"
     ]
    },
    {
     "name": "stdout",
     "output_type": "stream",
     "text": [
      "merging for  GOOGL\n"
     ]
    },
    {
     "name": "stderr",
     "output_type": "stream",
     "text": [
      "C:\\Users\\srp51\\AppData\\Local\\Temp\\ipykernel_94276\\21960990.py:42: SettingWithCopyWarning:\n",
      "\n",
      "\n",
      "A value is trying to be set on a copy of a slice from a DataFrame\n",
      "\n",
      "See the caveats in the documentation: https://pandas.pydata.org/pandas-docs/stable/user_guide/indexing.html#returning-a-view-versus-a-copy\n",
      "\n",
      "C:\\Users\\srp51\\AppData\\Local\\Temp\\ipykernel_94276\\21960990.py:40: SettingWithCopyWarning:\n",
      "\n",
      "\n",
      "A value is trying to be set on a copy of a slice from a DataFrame\n",
      "\n",
      "See the caveats in the documentation: https://pandas.pydata.org/pandas-docs/stable/user_guide/indexing.html#returning-a-view-versus-a-copy\n",
      "\n"
     ]
    },
    {
     "name": "stdout",
     "output_type": "stream",
     "text": [
      "merging for  NVDA\n"
     ]
    },
    {
     "name": "stderr",
     "output_type": "stream",
     "text": [
      "C:\\Users\\srp51\\AppData\\Local\\Temp\\ipykernel_94276\\21960990.py:42: SettingWithCopyWarning:\n",
      "\n",
      "\n",
      "A value is trying to be set on a copy of a slice from a DataFrame\n",
      "\n",
      "See the caveats in the documentation: https://pandas.pydata.org/pandas-docs/stable/user_guide/indexing.html#returning-a-view-versus-a-copy\n",
      "\n",
      "C:\\Users\\srp51\\AppData\\Local\\Temp\\ipykernel_94276\\21960990.py:40: SettingWithCopyWarning:\n",
      "\n",
      "\n",
      "A value is trying to be set on a copy of a slice from a DataFrame\n",
      "\n",
      "See the caveats in the documentation: https://pandas.pydata.org/pandas-docs/stable/user_guide/indexing.html#returning-a-view-versus-a-copy\n",
      "\n"
     ]
    }
   ],
   "source": [
    "#Merging renko df with original ohlc df\n",
    "\n",
    "ohlc_renko = {}\n",
    "df = copy.deepcopy(ohlc_intraday)\n",
    "tickers_signal = {}\n",
    "tickers_ret = {}\n",
    "\n",
    "for ticker in tickers:\n",
    "    print(\"merging for \",ticker)\n",
    "    renko = renko_DF(df[ticker])\n",
    "    renko.columns = [\"date\",\"open\",\"high\",\"low\",\"close\",\"uptrend\",\"bar_num\"]    \n",
    "    renko[\"date\"] = pd.to_datetime(renko[\"date\"], format='%Y-%m-%d %H:%M:%S%z')    \n",
    "    df[ticker][\"date\"] = df[ticker].index    \n",
    "    ohlc_renko[ticker] = df[ticker].merge(renko.loc[:,[\"date\",\"bar_num\"]],how=\"outer\",on=\"date\")\n",
    "    ohlc_renko[ticker][\"bar_num\"].fillna(method='ffill',inplace=True)\n",
    "    ohlc_renko[ticker][\"obv\"]= OBV(ohlc_renko[ticker])\n",
    "    ohlc_renko[ticker][\"obv_slope\"]= slope(ohlc_renko[ticker][\"obv\"],5)\n",
    "    tickers_signal[ticker] = \"\"\n",
    "    tickers_ret[ticker] = []\n",
    "    \n"
   ]
  },
  {
   "cell_type": "code",
   "execution_count": 30,
   "id": "a7afa74a",
   "metadata": {},
   "outputs": [
    {
     "name": "stdout",
     "output_type": "stream",
     "text": [
      "calculating daily returns for  AMZN\n",
      "calculating daily returns for  AAPL\n",
      "calculating daily returns for  TSLA\n",
      "calculating daily returns for  MSFT\n",
      "calculating daily returns for  GOOGL\n",
      "calculating daily returns for  NVDA\n"
     ]
    }
   ],
   "source": [
    "#Identifying signals and calculating daily return\n",
    "for ticker in tickers:\n",
    "    print(\"calculating daily returns for \",ticker)\n",
    "    for i in range(len(ohlc_intraday[ticker])):\n",
    "        if tickers_signal[ticker] == \"\":\n",
    "            tickers_ret[ticker].append(0)\n",
    "            if ohlc_renko[ticker][\"bar_num\"][i]>=2 and ohlc_renko[ticker][\"obv_slope\"][i]>30:\n",
    "                tickers_signal[ticker] = \"Buy\"\n",
    "            elif ohlc_renko[ticker][\"bar_num\"][i]<=-2 and ohlc_renko[ticker][\"obv_slope\"][i]<-30:\n",
    "                tickers_signal[ticker] = \"Sell\"\n",
    "        \n",
    "        elif tickers_signal[ticker] == \"Buy\":\n",
    "            tickers_ret[ticker].append((ohlc_renko[ticker][\"Adj Close\"][i]/ohlc_renko[ticker][\"Adj Close\"][i-1])-1)\n",
    "            if ohlc_renko[ticker][\"bar_num\"][i]<=-2 and ohlc_renko[ticker][\"obv_slope\"][i]<-30:\n",
    "                tickers_signal[ticker] = \"Sell\"\n",
    "            elif ohlc_renko[ticker][\"bar_num\"][i]<2:\n",
    "                tickers_signal[ticker] = \"\"\n",
    "                \n",
    "        elif tickers_signal[ticker] == \"Sell\":\n",
    "            tickers_ret[ticker].append((ohlc_renko[ticker][\"Adj Close\"][i-1]/ohlc_renko[ticker][\"Adj Close\"][i])-1)\n",
    "            if ohlc_renko[ticker][\"bar_num\"][i]>=2 and ohlc_renko[ticker][\"obv_slope\"][i]>30:\n",
    "                tickers_signal[ticker] = \"Buy\"\n",
    "            elif ohlc_renko[ticker][\"bar_num\"][i]>-2:\n",
    "                tickers_signal[ticker] = \"\"\n",
    "    ohlc_renko[ticker][\"ret\"] = np.array(tickers_ret[ticker])\n"
   ]
  },
  {
   "cell_type": "code",
   "execution_count": 31,
   "id": "e6f56f6a",
   "metadata": {},
   "outputs": [
    {
     "data": {
      "text/plain": [
       "<AxesSubplot:>"
      ]
     },
     "execution_count": 31,
     "metadata": {},
     "output_type": "execute_result"
    },
    {
     "data": {
      "image/png": "[encoded data removed]",
      "text/plain": [
       "<Figure size 432x288 with 1 Axes>"
      ]
     },
     "metadata": {
      "needs_background": "light"
     },
     "output_type": "display_data"
    }
   ],
   "source": [
    "#calculating overall strategy's KPIs\n",
    "strategy_df = pd.DataFrame()\n",
    "for ticker in tickers:\n",
    "    strategy_df[ticker] = ohlc_renko[ticker][\"ret\"]\n",
    "strategy_df[\"ret\"] = strategy_df.mean(axis=1)\n",
    "CAGR(strategy_df)\n",
    "sharpe(strategy_df,0.025)\n",
    "max_dd(strategy_df)  \n",
    "\n",
    "#visualizing strategy returns\n",
    "(1+strategy_df[\"ret\"]).cumprod().plot()\n"
   ]
  },
  {
   "cell_type": "code",
   "execution_count": 32,
   "id": "6cab7075",
   "metadata": {},
   "outputs": [
    {
     "name": "stdout",
     "output_type": "stream",
     "text": [
      "calculating KPIs for  AMZN\n",
      "calculating KPIs for  AAPL\n",
      "calculating KPIs for  TSLA\n",
      "calculating KPIs for  MSFT\n",
      "calculating KPIs for  GOOGL\n",
      "calculating KPIs for  NVDA\n"
     ]
    },
    {
     "data": {
      "text/html": [
       "<div>\n",
       "<style scoped>\n",
       "    .dataframe tbody tr th:only-of-type {\n",
       "        vertical-align: middle;\n",
       "    }\n",
       "\n",
       "    .dataframe tbody tr th {\n",
       "        vertical-align: top;\n",
       "    }\n",
       "\n",
       "    .dataframe thead th {\n",
       "        text-align: right;\n",
       "    }\n",
       "</style>\n",
       "<table border=\"1\" class=\"dataframe\">\n",
       "  <thead>\n",
       "    <tr style=\"text-align: right;\">\n",
       "      <th></th>\n",
       "      <th>Return</th>\n",
       "      <th>Sharpe Ratio</th>\n",
       "      <th>Max Drawdown</th>\n",
       "    </tr>\n",
       "  </thead>\n",
       "  <tbody>\n",
       "    <tr>\n",
       "      <th>AMZN</th>\n",
       "      <td>0.011128</td>\n",
       "      <td>-0.255549</td>\n",
       "      <td>0.149145</td>\n",
       "    </tr>\n",
       "    <tr>\n",
       "      <th>AAPL</th>\n",
       "      <td>0.006121</td>\n",
       "      <td>-0.365656</td>\n",
       "      <td>0.088872</td>\n",
       "    </tr>\n",
       "    <tr>\n",
       "      <th>TSLA</th>\n",
       "      <td>0.047560</td>\n",
       "      <td>0.244828</td>\n",
       "      <td>0.138650</td>\n",
       "    </tr>\n",
       "    <tr>\n",
       "      <th>MSFT</th>\n",
       "      <td>-0.004182</td>\n",
       "      <td>-0.775151</td>\n",
       "      <td>0.137084</td>\n",
       "    </tr>\n",
       "    <tr>\n",
       "      <th>GOOGL</th>\n",
       "      <td>0.000994</td>\n",
       "      <td>-0.633591</td>\n",
       "      <td>0.151859</td>\n",
       "    </tr>\n",
       "    <tr>\n",
       "      <th>NVDA</th>\n",
       "      <td>-0.011251</td>\n",
       "      <td>-0.518418</td>\n",
       "      <td>0.159341</td>\n",
       "    </tr>\n",
       "  </tbody>\n",
       "</table>\n",
       "</div>"
      ],
      "text/plain": [
       "         Return  Sharpe Ratio  Max Drawdown\n",
       "AMZN   0.011128     -0.255549      0.149145\n",
       "AAPL   0.006121     -0.365656      0.088872\n",
       "TSLA   0.047560      0.244828      0.138650\n",
       "MSFT  -0.004182     -0.775151      0.137084\n",
       "GOOGL  0.000994     -0.633591      0.151859\n",
       "NVDA  -0.011251     -0.518418      0.159341"
      ]
     },
     "execution_count": 32,
     "metadata": {},
     "output_type": "execute_result"
    }
   ],
   "source": [
    "#calculating individual stock's KPIs\n",
    "cagr = {}\n",
    "sharpe_ratios = {}\n",
    "max_drawdown = {}\n",
    "for ticker in tickers:\n",
    "    print(\"calculating KPIs for \",ticker)      \n",
    "    cagr[ticker] =  CAGR(ohlc_renko[ticker])\n",
    "    sharpe_ratios[ticker] =  sharpe(ohlc_renko[ticker],0.025)\n",
    "    max_drawdown[ticker] =  max_dd(ohlc_renko[ticker])\n",
    "\n",
    "KPI_df = pd.DataFrame([cagr,sharpe_ratios,max_drawdown],index=[\"Return\",\"Sharpe Ratio\",\"Max Drawdown\"])      \n",
    "KPI_df.T"
   ]
  },
  {
   "cell_type": "markdown",
   "id": "08891944",
   "metadata": {},
   "source": [
    "## 📈 Renko & OBV Strategy:\n",
    "### Performance Summary:\n",
    "\n",
    "The Renko & OBV strategy delivered mixed performance across different assets. TSLA emerged as the best-performing stock, generating a positive return of 4.76% with a modestly positive Sharpe Ratio (0.24), indicating satisfactory risk-adjusted performance. Conversely, NVDA and MSFT reported negative returns (-1.13% and -0.42%, respectively) along with significantly negative Sharpe ratios, highlighting challenges in applying the strategy universally. Other stocks like AMZN, AAPL, and GOOGL achieved minimal positive returns but were accompanied by negative Sharpe ratios, implying suboptimal risk-adjusted returns. Moderate drawdowns (ranging from 8.89% to 15.93%) across all stocks indicate manageable risk exposure.\n",
    "\n",
    "-------------------------------------------------------------------------------------------------------------------------------"
   ]
  },
  {
   "cell_type": "markdown",
   "id": "4189e69d",
   "metadata": {},
   "source": [
    "## 📊 Renko Charts with MACD Strategy\n",
    "\n",
    "**Strategy Overview:**\n",
    "Utilizes Renko charts for trend clarity and MACD (Moving Average Convergence Divergence) to indicate trend direction and strength.\n",
    "\n",
    "**Implementation Method:**\n",
    "- Identify Renko trends.\n",
    "- Confirm with MACD crossovers for precise entry/exit signals.\n"
   ]
  },
  {
   "cell_type": "code",
   "execution_count": 33,
   "id": "acc92038",
   "metadata": {},
   "outputs": [],
   "source": [
    "def MACD(DF,a,b,c):\n",
    "    \"\"\"function to calculate MACD\n",
    "       typical values a = 12; b =26, c =9\"\"\"\n",
    "    df = DF.copy()\n",
    "    df[\"MA_Fast\"]=df[\"Adj Close\"].ewm(span=a,min_periods=a).mean()\n",
    "    df[\"MA_Slow\"]=df[\"Adj Close\"].ewm(span=b,min_periods=b).mean()\n",
    "    df[\"MACD\"]=df[\"MA_Fast\"]-df[\"MA_Slow\"]\n",
    "    df[\"Signal\"]=df[\"MACD\"].ewm(span=c,min_periods=c).mean()\n",
    "    df.dropna(inplace=True)\n",
    "    return (df[\"MACD\"],df[\"Signal\"])\n",
    "\n",
    "def ATR(DF,n):\n",
    "    \"function to calculate True Range and Average True Range\"\n",
    "    df = DF.copy()\n",
    "    df['H-L']=abs(df['High']-df['Low'])\n",
    "    df['H-PC']=abs(df['High']-df['Adj Close'].shift(1))\n",
    "    df['L-PC']=abs(df['Low']-df['Adj Close'].shift(1))\n",
    "    df['TR']=df[['H-L','H-PC','L-PC']].max(axis=1,skipna=False)\n",
    "    df['ATR'] = df['TR'].rolling(n).mean()\n",
    "    #df['ATR'] = df['TR'].ewm(span=n,adjust=False,min_periods=n).mean()\n",
    "    df2 = df.drop(['H-L','H-PC','L-PC'],axis=1)\n",
    "    return df2\n",
    "\n",
    "def slope(ser,n):\n",
    "    \"function to calculate the slope of n consecutive points on a plot\"\n",
    "    slopes = [i*0 for i in range(n-1)]\n",
    "    for i in range(n,len(ser)+1):\n",
    "        y = ser[i-n:i]\n",
    "        x = np.array(range(n))\n",
    "        y_scaled = (y - y.min())/(y.max() - y.min())\n",
    "        x_scaled = (x - x.min())/(x.max() - x.min())\n",
    "        x_scaled = sm.add_constant(x_scaled)\n",
    "        model = sm.OLS(y_scaled,x_scaled)\n",
    "        results = model.fit()\n",
    "        slopes.append(results.params[-1])\n",
    "    slope_angle = (np.rad2deg(np.arctan(np.array(slopes))))\n",
    "    return np.array(slope_angle)\n",
    "\n",
    "def renko_DF(DF):\n",
    "    \"function to convert ohlc data into renko bricks\"\n",
    "    df = DF.copy()\n",
    "    df.reset_index(inplace=True)\n",
    "    df = df.iloc[:,[0,1,2,3,5,6]]\n",
    "    df.columns = [\"date\",\"open\",\"high\",\"low\",\"close\",\"volume\"]\n",
    "    df2 = Renko(df)\n",
    "    df2.brick_size = max(0.5,round(ATR(DF,120)[\"ATR\"][-1],0))\n",
    "    renko_df = df2.get_ohlc_data()\n",
    "    renko_df[\"bar_num\"] = np.where(renko_df[\"uptrend\"]==True,1,np.where(renko_df[\"uptrend\"]==False,-1,0))\n",
    "    for i in range(1,len(renko_df[\"bar_num\"])):\n",
    "        if renko_df[\"bar_num\"][i]>0 and renko_df[\"bar_num\"][i-1]>0:\n",
    "            renko_df[\"bar_num\"][i]+=renko_df[\"bar_num\"][i-1]\n",
    "        elif renko_df[\"bar_num\"][i]<0 and renko_df[\"bar_num\"][i-1]<0:\n",
    "            renko_df[\"bar_num\"][i]+=renko_df[\"bar_num\"][i-1]\n",
    "    renko_df.drop_duplicates(subset=\"date\",keep=\"last\",inplace=True)\n",
    "    return renko_df\n",
    "\n",
    "\n",
    "def CAGR(DF):\n",
    "    \"function to calculate the Cumulative Annual Growth Rate of a trading strategy\"\n",
    "    df = DF.copy()\n",
    "    df[\"cum_return\"] = (1 + df[\"ret\"]).cumprod()\n",
    "    n = len(df)/(252*78)\n",
    "    CAGR = (df[\"cum_return\"].tolist()[-1])**(1/n) - 1\n",
    "    return CAGR\n",
    "\n",
    "def volatility(DF):\n",
    "    \"function to calculate annualized volatility of a trading strategy\"\n",
    "    df = DF.copy()\n",
    "    vol = df[\"ret\"].std() * np.sqrt(252*78)\n",
    "    return vol\n",
    "\n",
    "def sharpe(DF,rf):\n",
    "    \"function to calculate sharpe ratio ; rf is the risk free rate\"\n",
    "    df = DF.copy()\n",
    "    sr = (CAGR(df) - rf)/volatility(df)\n",
    "    return sr\n",
    "    \n",
    "\n",
    "def max_dd(DF):\n",
    "    \"function to calculate max drawdown\"\n",
    "    df = DF.copy()\n",
    "    df[\"cum_return\"] = (1 + df[\"ret\"]).cumprod()\n",
    "    df[\"cum_roll_max\"] = df[\"cum_return\"].cummax()\n",
    "    df[\"drawdown\"] = df[\"cum_roll_max\"] - df[\"cum_return\"]\n",
    "    df[\"drawdown_pct\"] = df[\"drawdown\"]/df[\"cum_roll_max\"]\n",
    "    max_dd = df[\"drawdown_pct\"].max()\n",
    "    return max_dd"
   ]
  },
  {
   "cell_type": "code",
   "execution_count": 34,
   "id": "1ad613c8",
   "metadata": {},
   "outputs": [
    {
     "name": "stderr",
     "output_type": "stream",
     "text": [
      "[*********************100%***********************]  1 of 1 completed\n",
      "[*********************100%***********************]  1 of 1 completed\n",
      "[*********************100%***********************]  1 of 1 completed\n",
      "[*********************100%***********************]  1 of 1 completed\n",
      "[*********************100%***********************]  1 of 1 completed\n",
      "[*********************100%***********************]  1 of 1 completed\n"
     ]
    }
   ],
   "source": [
    "tickers = [\"AMZN\",\"AAPL\",\"TSLA\",\"MSFT\",\"GOOGL\",\"NVDA\"]\n",
    "\n",
    "ohlc_intraday = {}\n",
    "\n",
    "\n",
    "for ticker in tickers:\n",
    "\n",
    "    ohlc_intraday[ticker] = yf.download(ticker,period=\"1mo\",interval='5m', auto_adjust=False, multi_level_index=False)\n",
    "\n",
    "    ohlc_intraday[ticker].dropna(inplace=True,how=\"all\")\n",
    "\n",
    "    #MKH:\n",
    "\n",
    "    #ohlc_intraday[ticker].drop(\"Close\",axis=1,inplace=True)\n",
    "\n",
    "\n",
    "\n",
    "tickers = ohlc_intraday.keys()"
   ]
  },
  {
   "cell_type": "code",
   "execution_count": 35,
   "id": "75e6a402",
   "metadata": {},
   "outputs": [
    {
     "name": "stdout",
     "output_type": "stream",
     "text": [
      "merging for  AMZN\n"
     ]
    },
    {
     "name": "stderr",
     "output_type": "stream",
     "text": [
      "C:\\Users\\srp51\\AppData\\Local\\Temp\\ipykernel_94276\\641860207.py:51: SettingWithCopyWarning:\n",
      "\n",
      "\n",
      "A value is trying to be set on a copy of a slice from a DataFrame\n",
      "\n",
      "See the caveats in the documentation: https://pandas.pydata.org/pandas-docs/stable/user_guide/indexing.html#returning-a-view-versus-a-copy\n",
      "\n",
      "C:\\Users\\srp51\\AppData\\Local\\Temp\\ipykernel_94276\\641860207.py:53: SettingWithCopyWarning:\n",
      "\n",
      "\n",
      "A value is trying to be set on a copy of a slice from a DataFrame\n",
      "\n",
      "See the caveats in the documentation: https://pandas.pydata.org/pandas-docs/stable/user_guide/indexing.html#returning-a-view-versus-a-copy\n",
      "\n"
     ]
    },
    {
     "name": "stdout",
     "output_type": "stream",
     "text": [
      "merging for  AAPL\n"
     ]
    },
    {
     "name": "stderr",
     "output_type": "stream",
     "text": [
      "C:\\Users\\srp51\\AppData\\Local\\Temp\\ipykernel_94276\\641860207.py:51: SettingWithCopyWarning:\n",
      "\n",
      "\n",
      "A value is trying to be set on a copy of a slice from a DataFrame\n",
      "\n",
      "See the caveats in the documentation: https://pandas.pydata.org/pandas-docs/stable/user_guide/indexing.html#returning-a-view-versus-a-copy\n",
      "\n",
      "C:\\Users\\srp51\\AppData\\Local\\Temp\\ipykernel_94276\\641860207.py:53: SettingWithCopyWarning:\n",
      "\n",
      "\n",
      "A value is trying to be set on a copy of a slice from a DataFrame\n",
      "\n",
      "See the caveats in the documentation: https://pandas.pydata.org/pandas-docs/stable/user_guide/indexing.html#returning-a-view-versus-a-copy\n",
      "\n"
     ]
    },
    {
     "name": "stdout",
     "output_type": "stream",
     "text": [
      "merging for  TSLA\n"
     ]
    },
    {
     "name": "stderr",
     "output_type": "stream",
     "text": [
      "C:\\Users\\srp51\\AppData\\Local\\Temp\\ipykernel_94276\\641860207.py:53: SettingWithCopyWarning:\n",
      "\n",
      "\n",
      "A value is trying to be set on a copy of a slice from a DataFrame\n",
      "\n",
      "See the caveats in the documentation: https://pandas.pydata.org/pandas-docs/stable/user_guide/indexing.html#returning-a-view-versus-a-copy\n",
      "\n",
      "C:\\Users\\srp51\\AppData\\Local\\Temp\\ipykernel_94276\\641860207.py:51: SettingWithCopyWarning:\n",
      "\n",
      "\n",
      "A value is trying to be set on a copy of a slice from a DataFrame\n",
      "\n",
      "See the caveats in the documentation: https://pandas.pydata.org/pandas-docs/stable/user_guide/indexing.html#returning-a-view-versus-a-copy\n",
      "\n"
     ]
    },
    {
     "name": "stdout",
     "output_type": "stream",
     "text": [
      "merging for  MSFT\n"
     ]
    },
    {
     "name": "stderr",
     "output_type": "stream",
     "text": [
      "C:\\Users\\srp51\\AppData\\Local\\Temp\\ipykernel_94276\\641860207.py:53: SettingWithCopyWarning:\n",
      "\n",
      "\n",
      "A value is trying to be set on a copy of a slice from a DataFrame\n",
      "\n",
      "See the caveats in the documentation: https://pandas.pydata.org/pandas-docs/stable/user_guide/indexing.html#returning-a-view-versus-a-copy\n",
      "\n",
      "C:\\Users\\srp51\\AppData\\Local\\Temp\\ipykernel_94276\\641860207.py:51: SettingWithCopyWarning:\n",
      "\n",
      "\n",
      "A value is trying to be set on a copy of a slice from a DataFrame\n",
      "\n",
      "See the caveats in the documentation: https://pandas.pydata.org/pandas-docs/stable/user_guide/indexing.html#returning-a-view-versus-a-copy\n",
      "\n"
     ]
    },
    {
     "name": "stdout",
     "output_type": "stream",
     "text": [
      "merging for  GOOGL\n"
     ]
    },
    {
     "name": "stderr",
     "output_type": "stream",
     "text": [
      "C:\\Users\\srp51\\AppData\\Local\\Temp\\ipykernel_94276\\641860207.py:53: SettingWithCopyWarning:\n",
      "\n",
      "\n",
      "A value is trying to be set on a copy of a slice from a DataFrame\n",
      "\n",
      "See the caveats in the documentation: https://pandas.pydata.org/pandas-docs/stable/user_guide/indexing.html#returning-a-view-versus-a-copy\n",
      "\n",
      "C:\\Users\\srp51\\AppData\\Local\\Temp\\ipykernel_94276\\641860207.py:51: SettingWithCopyWarning:\n",
      "\n",
      "\n",
      "A value is trying to be set on a copy of a slice from a DataFrame\n",
      "\n",
      "See the caveats in the documentation: https://pandas.pydata.org/pandas-docs/stable/user_guide/indexing.html#returning-a-view-versus-a-copy\n",
      "\n"
     ]
    },
    {
     "name": "stdout",
     "output_type": "stream",
     "text": [
      "merging for  NVDA\n"
     ]
    },
    {
     "name": "stderr",
     "output_type": "stream",
     "text": [
      "C:\\Users\\srp51\\AppData\\Local\\Temp\\ipykernel_94276\\641860207.py:53: SettingWithCopyWarning:\n",
      "\n",
      "\n",
      "A value is trying to be set on a copy of a slice from a DataFrame\n",
      "\n",
      "See the caveats in the documentation: https://pandas.pydata.org/pandas-docs/stable/user_guide/indexing.html#returning-a-view-versus-a-copy\n",
      "\n",
      "C:\\Users\\srp51\\AppData\\Local\\Temp\\ipykernel_94276\\641860207.py:51: SettingWithCopyWarning:\n",
      "\n",
      "\n",
      "A value is trying to be set on a copy of a slice from a DataFrame\n",
      "\n",
      "See the caveats in the documentation: https://pandas.pydata.org/pandas-docs/stable/user_guide/indexing.html#returning-a-view-versus-a-copy\n",
      "\n"
     ]
    }
   ],
   "source": [
    "#Merging renko df with original ohlc df\n",
    "ohlc_renko = {}\n",
    "df = copy.deepcopy(ohlc_intraday)\n",
    "tickers_signal = {}\n",
    "tickers_ret = {}\n",
    "for ticker in tickers:\n",
    "    print(\"merging for \",ticker)\n",
    "    renko = renko_DF(df[ticker])\n",
    "    renko.columns = [\"Date\",\"open\",\"high\",\"low\",\"close\",\"uptrend\",\"bar_num\"]\n",
    "    df[ticker][\"Date\"] = df[ticker].index\n",
    "    ohlc_renko[ticker] = df[ticker].merge(renko.loc[:,[\"Date\",\"bar_num\"]],how=\"outer\",on=\"Date\")\n",
    "    ohlc_renko[ticker][\"bar_num\"].fillna(method='ffill',inplace=True)\n",
    "    ohlc_renko[ticker][\"macd\"]= MACD(ohlc_renko[ticker],12,26,9)[0]\n",
    "    ohlc_renko[ticker][\"macd_sig\"]= MACD(ohlc_renko[ticker],12,26,9)[1]\n",
    "    ohlc_renko[ticker][\"macd_slope\"] = slope(ohlc_renko[ticker][\"macd\"],5)\n",
    "    ohlc_renko[ticker][\"macd_sig_slope\"] = slope(ohlc_renko[ticker][\"macd_sig\"],5)\n",
    "    tickers_signal[ticker] = \"\"\n",
    "    tickers_ret[ticker] = []"
   ]
  },
  {
   "cell_type": "code",
   "execution_count": 36,
   "id": "33dbfca4",
   "metadata": {},
   "outputs": [
    {
     "name": "stdout",
     "output_type": "stream",
     "text": [
      "calculating daily returns for  AMZN\n",
      "calculating daily returns for  AAPL\n",
      "calculating daily returns for  TSLA\n",
      "calculating daily returns for  MSFT\n",
      "calculating daily returns for  GOOGL\n",
      "calculating daily returns for  NVDA\n"
     ]
    }
   ],
   "source": [
    "#Identifying signals and calculating daily return\n",
    "for ticker in tickers:\n",
    "    print(\"calculating daily returns for \",ticker)\n",
    "    for i in range(len(ohlc_intraday[ticker])):\n",
    "        if tickers_signal[ticker] == \"\":\n",
    "            tickers_ret[ticker].append(0)\n",
    "            if i > 0:\n",
    "                if ohlc_renko[ticker][\"bar_num\"].iloc[i]>=2 and ohlc_renko[ticker][\"macd\"].iloc[i]>ohlc_renko[ticker][\"macd_sig\"].iloc[i] and ohlc_renko[ticker][\"macd_slope\"].iloc[i]>ohlc_renko[ticker][\"macd_sig_slope\"].iloc[i]:\n",
    "                    tickers_signal[ticker] = \"Buy\"\n",
    "                elif ohlc_renko[ticker][\"bar_num\"].iloc[i]<=-2 and ohlc_renko[ticker][\"macd\"].iloc[i]<ohlc_renko[ticker][\"macd_sig\"].iloc[i] and ohlc_renko[ticker][\"macd_slope\"].iloc[i]<ohlc_renko[ticker][\"macd_sig_slope\"].iloc[i]:\n",
    "                    tickers_signal[ticker] = \"Sell\"\n",
    "        \n",
    "        elif tickers_signal[ticker] == \"Buy\":\n",
    "            tickers_ret[ticker].append((ohlc_renko[ticker][\"Adj Close\"][i]/ohlc_renko[ticker][\"Adj Close\"][i-1])-1)\n",
    "            if i > 0:\n",
    "                if ohlc_renko[ticker][\"bar_num\"].iloc[i]<=-2 and ohlc_renko[ticker][\"macd\"].iloc[i]<ohlc_renko[ticker][\"macd_sig\"].iloc[i] and ohlc_renko[ticker][\"macd_slope\"].iloc[i]<ohlc_renko[ticker][\"macd_sig_slope\"].iloc[i]:\n",
    "                    tickers_signal[ticker] = \"Sell\"\n",
    "                elif ohlc_renko[ticker][\"macd\"].iloc[i]<ohlc_renko[ticker][\"macd_sig\"].iloc[i] and ohlc_renko[ticker][\"macd_slope\"].iloc[i]<ohlc_renko[ticker][\"macd_sig_slope\"].iloc[i]:\n",
    "                    tickers_signal[ticker] = \"\"\n",
    "                \n",
    "        elif tickers_signal[ticker] == \"Sell\":\n",
    "            tickers_ret[ticker].append((ohlc_renko[ticker][\"Adj Close\"][i-1]/ohlc_renko[ticker][\"Adj Close\"][i])-1)\n",
    "            if i > 0:\n",
    "                if ohlc_renko[ticker][\"bar_num\"].iloc[i]>=2 and ohlc_renko[ticker][\"macd\"].iloc[i]>ohlc_renko[ticker][\"macd_sig\"].iloc[i] and ohlc_renko[ticker][\"macd_slope\"].iloc[i]>ohlc_renko[ticker][\"macd_sig_slope\"].iloc[i]:\n",
    "                    tickers_signal[ticker] = \"Buy\"\n",
    "                elif ohlc_renko[ticker][\"macd\"].iloc[i]>ohlc_renko[ticker][\"macd_sig\"].iloc[i] and ohlc_renko[ticker][\"macd_slope\"].iloc[i]>ohlc_renko[ticker][\"macd_sig_slope\"].iloc[i]:\n",
    "                    tickers_signal[ticker] = \"\"\n",
    "    ohlc_renko[ticker][\"ret\"] = np.array(tickers_ret[ticker])"
   ]
  },
  {
   "cell_type": "code",
   "execution_count": 37,
   "id": "2430fb3d",
   "metadata": {},
   "outputs": [
    {
     "data": {
      "text/plain": [
       "<AxesSubplot:>"
      ]
     },
     "execution_count": 37,
     "metadata": {},
     "output_type": "execute_result"
    },
    {
     "data": {
      "image/png": "[encoded data removed]",
      "text/plain": [
       "<Figure size 432x288 with 1 Axes>"
      ]
     },
     "metadata": {
      "needs_background": "light"
     },
     "output_type": "display_data"
    }
   ],
   "source": [
    "#calculating overall strategy's KPIs\n",
    "strategy_df = pd.DataFrame()\n",
    "for ticker in tickers:\n",
    "    strategy_df[ticker] = ohlc_renko[ticker][\"ret\"]\n",
    "strategy_df[\"ret\"] = strategy_df.mean(axis=1)\n",
    "CAGR(strategy_df)\n",
    "sharpe(strategy_df,0.025)\n",
    "max_dd(strategy_df)  \n",
    "\n",
    "#visualizing strategy returns\n",
    "(1+strategy_df[\"ret\"]).cumprod().plot()"
   ]
  },
  {
   "cell_type": "code",
   "execution_count": 38,
   "id": "302d56f8",
   "metadata": {},
   "outputs": [
    {
     "name": "stdout",
     "output_type": "stream",
     "text": [
      "calculating KPIs for  AMZN\n",
      "calculating KPIs for  AAPL\n",
      "calculating KPIs for  TSLA\n",
      "calculating KPIs for  MSFT\n",
      "calculating KPIs for  GOOGL\n",
      "calculating KPIs for  NVDA\n"
     ]
    },
    {
     "data": {
      "text/html": [
       "<div>\n",
       "<style scoped>\n",
       "    .dataframe tbody tr th:only-of-type {\n",
       "        vertical-align: middle;\n",
       "    }\n",
       "\n",
       "    .dataframe tbody tr th {\n",
       "        vertical-align: top;\n",
       "    }\n",
       "\n",
       "    .dataframe thead th {\n",
       "        text-align: right;\n",
       "    }\n",
       "</style>\n",
       "<table border=\"1\" class=\"dataframe\">\n",
       "  <thead>\n",
       "    <tr style=\"text-align: right;\">\n",
       "      <th></th>\n",
       "      <th>Return</th>\n",
       "      <th>Sharpe Ratio</th>\n",
       "      <th>Max Drawdown</th>\n",
       "    </tr>\n",
       "  </thead>\n",
       "  <tbody>\n",
       "    <tr>\n",
       "      <th>AMZN</th>\n",
       "      <td>0.537115</td>\n",
       "      <td>1.320673</td>\n",
       "      <td>0.139499</td>\n",
       "    </tr>\n",
       "    <tr>\n",
       "      <th>AAPL</th>\n",
       "      <td>-0.818337</td>\n",
       "      <td>-1.751295</td>\n",
       "      <td>0.225256</td>\n",
       "    </tr>\n",
       "    <tr>\n",
       "      <th>TSLA</th>\n",
       "      <td>1.331167</td>\n",
       "      <td>1.620458</td>\n",
       "      <td>0.271506</td>\n",
       "    </tr>\n",
       "    <tr>\n",
       "      <th>MSFT</th>\n",
       "      <td>-0.727071</td>\n",
       "      <td>-2.259373</td>\n",
       "      <td>0.182356</td>\n",
       "    </tr>\n",
       "    <tr>\n",
       "      <th>GOOGL</th>\n",
       "      <td>-0.407388</td>\n",
       "      <td>-1.440796</td>\n",
       "      <td>0.130730</td>\n",
       "    </tr>\n",
       "    <tr>\n",
       "      <th>NVDA</th>\n",
       "      <td>-0.647449</td>\n",
       "      <td>-0.985754</td>\n",
       "      <td>0.281349</td>\n",
       "    </tr>\n",
       "  </tbody>\n",
       "</table>\n",
       "</div>"
      ],
      "text/plain": [
       "         Return  Sharpe Ratio  Max Drawdown\n",
       "AMZN   0.537115      1.320673      0.139499\n",
       "AAPL  -0.818337     -1.751295      0.225256\n",
       "TSLA   1.331167      1.620458      0.271506\n",
       "MSFT  -0.727071     -2.259373      0.182356\n",
       "GOOGL -0.407388     -1.440796      0.130730\n",
       "NVDA  -0.647449     -0.985754      0.281349"
      ]
     },
     "execution_count": 38,
     "metadata": {},
     "output_type": "execute_result"
    }
   ],
   "source": [
    "#calculating individual stock's KPIs\n",
    "cagr = {}\n",
    "sharpe_ratios = {}\n",
    "max_drawdown = {}\n",
    "for ticker in tickers:\n",
    "    print(\"calculating KPIs for \",ticker)      \n",
    "    cagr[ticker] =  CAGR(ohlc_renko[ticker])\n",
    "    sharpe_ratios[ticker] =  sharpe(ohlc_renko[ticker],0.025)\n",
    "    max_drawdown[ticker] =  max_dd(ohlc_renko[ticker])\n",
    "\n",
    "KPI_df = pd.DataFrame([cagr,sharpe_ratios,max_drawdown],index=[\"Return\",\"Sharpe Ratio\",\"Max Drawdown\"])      \n",
    "KPI_df.T"
   ]
  },
  {
   "cell_type": "markdown",
   "id": "3c9babad",
   "metadata": {},
   "source": [
    "## 📈 Renko & MACD Strategy:\n",
    "### Performance Summary:\n",
    "\n",
    "The Renko & MACD strategy displayed highly polarized results, excelling notably in TSLA and AMZN, delivering exceptional returns of 133.12% and 53.71%, respectively, coupled with positive Sharpe ratios. However, the strategy underperformed significantly for stocks like AAPL, MSFT, and NVDA, which recorded substantial negative returns. The strategy’s maximum drawdowns were generally moderate, reflecting acceptable risk management. Overall, it highlights the critical role of asset selection and customization when deploying MACD-based Renko strategies\n",
    "\n",
    "---"
   ]
  },
  {
   "cell_type": "markdown",
   "id": "66035925",
   "metadata": {},
   "source": [
    "# 📌 Summary of Strategy Performance and Insights\n",
    "\n",
    "Below is a concise summary of the key performance indicators (KPIs) for each implemented algorithmic trading strategy:\n",
    "\n",
    "| Strategy                      | CAGR / Return Range          | Sharpe Ratio Range        | Max Drawdown Range      | Overall Effectiveness               |\n",
    "|-------------------------------|------------------------------|---------------------------|-------------------------|-------------------------------------|\n",
    "| **Monthly Portfolio Rebalancing** | **19.16%**                  | **0.736**                 | **33.98%**              | ✅ Consistent, strong returns with moderate risk |\n",
    "| **Momentum Investing**        | **Momentum-driven trades**   | **Clearly defined signals** | **-**                   | ✅ Good for capturing trends; clear buy/sell indicators |\n",
    "| **Intraday Resistance Breakout** | **17.79%**                  | **2.69**                  | **0.75%**               | ✅ Excellent returns with very low risk exposure |\n",
    "| **Renko & OBV**               | **-1.13% to 4.76%**          | **-0.78 to 0.24**         | **8.89% to 15.93%**     | ⚠️ Mixed results; effectiveness varies significantly by stock |\n",
    "| **Renko & MACD**              | **-81.83% to 133.12%**       | **-2.26 to 1.62**         | **13.07% to 28.13%**    | ⚠️ Highly polarized; asset selection crucial |\n",
    "\n",
    "---\n",
    "\n",
    "## 🚩 Overall Conclusion & Recommendations\n",
    "\n",
    "Through the comprehensive analysis of these five distinct algorithmic trading strategies, we've observed the following key insights:\n",
    "\n",
    "- **Monthly Portfolio Rebalancing** consistently outperformed benchmarks with stable growth, making it suitable for conservative investors aiming for steady returns.\n",
    "- **Momentum Investing** effectively identifies trends, providing clear trade signals, ideal for trend-following investors.\n",
    "- **Intraday Resistance Breakout** achieved impressive returns coupled with extremely low drawdowns, highlighting its strength in volatility management.\n",
    "- **Renko-based Strategies (OBV & MACD)** demonstrated substantial variability, strongly dependent on asset selection. While **Renko & OBV** had moderate outcomes, **Renko & MACD** showed highly polarized results, reinforcing the need for precise calibration.\n",
    "\n",
    "**Final Recommendations**:\n",
    "- Use strategies like Monthly Portfolio Rebalancing or Intraday Resistance Breakout for consistent, low-risk outcomes.\n",
    "- Employ Momentum Investing to capitalize on short-term market trends.\n",
    "- Renko-based strategies should be used selectively, emphasizing thorough backtesting and customization per asset to ensure profitability.\n",
    "\n",
    "This notebook underscores the importance of strategy diversification, thorough analysis, and careful selection tailored to specific market conditions and investor risk preferences.\n",
    "\n",
    "---\n"
   ]
  },
  {
   "cell_type": "code",
   "execution_count": null,
   "id": "b8315a8a",
   "metadata": {},
   "outputs": [],
   "source": []
  }
 ],
 "metadata": {
  "kernelspec": {
   "display_name": "Python 3 (ipykernel)",
   "language": "python",
   "name": "python3"
  },
  "language_info": {
   "codemirror_mode": {
    "name": "ipython",
    "version": 3
   },
   "file_extension": ".py",
   "mimetype": "text/x-python",
   "name": "python",
   "nbconvert_exporter": "python",
   "pygments_lexer": "ipython3",
   "version": "3.9.12"
  }
 },
 "nbformat": 4,
 "nbformat_minor": 5
}
